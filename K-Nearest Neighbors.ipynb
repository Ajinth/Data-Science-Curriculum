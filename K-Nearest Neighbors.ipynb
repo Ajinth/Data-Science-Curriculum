{
 "cells": [
  {
   "cell_type": "markdown",
   "metadata": {},
   "source": [
    "# K-Nearest Neighbors Algorithm"
   ]
  },
  {
   "cell_type": "markdown",
   "metadata": {},
   "source": [
    "- KNN is a lazy learner: it doesn't learn a discriminative function from the training data but memorizes the training data instead.\n",
    "- Example of a nonparametric model subcategory known as instance-based learning\n",
    "- KNN is susceptible to overfitting due to the curse of dimensionality\n",
    "    - we can combat this by using feature selection and dimensionality reduction (but not regularization)\n",
    "- The main steps of a KNN algorithm are:\n",
    "    1. Choose the number k and the distance metric.\n",
    "        - choosing the correct number k could mean the difference between overfitting and underfitting.\n",
    "        - often, we choose a\n",
    "    2. Find the k nearest neighbors of the sample that we want to classify.\n",
    "    3. Assign the class label by majority vote.\n",
    "        - in the case of a tie, we assign the class whose neighbors are the closest. If the different neighbors are equidistant from the sample, the algorithm will choose the class that comes first in the training dataset."
   ]
  }
 ],
 "metadata": {
  "anaconda-cloud": {},
  "kernelspec": {
   "display_name": "Python [default]",
   "language": "python",
   "name": "python2"
  },
  "language_info": {
   "codemirror_mode": {
    "name": "ipython",
    "version": 2
   },
   "file_extension": ".py",
   "mimetype": "text/x-python",
   "name": "python",
   "nbconvert_exporter": "python",
   "pygments_lexer": "ipython2",
   "version": "2.7.12"
  }
 },
 "nbformat": 4,
 "nbformat_minor": 1
}
