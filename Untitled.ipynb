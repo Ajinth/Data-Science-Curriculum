{
 "cells": [
  {
   "cell_type": "markdown",
   "metadata": {},
   "source": [
    "# Git Workflow\n",
    "\n",
    "### Setting up environment\n",
    "\n",
    "- `git config -global user.name \"zlatankr\"`: set the user name\n",
    "- `git config -global user.email \"zlatankr@gmail.com\"`: set the email\n",
    "- `git config --list`: view all the current settings\n",
    "\n",
    "To connect to a repo:\n",
    "- `git clone [paste the repo URL]`: clones repo into current directory\n",
    "    - _Note:_ you still have to enter into this directory once you've created it \n",
    "\n",
    "...or you can link your working directory to an online repo with:\n",
    "- `git init`\n",
    "- `git remote add origin [paste repo URL]`\n",
    "\n",
    "To see what the origin is linked to:\n",
    "- `git remote -v`\n",
    "\n",
    "To remove the existing remote repository link:\n",
    "- `git remote rm origin`\n",
    "\n",
    "### Pushing and pulling basics\n",
    "\n",
    "Before beginning work, make sure your local directory is synced with the master branch in your remote repo:\n",
    "- `git pull origin master`\n",
    "\n",
    "Once you are ready to add files to source control:\n",
    "- `git add .`: adds everything in the directory to source control\n",
    "- `git add -u`: adds only the files that are already tracked\n",
    "- `git add -A`: only takes into account any deletions\n",
    "\n",
    "To commit these changes into the log:\n",
    "- `git commit -m \"[message]\"`: make sure you write the change summary in the message\n",
    "\n",
    "- `git status`: inspects the contents of the working directory and staging area\n",
    "- `git diff`: shows the difference between the wroking directory and the staging area\n",
    "- `git log`\n",
    "\n",
    "To push all your commits to the remote directory:\n",
    "- `git push origin master` "
   ]
  }
 ],
 "metadata": {
  "kernelspec": {
   "display_name": "Python [default]",
   "language": "python",
   "name": "python2"
  },
  "language_info": {
   "codemirror_mode": {
    "name": "ipython",
    "version": 2
   },
   "file_extension": ".py",
   "mimetype": "text/x-python",
   "name": "python",
   "nbconvert_exporter": "python",
   "pygments_lexer": "ipython2",
   "version": "2.7.12"
  }
 },
 "nbformat": 4,
 "nbformat_minor": 1
}
