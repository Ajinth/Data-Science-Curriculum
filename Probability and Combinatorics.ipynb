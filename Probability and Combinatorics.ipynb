{
 "cells": [
  {
   "cell_type": "markdown",
   "metadata": {},
   "source": [
    "# Probability and Combinatorics"
   ]
  },
  {
   "cell_type": "markdown",
   "metadata": {},
   "source": [
    "**Random Experiment:** a process leading to two or more possible outcomes, with uncertainty as to which outcome will occur.  \n",
    "\n",
    "**Sample Space:** the possible outcomes of a random experiment are called the _basic outcomes_, and the set of all basic outcomes is called the _sample space (S)_.  \n",
    "\n",
    "**Event:** an _event (E)_, is any subset of basic outcomes from the sample space. An event occurs if the random experiment results in one of its constituent basic outcomes. The null event represents the absence of a basic outcome."
   ]
  },
  {
   "cell_type": "markdown",
   "metadata": {},
   "source": [
    "**Intersection of Events:** Let A and B be two events in the sample space S. Their intersection, denoted A ∩ B, is the set of all basic outcomes in S that belong to both A and B. We will use the term _joint probability_ of A and B to denote the probability of the intersection of A and B.  \n",
    "![alt text](extras/Intersection.png) \n",
    "**Mutually Exclusive:** If the events A and B have no common basic outcomes, they are called _mutually exclusive_, and their intersection, A ∩ B, is said to be empty, indicating that it cannot occur.  \n",
    "![alt text](extras/Mutually_Exclusive.png)\n",
    "**Union:** Let A and B be two events in the sample space, S. Their _union_, denoted A ∪ B, is the set of all basic outcomes in S that belong to at least one of these two events. Hence, the union A ∪ B occurs if and only if either A or B or both occur.  \n",
    "![alt text](extras/Union.png) \n",
    "**Complement:** Let A be an event in the sample space, S. The set of basic outcomes of a random experiment belonging to S but not to A is called the _complement_ of A.  \n",
    "![alt text](extras/Complement.png)\n",
    "**Classical Probability:** Classical probability is the proportion of times that an event will occur, assuming that all outcomes in a sample space are equally likely to occur. Dividing the number of outcomes in the sample space that satisfy the event by the total number of outcomes in the sample space determines the probability of an event. The probability of an event A is P(A) = f/N, where f is the number of outcomes that satisfy the condition of event A and N is the total number of outcomes in the sample space. The important idea here is that one can develop a probability from fundamental reasoning about the process.  "
   ]
  },
  {
   "cell_type": "markdown",
   "metadata": {},
   "source": [
    "**Number of Possible Orderings:** The total number of possible ways of arranging x objects in order is given by x(x-1)(x-2)...(2)(1)=x!, where x! is read \"x factorial.\"  \n",
    "\n",
    "_Example:_ The number of ways 5 NBA starters can be ordered in different positions:"
   ]
  },
  {
   "cell_type": "code",
   "execution_count": 3,
   "metadata": {
    "collapsed": false
   },
   "outputs": [
    {
     "data": {
      "text/plain": [
       "120"
      ]
     },
     "execution_count": 3,
     "metadata": {},
     "output_type": "execute_result"
    }
   ],
   "source": [
    "import math\n",
    "\n",
    "math.factorial(5)"
   ]
  },
  {
   "cell_type": "markdown",
   "metadata": {},
   "source": [
    "**Permutations:** The total number of permutations of k objects chosen from n is the number of possible arrangements when k objects are to be selected from a total of n and arranged in order: \n",
    "![alt text](https://wikimedia.org/api/rest_v1/media/math/render/svg/739752f4180752db6442c9d8211de651513e594a)  \n",
    "\n",
    "_Example:_ The number of ways that 5 NBA starters can be ordered in different positions from a total of 8 players is 8!/(8-5)!"
   ]
  },
  {
   "cell_type": "code",
   "execution_count": 21,
   "metadata": {
    "collapsed": false
   },
   "outputs": [
    {
     "name": "stdout",
     "output_type": "stream",
     "text": [
      "6720\n",
      "6720\n"
     ]
    }
   ],
   "source": [
    "import itertools\n",
    "\n",
    "print math.factorial(8)/math.factorial(3)\n",
    "print len(list(itertools.permutations(range(8),5)))"
   ]
  },
  {
   "cell_type": "markdown",
   "metadata": {},
   "source": [
    "**Combinations:** The counting process can be generalized by using the following equation to compute the _number of combinations_ of n items taken k at a time:"
   ]
  },
  {
   "cell_type": "markdown",
   "metadata": {},
   "source": [
    "\\begin{align}\n",
    "\\frac{n!}{k!(n-k)!}\n",
    "\\end{align}"
   ]
  },
  {
   "cell_type": "markdown",
   "metadata": {},
   "source": [
    "for  0 ≤ k ≤ n.  \n",
    "\n",
    "_Example:_ Repeating the previous example, the number of combinations that 8 players can yield 5 starters, regardless of position assignments, is 8!/(5!(8-5)!)"
   ]
  },
  {
   "cell_type": "code",
   "execution_count": 20,
   "metadata": {
    "collapsed": false
   },
   "outputs": [
    {
     "name": "stdout",
     "output_type": "stream",
     "text": [
      "56\n",
      "56\n"
     ]
    }
   ],
   "source": [
    "print math.factorial(8)/(math.factorial(5)*math.factorial(3))\n",
    "print len(list(itertools.combinations(range(8),5)))"
   ]
  },
  {
   "cell_type": "markdown",
   "metadata": {},
   "source": [
    "**Subjective Probability:** _Subjective probability_ expresses an individual's degree of belief about the chance that an event will occur. These subjective probabilities are used in certain management decision procedures.  "
   ]
  },
  {
   "cell_type": "markdown",
   "metadata": {},
   "source": [
    "**Collectively Exhaustive:** Given K events E1, E2,...,EK in the sample space S, if E1 ∪ E2 ∪ ... ∪ EK = S, then these events K are said to be _collectively exhaustive_, meaning that together they comprise then entire sample space."
   ]
  },
  {
   "cell_type": "markdown",
   "metadata": {},
   "source": [
    "**Complement Rule:** Let A be an event and AC its complement. Then the _complement rule_ is:"
   ]
  },
  {
   "cell_type": "markdown",
   "metadata": {},
   "source": [
    "\\begin{align}\n",
    "\\ P(AC) = 1 – P(A)\n",
    "\\end{align}"
   ]
  },
  {
   "cell_type": "markdown",
   "metadata": {},
   "source": [
    "_Note:_ the complement rule is useful in solving problems; it is often easier to solve for the complement of something first, and then use the complement rule to get the desired probability."
   ]
  },
  {
   "cell_type": "markdown",
   "metadata": {},
   "source": [
    "**The Addition Rule of Probabilities:** Let A and B be two events. Using the _addition rule of probabilities_, the probability of their union is:"
   ]
  },
  {
   "cell_type": "markdown",
   "metadata": {},
   "source": [
    "\\begin{align}\n",
    "\\ P(A\\cup B) = P(A) + P(B) - P(A\\cap B)\n",
    "\\end{align}"
   ]
  },
  {
   "cell_type": "markdown",
   "metadata": {},
   "source": [
    "By deduction, if two events are mutual exclusive, then:"
   ]
  },
  {
   "cell_type": "markdown",
   "metadata": {},
   "source": [
    "\\begin{align}\n",
    "\\ P(A\\cup B) = P(A) + P(B)\n",
    "\\end{align}"
   ]
  },
  {
   "cell_type": "markdown",
   "metadata": {},
   "source": [
    "_Example 1_: In a 52-card deck, what is the probability of drawing a king or a heart? Note that these two events are not mutually exclusive, due to the existence of both at the same time (king of hearts). The answer is the probability of drawing a king (4/52) plus the probability of drawing a heart (1/4) minus the probability of drawing a king of hearts (1/52) = 16/52 = 4/13.  \n",
    "\n",
    "_Example 2_: In a 52-card deck, what is the probability of drawing an ace, or a king, or a queen, or a jack? Since these events are mutually exclusive, we merely add up their individual probabilities: 4(1/13) = 4/13"
   ]
  },
  {
   "cell_type": "markdown",
   "metadata": {},
   "source": [
    "**Statistical Independence:** Let A and B be two events. These events are said to be _statistically independent_ if and only if P(A ∩ B) = P(A)P(B). From the multiplication rule it also follows that:"
   ]
  },
  {
   "cell_type": "markdown",
   "metadata": {},
   "source": [
    "\\begin{align}\n",
    "\\ P(A\\mid B) = P(A) \\quad(if\\  P(B) > 0)\n",
    "\\end{align}"
   ]
  },
  {
   "cell_type": "markdown",
   "metadata": {},
   "source": [
    "\\begin{align}\n",
    "and\n",
    "\\end{align}"
   ]
  },
  {
   "cell_type": "markdown",
   "metadata": {},
   "source": [
    "\\begin{align}\n",
    "\\ P(B\\mid A) = P(B)\\quad(if\\  P(A) > 0)\n",
    "\\end{align}"
   ]
  },
  {
   "cell_type": "markdown",
   "metadata": {},
   "source": [
    "**Statistical Dependence:** Two events are dependent if the outcome or occurrence of the first affects the outcome or occurrence of the second so that the probability is changed."
   ]
  },
  {
   "cell_type": "markdown",
   "metadata": {},
   "source": [
    "**Conditional Probability:** Let A and B be two events. The _conditional probability_ of event A, given that event B has occured, is denoted by the symbol P(A|B) and is found to be \n",
    "![alt text](https://wikimedia.org/api/rest_v1/media/math/render/svg/8af3862b7983765b0ffaeecff57bf8bc9fdc1c82)\n",
    "Assuming P(B) > 0; othwerwise the P(A|B) is undefined.  \n",
    "\n",
    "_Example_: A randomly drawn card from a 52-card deck is a heart. What is the probability that that card is also a king? Probability of pulling a king of hearts (1/52) divided by the probability of pulling a heart (1/4) = 4/52 = 1/13."
   ]
  },
  {
   "cell_type": "markdown",
   "metadata": {},
   "source": [
    "**The Multiplication Rule of Probabilities:** Let A and B be two events. Using the _multiplication rule of probabilities_, the probability of their intersection can be derived from conditional probability as:"
   ]
  },
  {
   "cell_type": "markdown",
   "metadata": {},
   "source": [
    "\\begin{align}\n",
    "\\ P(A\\cap B) = P(A \\mid B)P(B) = P(B \\mid A)P(A)\n",
    "\\end{align}"
   ]
  },
  {
   "cell_type": "markdown",
   "metadata": {},
   "source": [
    "_Example_: Two cards are randomly chosen from a 52-card deck. What are the odds that both cards are a heart? (13/52)(12/51) = 5.9%.  "
   ]
  },
  {
   "cell_type": "markdown",
   "metadata": {},
   "source": [
    "**Odds:**  The _odds_ in favor of a particular event are given by the ratio of the probability of the event divided by the probability of its complement, PC. The odds in favor of A are P(A)/(1 - P(A)) = P(A)/P(C)  \n",
    "\n",
    "_Example_: If the odds of winning are 3 to 2, then you win 3 times and lose 2 times, meaning your probability of winning is 3/(3+2) = .6  \n",
    "\n",
    "_Note_: These odds are known as 'odds favor,' which are not to be confused with sports betting odds, which are presented in the reverse order: 'odds against.'"
   ]
  },
  {
   "cell_type": "markdown",
   "metadata": {},
   "source": [
    "**Overinvolvement Ratios:** The probability of Event A1, conditional on event B1, divided by the probability of A1, conditional on event B2, is defined as the _overinvolvement ratio_.  \n",
    "![alt text](extras/Overinvolvement3.jpg)  \n",
    "An overinvolvement ratio greater than 1:  \n",
    "![alt text](extras/Overinvolvement2.jpg)  \n",
    "implies that event A1 increases the conditional odds in favor of B1:  \n",
    "![alt text](extras/Overinvolvement1.jpg)  \n",
    "_Example_: given  \n",
    "- B1: Buyers  \n",
    "- B2: Nonbuyers  \n",
    "- A1: Those who have seen the advertisement  \n",
    "- A2: Those who have not seen the advertisement  \n",
    "\n",
    "If 60 percent of purchasers had seen the advertisement, and 30 percent of non-purchasers had seen the advertisment, then the overinvolvement ratio is .6/.3 = 2, meaning that seeing the advertisement would increase the conditional odds of purchasing."
   ]
  }
 ],
 "metadata": {
  "anaconda-cloud": {},
  "kernelspec": {
   "display_name": "Python [default]",
   "language": "python",
   "name": "python2"
  },
  "language_info": {
   "codemirror_mode": {
    "name": "ipython",
    "version": 2
   },
   "file_extension": ".py",
   "mimetype": "text/x-python",
   "name": "python",
   "nbconvert_exporter": "python",
   "pygments_lexer": "ipython2",
   "version": "2.7.12"
  }
 },
 "nbformat": 4,
 "nbformat_minor": 1
}
