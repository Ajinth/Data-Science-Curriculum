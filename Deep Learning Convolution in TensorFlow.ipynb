{
 "cells": [
  {
   "cell_type": "markdown",
   "metadata": {
    "deletable": true,
    "editable": true
   },
   "source": [
    "This module describes how a convolutional neural network works, and we will demonstrate its application on the MNIST dataset using TensorFlow. "
   ]
  },
  {
   "cell_type": "markdown",
   "metadata": {
    "deletable": true,
    "editable": true
   },
   "source": [
    "Convolutional neural networks (CNNs) are a type of feed-forward artificial neural network whose neuron interconnectivity emulates that of the animal visual cortex. CNNs are particularly useful with computer vision tasks such as image classification; however, they can be applied in other machine learning tasks as long as the ordering of the attributes along at least one of the dimensions is essential for classification. For example, CNNs can also be used in natural language processing and sound analytics.  \n",
    "\n",
    "The primary components of CNNs are the convolutional layer, the pooling layer, the ReLU layer, and the fully connected layer.  "
   ]
  },
  {
   "cell_type": "markdown",
   "metadata": {
    "deletable": true,
    "editable": true
   },
   "source": [
    "### Convolutional layer  \n",
    "\n",
    "The convolutional layer begins with a 3-dimensional version of the original input, generally an image with dimensions of color, width, and height. Then, the image is broken into a subset of filters, also known as kernels, each with a smaller receptive fields than the overall image. These filters are then convolved across the width and height of the input volume, computing the dot product between the entries of the filter and the input and producing a 2-dimensional activation map of that filter. As a result, the network learns filters that activate when it detects some specific type of feature at some spatial position in the input. The fact that a filter is dragged across the entire image allows CNNs to have translational invariance, meaning they deal well with objects located in different parts of the image.  \n",
    "\n",
    "The activation maps are then stacked to form the depth of the output of the convolution layer. Every entry in the output volume can thus also be interpreted as an output of a neuron that looks at a small region in the input and shares parameters with neurons in the same activation map.\n",
    "\n",
    "A key concept here is local connectivity, which indicates that each neuron is connected to only a small region of the input volume.  The size of the filter, also known as the receptive field, is a key factor in determining the extent of the connectivity.  \n",
    "\n",
    "Other key parameters are depth, stride, and padding. Depth indicates how many feature maps we are building. Stride controls the step of each filter as it moves across and down the image. Generally, a step of one is used, leading to heavily overlapped receptive fields and large output volumes. Padding allows us to control the spatial size of the output volume. If we add zero-padding, it will give us an output width and height that is the same size as the input volume."
   ]
  },
  {
   "cell_type": "markdown",
   "metadata": {
    "deletable": true,
    "editable": true
   },
   "source": [
    "### Pooling layer  \n",
    "\n",
    "Pooling is a form of non-linear down-sampling that allows us to shrink the output of convolution while preserving the most prominent features. The most common method of pooling is max pooling, where the input image, in this case the activation map from the convolution layer, is partitioned into non-overlapping rectanges, from which the maximim value is taken.  \n",
    "\n",
    "One of the key advantages of pooling is that it reduces the number of parameters and the amount of computation in the network, thereby reducing overfitting. Additionally, because pooling takes away information about the exact location of a particular feature in favor of its position relative to other features, it in turn offers an additional form of translational invariance.  \n",
    "\n",
    "The most common pooling size is 2-by-2 with a stride of 2, thereby eliminating 75% of the activations from the input map. "
   ]
  },
  {
   "cell_type": "markdown",
   "metadata": {
    "deletable": true,
    "editable": true
   },
   "source": [
    "### ReLU layer  \n",
    "\n",
    "The Rectifier Linear Unit layer applies the activation function $f(x)= max(0,x)$ to the output of the pooling layer. It increases the nonlinear properties of the decision function and of the overall network without affecting the receptive fields of the convolution layer. Of course, we can also apply other standard non linear activation functions, such as _tanh_ or the _sigmoid_ function.  "
   ]
  },
  {
   "cell_type": "markdown",
   "metadata": {
    "deletable": true,
    "editable": true
   },
   "source": [
    "### Fully connected layer  \n",
    "\n",
    "Following the ReLU layer, we take its output and flatten it to a vector that will serve to tune our weights in a standard neural network. "
   ]
  },
  {
   "cell_type": "markdown",
   "metadata": {
    "deletable": true,
    "editable": true
   },
   "source": [
    "### CNN with TensorFlow on the MNIST data set  \n",
    "\n",
    "Here, we will show how we can achieve almost 99% accuracy on the MNIST data set using CNN with TensorFlow. "
   ]
  },
  {
   "cell_type": "markdown",
   "metadata": {
    "deletable": true,
    "editable": true
   },
   "source": [
    "First, we import all the necessary libraries."
   ]
  },
  {
   "cell_type": "code",
   "execution_count": 1,
   "metadata": {
    "collapsed": true,
    "deletable": true,
    "editable": true
   },
   "outputs": [],
   "source": [
    "import numpy as np\n",
    "import tensorflow as tf\n",
    "import matplotlib.pyplot as plt\n",
    "import pandas as pd\n",
    "import os\n",
    "\n",
    "from datetime import datetime\n",
    "from sklearn.utils import shuffle"
   ]
  },
  {
   "cell_type": "markdown",
   "metadata": {
    "deletable": true,
    "editable": true
   },
   "source": [
    "Our basic helper functions will give us the error rate and the indicator matrix for our predictions."
   ]
  },
  {
   "cell_type": "code",
   "execution_count": 2,
   "metadata": {
    "collapsed": true,
    "deletable": true,
    "editable": true
   },
   "outputs": [],
   "source": [
    "def y2indicator(y):\n",
    "    N = len(y)\n",
    "    y = y.astype(np.int32)\n",
    "    ind = np.zeros((N, 10))\n",
    "    for i in range(N):\n",
    "        ind[i, y[i]] = 1\n",
    "    return ind\n",
    "\n",
    "def error_rate(p, t):\n",
    "    return np.mean(p != t)"
   ]
  },
  {
   "cell_type": "markdown",
   "metadata": {
    "deletable": true,
    "editable": true
   },
   "source": [
    "Next, we load the data, normalize it, reshape it, and generate our train and test datasets."
   ]
  },
  {
   "cell_type": "code",
   "execution_count": 3,
   "metadata": {
    "collapsed": false,
    "deletable": true,
    "editable": true
   },
   "outputs": [],
   "source": [
    "data = pd.read_csv(os.path.join('Data', 'train.csv'))"
   ]
  },
  {
   "cell_type": "code",
   "execution_count": 4,
   "metadata": {
    "collapsed": true,
    "deletable": true,
    "editable": true
   },
   "outputs": [],
   "source": [
    "def get_normalized_data(data):\n",
    "    data = data.as_matrix().astype(np.float32)\n",
    "    np.random.shuffle(data)\n",
    "    X = data[:, 1:]\n",
    "    mu = X.mean(axis=0)\n",
    "    std = X.std(axis=0)\n",
    "    np.place(std, std == 0, 1)\n",
    "    X = (X - mu) / std\n",
    "    Y = data[:, 0]\n",
    "    return X, Y"
   ]
  },
  {
   "cell_type": "code",
   "execution_count": 5,
   "metadata": {
    "collapsed": true,
    "deletable": true,
    "editable": true
   },
   "outputs": [],
   "source": [
    "X, Y = get_normalized_data(data)"
   ]
  },
  {
   "cell_type": "code",
   "execution_count": 6,
   "metadata": {
    "collapsed": true,
    "deletable": true,
    "editable": true
   },
   "outputs": [],
   "source": [
    "X = X.reshape(len(X), 28, 28, 1)"
   ]
  },
  {
   "cell_type": "code",
   "execution_count": 7,
   "metadata": {
    "collapsed": true,
    "deletable": true,
    "editable": true
   },
   "outputs": [],
   "source": [
    "X = X.astype(np.float32)"
   ]
  },
  {
   "cell_type": "code",
   "execution_count": 8,
   "metadata": {
    "collapsed": false,
    "deletable": true,
    "editable": true
   },
   "outputs": [],
   "source": [
    "Xtrain = X[:-1000,]\n",
    "Ytrain = Y[:-1000]\n",
    "Xtest  = X[-1000:,]\n",
    "Ytest  = Y[-1000:]\n",
    "Ytrain_ind = y2indicator(Ytrain)\n",
    "Ytest_ind = y2indicator(Ytest)"
   ]
  },
  {
   "cell_type": "markdown",
   "metadata": {
    "deletable": true,
    "editable": true
   },
   "source": [
    "In our convpool function, we will take a stride of one, and we will ensure that the dimensions of output of the convolution are the same as the input by setting _padding_ to 'SAME.' Our downnsampling will be of size two, and we will apply the ReLu activation function on the output."
   ]
  },
  {
   "cell_type": "code",
   "execution_count": 9,
   "metadata": {
    "collapsed": true,
    "deletable": true,
    "editable": true
   },
   "outputs": [],
   "source": [
    "def convpool(X, W, b):\n",
    "    # just assume pool size is (2,2) because we need to augment it with 1s\n",
    "    # - stride is the interval at which to apply the convolution\n",
    "    conv_out = tf.nn.conv2d(X, W, strides=[1, 1, 1, 1], padding='SAME')\n",
    "    conv_out = tf.nn.bias_add(conv_out, b)\n",
    "    pool_out = tf.nn.max_pool(conv_out, ksize=[1, 2, 2, 1], strides=[1, 2, 2, 1], padding='SAME')\n",
    "    return tf.nn.relu(pool_out)"
   ]
  },
  {
   "cell_type": "markdown",
   "metadata": {
    "deletable": true,
    "editable": true
   },
   "source": [
    "The way we always initialize weights is random normal / sqrt(fan in + fan out). The key point is it's random with a variance restricted by the size."
   ]
  },
  {
   "cell_type": "code",
   "execution_count": 10,
   "metadata": {
    "collapsed": true,
    "deletable": true,
    "editable": true
   },
   "outputs": [],
   "source": [
    "def init_filter(shape, poolsz):\n",
    "    w = np.random.randn(*shape) / np.sqrt(np.prod(shape[:-1]) + shape[-1]*np.prod(shape[:-2] / np.prod(poolsz)))\n",
    "    return w.astype(np.float32)"
   ]
  },
  {
   "cell_type": "markdown",
   "metadata": {
    "deletable": true,
    "editable": true
   },
   "source": [
    "We define our gradient descent parameters, which include the number of iterations, batch size, number of hidden layers, number of classes, and the pool size."
   ]
  },
  {
   "cell_type": "code",
   "execution_count": 11,
   "metadata": {
    "collapsed": true,
    "deletable": true,
    "editable": true
   },
   "outputs": [],
   "source": [
    "# gradient descent params\n",
    "max_iter = 6\n",
    "print_period = 10\n",
    "N = Xtrain.shape[0]\n",
    "batch_sz = 500\n",
    "n_batches = N / batch_sz\n",
    "\n",
    "# limit samples since input will always have to be same size\n",
    "# you could also just do N = N / batch_sz * batch_sz\n",
    "\n",
    "M = 500\n",
    "K = 10\n",
    "poolsz = (2, 2)"
   ]
  },
  {
   "cell_type": "markdown",
   "metadata": {
    "deletable": true,
    "editable": true
   },
   "source": [
    "When initializing our filters, we have to remember that TensorFlow has its own ordering of dimensions. The output after convpooling is going to be 7x7, which is different from Theano."
   ]
  },
  {
   "cell_type": "code",
   "execution_count": 12,
   "metadata": {
    "collapsed": true,
    "deletable": true,
    "editable": true
   },
   "outputs": [],
   "source": [
    "W1_shape = (5, 5, 1, 20) # (filter_width, filter_height, num_color_channels, num_feature_maps)\n",
    "W1_init = init_filter(W1_shape, poolsz)\n",
    "b1_init = np.zeros(W1_shape[-1], dtype=np.float32) # one bias per output feature map\n",
    "\n",
    "W2_shape = (5, 5, 20, 50) # (filter_width, filter_height, old_num_feature_maps, num_feature_maps)\n",
    "W2_init = init_filter(W2_shape, poolsz)\n",
    "b2_init = np.zeros(W2_shape[-1], dtype=np.float32)\n",
    "\n",
    "W3_init = np.random.randn(W2_shape[-1]*7*7, M) / np.sqrt(W2_shape[-1]*7*7 + M)\n",
    "b3_init = np.zeros(M, dtype=np.float32)\n",
    "W4_init = np.random.randn(M, K) / np.sqrt(M + K)\n",
    "b4_init = np.zeros(K, dtype=np.float32)"
   ]
  },
  {
   "cell_type": "markdown",
   "metadata": {
    "deletable": true,
    "editable": true
   },
   "source": [
    "Next, we define our input and target placeholders, as well as the variables which will be updated during the training process. "
   ]
  },
  {
   "cell_type": "code",
   "execution_count": 13,
   "metadata": {
    "collapsed": false,
    "deletable": true,
    "editable": true
   },
   "outputs": [],
   "source": [
    "# using None as the first shape element takes up too much RAM unfortunately\n",
    "X = tf.placeholder(tf.float32, shape=(batch_sz, 28, 28, 1), name='X')\n",
    "T = tf.placeholder(tf.float32, shape=(batch_sz, K), name='T')\n",
    "W1 = tf.Variable(W1_init.astype(np.float32))\n",
    "b1 = tf.Variable(b1_init.astype(np.float32))\n",
    "W2 = tf.Variable(W2_init.astype(np.float32))\n",
    "b2 = tf.Variable(b2_init.astype(np.float32))\n",
    "W3 = tf.Variable(W3_init.astype(np.float32))\n",
    "b3 = tf.Variable(b3_init.astype(np.float32))\n",
    "W4 = tf.Variable(W4_init.astype(np.float32))\n",
    "b4 = tf.Variable(b4_init.astype(np.float32))"
   ]
  },
  {
   "cell_type": "markdown",
   "metadata": {
    "deletable": true,
    "editable": true
   },
   "source": [
    "This is our feedforward mechanism. Note that flattening the output of our second convpool layer requires an extra step when using TensorFlow. We will also apply RMSProp during training in order to accelerate our process of gradient descent."
   ]
  },
  {
   "cell_type": "code",
   "execution_count": 14,
   "metadata": {
    "collapsed": true,
    "deletable": true,
    "editable": true
   },
   "outputs": [],
   "source": [
    "Z1 = convpool(X, W1, b1)\n",
    "Z2 = convpool(Z1, W2, b2)\n",
    "Z2_shape = Z2.get_shape().as_list()\n",
    "Z2r = tf.reshape(Z2, [Z2_shape[0], np.prod(Z2_shape[1:])])\n",
    "Z3 = tf.nn.relu( tf.matmul(Z2r, W3) + b3 )\n",
    "Yish = tf.matmul(Z3, W4) + b4\n",
    "\n",
    "cost = tf.reduce_sum(tf.nn.softmax_cross_entropy_with_logits(logits = Yish, labels = T))\n",
    "\n",
    "train_op = tf.train.RMSPropOptimizer(0.0001, decay=0.99, momentum=0.9).minimize(cost)\n",
    "\n",
    "# we'll use this to calculate the error rate\n",
    "predict_op = tf.argmax(Yish, 1)"
   ]
  },
  {
   "cell_type": "markdown",
   "metadata": {
    "deletable": true,
    "editable": true
   },
   "source": [
    "Our training process is standard, except that when making predictions against the test set, due to RAM limitations we need to have a fixed size input; so as a result, we have have to add a slightly complex total cost and prediction computation."
   ]
  },
  {
   "cell_type": "code",
   "execution_count": 15,
   "metadata": {
    "collapsed": false,
    "deletable": true,
    "editable": true
   },
   "outputs": [
    {
     "name": "stdout",
     "output_type": "stream",
     "text": [
      "WARNING:tensorflow:From <ipython-input-15-ab87b4ccfd34>:3: initialize_all_variables (from tensorflow.python.ops.variables) is deprecated and will be removed after 2017-03-02.\n",
      "Instructions for updating:\n",
      "Use `tf.global_variables_initializer` instead.\n",
      "Cost / err at iteration i=0, j=0: 2243.417 / 0.805\n",
      "Cost / err at iteration i=1, j=0: 116.821 / 0.035\n",
      "Cost / err at iteration i=2, j=0: 78.144 / 0.029\n",
      "Cost / err at iteration i=3, j=0: 57.462 / 0.018\n",
      "Cost / err at iteration i=4, j=0: 52.477 / 0.015\n",
      "Cost / err at iteration i=5, j=0: 48.527 / 0.018\n",
      "Elapsed time: 0:09:16.157494\n"
     ]
    },
    {
     "data": {
      "image/png": "[encoded data removed]",
      "text/plain": [
       "<matplotlib.figure.Figure at 0x7f2386274358>"
      ]
     },
     "metadata": {},
     "output_type": "display_data"
    }
   ],
   "source": [
    "t0 = datetime.now()\n",
    "LL = []\n",
    "init = tf.initialize_all_variables()\n",
    "with tf.Session() as session:\n",
    "    session.run(init)\n",
    "\n",
    "    for i in range(int(max_iter)):\n",
    "        for j in range(int(n_batches)):\n",
    "            Xbatch = Xtrain[j*batch_sz:(j*batch_sz + batch_sz),]\n",
    "            Ybatch = Ytrain_ind[j*batch_sz:(j*batch_sz + batch_sz),]\n",
    "\n",
    "            if len(Xbatch) == batch_sz:\n",
    "                session.run(train_op, feed_dict={X: Xbatch, T: Ybatch})\n",
    "                if j % print_period == 0:\n",
    "                    test_cost = 0\n",
    "                    prediction = np.zeros(len(Xtest))\n",
    "                    for k in range(int(len(Xtest) / batch_sz)):\n",
    "                        Xtestbatch = Xtest[k*batch_sz:(k*batch_sz + batch_sz),]\n",
    "                        Ytestbatch = Ytest_ind[k*batch_sz:(k*batch_sz + batch_sz),]\n",
    "                        test_cost += session.run(cost, feed_dict={X: Xtestbatch, T: Ytestbatch})\n",
    "                        prediction[k*batch_sz:(k*batch_sz + batch_sz)] = session.run(\n",
    "                            predict_op, feed_dict={X: Xtestbatch})\n",
    "                    err = error_rate(prediction, Ytest)\n",
    "                    if j == 0:\n",
    "                        print(\"Cost / err at iteration i=%d, j=%d: %.3f / %.3f\" % (i, j, test_cost, err))\n",
    "                    LL.append(test_cost)\n",
    "print(\"Elapsed time:\", (datetime.now() - t0))\n",
    "plt.plot(LL)\n",
    "plt.show()"
   ]
  },
  {
   "cell_type": "markdown",
   "metadata": {
    "deletable": true,
    "editable": true
   },
   "source": [
    "### Conclusion  \n",
    "\n",
    "As we can see from the results, the model performs with an accuracy between 98% and 99% on the test set. In this exercise, we did not do any hyperparameter tuning, but that would be a natural next step in our process. We can also add regularization, or momentum, or droput. "
   ]
  },
  {
   "cell_type": "markdown",
   "metadata": {
    "deletable": true,
    "editable": true
   },
   "source": [
    "### References  \n",
    " - https://en.wikipedia.org/wiki/Convolutional_neural_network\n",
    " - http://deeplearning.net/tutorial/lenet.html\n",
    " - https://www.udemy.com/deep-learning-convolutional-neural-networks-theano-tensorflow/"
   ]
  }
 ],
 "metadata": {
  "kernelspec": {
   "display_name": "Python 3",
   "language": "python",
   "name": "python3"
  },
  "language_info": {
   "codemirror_mode": {
    "name": "ipython",
    "version": 3
   },
   "file_extension": ".py",
   "mimetype": "text/x-python",
   "name": "python",
   "nbconvert_exporter": "python",
   "pygments_lexer": "ipython3",
   "version": "3.6.0"
  }
 },
 "nbformat": 4,
 "nbformat_minor": 2
}
