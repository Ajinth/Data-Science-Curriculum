{
 "cells": [
  {
   "cell_type": "markdown",
   "metadata": {
    "deletable": true,
    "editable": true
   },
   "source": [
    "When it comes to deep learning, Theano is one of the essential libraries for efficient optimization of neural networks. In this write up, we tackle the standard MNIST data set using Theano, and we explore the implementation of a couple key techniques in neural network optimization: momentum and RMSProp. \n",
    "\n",
    "Our primary goal is to illustrate the basics of Theano and how it can be used to arrive at a good solution for this problem. "
   ]
  },
  {
   "cell_type": "markdown",
   "metadata": {
    "deletable": true,
    "editable": true
   },
   "source": [
    "### The dataset and our problem  \n",
    "\n",
    "The MNIST data set is composed of gray-scale images of hand-drawn digits, from zero through nine.\n",
    "\n",
    "Each image is 28 pixels in height and 28 pixels in width, for a total of 784 pixels in total. Each pixel has a single pixel-value associated with it, indicating the lightness or darkness of that pixel, with higher numbers meaning darker. This pixel-value is an integer between 0 and 255, inclusive.\n",
    "\n",
    "Thus, the data set has 785 columns, where the first column is the label, while the rest of the columns contain the pixel-values of the associated image."
   ]
  },
  {
   "cell_type": "code",
   "execution_count": 348,
   "metadata": {
    "collapsed": true,
    "deletable": true,
    "editable": true
   },
   "outputs": [],
   "source": [
    "import pandas as pd\n",
    "import numpy as np\n",
    "import matplotlib.pyplot as plt\n",
    "from sklearn.utils import shuffle\n",
    "import theano\n",
    "import theano.tensor as T\n",
    "import os\n",
    "%matplotlib inline"
   ]
  },
  {
   "cell_type": "code",
   "execution_count": 349,
   "metadata": {
    "collapsed": true,
    "deletable": true,
    "editable": true
   },
   "outputs": [],
   "source": [
    "data = pd.read_csv(os.path.join('Data', 'train.csv'))"
   ]
  },
  {
   "cell_type": "code",
   "execution_count": 350,
   "metadata": {
    "collapsed": false,
    "deletable": true,
    "editable": true
   },
   "outputs": [
    {
     "data": {
      "text/plain": [
       "<matplotlib.image.AxesImage at 0x7f511b78dcc0>"
      ]
     },
     "execution_count": 350,
     "metadata": {},
     "output_type": "execute_result"
    },
    {
     "data": {
      "image/png": "[encoded data removed]",
      "text/plain": [
       "<matplotlib.figure.Figure at 0x7f5128e2d978>"
      ]
     },
     "metadata": {},
     "output_type": "display_data"
    }
   ],
   "source": [
    "plt.figure()\n",
    "plt.imshow(np.asarray(data.iloc[6, 1:]).reshape(28, 28), cmap='gray')"
   ]
  },
  {
   "cell_type": "markdown",
   "metadata": {
    "deletable": true,
    "editable": true
   },
   "source": [
    "### Define helper functions\n",
    "\n",
    "The first function simply tells us our error rate, which is the proportion of misclassified observations when compared to the target labels."
   ]
  },
  {
   "cell_type": "code",
   "execution_count": 351,
   "metadata": {
    "collapsed": true,
    "deletable": true,
    "editable": true
   },
   "outputs": [],
   "source": [
    "def error_rate(p, t):\n",
    "    return np.mean(p != t)"
   ]
  },
  {
   "cell_type": "markdown",
   "metadata": {
    "deletable": true,
    "editable": true
   },
   "source": [
    "Next, we normalize our data by subtracting the mean from each observation and dividing by the standard deviation. This will accelarate our convergence toward an optimal solutions as well as improve the accuracy of our classification."
   ]
  },
  {
   "cell_type": "code",
   "execution_count": 352,
   "metadata": {
    "collapsed": true,
    "deletable": true,
    "editable": true
   },
   "outputs": [],
   "source": [
    "def get_normalized_data(data):\n",
    "    data = data.as_matrix().astype(np.float32)\n",
    "    np.random.shuffle(data)\n",
    "    X = data[:, 1:]\n",
    "    mu = X.mean(axis=0)\n",
    "    std = X.std(axis=0)\n",
    "    np.place(std, std == 0, 1)\n",
    "    X = (X - mu) / std # normalize the data\n",
    "    Y = data[:, 0]\n",
    "    return X, Y"
   ]
  },
  {
   "cell_type": "markdown",
   "metadata": {
    "deletable": true,
    "editable": true
   },
   "source": [
    "We also create an indicator matrix to allow us to predict the probability of each class for a given observation."
   ]
  },
  {
   "cell_type": "code",
   "execution_count": 353,
   "metadata": {
    "collapsed": true,
    "deletable": true,
    "editable": true
   },
   "outputs": [],
   "source": [
    "def y2indicator(y):\n",
    "    N = len(y)\n",
    "    y = y.astype(np.int32)\n",
    "    ind = np.zeros((N, 10))\n",
    "    for i in range(N):\n",
    "        ind[i, y[i]] = 1\n",
    "    return ind"
   ]
  },
  {
   "cell_type": "markdown",
   "metadata": {
    "deletable": true,
    "editable": true
   },
   "source": [
    "### Step 1: get the data and define our key variables  \n",
    "\n",
    "First, we pull in the normalized data and define the number of training iterations (epochs). We also choose our learning rate and regularization parameter."
   ]
  },
  {
   "cell_type": "code",
   "execution_count": 372,
   "metadata": {
    "collapsed": false,
    "deletable": true,
    "editable": true
   },
   "outputs": [],
   "source": [
    "X, Y = get_normalized_data(data)\n",
    "\n",
    "max_iter = 30\n",
    "print_period = 10\n",
    "\n",
    "lr = 0.00004\n",
    "reg = 0.01"
   ]
  },
  {
   "cell_type": "markdown",
   "metadata": {
    "deletable": true,
    "editable": true
   },
   "source": [
    "Next, we create a our train and test data sets."
   ]
  },
  {
   "cell_type": "code",
   "execution_count": 373,
   "metadata": {
    "collapsed": true,
    "deletable": true,
    "editable": true
   },
   "outputs": [],
   "source": [
    "Xtrain = X[:-1000,]\n",
    "Ytrain = Y[:-1000]\n",
    "Xtest  = X[-1000:,]\n",
    "Ytest  = Y[-1000:]\n",
    "Ytrain_ind = y2indicator(Ytrain)\n",
    "Ytest_ind = y2indicator(Ytest)"
   ]
  },
  {
   "cell_type": "markdown",
   "metadata": {
    "deletable": true,
    "editable": true
   },
   "source": [
    "We are doing only a single-layer neural network, and thus we need to define the dimensions of our input matrix (NxD), the weights of our hidden layer (DxM), and the hidden-layer-to-output weights (MxK). Our model will also have bias terms on either end of the hidden layer. "
   ]
  },
  {
   "cell_type": "code",
   "execution_count": 374,
   "metadata": {
    "collapsed": true,
    "deletable": true,
    "editable": true
   },
   "outputs": [],
   "source": [
    "N, D = Xtrain.shape\n",
    "batch_sz = 500\n",
    "n_batches = N / batch_sz\n",
    "M = 300\n",
    "K = 10\n",
    "W1_init = np.random.randn(D, M) / 28\n",
    "b1_init = np.zeros(M)\n",
    "W2_init = np.random.randn(M, K) / np.sqrt(M)\n",
    "b2_init = np.zeros(K)"
   ]
  },
  {
   "cell_type": "markdown",
   "metadata": {
    "deletable": true,
    "editable": true
   },
   "source": [
    "### Step 2: define Theano variables and expressions  \n",
    "\n",
    "First let's define our necessary variables, which are the matrices for our inputs and our targets. We also define our Theano shared variables, which can and will be updated through our training iterations. The hidden layer output matrix as well as our final output matrix are composed of expressions. We will use the rectifier linear unit (ReLU) activation function on the hidden layer, and the standard softmax function for the output matrix."
   ]
  },
  {
   "cell_type": "code",
   "execution_count": 375,
   "metadata": {
    "collapsed": false,
    "deletable": true,
    "editable": true
   },
   "outputs": [],
   "source": [
    "# inputs\n",
    "thX = T.matrix('X')\n",
    "\n",
    "# targets\n",
    "thT = T.matrix('T')\n",
    "\n",
    "# input-to-hidden-layer weights and bias\n",
    "W1 = theano.shared(W1_init, 'W1')\n",
    "b1 = theano.shared(b1_init, 'b1')\n",
    "\n",
    "# hidden-layer-to-output weights and bias\n",
    "W2 = theano.shared(W2_init, 'W2')\n",
    "b2 = theano.shared(b2_init, 'b2')\n",
    "\n",
    "# we can use the built-in theano functions to do relu and softmax\n",
    "thZ = T.nnet.relu( thX.dot(W1) + b1 )\n",
    "thY = T.nnet.softmax( thZ.dot(W2) + b2 )\n",
    "\n"
   ]
  },
  {
   "cell_type": "markdown",
   "metadata": {
    "deletable": true,
    "editable": true
   },
   "source": [
    "The cost function takes into account regularization (we will use L2 regularization). The prediction function simply picks the class with the highest predicted probability for each given observation."
   ]
  },
  {
   "cell_type": "code",
   "execution_count": 376,
   "metadata": {
    "collapsed": true,
    "deletable": true,
    "editable": true
   },
   "outputs": [],
   "source": [
    "# define the cost function and prediction (theano automatically does the differentiation)\n",
    "cost = -(thT * T.log(thY)).sum() + reg*((W1*W1).sum() + (b1*b1).sum() + (W2*W2).sum() + (b2*b2).sum())\n",
    "prediction = T.argmax(thY, axis=1)"
   ]
  },
  {
   "cell_type": "markdown",
   "metadata": {
    "deletable": true,
    "editable": true
   },
   "source": [
    "### Step 3: define training expressions and functions  \n",
    "\n",
    "During the training process, we will be updating our shared variables (input weights, output weights, and biases). These will be updated using standard gradient descent along our defined cost function.\n",
    "\n",
    "We define a theano function that takes our inputs and updates the shared variables accordingly."
   ]
  },
  {
   "cell_type": "code",
   "execution_count": 377,
   "metadata": {
    "collapsed": true,
    "deletable": true,
    "editable": true
   },
   "outputs": [],
   "source": [
    "update_W1 = W1 - lr*T.grad(cost, W1)\n",
    "update_b1 = b1 - lr*T.grad(cost, b1)\n",
    "update_W2 = W2 - lr*T.grad(cost, W2)\n",
    "update_b2 = b2 - lr*T.grad(cost, b2)\n",
    "\n",
    "train = theano.function(\n",
    "    inputs=[thX, thT],\n",
    "    updates=[(W1, update_W1), (b1, update_b1), (W2, update_W2), (b2, update_b2)],outputs=[cost, prediction]\n",
    ")"
   ]
  },
  {
   "cell_type": "markdown",
   "metadata": {
    "deletable": true,
    "editable": true
   },
   "source": [
    "Additionally, during the training process, we will keep track of our cost and prediction so that we can evaluate our training and final model. "
   ]
  },
  {
   "cell_type": "code",
   "execution_count": 378,
   "metadata": {
    "collapsed": false,
    "deletable": true,
    "editable": true
   },
   "outputs": [],
   "source": [
    "# create another function for this because we want it over the whole dataset\n",
    "get_prediction = theano.function(\n",
    "    inputs=[thX, thT],\n",
    "    outputs=[cost, prediction],\n",
    ")"
   ]
  },
  {
   "cell_type": "markdown",
   "metadata": {
    "deletable": true,
    "editable": true
   },
   "source": [
    "### Step 4: training the model  \n",
    "\n",
    "Lastly, we perform our training procedure using batch gradient descent. Every tenth iteration, we collect the total cost and the error rate of our model. Looking at the plot of our cost over time, we can see that the cost was still decreasing ever so slightly, meaning that we could have possibly gotten a lower error rate if we increased the number of training iterations."
   ]
  },
  {
   "cell_type": "code",
   "execution_count": 379,
   "metadata": {
    "collapsed": false,
    "deletable": true,
    "editable": true,
    "scrolled": false
   },
   "outputs": [
    {
     "name": "stdout",
     "output_type": "stream",
     "text": [
      "Cost / err at iteration i=0, j=0: 2410.470 / 0.907\n",
      "Cost / err at iteration i=2, j=0: 496.179 / 0.126\n",
      "Cost / err at iteration i=4, j=0: 356.259 / 0.090\n",
      "Cost / err at iteration i=6, j=0: 302.546 / 0.083\n",
      "Cost / err at iteration i=8, j=0: 271.633 / 0.074\n",
      "Cost / err at iteration i=10, j=0: 249.965 / 0.068\n",
      "Cost / err at iteration i=12, j=0: 233.433 / 0.062\n",
      "Cost / err at iteration i=14, j=0: 221.366 / 0.058\n",
      "Cost / err at iteration i=16, j=0: 209.731 / 0.054\n",
      "Cost / err at iteration i=18, j=0: 200.541 / 0.052\n",
      "Cost / err at iteration i=20, j=0: 193.059 / 0.052\n",
      "Cost / err at iteration i=22, j=0: 186.630 / 0.051\n",
      "Cost / err at iteration i=24, j=0: 181.102 / 0.049\n",
      "Cost / err at iteration i=26, j=0: 175.427 / 0.047\n",
      "Cost / err at iteration i=28, j=0: 170.740 / 0.047\n",
      "Cost / err at iteration i=29, j=0: 168.542 / 0.047\n"
     ]
    },
    {
     "data": {
      "image/png": "[encoded data removed]",
      "text/plain": [
       "<matplotlib.figure.Figure at 0x7f5128bcfcf8>"
      ]
     },
     "metadata": {},
     "output_type": "display_data"
    }
   ],
   "source": [
    "LL = []\n",
    "for i in range(max_iter):\n",
    "    Xtrain, Ytrain_ind = shuffle(Xtrain, Ytrain_ind)\n",
    "    for j in range(int(n_batches)):\n",
    "        Xbatch = Xtrain[j*batch_sz:(j*batch_sz + batch_sz),]\n",
    "        Ybatch = Ytrain_ind[j*batch_sz:(j*batch_sz + batch_sz),]\n",
    "\n",
    "        train(Xbatch, Ybatch)\n",
    "        if j % print_period == 0:\n",
    "            cost_val, prediction_val = get_prediction(Xtest, Ytest_ind)\n",
    "            err = error_rate(prediction_val, Ytest)\n",
    "            LL.append(cost_val)\n",
    "            if (i % 2 == 0 or i % 29 == 0) and j % 100 == 0:\n",
    "                print(\"Cost / err at iteration i=%d, j=%d: %.3f / %.3f\" % (i, j, cost_val, err))\n",
    "\n",
    "plt.plot(LL)\n",
    "plt.show()"
   ]
  },
  {
   "cell_type": "markdown",
   "metadata": {
    "deletable": true,
    "editable": true
   },
   "source": [
    "## With Momentum  \n",
    "\n",
    "In gradient descent, [momentum](https://en.wikipedia.org/wiki/Stochastic_gradient_descent#Momentum) speeds up the convergence towards the minimum of the cost function by taking into account the previous weight change.\n",
    "\n",
    "We can define velocity of the previous weight change as:"
   ]
  },
  {
   "cell_type": "markdown",
   "metadata": {
    "deletable": true,
    "editable": true
   },
   "source": [
    "\\begin{align}\n",
    "\\ v(t-1) = \\triangle w(t-1)\n",
    "\\end{align}"
   ]
  },
  {
   "cell_type": "markdown",
   "metadata": {
    "deletable": true,
    "editable": true
   },
   "source": [
    "We can update the weights as follows:"
   ]
  },
  {
   "cell_type": "markdown",
   "metadata": {
    "deletable": true,
    "editable": true
   },
   "source": [
    "\\begin{align}\n",
    "\\triangle w(t) = \\mu v(t-1) - \\eta \\bigtriangledown J(t)\n",
    "\\end{align}"
   ]
  },
  {
   "cell_type": "markdown",
   "metadata": {
    "deletable": true,
    "editable": true
   },
   "source": [
    "In pseudo-code form:  \n",
    "`v = dw  \n",
    "dw = (momentum)*v - (learning rate)*(cost gradient)  \n",
    "w += dw`"
   ]
  },
  {
   "cell_type": "markdown",
   "metadata": {
    "deletable": true,
    "editable": true
   },
   "source": [
    "### Step 1: get the data and define our key variables  \n",
    "\n",
    "In order to incorporate momentum into our model, we need to first define our momentum rate 'mu,' which we will initially set as 0.9. "
   ]
  },
  {
   "cell_type": "code",
   "execution_count": 380,
   "metadata": {
    "collapsed": false,
    "deletable": true,
    "editable": true
   },
   "outputs": [],
   "source": [
    "X, Y = get_normalized_data(data)\n",
    "\n",
    "max_iter = 30\n",
    "print_period = 10\n",
    "\n",
    "lr = 0.00004\n",
    "reg = 0.01\n",
    "mu = 0.9\n",
    "\n",
    "Xtrain = X[:-1000,]\n",
    "Ytrain = Y[:-1000]\n",
    "Xtest  = X[-1000:,]\n",
    "Ytest  = Y[-1000:]\n",
    "Ytrain_ind = y2indicator(Ytrain)\n",
    "Ytest_ind = y2indicator(Ytest)\n",
    "\n",
    "N, D = Xtrain.shape\n",
    "batch_sz = 500\n",
    "n_batches = N / batch_sz\n",
    "\n",
    "M = 300\n",
    "K = 10\n",
    "W1_init = np.random.randn(D, M) / 28\n",
    "dW1_init = np.zeros((D, M))\n",
    "b1_init = np.zeros(M)\n",
    "db1_init = np.zeros(M)\n",
    "W2_init = np.random.randn(M, K) / np.sqrt(M)\n",
    "dW2_init = np.zeros((M, K))\n",
    "b2_init = np.zeros(K)\n",
    "db2_init = np.zeros(K)"
   ]
  },
  {
   "cell_type": "markdown",
   "metadata": {
    "deletable": true,
    "editable": true
   },
   "source": [
    "### Step 2: define theano variables and expressions  \n",
    "\n",
    "Next, we need to create variables that keep track of the change in our parameters. Above, we created matrices of zeroes with which we will initialize our new variables."
   ]
  },
  {
   "cell_type": "code",
   "execution_count": 381,
   "metadata": {
    "collapsed": false,
    "deletable": true,
    "editable": true
   },
   "outputs": [],
   "source": [
    "# inputs\n",
    "thX = T.matrix('X')\n",
    "\n",
    "# targets\n",
    "thT = T.matrix('T')\n",
    "\n",
    "# input-to-hidden-layer weights and bias\n",
    "W1 = theano.shared(W1_init, 'W1')\n",
    "dW1 = theano.shared(dW1_init, 'dW1')\n",
    "b1 = theano.shared(b1_init, 'b1')\n",
    "db1 = theano.shared(db1_init, 'db1')\n",
    "\n",
    "# hidden-layer-to-output weights and bias\n",
    "W2 = theano.shared(W2_init, 'W2')\n",
    "dW2 = theano.shared(dW2_init, 'dW2')\n",
    "b2 = theano.shared(b2_init, 'b2')\n",
    "db2 = theano.shared(db2_init, 'db2')\n",
    "\n",
    "# we can use the built-in theano functions to do relu and softmax\n",
    "thZ = T.nnet.relu( thX.dot(W1) + b1 ) # relu is new in version 0.7.1 but just in case you don't have it\n",
    "thY = T.nnet.softmax( thZ.dot(W2) + b2 )\n",
    "\n",
    "# define the cost function and prediction (theano automatically does the differentiation)\n",
    "cost = -(thT * T.log(thY)).sum() + reg*((W1*W1).sum() + (b1*b1).sum() + (W2*W2).sum() + (b2*b2).sum())\n",
    "prediction = T.argmax(thY, axis=1)"
   ]
  },
  {
   "cell_type": "markdown",
   "metadata": {
    "deletable": true,
    "editable": true
   },
   "source": [
    "### Step 3: define training expressions and functions  \n",
    "\n",
    "The new shared variables (our deltas) will be updated through each iteration."
   ]
  },
  {
   "cell_type": "code",
   "execution_count": 382,
   "metadata": {
    "collapsed": false,
    "deletable": true,
    "editable": true
   },
   "outputs": [],
   "source": [
    "# updates\n",
    "update_dW2 = mu*dW2 - lr*T.grad(cost, W2)\n",
    "\n",
    "update_W2 = W2 + mu*dW2 - lr*T.grad(cost, W2)\n",
    "\n",
    "update_db2 = mu*db2 - lr*T.grad(cost, b2)\n",
    "\n",
    "update_b2 = b2 + mu*db2 - lr*T.grad(cost, b2)\n",
    "\n",
    "update_dW1 = mu*dW1 - lr*T.grad(cost, W1)\n",
    "\n",
    "update_W1 = W1 + mu*dW1 - lr*T.grad(cost, W1)\n",
    "\n",
    "update_db1 = mu*db1 - lr*T.grad(cost, b1)\n",
    "\n",
    "update_b1 = b1 + mu*db1 - lr*T.grad(cost, b1)\n",
    "\n",
    "train = theano.function(\n",
    "    inputs=[thX, thT],\n",
    "    updates=[(W1, update_W1), (b1, update_b1), (W2, update_W2), (b2, update_b2)] +\n",
    "    [(dW1, update_dW1), (dW2, update_dW2),(db2, update_db2), (db1, update_db1)]\n",
    ")"
   ]
  },
  {
   "cell_type": "code",
   "execution_count": 383,
   "metadata": {
    "collapsed": true,
    "deletable": true,
    "editable": true
   },
   "outputs": [],
   "source": [
    "# create another function for this because we want it over the whole dataset\n",
    "get_prediction = theano.function(\n",
    "    inputs=[thX, thT],\n",
    "    outputs=[cost, prediction],\n",
    ")"
   ]
  },
  {
   "cell_type": "markdown",
   "metadata": {
    "deletable": true,
    "editable": true
   },
   "source": [
    "### Step 4: training the model  \n",
    "\n",
    "When we execute our model with momentum incorporated, the advantage becomes apparent immediately, our solution converges much master our a lower error rate of 0.03. "
   ]
  },
  {
   "cell_type": "code",
   "execution_count": 384,
   "metadata": {
    "collapsed": false,
    "deletable": true,
    "editable": true,
    "scrolled": false
   },
   "outputs": [
    {
     "name": "stdout",
     "output_type": "stream",
     "text": [
      "Cost / err at iteration i=0, j=0: 2325.724 / 0.839\n",
      "Cost / err at iteration i=2, j=0: 218.201 / 0.060\n",
      "Cost / err at iteration i=4, j=0: 166.388 / 0.049\n",
      "Cost / err at iteration i=6, j=0: 142.304 / 0.044\n",
      "Cost / err at iteration i=8, j=0: 129.169 / 0.039\n",
      "Cost / err at iteration i=10, j=0: 120.625 / 0.034\n",
      "Cost / err at iteration i=12, j=0: 114.360 / 0.033\n",
      "Cost / err at iteration i=14, j=0: 109.979 / 0.031\n",
      "Cost / err at iteration i=16, j=0: 107.022 / 0.030\n",
      "Cost / err at iteration i=18, j=0: 105.149 / 0.029\n",
      "Cost / err at iteration i=20, j=0: 103.811 / 0.029\n",
      "Cost / err at iteration i=22, j=0: 103.053 / 0.028\n",
      "Cost / err at iteration i=24, j=0: 102.454 / 0.028\n",
      "Cost / err at iteration i=26, j=0: 102.201 / 0.028\n",
      "Cost / err at iteration i=28, j=0: 102.222 / 0.027\n",
      "Cost / err at iteration i=29, j=0: 102.278 / 0.028\n"
     ]
    },
    {
     "data": {
      "image/png": "[encoded data removed]",
      "text/plain": [
       "<matplotlib.figure.Figure at 0x7f5128d475f8>"
      ]
     },
     "metadata": {},
     "output_type": "display_data"
    }
   ],
   "source": [
    "LL = []\n",
    "for i in range(max_iter):\n",
    "    #Xtrain, Ytrain_ind = shuffle(Xtrain, Ytrain_ind)\n",
    "    for j in range(int(n_batches)):\n",
    "        Xbatch = Xtrain[j*batch_sz:(j*batch_sz + batch_sz),]\n",
    "        Ybatch = Ytrain_ind[j*batch_sz:(j*batch_sz + batch_sz),]\n",
    "\n",
    "        train(Xbatch, Ybatch)\n",
    "        if j % print_period == 0:\n",
    "            cost_val, prediction_val = get_prediction(Xtest, Ytest_ind)\n",
    "            err = error_rate(prediction_val, Ytest)\n",
    "            LL.append(cost_val)\n",
    "            if (i % 2 == 0 or i % 29 == 0) and j % 100 == 0:\n",
    "                print(\"Cost / err at iteration i=%d, j=%d: %.3f / %.3f\" % (i, j, cost_val, err))\n",
    "\n",
    "plt.plot(LL)\n",
    "plt.show()"
   ]
  },
  {
   "cell_type": "markdown",
   "metadata": {
    "deletable": true,
    "editable": true
   },
   "source": [
    "# With RMSProp  \n",
    "\n",
    "[RMSProp](https://en.wikipedia.org/wiki/Stochastic_gradient_descent#RMSProp) (for Root Mean Square Propagation) is a method in which the learning rate is adapted for each of the parameters. The idea is to divide the learning rate for a weight by a running average of the magnitudes of recent gradients for that weight. So, first the running average, or cache, is calculated in terms of means square,"
   ]
  },
  {
   "cell_type": "markdown",
   "metadata": {
    "deletable": true,
    "editable": true
   },
   "source": [
    "\\begin{align}\n",
    "\\ v(w,t) := \\gamma v(w, t-1)+(1-\\gamma)(\\bigtriangledown Q_i(w))^2\n",
    "\\end{align}"
   ]
  },
  {
   "cell_type": "markdown",
   "metadata": {
    "deletable": true,
    "editable": true
   },
   "source": [
    "where gamma is the forgetting factor or decay rate.\n",
    "\n",
    "The parameters are updates as,"
   ]
  },
  {
   "cell_type": "markdown",
   "metadata": {
    "deletable": true,
    "editable": true
   },
   "source": [
    "\\begin{align}\n",
    "\\ w := w - \\frac{\\eta}{\\sqrt{v(w,t)}}\\bigtriangledown Q_i(w)\n",
    "\\end{align}"
   ]
  },
  {
   "cell_type": "markdown",
   "metadata": {
    "deletable": true,
    "editable": true
   },
   "source": [
    "Or, in pseudo-code:  \n",
    "`cache = decay_rate*cache + (1 - decay_rate)*gradient^2  \n",
    "w -= learning_rate*gradient / (sqrt(cache) + epsilon)  \n",
    "`"
   ]
  },
  {
   "cell_type": "markdown",
   "metadata": {
    "deletable": true,
    "editable": true
   },
   "source": [
    "### Step 1: get the data and define our key variables  \n",
    "\n",
    "In order to incorporate RMSProp into our model, we need to first define our decay rate, which we will initially set as 0.999, and we wil also add a small non-zero value for epsilon so that we are not dividing by zero."
   ]
  },
  {
   "cell_type": "code",
   "execution_count": 403,
   "metadata": {
    "collapsed": false,
    "deletable": true,
    "editable": true
   },
   "outputs": [],
   "source": [
    "X, Y = get_normalized_data(data)\n",
    "\n",
    "max_iter = 30\n",
    "print_period = 10\n",
    "\n",
    "lr = np.float32(0.001)\n",
    "reg = np.float32(10e-12)\n",
    "decay_rate = np.float32(.999)\n",
    "eps = np.float32(0.0000000001) # so that we don't divide by zero\n",
    "\n",
    "Xtrain = X[:-1000,]\n",
    "Ytrain = Y[:-1000]\n",
    "Xtest  = X[-1000:,]\n",
    "Ytest  = Y[-1000:]\n",
    "Ytrain_ind = y2indicator(Ytrain)\n",
    "Ytest_ind = y2indicator(Ytest)\n",
    "\n",
    "N, D = Xtrain.shape\n",
    "batch_sz = 500\n",
    "n_batches = N / batch_sz\n",
    "\n",
    "M = 300\n",
    "K = 10\n",
    "W1_init = np.random.randn(D, M) / 28\n",
    "cache_W1_init = np.zeros((D, M))\n",
    "b1_init = np.zeros(M)\n",
    "cache_b1_init = np.zeros(M)\n",
    "W2_init = np.random.randn(M, K) / np.sqrt(M)\n",
    "cache_W2_init = np.zeros((M, K))\n",
    "b2_init = np.zeros(K)\n",
    "cache_b2_init = np.zeros(K)"
   ]
  },
  {
   "cell_type": "markdown",
   "metadata": {
    "deletable": true,
    "editable": true
   },
   "source": [
    "### Step 2: define theano variables and expressions  \n",
    "\n",
    "Next, we need to create variables that keep track of the cache of our recent gradients. Above, we created matrices of zeroes with which we will initialize our new variables."
   ]
  },
  {
   "cell_type": "code",
   "execution_count": 404,
   "metadata": {
    "collapsed": false,
    "deletable": true,
    "editable": true
   },
   "outputs": [],
   "source": [
    "# step 2: define theano variables and expressions\n",
    "\n",
    "# inputs\n",
    "thX = T.matrix('X')\n",
    "\n",
    "# targets\n",
    "thT = T.matrix('T')\n",
    "\n",
    "# input-to-hidden-layer weights and bias\n",
    "W1 = theano.shared(W1_init, 'W1')\n",
    "cache_W1 = theano.shared(cache_W1_init, 'cache_W1')\n",
    "b1 = theano.shared(b1_init, 'b1')\n",
    "cache_b1 = theano.shared(cache_b1_init, 'cache_b1')\n",
    "\n",
    "# hidden-layer-to-output weights and bias\n",
    "W2 = theano.shared(W2_init, 'W2')\n",
    "cache_W2 = theano.shared(cache_W2_init, 'cache_W2')\n",
    "b2 = theano.shared(b2_init, 'b2')\n",
    "cache_b2 = theano.shared(cache_b2_init, 'cache_b2')\n",
    "\n",
    "# we can use the built-in theano functions to do relu and softmax\n",
    "thZ = T.nnet.relu( thX.dot(W1) + b1 ) # relu is new in version 0.7.1 but just in case you don't have it\n",
    "thY = T.nnet.softmax( thZ.dot(W2) + b2 )\n",
    "\n",
    "# define the cost function and prediction (theano automatically does the differentiation)\n",
    "cost = -(thT * T.log(thY)).sum() + reg*((W1*W1).sum() + (b1*b1).sum() + (W2*W2).sum() + (b2*b2).sum())\n",
    "prediction = T.argmax(thY, axis=1)"
   ]
  },
  {
   "cell_type": "markdown",
   "metadata": {
    "deletable": true,
    "editable": true
   },
   "source": [
    "### Step 3: define training expressions and functions  \n",
    "\n",
    "The new shared variables (our cached gradients) will be updated through each iteration."
   ]
  },
  {
   "cell_type": "code",
   "execution_count": 405,
   "metadata": {
    "collapsed": true,
    "deletable": true,
    "editable": true
   },
   "outputs": [],
   "source": [
    "update_cache_W2 = decay_rate*cache_W2 + (np.float32(1) - decay_rate)*T.grad(cost, W2)*T.grad(cost, W2)\n",
    "update_W2 = W2  - lr*T.grad(cost, W2) / (T.sqrt(cache_W2) + eps)\n",
    "\n",
    "update_cache_b2 = decay_rate*cache_b2 + (np.float32(1) - decay_rate)*T.grad(cost, b2)*T.grad(cost, b2)\n",
    "update_b2 = b2  - lr*T.grad(cost, b2) / (T.sqrt(cache_b2) + eps)\n",
    "\n",
    "update_cache_W1 = decay_rate*cache_W1 + (np.float32(1) - decay_rate)*T.grad(cost, W1)*T.grad(cost, W1)\n",
    "update_W1 = W1  - lr*T.grad(cost, W1) / (T.sqrt(cache_W1) + eps)\n",
    "\n",
    "update_cache_b1 = decay_rate*cache_b1 + (np.float32(1) - decay_rate)*T.grad(cost, b1)*T.grad(cost, b1)\n",
    "update_b1 = b1  - lr*T.grad(cost, b1) / (T.sqrt(cache_b1) + eps)\n",
    "\n",
    "train = theano.function(\n",
    "    inputs=[thX, thT],\n",
    "    updates=[(cache_W1, update_cache_W1), (cache_W2, update_cache_W2), \n",
    "             (cache_b1, update_cache_b1), (cache_b2, update_cache_b2)]   \n",
    ")\n",
    "\n",
    "train2 = theano.function(\n",
    "    inputs=[thX, thT],\n",
    "    updates=[(W1, update_W1), (b1, update_b1), (W2, update_W2), (b2, update_b2)]\n",
    "    \n",
    ")"
   ]
  },
  {
   "cell_type": "code",
   "execution_count": 406,
   "metadata": {
    "collapsed": true,
    "deletable": true,
    "editable": true
   },
   "outputs": [],
   "source": [
    "# create another function for this because we want it over the whole dataset\n",
    "get_prediction = theano.function(\n",
    "    inputs=[thX, thT],\n",
    "    outputs=[cost, prediction],\n",
    ")"
   ]
  },
  {
   "cell_type": "markdown",
   "metadata": {
    "deletable": true,
    "editable": true
   },
   "source": [
    "### Step 4: training the model  \n",
    "\n",
    "When we execute our model with momentum incorporated, the advantage becomes apparent immediately, our solution is comparable to the one we achieved with momentum. "
   ]
  },
  {
   "cell_type": "code",
   "execution_count": 407,
   "metadata": {
    "collapsed": false,
    "deletable": true,
    "editable": true,
    "scrolled": true
   },
   "outputs": [
    {
     "name": "stdout",
     "output_type": "stream",
     "text": [
      "Cost / err at iteration i=0, j=0: 2482.705 / 0.389\n",
      "Cost / err at iteration i=2, j=0: 115.293 / 0.031\n",
      "Cost / err at iteration i=4, j=0: 106.673 / 0.025\n",
      "Cost / err at iteration i=6, j=0: 102.615 / 0.026\n",
      "Cost / err at iteration i=8, j=0: 103.861 / 0.025\n",
      "Cost / err at iteration i=10, j=0: 108.116 / 0.026\n",
      "Cost / err at iteration i=12, j=0: 111.520 / 0.026\n",
      "Cost / err at iteration i=14, j=0: 114.464 / 0.027\n",
      "Cost / err at iteration i=16, j=0: 117.215 / 0.027\n",
      "Cost / err at iteration i=18, j=0: 120.086 / 0.027\n",
      "Cost / err at iteration i=20, j=0: 122.561 / 0.027\n",
      "Cost / err at iteration i=22, j=0: 125.061 / 0.026\n",
      "Cost / err at iteration i=24, j=0: 127.337 / 0.026\n",
      "Cost / err at iteration i=26, j=0: 129.465 / 0.026\n",
      "Cost / err at iteration i=28, j=0: 131.443 / 0.026\n",
      "Cost / err at iteration i=29, j=0: 132.381 / 0.026\n"
     ]
    },
    {
     "data": {
      "image/png": "[encoded data removed]",
      "text/plain": [
       "<matplotlib.figure.Figure at 0x7f511b76a5f8>"
      ]
     },
     "metadata": {},
     "output_type": "display_data"
    }
   ],
   "source": [
    "LL = []\n",
    "for i in range(max_iter):\n",
    "    #Xtrain, Ytrain_ind = shuffle(Xtrain, Ytrain_ind)\n",
    "    for j in range(int(n_batches)):\n",
    "        Xbatch = Xtrain[j*batch_sz:(j*batch_sz + batch_sz),]\n",
    "        Ybatch = Ytrain_ind[j*batch_sz:(j*batch_sz + batch_sz),]\n",
    "\n",
    "        train(Xbatch, Ybatch)\n",
    "        train2(Xbatch, Ybatch)\n",
    "        if j % print_period == 0:\n",
    "            cost_val, prediction_val = get_prediction(Xtest, Ytest_ind)\n",
    "            err = error_rate(prediction_val, Ytest)\n",
    "            LL.append(cost_val)\n",
    "            if (i % 2 == 0 or i % 29 == 0) and j % 100 == 0:\n",
    "                print(\"Cost / err at iteration i=%d, j=%d: %.3f / %.3f\" % (i, j, cost_val, err))\n",
    "plt.plot(LL)\n",
    "plt.show()"
   ]
  },
  {
   "cell_type": "markdown",
   "metadata": {
    "deletable": true,
    "editable": true
   },
   "source": [
    "# With RMSProp and Momentum"
   ]
  },
  {
   "cell_type": "markdown",
   "metadata": {
    "deletable": true,
    "editable": true
   },
   "source": [
    "When we combine RMSProp and momentum, we see that our error rate is actually higher than the models with only RMSProp or momentum. This is an indication that our hyperparameters need tuning. "
   ]
  },
  {
   "cell_type": "code",
   "execution_count": 420,
   "metadata": {
    "collapsed": false,
    "deletable": true,
    "editable": true
   },
   "outputs": [],
   "source": [
    "# step 1: get the data and define all the usual variables\n",
    "X, Y = get_normalized_data(data)\n",
    "\n",
    "max_iter = 30\n",
    "print_period = 10\n",
    "\n",
    "lr = np.float32(10e-7)\n",
    "reg = np.float32(10-12)\n",
    "mu = np.float32(0.99)\n",
    "decay_rate = np.float32(.999)\n",
    "eps = np.float32(0.0000000001) # so that we don't divide by zero\n",
    "\n",
    "Xtrain = X[:-1000,]\n",
    "Ytrain = Y[:-1000]\n",
    "Xtest  = X[-1000:,]\n",
    "Ytest  = Y[-1000:]\n",
    "Ytrain_ind = y2indicator(Ytrain)\n",
    "Ytest_ind = y2indicator(Ytest)\n",
    "\n",
    "N, D = Xtrain.shape\n",
    "batch_sz = 500\n",
    "n_batches = N / batch_sz\n",
    "\n",
    "M = 300\n",
    "K = 10\n",
    "W1_init = np.random.randn(D, M) / 28\n",
    "dW1_init = np.zeros((D, M))\n",
    "cache_W1_init = np.zeros((D, M))\n",
    "b1_init = np.zeros(M)\n",
    "db1_init = np.zeros(M)\n",
    "cache_b1_init = np.zeros(M)\n",
    "W2_init = np.random.randn(M, K) / np.sqrt(M)\n",
    "dW2_init = np.zeros((M, K))\n",
    "cache_W2_init = np.zeros((M, K))\n",
    "b2_init = np.zeros(K)\n",
    "db2_init = np.zeros(K)\n",
    "cache_b2_init = np.zeros(K)"
   ]
  },
  {
   "cell_type": "code",
   "execution_count": 421,
   "metadata": {
    "collapsed": false,
    "deletable": true,
    "editable": true
   },
   "outputs": [
    {
     "data": {
      "text/plain": [
       "(41000, 784)"
      ]
     },
     "execution_count": 421,
     "metadata": {},
     "output_type": "execute_result"
    }
   ],
   "source": [
    "Xtrain.shape"
   ]
  },
  {
   "cell_type": "code",
   "execution_count": 422,
   "metadata": {
    "collapsed": false,
    "deletable": true,
    "editable": true
   },
   "outputs": [],
   "source": [
    "# step 2: define theano variables and expressions\n",
    "\n",
    "# inputs\n",
    "thX = T.matrix('X')\n",
    "\n",
    "# targets\n",
    "thT = T.matrix('T')\n",
    "\n",
    "# input-to-hidden-layer weights and bias\n",
    "W1 = theano.shared(W1_init, 'W1')\n",
    "dW1 = theano.shared(dW1_init, 'dW1')\n",
    "cache_W1 = theano.shared(cache_W1_init, 'cache_W1')\n",
    "b1 = theano.shared(b1_init, 'b1')\n",
    "db1 = theano.shared(db1_init, 'db1')\n",
    "cache_b1 = theano.shared(cache_b1_init, 'cache_b1')\n",
    "\n",
    "# hidden-layer-to-output weights and bias\n",
    "W2 = theano.shared(W2_init, 'W2')\n",
    "dW2 = theano.shared(dW2_init, 'dW2')\n",
    "cache_W2 = theano.shared(cache_W2_init, 'cache_W2')\n",
    "b2 = theano.shared(b2_init, 'b2')\n",
    "db2 = theano.shared(db2_init, 'db2')\n",
    "cache_b2 = theano.shared(cache_b2_init, 'cache_b2')\n",
    "\n",
    "# we can use the built-in theano functions to do relu and softmax\n",
    "thZ = T.nnet.relu( thX.dot(W1) + b1 ) # relu is new in version 0.7.1 but just in case you don't have it\n",
    "thY = T.nnet.softmax( thZ.dot(W2) + b2 )\n",
    "\n",
    "# define the cost function and prediction (theano automatically does the differentiation)\n",
    "cost = -(thT * T.log(thY)).sum() + reg*((W1*W1).sum() + (b1*b1).sum() + (W2*W2).sum() + (b2*b2).sum())\n",
    "prediction = T.argmax(thY, axis=1)"
   ]
  },
  {
   "cell_type": "code",
   "execution_count": 423,
   "metadata": {
    "collapsed": false,
    "deletable": true,
    "editable": true
   },
   "outputs": [],
   "source": [
    "update_dW2 = mu*dW2 - lr*T.grad(cost, W2) / (T.sqrt(cache_W2) + eps)\n",
    "update_cache_W2 = decay_rate*cache_W2 + (np.float32(1) - decay_rate)*T.grad(cost, W2)*T.grad(cost, W2)\n",
    "update_W2 = W2 + mu*dW2 - lr*T.grad(cost, W2) / (T.sqrt(cache_W2) + eps)\n",
    "\n",
    "\n",
    "update_db2 = mu*db2 - lr*T.grad(cost, b2) / (T.sqrt(cache_b2) + eps)\n",
    "update_cache_b2 = decay_rate*cache_b2 + (np.float32(1) - decay_rate)*T.grad(cost, b2)*T.grad(cost, b2)\n",
    "update_b2 = b2 + mu*db2 - lr*T.grad(cost, b2) / (T.sqrt(cache_b2) + eps)\n",
    "\n",
    "update_dW1 = mu*dW1 - lr*T.grad(cost, W1) / (T.sqrt(cache_W1) + eps)\n",
    "update_cache_W1 = decay_rate*cache_W1 + (np.float32(1) - decay_rate)*T.grad(cost, W1)*T.grad(cost, W1)\n",
    "update_W1 = W1 + mu*dW1 - lr*T.grad(cost, W1) / (T.sqrt(cache_W1) + eps)\n",
    "\n",
    "update_db1 = mu*db1 - lr*T.grad(cost, b1) / (T.sqrt(cache_b1) + eps)\n",
    "update_cache_b1 = decay_rate*cache_b1 + (np.float32(1) - decay_rate)*T.grad(cost, b1)*T.grad(cost, b1)\n",
    "update_b1 = b1 + mu*db1 - lr*T.grad(cost, b1) / (T.sqrt(cache_b1) + eps)\n",
    "\n",
    "train = theano.function(\n",
    "    inputs=[thX, thT],\n",
    "    updates=[(cache_W1, update_cache_W1), (cache_W2, update_cache_W2), \n",
    "             (cache_b1, update_cache_b1), (cache_b2, update_cache_b2)]\n",
    ")\n",
    "\n",
    "train2 = theano.function(\n",
    "    inputs=[thX, thT],\n",
    "    updates=[(W1, update_W1), (b1, update_b1), (W2, update_W2), (b2, update_b2)] +\n",
    "    [(dW1, update_dW1), (dW2, update_dW2),(db2, update_db2), (db1, update_db1)]\n",
    ")"
   ]
  },
  {
   "cell_type": "code",
   "execution_count": 424,
   "metadata": {
    "collapsed": true,
    "deletable": true,
    "editable": true
   },
   "outputs": [],
   "source": [
    "# create another function for this because we want it over the whole dataset\n",
    "get_prediction = theano.function(\n",
    "    inputs=[thX, thT],\n",
    "    outputs=[cost, prediction],\n",
    ")"
   ]
  },
  {
   "cell_type": "code",
   "execution_count": 425,
   "metadata": {
    "collapsed": false,
    "deletable": true,
    "editable": true
   },
   "outputs": [
    {
     "name": "stdout",
     "output_type": "stream",
     "text": [
      "Cost / err at iteration i=0, j=0: 1891.141 / 0.911\n",
      "Cost / err at iteration i=2, j=0: -992.135 / 0.111\n",
      "Cost / err at iteration i=4, j=0: -2633.315 / 0.084\n",
      "Cost / err at iteration i=6, j=0: -4676.145 / 0.074\n",
      "Cost / err at iteration i=8, j=0: -7008.585 / 0.068\n",
      "Cost / err at iteration i=10, j=0: -9627.492 / 0.060\n",
      "Cost / err at iteration i=12, j=0: -12562.862 / 0.055\n",
      "Cost / err at iteration i=14, j=0: -15842.929 / 0.054\n",
      "Cost / err at iteration i=16, j=0: -19492.394 / 0.052\n",
      "Cost / err at iteration i=18, j=0: -23530.431 / 0.049\n",
      "Cost / err at iteration i=20, j=0: -27969.247 / 0.048\n",
      "Cost / err at iteration i=22, j=0: -32813.259 / 0.046\n",
      "Cost / err at iteration i=24, j=0: -38066.610 / 0.045\n",
      "Cost / err at iteration i=26, j=0: -43731.936 / 0.042\n",
      "Cost / err at iteration i=28, j=0: -49807.704 / 0.043\n",
      "Cost / err at iteration i=29, j=0: -52997.533 / 0.043\n"
     ]
    },
    {
     "data": {
      "image/png": "[encoded data removed]",
      "text/plain": [
       "<matplotlib.figure.Figure at 0x7f511cd370f0>"
      ]
     },
     "metadata": {},
     "output_type": "display_data"
    }
   ],
   "source": [
    "LL = []\n",
    "for i in range(max_iter):\n",
    "    #Xtrain, Ytrain_ind = shuffle(Xtrain, Ytrain_ind)\n",
    "    for j in range(int(n_batches)):\n",
    "        Xbatch = Xtrain[j*batch_sz:(j*batch_sz + batch_sz),]\n",
    "        Ybatch = Ytrain_ind[j*batch_sz:(j*batch_sz + batch_sz),]\n",
    "\n",
    "        train(Xbatch, Ybatch)\n",
    "        train2(Xbatch, Ybatch)\n",
    "        if j % print_period == 0:\n",
    "            cost_val, prediction_val = get_prediction(Xtest, Ytest_ind)\n",
    "            err = error_rate(prediction_val, Ytest)\n",
    "            LL.append(cost_val)\n",
    "            if (i % 2 == 0 or i % 29 == 0) and j % 100 == 0:\n",
    "                print(\"Cost / err at iteration i=%d, j=%d: %.3f / %.3f\" % (i, j, cost_val, err))\n",
    "\n",
    "plt.plot(LL)\n",
    "plt.show()"
   ]
  }
 ],
 "metadata": {
  "kernelspec": {
   "display_name": "Python 3",
   "language": "python",
   "name": "python3"
  },
  "language_info": {
   "codemirror_mode": {
    "name": "ipython",
    "version": 3
   },
   "file_extension": ".py",
   "mimetype": "text/x-python",
   "name": "python",
   "nbconvert_exporter": "python",
   "pygments_lexer": "ipython3",
   "version": "3.6.0"
  }
 },
 "nbformat": 4,
 "nbformat_minor": 2
}
