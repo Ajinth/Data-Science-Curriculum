{
 "cells": [
  {
   "cell_type": "markdown",
   "metadata": {},
   "source": [
    "# Linear Regression\n",
    "\n",
    "Linear regression allows us model and predict the behavior of continuous variables. In this module, we will study and look at examples of the ordinary least squares method for estimating the parameters in a linear regression model. \n",
    "\n",
    "## Ordinary Least Squares Simple Linear Regression\n",
    "\n",
    "The simple linear regression model is given by\n",
    "![alt](extras/lm4.png)\n",
    "where y is the dependent variable, x is the independent variable, e is the random error term, and B1 and B2 are the regression parameters. \n",
    "\n",
    "Assumptions of a simple linear regression model: \n",
    "1. The mean value of y, for each value of x, is given by the linear regression function:\n",
    "![alt](extras/lm1.png)\n",
    "2. For each value of x, the values of y are distributed about theim mean value, following probability distributions that all have the same variance, \n",
    "![alt](extras/lm2.png)\n",
    "3. The sample value values of y are all uncorrelated and have zero covariance, implying that there is no linear association among them, \n",
    "![alt](extras/lm3.png)\n",
    "This assumption can be made stronger by assuming that the values of y are all statistically independent. \n",
    "\n",
    "4. The variable x is not random and must take at least two different values. \n",
    "\n",
    "5. The values of y are normally disstributed about their mean for ach value of x (optional).\n",
    "6. The value of y, for each value of x, is\n",
    "![alt](extras/lm4.png)\n",
    "7. The expected value of the random error e is \n",
    "![alt](extras/lm5.png)\n",
    "which is equivalent to assuming that \n",
    "![alt](extras/lm6.png)\n",
    "8. The variance of the random error e is\n",
    "![alt](extras/lm7.png)\n",
    "The random variables y and e have the same variance because they differ only by a constant. \n",
    "9. The covariance between any pair of random errors ei and ej is\n",
    "![alt](extras/lm8.png)\n",
    "The stronger version of this assumption is that the random errors e are statistically independent, in which case the values of the dependen variable y are also statistically indendent. \n",
    "10. The variable x is not random and must take on at least 2 different values. \n",
    "11. The values of e are normally distributed about their mean if the values of y are normally distributed, and vice versa. \n",
    "![alt](extras/lm9.png)\n",
    "\n",
    "The least squares model attemps to find the line through our data that minimizes the squared residuals, defined as the difference between the observed and predicted values of our outcome variable, where the residual is\n",
    "![alt](extras/lm11.png)\n",
    "and the sum squared residuals is\n",
    "![alt](extras/lm12.png)\n",
    "\n",
    "The least squares estimators b1 and b2 are \n",
    "![alt](extras/lm13.png)\n",
    "and under assumptions 6-10 above, the Gauss Markov Theorem states that b1 and b2 have the smallest variance of all linear and unbiased estimators of B1 and B2. \n",
    "\n",
    "Measuring goodness of fit: "
   ]
  }
 ],
 "metadata": {
  "anaconda-cloud": {},
  "kernelspec": {
   "display_name": "Python [default]",
   "language": "python",
   "name": "python2"
  },
  "language_info": {
   "codemirror_mode": {
    "name": "ipython",
    "version": 2
   },
   "file_extension": ".py",
   "mimetype": "text/x-python",
   "name": "python",
   "nbconvert_exporter": "python",
   "pygments_lexer": "ipython2",
   "version": "2.7.12"
  }
 },
 "nbformat": 4,
 "nbformat_minor": 1
}
