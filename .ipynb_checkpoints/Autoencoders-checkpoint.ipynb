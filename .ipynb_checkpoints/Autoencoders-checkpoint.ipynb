{
 "cells": [
  {
   "cell_type": "markdown",
   "metadata": {},
   "source": [
    "### Autoencoder theory"
   ]
  },
  {
   "cell_type": "markdown",
   "metadata": {},
   "source": [
    "An autoencoder is an artificial neural network used for unsupervised learning of efficient codings. The aim of an autoencoder is to learn a representation (encoding) for a set of data, typically for the purpose of dimensionality reduction. Recently, the autoencoder concept has become more widely used for learning generative models of data.\n",
    "\n",
    "Architecturally, the simplest form of an autoencoder is a feedforward, non-recurrent neural network very similar to the multilayer perceptron (MLP) – having an input layer, an output layer, and one or more hidden layers connecting them, but with the output layer having the same number of nodes as the input layer, and with the purpose of reconstructing its own inputs (instead of predicting the target value _Y_ given inputs _X_. Therefore, autoencoders are unsupervised learning models."
   ]
  },
  {
   "cell_type": "markdown",
   "metadata": {},
   "source": [
    "Our basic representation of an autoencoder with one hidden layer can be expressed as:"
   ]
  },
  {
   "cell_type": "markdown",
   "metadata": {},
   "source": [
    "\\begin{align}\n",
    "\\ Z = s(X.dot(W_h)+b_h)\n",
    "\\end{align}"
   ]
  },
  {
   "cell_type": "markdown",
   "metadata": {},
   "source": [
    "\\begin{align}\n",
    "\\ X_{hat} = s(Z.dot(W_o)+b_o)\n",
    "\\end{align}"
   ]
  },
  {
   "cell_type": "markdown",
   "metadata": {},
   "source": [
    "However, a common modification that we make in order to simplify the equation and introduce a degree of regularization is to use the transpose of $W_h$ on the output layer. This is known as using _shared weights_."
   ]
  },
  {
   "cell_type": "markdown",
   "metadata": {
    "deletable": true,
    "editable": true
   },
   "source": [
    "\\begin{align}\n",
    "\\ Z = s(X.dot(W)+b_h)\n",
    "\\end{align}"
   ]
  },
  {
   "cell_type": "markdown",
   "metadata": {
    "deletable": true,
    "editable": true
   },
   "source": [
    "\\begin{align}\n",
    "\\ X_{hat} = s(Z.dot(W^T)+b_o)\n",
    "\\end{align}"
   ]
  },
  {
   "cell_type": "markdown",
   "metadata": {},
   "source": [
    "The objective function in autoencoders is: "
   ]
  },
  {
   "cell_type": "markdown",
   "metadata": {},
   "source": [
    "\\begin{align}\n",
    "\\ J = \\mid X - X_{hat} \\mid_F^2 = \\mid X - s(s(XW)W^T) \\mid_F^2\n",
    "\\end{align}"
   ]
  },
  {
   "cell_type": "markdown",
   "metadata": {},
   "source": [
    "As is _obvious_ from the equation above, autoencoders are like nonlinear PCA. The primary differences are: \n",
    "- bias\n",
    "- requirement that column of W has length of 1\n",
    "- orthogonality\n",
    "- order\n"
   ]
  },
  {
   "cell_type": "markdown",
   "metadata": {},
   "source": [
    "Denoising autoencoders add noise to our input in order to help our data get better at reconstruction the original input. The denoising auto-encoder is a stochastic version of the auto-encoder. In one variation, the stochastic corruption process randomly sets some of the inputs (as many as half of them) to zero. Hence the denoising auto-encoder is trying to predict the corrupted (i.e. missing) values from the uncorrupted (i.e., non-missing) values, for randomly selected subsets of missing patterns. Note how being able to predict any subset of variables from the rest is a sufficient condition for completely capturing the joint distribution between a set of variables (this is how Gibbs sampling works)."
   ]
  },
  {
   "cell_type": "markdown",
   "metadata": {},
   "source": [
    "Stacked autoencoders work like this: \n",
    "- start with the input data X\n",
    "- train an autoencoder on X; the hidden layer's output is $Z_1$\n",
    "- train an autoencoder on $Z_1$ (target is $Z_1$); the hidden layer's output is $Z_2$\n",
    "- repeat  \n",
    "\n",
    "We want each layer to be a more compact representation than the last, so each layer will decrease in size. This is one way we can use stacked autoencoders for data compression. This is not a requirement, though, and even using as many hidden units as there are observations has been shown to not lead to overfitting.  \n",
    "\n",
    "The process is know as _greedy layer-wise pretraining_. It means that we are making the best short-sighted decision, and it works well to use as a precursor to supervised learning. But the good news is that we don't have to do too many epochs of backpropagation, since the autoencoder does most of the work on this front. "
   ]
  },
  {
   "cell_type": "markdown",
   "metadata": {},
   "source": [
    "### Autoencoder in code"
   ]
  },
  {
   "cell_type": "code",
   "execution_count": 2,
   "metadata": {
    "collapsed": false,
    "deletable": true,
    "editable": true
   },
   "outputs": [],
   "source": [
    "import numpy as np\n",
    "import theano\n",
    "import theano.tensor as T\n",
    "import matplotlib.pyplot as plt\n",
    "import pandas as pd\n",
    "from sklearn.utils import shuffle\n",
    "import os\n",
    "os.chdir('/home/z/Dropbox/Documents/Analytics/Learning/Data-Science-Curriculum/extras')\n",
    "from util import relu, error_rate, getKaggleMNIST, init_weights"
   ]
  },
  {
   "cell_type": "code",
   "execution_count": 12,
   "metadata": {
    "collapsed": false,
    "deletable": true,
    "editable": true
   },
   "outputs": [],
   "source": [
    "class AutoEncoder(object):\n",
    "    # M is an arbitrary parameter\n",
    "    # ID is used for setting names of theano variables\n",
    "    def __init__(self, M, an_id):\n",
    "        self.M = M\n",
    "        self.id = an_id\n",
    "\n",
    "    # we will include momentum in our autoencoder'\n",
    "    # no Y - unsupervised\n",
    "    def fit(self, X, learning_rate=0.5, mu=0.99, epochs=1, batch_sz=100, show_fig=False):\n",
    "        N, D = X.shape\n",
    "        # get number of batches\n",
    "        n_batches = N / batch_sz\n",
    "\n",
    "        #our weights will be D-by-M\n",
    "        W0 = init_weights((D, self.M))\n",
    "\n",
    "        # this is where we use the ID variable\n",
    "        self.W = theano.shared(W0, 'W_%s' % self.id)\n",
    "        self.bh = theano.shared(np.zeros(self.M), 'bh_%s' % self.id)\n",
    "        self.bo = theano.shared(np.zeros(D), 'bo_%s' % self.id)\n",
    "        \n",
    "        # we will keep all of our parameters b/c we will use them during gradient descent\n",
    "        self.params = [self.W, self.bh, self.bo]\n",
    "        \n",
    "        # we will keep the forward params for the deep NN class\n",
    "        self.forward_params = [self.W, self.bh]\n",
    "\n",
    "        # keep track of the changes of each variable because we will use momentum\n",
    "        # TODO: technically these should be reset before doing backprop\n",
    "        self.dW = theano.shared(np.zeros(W0.shape), 'dW_%s' % self.id)\n",
    "        self.dbh = theano.shared(np.zeros(self.M), 'dbh_%s' % self.id)\n",
    "        self.dbo = theano.shared(np.zeros(D), 'dbo_%s' % self.id)\n",
    "        \n",
    "        # similarly, collect the parameters here\n",
    "        self.dparams = [self.dW, self.dbh, self.dbo]\n",
    "        self.forward_dparams = [self.dW, self.dbh]\n",
    "\n",
    "        # now we define the tensor input, which is a matrix\n",
    "        X_in = T.matrix('X_%s' % self.id)\n",
    "        \n",
    "        # define x-hat, which is our reconstruction\n",
    "        X_hat = self.forward_output(X_in)\n",
    "\n",
    "        # attach it to the object so it can be used later\n",
    "        # must be sigmoidal because the output is also a sigmoid\n",
    "        # hidden layer operation will be defined as a theano function, since it will be used in the DNN\n",
    "        H = T.nnet.sigmoid(X_in.dot(self.W) + self.bh)\n",
    "        self.hidden_op = theano.function(\n",
    "            inputs=[X_in],\n",
    "            outputs=H,\n",
    "        )\n",
    "\n",
    "        # squared error cost function:\n",
    "        # cost = ((X_in - X_hat) * (X_in - X_hat)).sum() / N\n",
    "        \n",
    "        # cross-entropy cost function:\n",
    "        cost = -(X_in * T.log(X_hat) + (1 - X_in) * T.log(1 - X_hat)).sum() / (batch_sz * D)\n",
    "        cost_op = theano.function(\n",
    "            inputs=[X_in],\n",
    "            outputs=cost,\n",
    "        )\n",
    "\n",
    "        # this is our gradient descent (where we define our updates)\n",
    "        updates = [\n",
    "            (p, p + mu*dp - learning_rate*T.grad(cost, p)) for p, dp in zip(self.params, self.dparams)\n",
    "        ] + [\n",
    "            (dp, mu*dp - learning_rate*T.grad(cost, p)) for p, dp in zip(self.params, self.dparams)\n",
    "        ]\n",
    "        # here is our train function for the gradient descent\n",
    "        train_op = theano.function(\n",
    "            inputs=[X_in],\n",
    "            updates=updates,\n",
    "        )\n",
    "\n",
    "        # now we run our loop through this\n",
    "        costs = []\n",
    "        print(\"training autoencoder: %s\" % self.id)\n",
    "        for i in range(epochs):\n",
    "            print(\"epoch:\", i)\n",
    "            X = shuffle(X)\n",
    "            for j in range(int(n_batches)):\n",
    "                batch = X[j*batch_sz:(j*batch_sz + batch_sz)]\n",
    "                train_op(batch)\n",
    "                the_cost = cost_op(X) # technically we could also get the cost for Xtest here\n",
    "                if j == 408:\n",
    "                    print(\"j / n_batches:\", j, \"/\", n_batches, \"cost:\", the_cost)\n",
    "                costs.append(the_cost)\n",
    "        if show_fig:\n",
    "            plt.plot(costs)\n",
    "            plt.show()\n",
    "\n",
    "    # this function will go to the hidden output, which takes in x\n",
    "    def forward_hidden(self, X):\n",
    "        Z = T.nnet.sigmoid(X.dot(self.W) + self.bh)\n",
    "        # Z = T.tanh(X.dot(self.W) + self.bh)\n",
    "        # Z = relu(X.dot(self.W) + self.bh)\n",
    "        return Z\n",
    "\n",
    "    # forward output will call the previous function and apply the sigmoid\n",
    "    def forward_output(self, X):\n",
    "        Z = self.forward_hidden(X)\n",
    "        # we transpose W because we are doing shared weights\n",
    "        Y = T.nnet.sigmoid(Z.dot(self.W.T) + self.bo)\n",
    "        return Y\n",
    "\n",
    "    @staticmethod\n",
    "    def createFromArrays(W, bh, bo, an_id):\n",
    "        ae = AutoEncoder(W.shape[1], an_id)\n",
    "        ae.W = theano.shared(W, 'W_%s' % ae.id)\n",
    "        ae.bh = theano.shared(bh, 'bh_%s' % ae.id)\n",
    "        ae.bo = theano.shared(bo, 'bo_%s' % ae.id)\n",
    "        ae.params = [ae.W, ae.bh, ae.bo]\n",
    "        ae.forward_params = [ae.W, ae.bh]\n",
    "        return ae"
   ]
  },
  {
   "cell_type": "code",
   "execution_count": 13,
   "metadata": {
    "collapsed": true,
    "deletable": true,
    "editable": true
   },
   "outputs": [],
   "source": [
    "class DNN(object):\n",
    "\t# we will expand this later to accommodate RBMs as well\n",
    "    def __init__(self, hidden_layer_sizes, UnsupervisedModel=AutoEncoder):\n",
    "        self.hidden_layers = []\n",
    "        count = 0\n",
    "        # the count is the ID for each autoencoder\n",
    "        for M in hidden_layer_sizes:\n",
    "            ae = UnsupervisedModel(M, count)\n",
    "            self.hidden_layers.append(ae)\n",
    "            count += 1\n",
    "\n",
    "    # this is supervised, so it includes Y.\n",
    "    def fit(self, X, Y, Xtest, Ytest, pretrain=True, learning_rate=0.01, mu=0.99, reg=0.1, epochs=1, batch_sz=100):\n",
    "        # greedy layer-wise training of autoencoders\n",
    "        pretrain_epochs = 1\n",
    "        if not pretrain:\n",
    "            pretrain_epochs = 0\n",
    "\n",
    "        # this is where we do our pretrain\n",
    "        current_input = X\n",
    "        for ae in self.hidden_layers:\n",
    "            ae.fit(current_input, epochs=pretrain_epochs)\n",
    "\n",
    "            # create current_input for the next layer\n",
    "            current_input = ae.hidden_op(current_input)\n",
    "\n",
    "        # initialize logistic regression layer\n",
    "        N = len(Y)\n",
    "        # K is the number of the classes\n",
    "        K = len(set(Y))\n",
    "        # the size of the weight is the last hidden layer's M, and then K\n",
    "        W0 = init_weights((self.hidden_layers[-1].M, K))\n",
    "        self.W = theano.shared(W0, \"W_logreg\")\n",
    "        self.b = theano.shared(np.zeros(K), \"b_logreg\")\n",
    "\n",
    "        # collect parameters for gradient descent\n",
    "        self.params = [self.W, self.b]\n",
    "        # pull in parameters from the previously collected lists\n",
    "        for ae in self.hidden_layers:\n",
    "            self.params += ae.forward_params\n",
    "\n",
    "        # for momentum\n",
    "        self.dW = theano.shared(np.zeros(W0.shape), \"dW_logreg\")\n",
    "        self.db = theano.shared(np.zeros(K), \"db_logreg\")\n",
    "        self.dparams = [self.dW, self.db]\n",
    "        for ae in self.hidden_layers:\n",
    "            self.dparams += ae.forward_dparams\n",
    "\n",
    "        # define our inputs and our outputs\n",
    "        X_in = T.matrix('X_in')\n",
    "        targets = T.ivector('Targets')\n",
    "\n",
    "        # probability of Y given X\n",
    "        pY = self.forward(X_in)\n",
    "\n",
    "        # define the regularization cost:\n",
    "        # squared_magnitude = [(p*p).sum() for p in self.params]\n",
    "        # reg_cost = T.sum(squared_magnitude)\n",
    "        # previously we treated the targets as an indicator matrix and the output of a NN as a matrix of outputs\n",
    "        # we will only select the elements of pY that we want, which is where the targets are 1\n",
    "        cost = -T.mean( T.log(pY[T.arange(pY.shape[0]), targets]) ) #+ reg*reg_cost\n",
    "        # need prediction function to calculate the error rate\n",
    "        prediction = self.predict(X_in)\n",
    "        cost_predict_op = theano.function(\n",
    "            inputs=[X_in, targets],\n",
    "            outputs=[cost, prediction],\n",
    "        )\n",
    "\n",
    "        updates = [\n",
    "            (p, p + mu*dp - learning_rate*T.grad(cost, p)) for p, dp in zip(self.params, self.dparams)\n",
    "        ] + [\n",
    "            (dp, mu*dp - learning_rate*T.grad(cost, p)) for p, dp in zip(self.params, self.dparams)\n",
    "        ]\n",
    "        # updates = [(p, p - learning_rate*T.grad(cost, p)) for p in self.params]\n",
    "        train_op = theano.function(\n",
    "            inputs=[X_in, targets],\n",
    "            updates=updates,\n",
    "        )\n",
    "\n",
    "        n_batches = N / batch_sz\n",
    "        costs = []\n",
    "        print(\"supervised training...\")\n",
    "        for i in range(epochs):\n",
    "            print(\"epoch:\", i)\n",
    "            X, Y = shuffle(X, Y)\n",
    "            for j in range(int(n_batches)):\n",
    "                Xbatch = X[j*batch_sz:(j*batch_sz + batch_sz)]\n",
    "                Ybatch = Y[j*batch_sz:(j*batch_sz + batch_sz)]\n",
    "                train_op(Xbatch, Ybatch)\n",
    "                the_cost, the_prediction = cost_predict_op(Xtest, Ytest)\n",
    "                error = error_rate(the_prediction, Ytest)\n",
    "                if j == 408:\n",
    "                    print(\"j / n_batches:\", j, \"/\", n_batches, \"cost:\", the_cost, \"error:\", error)\n",
    "                costs.append(the_cost)\n",
    "        plt.plot(costs)\n",
    "        plt.show()\n",
    "\n",
    "    def predict(self, X):\n",
    "        return T.argmax(self.forward(X), axis=1)\n",
    "\n",
    "    def forward(self, X):\n",
    "        current_input = X\n",
    "        for ae in self.hidden_layers:\n",
    "            Z = ae.forward_hidden(current_input)\n",
    "            current_input = Z\n",
    "\n",
    "        # logistic layer\n",
    "        Y = T.nnet.softmax(T.dot(current_input, self.W) + self.b)\n",
    "        return Y"
   ]
  },
  {
   "cell_type": "code",
   "execution_count": 14,
   "metadata": {
    "collapsed": false,
    "deletable": true,
    "editable": true
   },
   "outputs": [
    {
     "name": "stdout",
     "output_type": "stream",
     "text": [
      "training autoencoder: 0\n",
      "epoch: 0\n",
      "j / n_batches: 408 / 410.0 cost: 50.61025039214906\n",
      "training autoencoder: 1\n",
      "epoch: 0\n",
      "j / n_batches: 408 / 410.0 cost: 102.46950189031583\n",
      "training autoencoder: 2\n",
      "epoch: 0\n",
      "j / n_batches: 408 / 410.0 cost: 57.48735243756561\n",
      "supervised training...\n",
      "epoch: 0\n",
      "j / n_batches: 408 / 410.0 cost: 0.21723407616486926 error: 0.06\n",
      "epoch: 1\n",
      "j / n_batches: 408 / 410.0 cost: 0.15267308577146935 error: 0.041\n",
      "epoch: 2\n",
      "j / n_batches: 408 / 410.0 cost: 0.1293009091252335 error: 0.035\n"
     ]
    },
    {
     "data": {
      "image/png": "[encoded data removed]",
      "text/plain": [
       "<matplotlib.figure.Figure at 0x7f279fad0fd0>"
      ]
     },
     "metadata": {},
     "output_type": "display_data"
    }
   ],
   "source": [
    "Xtrain, Ytrain, Xtest, Ytest = getKaggleMNIST()\n",
    "dnn = DNN([1000, 750, 500])\n",
    "dnn.fit(Xtrain, Ytrain, Xtest, Ytest, epochs=3)\n",
    "# vs\n",
    "#dnn = DNN([1000, 750, 500])\n",
    "#dnn.fit(Xtrain, Ytrain, Xtest, Ytest, pretrain=False, epochs=10)"
   ]
  }
 ],
 "metadata": {
  "kernelspec": {
   "display_name": "Python 3",
   "language": "python",
   "name": "python3"
  },
  "language_info": {
   "codemirror_mode": {
    "name": "ipython",
    "version": 3
   },
   "file_extension": ".py",
   "mimetype": "text/x-python",
   "name": "python",
   "nbconvert_exporter": "python",
   "pygments_lexer": "ipython3",
   "version": "3.6.0"
  }
 },
 "nbformat": 4,
 "nbformat_minor": 2
}
