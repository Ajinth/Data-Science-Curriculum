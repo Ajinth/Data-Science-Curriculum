{
 "cells": [
  {
   "cell_type": "markdown",
   "metadata": {},
   "source": [
    "# Python Programming: Classes\n",
    "\n",
    "A class can be thought of as a blueprint. It isn't something in itself, it simply describes how to make something. We can create lots of objects from that blueprint - known technically as an instance.\n",
    "\n",
    "We create a class with the class operator:"
   ]
  },
  {
   "cell_type": "code",
   "execution_count": 35,
   "metadata": {
    "collapsed": false
   },
   "outputs": [],
   "source": [
    "class CardDeck:\n",
    "    def __init__(self):\n",
    "        cards = 4 * (range(2, 11) + ['J', 'Q', 'K', 'A'])\n",
    "        suits = list(13*'D') + list(13*'H') + list(13*'S') + list(13*'C')\n",
    "        self.deck =  [str(c)+s for c, s in zip(cards, suits)]\n",
    "\n",
    "    def draw(self):\n",
    "        return self.deck.pop()\n",
    "        \n",
    "    def shuffle(self):\n",
    "        random.shuffle(self.deck)\n",
    "        \n",
    "    def reset(self):\n",
    "        self.__init__()"
   ]
  },
  {
   "cell_type": "markdown",
   "metadata": {},
   "source": [
    "No code is run when you define a class - you are simply making functions and variables.\n",
    "\n",
    "The function called `__init__` is run when we create an instance of Shape - that is, when we create an actual card deck, as opposed to the 'blueprint' we have here, `__init__` is run. You will understand how this works later.\n",
    "\n",
    "`self` is how we refer to things in the class from within itself. `self` is the first parameter in any function defined inside a class. Any function or variable created on the first level of indentation (that is, lines of code that start one TAB to the right of where we put class Shape is automatically put into self. To access these functions and variables elsewhere inside the class, their name must be preceeded with self and a full-stop (e.g. self.variable_name).\n",
    "\n",
    "Here, we create an instance of our CardDeck class:"
   ]
  },
  {
   "cell_type": "code",
   "execution_count": 38,
   "metadata": {
    "collapsed": false
   },
   "outputs": [],
   "source": [
    "play = CardDeck()"
   ]
  },
  {
   "cell_type": "markdown",
   "metadata": {},
   "source": [
    "The `__init__` function really comes into play at this time. We create an instance of a class by first giving its name (in this case, CardDeck) and then, in brackets, the values to pass to the `__init__` function. The init function runs (using the parameters you gave it in brackets) and then spits out an instance of that class, which in this case is assigned to the name `play`.\n",
    "\n",
    "Our class intance, `play`, is a self-contained collection of variables and functions. In the same way that we used `self` to access functions and variables of the class instance from within itself, we use the name that we assigned to it now (`play`) to access functions and variables of the class instance from outside of itself. Following on from the code we ran above, we would do this:"
   ]
  },
  {
   "cell_type": "code",
   "execution_count": 19,
   "metadata": {
    "collapsed": false
   },
   "outputs": [
    {
     "data": {
      "text/plain": [
       "'4C'"
      ]
     },
     "execution_count": 19,
     "metadata": {},
     "output_type": "execute_result"
    }
   ],
   "source": [
    "play.shuffle\n",
    "play.draw()"
   ]
  },
  {
   "cell_type": "markdown",
   "metadata": {},
   "source": [
    "We aren't limited to a single instance of a class - we could have as many instances as we like.\n",
    "\n",
    "Object-oriented-programming has a set of lingo that is associated with it. Here are some distinctions:\n",
    "\n",
    "- When we first describe a class, we are defining it (like with functions)\n",
    "- The ability to group similar functions and variables together is called encapsulation\n",
    "- The word 'class' can be used when describing the code where the class is defined (like how a function is defined), and it can also refer to an instance of that class - this can get confusing, so make sure you know in which form we are talking about classes\n",
    "- A variable inside a class is known as an attribute\n",
    "- A function inside a class is known as a method\n",
    "- A class is in the same category of things as variables, lists, dictionaries, etc. That is, they are objects\n",
    "- A class is known as a 'data structure' - it holds data, and the methods to process that data."
   ]
  },
  {
   "cell_type": "markdown",
   "metadata": {},
   "source": [
    "Python makes **inheritance** really easily. We define a new class, based on another, 'parent' class. Our new class brings everything over from the parent, and we can also add other things to it. If any new attributes or methods have the same name as an attribute or method in our parent class, it is used instead of the parent one. "
   ]
  },
  {
   "cell_type": "code",
   "execution_count": 44,
   "metadata": {
    "collapsed": false
   },
   "outputs": [],
   "source": [
    "class deal_poker_hands(CardDeck):\n",
    "    def __init__(self):\n",
    "        CardDeck.__init__(self)\n",
    "          \n",
    "    def deal(self, player_ct):\n",
    "        hands = [[] for p in range(player_ct)]\n",
    "        for c in range(1, 6):\n",
    "            for h in hands:\n",
    "                h.append(self.draw())\n",
    "        return hands"
   ]
  },
  {
   "cell_type": "code",
   "execution_count": 46,
   "metadata": {
    "collapsed": false,
    "scrolled": true
   },
   "outputs": [
    {
     "data": {
      "text/plain": [
       "[['AC', 'JC', '8C', '5C', '2C'],\n",
       " ['KC', '10C', '7C', '4C', 'AS'],\n",
       " ['QC', '9C', '6C', '3C', 'KS']]"
      ]
     },
     "execution_count": 46,
     "metadata": {},
     "output_type": "execute_result"
    }
   ],
   "source": [
    "poker = deal_poker_hands()\n",
    "poker.deal(3)"
   ]
  },
  {
   "cell_type": "markdown",
   "metadata": {},
   "source": [
    "When we say that one variable equals another, e.g. `variable2 = variable1`, the variable on the left-hand side of the equal-sign takes on the value of the variable on the right. With class instances, this happens a little differently - the name on the left becomes the class instance on the right. So in `instance2 = instance1`, `instance2` is 'pointing' to `instance1` - there are two names given to the one class instance, and you can access the class instance via either name.\n",
    "\n",
    "In other languages, you do things like this using pointers, however in python this all happens behind the scenes.\n",
    "\n",
    "Lastly, we can make dictionaries of classes. Keeping in mind what we have just learnt about pointers, we can assign an instance of a class to an entry in a list or dictionary. This allows for virtually any amount of class instances to exist when our program is run."
   ]
  },
  {
   "cell_type": "markdown",
   "metadata": {},
   "source": [
    "## References\n",
    "\n",
    "- https://docs.python.org/3/tutorial/classes.html\n",
    "- https://jeffknupp.com/blog/2014/06/18/improve-your-python-python-classes-and-object-oriented-programming/\n",
    "- http://sthurlow.com/python/lesson08/\n",
    "- https://www.programiz.com/python-programming/inheritance"
   ]
  }
 ],
 "metadata": {
  "kernelspec": {
   "display_name": "Python [default]",
   "language": "python",
   "name": "python2"
  },
  "language_info": {
   "codemirror_mode": {
    "name": "ipython",
    "version": 2
   },
   "file_extension": ".py",
   "mimetype": "text/x-python",
   "name": "python",
   "nbconvert_exporter": "python",
   "pygments_lexer": "ipython2",
   "version": "2.7.12"
  }
 },
 "nbformat": 4,
 "nbformat_minor": 1
}
