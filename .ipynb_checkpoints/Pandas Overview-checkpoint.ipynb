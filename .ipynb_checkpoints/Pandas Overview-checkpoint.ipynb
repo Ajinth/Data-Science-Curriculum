{
 "cells": [
  {
   "cell_type": "markdown",
   "metadata": {},
   "source": [
    "# Pandas Overview"
   ]
  },
  {
   "cell_type": "markdown",
   "metadata": {},
   "source": [
    "_Note:_ these examples were taken from Wes McKinney's _Python for Data Analysis_."
   ]
  },
  {
   "cell_type": "markdown",
   "metadata": {},
   "source": [
    "[Series](#series)  \n",
    "[Data Frames](#dataframes)  \n",
    "[Indexing](#indexing)  \n",
    "[Selection and Filtering](#selection_filtering)  \n",
    "[Arithmetic and Data Alignment](#arithmetic)  \n",
    "[Sorting and Ranking](#sorting_ranking)  \n",
    "[Summarizing and Computing Descriptive Statistics](#summ)  \n",
    "[Handling Missing Data](#nans)  \n",
    "[Merging](#merging)  \n",
    "[Joining](#joining)  \n",
    "[Concatenating](#concat)  \n",
    "[Combining with Overlap](#combining)  \n",
    "[Stacking](#stacking)  \n",
    "[Duplicates](#duplicates)  \n",
    "[Mapping](#mapping)  \n",
    "[Replacing Values](#replacing)  \n",
    "[Renaming Axis Indexes](#renaming)  \n",
    "[Discretization and Binning](#binning)  \n",
    "[Permutations and Random Sampling](#perm_rand)  \n",
    "[String Manipulation](#strings)  \n",
    "[Grouping and Aggregation](#grouping)  \n",
    "[Data Grouipuing and Aggregations with Functions](#agg_func)  \n",
    "[Groupby with Bucketing](#groupby_bucketing)  \n",
    "[Cards Example](#cards_example)  \n",
    "[Pivot Tables](#pivot_tables)  \n",
    "[Crosstabs](#cross_tabs)"
   ]
  },
  {
   "cell_type": "markdown",
   "metadata": {},
   "source": [
    "<a id='series'></a>\n",
    "### Series"
   ]
  },
  {
   "cell_type": "code",
   "execution_count": 2,
   "metadata": {
    "collapsed": true
   },
   "outputs": [],
   "source": [
    "import pandas as pd\n",
    "from pandas import Series, DataFrame\n",
    "import numpy as np\n",
    "from IPython.display import display"
   ]
  },
  {
   "cell_type": "markdown",
   "metadata": {},
   "source": [
    "Series is a one-dimensional array-like object"
   ]
  },
  {
   "cell_type": "code",
   "execution_count": 6,
   "metadata": {
    "collapsed": false
   },
   "outputs": [
    {
     "data": {
      "text/plain": [
       "0    4\n",
       "1    7\n",
       "2   -5\n",
       "3    3\n",
       "dtype: int64"
      ]
     },
     "execution_count": 6,
     "metadata": {},
     "output_type": "execute_result"
    }
   ],
   "source": [
    "obj = pd.Series([4, 7, -5, 3])\n",
    "obj"
   ]
  },
  {
   "cell_type": "markdown",
   "metadata": {},
   "source": [
    "You can parse out the values and the index of a Series"
   ]
  },
  {
   "cell_type": "code",
   "execution_count": 8,
   "metadata": {
    "collapsed": false
   },
   "outputs": [
    {
     "name": "stdout",
     "output_type": "stream",
     "text": [
      "[ 4  7 -5  3]\n",
      "RangeIndex(start=0, stop=4, step=1)\n"
     ]
    }
   ],
   "source": [
    "print obj.values\n",
    "print obj.index"
   ]
  },
  {
   "cell_type": "markdown",
   "metadata": {},
   "source": [
    "You can specify what the index is"
   ]
  },
  {
   "cell_type": "code",
   "execution_count": 13,
   "metadata": {
    "collapsed": false
   },
   "outputs": [
    {
     "data": {
      "text/plain": [
       "d    4\n",
       "b    7\n",
       "a   -5\n",
       "c    3\n",
       "dtype: int64"
      ]
     },
     "execution_count": 13,
     "metadata": {},
     "output_type": "execute_result"
    }
   ],
   "source": [
    "obj2 = Series([4, 7, -5, 3], index=['d', 'b', 'a', 'c'])\n",
    "obj2"
   ]
  },
  {
   "cell_type": "markdown",
   "metadata": {},
   "source": [
    "You can change values based on the index"
   ]
  },
  {
   "cell_type": "code",
   "execution_count": 14,
   "metadata": {
    "collapsed": false
   },
   "outputs": [
    {
     "data": {
      "text/plain": [
       "d    4\n",
       "b    6\n",
       "a   -5\n",
       "c    3\n",
       "dtype: int64"
      ]
     },
     "execution_count": 14,
     "metadata": {},
     "output_type": "execute_result"
    }
   ],
   "source": [
    "obj2['b']\n",
    "obj2['b'] = 6\n",
    "obj2"
   ]
  },
  {
   "cell_type": "markdown",
   "metadata": {},
   "source": [
    "Basic operations:"
   ]
  },
  {
   "cell_type": "code",
   "execution_count": 26,
   "metadata": {
    "collapsed": false
   },
   "outputs": [
    {
     "name": "stdout",
     "output_type": "stream",
     "text": [
      "d    4\n",
      "b    6\n",
      "c    3\n",
      "dtype: int64\n",
      "\n",
      "\n",
      "d     8\n",
      "b    12\n",
      "a   -10\n",
      "c     6\n",
      "dtype: int64\n",
      "\n",
      "\n",
      "d     54.598150\n",
      "b    403.428793\n",
      "a      0.006738\n",
      "c     20.085537\n",
      "dtype: float64\n"
     ]
    }
   ],
   "source": [
    "print obj2[obj2>0]\n",
    "print '\\n'\n",
    "print obj2*2\n",
    "print '\\n'\n",
    "print np.exp(obj2)"
   ]
  },
  {
   "cell_type": "markdown",
   "metadata": {},
   "source": [
    "You can convert a dict into a Series"
   ]
  },
  {
   "cell_type": "code",
   "execution_count": 22,
   "metadata": {
    "collapsed": false
   },
   "outputs": [
    {
     "data": {
      "text/plain": [
       "Ohio      35000\n",
       "Oregon    16000\n",
       "Texas     70000\n",
       "Utah      50000\n",
       "dtype: int64"
      ]
     },
     "execution_count": 22,
     "metadata": {},
     "output_type": "execute_result"
    }
   ],
   "source": [
    "sdata = {'Ohio':35000, 'Texas':70000, 'Oregon':16000, 'Utah':50000}\n",
    "obj3 = Series(sdata)\n",
    "obj3"
   ]
  },
  {
   "cell_type": "markdown",
   "metadata": {},
   "source": [
    "You can match the Series index with a list"
   ]
  },
  {
   "cell_type": "code",
   "execution_count": 23,
   "metadata": {
    "collapsed": false
   },
   "outputs": [
    {
     "data": {
      "text/plain": [
       "California        NaN\n",
       "Ohio          35000.0\n",
       "Oregon        16000.0\n",
       "Texas         70000.0\n",
       "dtype: float64"
      ]
     },
     "execution_count": 23,
     "metadata": {},
     "output_type": "execute_result"
    }
   ],
   "source": [
    "states = ['California', 'Ohio', 'Oregon', 'Texas']\n",
    "obj4 = Series(sdata, index=states)\n",
    "obj4"
   ]
  },
  {
   "cell_type": "markdown",
   "metadata": {},
   "source": [
    "Detecting nulls"
   ]
  },
  {
   "cell_type": "code",
   "execution_count": 25,
   "metadata": {
    "collapsed": false
   },
   "outputs": [
    {
     "name": "stdout",
     "output_type": "stream",
     "text": [
      "California     True\n",
      "Ohio          False\n",
      "Oregon        False\n",
      "Texas         False\n",
      "dtype: bool\n",
      "\n",
      "\n",
      "California    False\n",
      "Ohio           True\n",
      "Oregon         True\n",
      "Texas          True\n",
      "dtype: bool\n",
      "\n",
      "\n",
      "California     True\n",
      "Ohio          False\n",
      "Oregon        False\n",
      "Texas         False\n",
      "dtype: bool\n"
     ]
    }
   ],
   "source": [
    "print pd.isnull(obj4)\n",
    "print '\\n'\n",
    "print pd.notnull(obj4)\n",
    "print '\\n'\n",
    "print obj4.isnull()"
   ]
  },
  {
   "cell_type": "markdown",
   "metadata": {},
   "source": [
    "Series align indexes"
   ]
  },
  {
   "cell_type": "code",
   "execution_count": 29,
   "metadata": {
    "collapsed": false
   },
   "outputs": [
    {
     "name": "stdout",
     "output_type": "stream",
     "text": [
      "Ohio      35000\n",
      "Oregon    16000\n",
      "Texas     70000\n",
      "Utah      50000\n",
      "dtype: int64\n",
      "\n",
      "\n",
      "California        NaN\n",
      "Ohio          35000.0\n",
      "Oregon        16000.0\n",
      "Texas         70000.0\n",
      "dtype: float64\n",
      "\n",
      "\n",
      "California         NaN\n",
      "Ohio           70000.0\n",
      "Oregon         32000.0\n",
      "Texas         140000.0\n",
      "Utah               NaN\n",
      "dtype: float64\n"
     ]
    }
   ],
   "source": [
    "print obj3\n",
    "print '\\n'\n",
    "print obj4\n",
    "print '\\n'\n",
    "print obj3+obj4"
   ]
  },
  {
   "cell_type": "markdown",
   "metadata": {},
   "source": [
    "Both the Series object and the its attribute have a name feature:"
   ]
  },
  {
   "cell_type": "code",
   "execution_count": 30,
   "metadata": {
    "collapsed": false
   },
   "outputs": [
    {
     "data": {
      "text/plain": [
       "state\n",
       "California        NaN\n",
       "Ohio          35000.0\n",
       "Oregon        16000.0\n",
       "Texas         70000.0\n",
       "Name: population, dtype: float64"
      ]
     },
     "execution_count": 30,
     "metadata": {},
     "output_type": "execute_result"
    }
   ],
   "source": [
    "obj4.name = 'population'\n",
    "obj4.index.name = 'state'\n",
    "obj4"
   ]
  },
  {
   "cell_type": "markdown",
   "metadata": {},
   "source": [
    "A Series' index can be altered in place by assignment"
   ]
  },
  {
   "cell_type": "code",
   "execution_count": 31,
   "metadata": {
    "collapsed": false
   },
   "outputs": [
    {
     "data": {
      "text/plain": [
       "Bob      4\n",
       "Steve    7\n",
       "Jeff    -5\n",
       "Ryan     3\n",
       "dtype: int64"
      ]
     },
     "execution_count": 31,
     "metadata": {},
     "output_type": "execute_result"
    }
   ],
   "source": [
    "obj.index = ['Bob','Steve','Jeff','Ryan']\n",
    "obj"
   ]
  },
  {
   "cell_type": "markdown",
   "metadata": {},
   "source": [
    "<a id='dataframes'></a>\n",
    "### DataFrames"
   ]
  },
  {
   "cell_type": "code",
   "execution_count": 174,
   "metadata": {
    "collapsed": false
   },
   "outputs": [
    {
     "name": "stdout",
     "output_type": "stream",
     "text": [
      "{'state': ['Ohio', 'Ohio', 'Ohio', 'Nevada', 'Nevada'], 'pop': [1.5, 1.7, 3.6, 2.4, 2.9], 'year': [2000, 2001, 2002, 2001, 2002]}\n",
      "\n",
      "\n",
      "   pop   state  year\n",
      "0  1.5    Ohio  2000\n",
      "1  1.7    Ohio  2001\n",
      "2  3.6    Ohio  2002\n",
      "3  2.4  Nevada  2001\n",
      "4  2.9  Nevada  2002\n",
      "\n",
      "\n",
      "Index: RangeIndex(start=0, stop=5, step=1)\n"
     ]
    }
   ],
   "source": [
    "data = {'state': ['Ohio','Ohio','Ohio','Nevada','Nevada'],\n",
    "        'year': [2000,2001,2002,2001,2002],\n",
    "        'pop': [1.5,1.7,3.6,2.4,2.9]}\n",
    "print data\n",
    "frame = DataFrame(data)\n",
    "print '\\n'\n",
    "print frame\n",
    "print '\\n'\n",
    "print 'Index:', frame.index"
   ]
  },
  {
   "cell_type": "markdown",
   "metadata": {},
   "source": [
    "You can explicitly specify what you want the output to be"
   ]
  },
  {
   "cell_type": "code",
   "execution_count": 39,
   "metadata": {
    "collapsed": false
   },
   "outputs": [
    {
     "data": {
      "text/html": [
       "<div>\n",
       "<table border=\"1\" class=\"dataframe\">\n",
       "  <thead>\n",
       "    <tr style=\"text-align: right;\">\n",
       "      <th></th>\n",
       "      <th>year</th>\n",
       "      <th>state</th>\n",
       "      <th>pop</th>\n",
       "    </tr>\n",
       "  </thead>\n",
       "  <tbody>\n",
       "    <tr>\n",
       "      <th>0</th>\n",
       "      <td>2000</td>\n",
       "      <td>Ohio</td>\n",
       "      <td>1.5</td>\n",
       "    </tr>\n",
       "    <tr>\n",
       "      <th>1</th>\n",
       "      <td>2001</td>\n",
       "      <td>Ohio</td>\n",
       "      <td>1.7</td>\n",
       "    </tr>\n",
       "    <tr>\n",
       "      <th>2</th>\n",
       "      <td>2002</td>\n",
       "      <td>Ohio</td>\n",
       "      <td>3.6</td>\n",
       "    </tr>\n",
       "    <tr>\n",
       "      <th>3</th>\n",
       "      <td>2001</td>\n",
       "      <td>Nevada</td>\n",
       "      <td>2.4</td>\n",
       "    </tr>\n",
       "    <tr>\n",
       "      <th>4</th>\n",
       "      <td>2002</td>\n",
       "      <td>Nevada</td>\n",
       "      <td>2.9</td>\n",
       "    </tr>\n",
       "  </tbody>\n",
       "</table>\n",
       "</div>"
      ],
      "text/plain": [
       "   year   state  pop\n",
       "0  2000    Ohio  1.5\n",
       "1  2001    Ohio  1.7\n",
       "2  2002    Ohio  3.6\n",
       "3  2001  Nevada  2.4\n",
       "4  2002  Nevada  2.9"
      ]
     },
     "execution_count": 39,
     "metadata": {},
     "output_type": "execute_result"
    }
   ],
   "source": [
    "DataFrame(data, columns=['year','state','pop'])"
   ]
  },
  {
   "cell_type": "markdown",
   "metadata": {},
   "source": [
    "Creating a new blank colum will generate NaN values:"
   ]
  },
  {
   "cell_type": "code",
   "execution_count": 175,
   "metadata": {
    "collapsed": false
   },
   "outputs": [
    {
     "data": {
      "text/html": [
       "<div>\n",
       "<table border=\"1\" class=\"dataframe\">\n",
       "  <thead>\n",
       "    <tr style=\"text-align: right;\">\n",
       "      <th></th>\n",
       "      <th>year</th>\n",
       "      <th>state</th>\n",
       "      <th>pop</th>\n",
       "      <th>debt</th>\n",
       "    </tr>\n",
       "  </thead>\n",
       "  <tbody>\n",
       "    <tr>\n",
       "      <th>one</th>\n",
       "      <td>2000</td>\n",
       "      <td>Ohio</td>\n",
       "      <td>1.5</td>\n",
       "      <td>NaN</td>\n",
       "    </tr>\n",
       "    <tr>\n",
       "      <th>two</th>\n",
       "      <td>2001</td>\n",
       "      <td>Ohio</td>\n",
       "      <td>1.7</td>\n",
       "      <td>NaN</td>\n",
       "    </tr>\n",
       "    <tr>\n",
       "      <th>three</th>\n",
       "      <td>2002</td>\n",
       "      <td>Ohio</td>\n",
       "      <td>3.6</td>\n",
       "      <td>NaN</td>\n",
       "    </tr>\n",
       "    <tr>\n",
       "      <th>four</th>\n",
       "      <td>2001</td>\n",
       "      <td>Nevada</td>\n",
       "      <td>2.4</td>\n",
       "      <td>NaN</td>\n",
       "    </tr>\n",
       "    <tr>\n",
       "      <th>five</th>\n",
       "      <td>2002</td>\n",
       "      <td>Nevada</td>\n",
       "      <td>2.9</td>\n",
       "      <td>NaN</td>\n",
       "    </tr>\n",
       "  </tbody>\n",
       "</table>\n",
       "</div>"
      ],
      "text/plain": [
       "       year   state  pop debt\n",
       "one    2000    Ohio  1.5  NaN\n",
       "two    2001    Ohio  1.7  NaN\n",
       "three  2002    Ohio  3.6  NaN\n",
       "four   2001  Nevada  2.4  NaN\n",
       "five   2002  Nevada  2.9  NaN"
      ]
     },
     "metadata": {},
     "output_type": "display_data"
    },
    {
     "name": "stdout",
     "output_type": "stream",
     "text": [
      "Index([u'year', u'state', u'pop', u'debt'], dtype='object')\n"
     ]
    }
   ],
   "source": [
    "frame2 = DataFrame(data, columns=['year','state','pop','debt'],\n",
    "                   index=['one','two','three','four','five'])\n",
    "display(frame2)\n",
    "print frame2.columns"
   ]
  },
  {
   "cell_type": "markdown",
   "metadata": {},
   "source": [
    "You can retrieve columns using names or by attribute"
   ]
  },
  {
   "cell_type": "code",
   "execution_count": 48,
   "metadata": {
    "collapsed": false
   },
   "outputs": [
    {
     "data": {
      "text/plain": [
       "one        Ohio\n",
       "two        Ohio\n",
       "three      Ohio\n",
       "four     Nevada\n",
       "five     Nevada\n",
       "Name: state, dtype: object"
      ]
     },
     "metadata": {},
     "output_type": "display_data"
    },
    {
     "data": {
      "text/plain": [
       "one        Ohio\n",
       "two        Ohio\n",
       "three      Ohio\n",
       "four     Nevada\n",
       "five     Nevada\n",
       "Name: state, dtype: object"
      ]
     },
     "metadata": {},
     "output_type": "display_data"
    }
   ],
   "source": [
    "display(frame2['state'])\n",
    "display(frame2.state)"
   ]
  },
  {
   "cell_type": "markdown",
   "metadata": {},
   "source": [
    "Retrieving rows by index:"
   ]
  },
  {
   "cell_type": "code",
   "execution_count": 51,
   "metadata": {
    "collapsed": false
   },
   "outputs": [
    {
     "data": {
      "text/plain": [
       "year     2002\n",
       "state    Ohio\n",
       "pop       3.6\n",
       "debt      NaN\n",
       "Name: three, dtype: object"
      ]
     },
     "metadata": {},
     "output_type": "display_data"
    },
    {
     "data": {
      "text/html": [
       "<div>\n",
       "<table border=\"1\" class=\"dataframe\">\n",
       "  <thead>\n",
       "    <tr style=\"text-align: right;\">\n",
       "      <th></th>\n",
       "      <th>year</th>\n",
       "      <th>state</th>\n",
       "      <th>pop</th>\n",
       "      <th>debt</th>\n",
       "    </tr>\n",
       "  </thead>\n",
       "  <tbody>\n",
       "    <tr>\n",
       "      <th>three</th>\n",
       "      <td>2002</td>\n",
       "      <td>Ohio</td>\n",
       "      <td>3.6</td>\n",
       "      <td>NaN</td>\n",
       "    </tr>\n",
       "    <tr>\n",
       "      <th>four</th>\n",
       "      <td>2001</td>\n",
       "      <td>Nevada</td>\n",
       "      <td>2.4</td>\n",
       "      <td>NaN</td>\n",
       "    </tr>\n",
       "  </tbody>\n",
       "</table>\n",
       "</div>"
      ],
      "text/plain": [
       "       year   state  pop debt\n",
       "three  2002    Ohio  3.6  NaN\n",
       "four   2001  Nevada  2.4  NaN"
      ]
     },
     "metadata": {},
     "output_type": "display_data"
    }
   ],
   "source": [
    "display(frame2.ix['three'])\n",
    "display(frame2.ix[['three', 'four']])"
   ]
  },
  {
   "cell_type": "code",
   "execution_count": 177,
   "metadata": {
    "collapsed": false
   },
   "outputs": [
    {
     "data": {
      "text/html": [
       "<div>\n",
       "<table border=\"1\" class=\"dataframe\">\n",
       "  <thead>\n",
       "    <tr style=\"text-align: right;\">\n",
       "      <th></th>\n",
       "      <th>year</th>\n",
       "      <th>state</th>\n",
       "      <th>pop</th>\n",
       "      <th>debt</th>\n",
       "    </tr>\n",
       "  </thead>\n",
       "  <tbody>\n",
       "    <tr>\n",
       "      <th>two</th>\n",
       "      <td>2001</td>\n",
       "      <td>Ohio</td>\n",
       "      <td>1.7</td>\n",
       "      <td>NaN</td>\n",
       "    </tr>\n",
       "    <tr>\n",
       "      <th>three</th>\n",
       "      <td>2002</td>\n",
       "      <td>Ohio</td>\n",
       "      <td>3.6</td>\n",
       "      <td>NaN</td>\n",
       "    </tr>\n",
       "    <tr>\n",
       "      <th>four</th>\n",
       "      <td>2001</td>\n",
       "      <td>Nevada</td>\n",
       "      <td>2.4</td>\n",
       "      <td>NaN</td>\n",
       "    </tr>\n",
       "    <tr>\n",
       "      <th>five</th>\n",
       "      <td>2002</td>\n",
       "      <td>Nevada</td>\n",
       "      <td>2.9</td>\n",
       "      <td>NaN</td>\n",
       "    </tr>\n",
       "  </tbody>\n",
       "</table>\n",
       "</div>"
      ],
      "text/plain": [
       "       year   state  pop debt\n",
       "two    2001    Ohio  1.7  NaN\n",
       "three  2002    Ohio  3.6  NaN\n",
       "four   2001  Nevada  2.4  NaN\n",
       "five   2002  Nevada  2.9  NaN"
      ]
     },
     "execution_count": 177,
     "metadata": {},
     "output_type": "execute_result"
    }
   ],
   "source": [
    "frame2.ix[1:]"
   ]
  },
  {
   "cell_type": "code",
   "execution_count": 178,
   "metadata": {
    "collapsed": false
   },
   "outputs": [
    {
     "data": {
      "text/html": [
       "<div>\n",
       "<table border=\"1\" class=\"dataframe\">\n",
       "  <thead>\n",
       "    <tr style=\"text-align: right;\">\n",
       "      <th></th>\n",
       "      <th>year</th>\n",
       "      <th>state</th>\n",
       "      <th>pop</th>\n",
       "      <th>debt</th>\n",
       "    </tr>\n",
       "  </thead>\n",
       "  <tbody>\n",
       "    <tr>\n",
       "      <th>two</th>\n",
       "      <td>2001</td>\n",
       "      <td>Ohio</td>\n",
       "      <td>1.7</td>\n",
       "      <td>NaN</td>\n",
       "    </tr>\n",
       "    <tr>\n",
       "      <th>three</th>\n",
       "      <td>2002</td>\n",
       "      <td>Ohio</td>\n",
       "      <td>3.6</td>\n",
       "      <td>NaN</td>\n",
       "    </tr>\n",
       "    <tr>\n",
       "      <th>four</th>\n",
       "      <td>2001</td>\n",
       "      <td>Nevada</td>\n",
       "      <td>2.4</td>\n",
       "      <td>NaN</td>\n",
       "    </tr>\n",
       "    <tr>\n",
       "      <th>five</th>\n",
       "      <td>2002</td>\n",
       "      <td>Nevada</td>\n",
       "      <td>2.9</td>\n",
       "      <td>NaN</td>\n",
       "    </tr>\n",
       "  </tbody>\n",
       "</table>\n",
       "</div>"
      ],
      "text/plain": [
       "       year   state  pop debt\n",
       "two    2001    Ohio  1.7  NaN\n",
       "three  2002    Ohio  3.6  NaN\n",
       "four   2001  Nevada  2.4  NaN\n",
       "five   2002  Nevada  2.9  NaN"
      ]
     },
     "execution_count": 178,
     "metadata": {},
     "output_type": "execute_result"
    }
   ],
   "source": [
    "frame2.iloc[1:]"
   ]
  },
  {
   "cell_type": "markdown",
   "metadata": {},
   "source": [
    "_Note:_  \n",
    "- `loc` works on labels in the index.  \n",
    "- `iloc` works on the positions in the index (so it only takes integers).  \n",
    "- `ix` usually tries to behave like loc but falls back to behaving like iloc if the label is not in the index."
   ]
  },
  {
   "cell_type": "markdown",
   "metadata": {},
   "source": [
    "Modifying columns"
   ]
  },
  {
   "cell_type": "code",
   "execution_count": 52,
   "metadata": {
    "collapsed": false
   },
   "outputs": [
    {
     "data": {
      "text/html": [
       "<div>\n",
       "<table border=\"1\" class=\"dataframe\">\n",
       "  <thead>\n",
       "    <tr style=\"text-align: right;\">\n",
       "      <th></th>\n",
       "      <th>year</th>\n",
       "      <th>state</th>\n",
       "      <th>pop</th>\n",
       "      <th>debt</th>\n",
       "    </tr>\n",
       "  </thead>\n",
       "  <tbody>\n",
       "    <tr>\n",
       "      <th>one</th>\n",
       "      <td>2000</td>\n",
       "      <td>Ohio</td>\n",
       "      <td>1.5</td>\n",
       "      <td>16.5</td>\n",
       "    </tr>\n",
       "    <tr>\n",
       "      <th>two</th>\n",
       "      <td>2001</td>\n",
       "      <td>Ohio</td>\n",
       "      <td>1.7</td>\n",
       "      <td>16.5</td>\n",
       "    </tr>\n",
       "    <tr>\n",
       "      <th>three</th>\n",
       "      <td>2002</td>\n",
       "      <td>Ohio</td>\n",
       "      <td>3.6</td>\n",
       "      <td>16.5</td>\n",
       "    </tr>\n",
       "    <tr>\n",
       "      <th>four</th>\n",
       "      <td>2001</td>\n",
       "      <td>Nevada</td>\n",
       "      <td>2.4</td>\n",
       "      <td>16.5</td>\n",
       "    </tr>\n",
       "    <tr>\n",
       "      <th>five</th>\n",
       "      <td>2002</td>\n",
       "      <td>Nevada</td>\n",
       "      <td>2.9</td>\n",
       "      <td>16.5</td>\n",
       "    </tr>\n",
       "  </tbody>\n",
       "</table>\n",
       "</div>"
      ],
      "text/plain": [
       "       year   state  pop  debt\n",
       "one    2000    Ohio  1.5  16.5\n",
       "two    2001    Ohio  1.7  16.5\n",
       "three  2002    Ohio  3.6  16.5\n",
       "four   2001  Nevada  2.4  16.5\n",
       "five   2002  Nevada  2.9  16.5"
      ]
     },
     "metadata": {},
     "output_type": "display_data"
    },
    {
     "data": {
      "text/html": [
       "<div>\n",
       "<table border=\"1\" class=\"dataframe\">\n",
       "  <thead>\n",
       "    <tr style=\"text-align: right;\">\n",
       "      <th></th>\n",
       "      <th>year</th>\n",
       "      <th>state</th>\n",
       "      <th>pop</th>\n",
       "      <th>debt</th>\n",
       "    </tr>\n",
       "  </thead>\n",
       "  <tbody>\n",
       "    <tr>\n",
       "      <th>one</th>\n",
       "      <td>2000</td>\n",
       "      <td>Ohio</td>\n",
       "      <td>1.5</td>\n",
       "      <td>0.0</td>\n",
       "    </tr>\n",
       "    <tr>\n",
       "      <th>two</th>\n",
       "      <td>2001</td>\n",
       "      <td>Ohio</td>\n",
       "      <td>1.7</td>\n",
       "      <td>1.0</td>\n",
       "    </tr>\n",
       "    <tr>\n",
       "      <th>three</th>\n",
       "      <td>2002</td>\n",
       "      <td>Ohio</td>\n",
       "      <td>3.6</td>\n",
       "      <td>2.0</td>\n",
       "    </tr>\n",
       "    <tr>\n",
       "      <th>four</th>\n",
       "      <td>2001</td>\n",
       "      <td>Nevada</td>\n",
       "      <td>2.4</td>\n",
       "      <td>3.0</td>\n",
       "    </tr>\n",
       "    <tr>\n",
       "      <th>five</th>\n",
       "      <td>2002</td>\n",
       "      <td>Nevada</td>\n",
       "      <td>2.9</td>\n",
       "      <td>4.0</td>\n",
       "    </tr>\n",
       "  </tbody>\n",
       "</table>\n",
       "</div>"
      ],
      "text/plain": [
       "       year   state  pop  debt\n",
       "one    2000    Ohio  1.5   0.0\n",
       "two    2001    Ohio  1.7   1.0\n",
       "three  2002    Ohio  3.6   2.0\n",
       "four   2001  Nevada  2.4   3.0\n",
       "five   2002  Nevada  2.9   4.0"
      ]
     },
     "metadata": {},
     "output_type": "display_data"
    }
   ],
   "source": [
    "frame2['debt'] = 16.5\n",
    "display(frame2)\n",
    "frame2['debt'] = np.arange(5.)\n",
    "display(frame2)"
   ]
  },
  {
   "cell_type": "markdown",
   "metadata": {},
   "source": [
    "You can assign a Series to a column in a DF, but indexes must match"
   ]
  },
  {
   "cell_type": "code",
   "execution_count": 53,
   "metadata": {
    "collapsed": false
   },
   "outputs": [
    {
     "data": {
      "text/html": [
       "<div>\n",
       "<table border=\"1\" class=\"dataframe\">\n",
       "  <thead>\n",
       "    <tr style=\"text-align: right;\">\n",
       "      <th></th>\n",
       "      <th>year</th>\n",
       "      <th>state</th>\n",
       "      <th>pop</th>\n",
       "      <th>debt</th>\n",
       "    </tr>\n",
       "  </thead>\n",
       "  <tbody>\n",
       "    <tr>\n",
       "      <th>one</th>\n",
       "      <td>2000</td>\n",
       "      <td>Ohio</td>\n",
       "      <td>1.5</td>\n",
       "      <td>NaN</td>\n",
       "    </tr>\n",
       "    <tr>\n",
       "      <th>two</th>\n",
       "      <td>2001</td>\n",
       "      <td>Ohio</td>\n",
       "      <td>1.7</td>\n",
       "      <td>-1.2</td>\n",
       "    </tr>\n",
       "    <tr>\n",
       "      <th>three</th>\n",
       "      <td>2002</td>\n",
       "      <td>Ohio</td>\n",
       "      <td>3.6</td>\n",
       "      <td>NaN</td>\n",
       "    </tr>\n",
       "    <tr>\n",
       "      <th>four</th>\n",
       "      <td>2001</td>\n",
       "      <td>Nevada</td>\n",
       "      <td>2.4</td>\n",
       "      <td>-1.5</td>\n",
       "    </tr>\n",
       "    <tr>\n",
       "      <th>five</th>\n",
       "      <td>2002</td>\n",
       "      <td>Nevada</td>\n",
       "      <td>2.9</td>\n",
       "      <td>-1.7</td>\n",
       "    </tr>\n",
       "  </tbody>\n",
       "</table>\n",
       "</div>"
      ],
      "text/plain": [
       "       year   state  pop  debt\n",
       "one    2000    Ohio  1.5   NaN\n",
       "two    2001    Ohio  1.7  -1.2\n",
       "three  2002    Ohio  3.6   NaN\n",
       "four   2001  Nevada  2.4  -1.5\n",
       "five   2002  Nevada  2.9  -1.7"
      ]
     },
     "execution_count": 53,
     "metadata": {},
     "output_type": "execute_result"
    }
   ],
   "source": [
    "val = Series([-1.2,-1.5,-1.7], index=['two','four','five'])\n",
    "frame2['debt'] = val\n",
    "frame2"
   ]
  },
  {
   "cell_type": "markdown",
   "metadata": {},
   "source": [
    "Assigning a column that doesn't exist will create a new column:"
   ]
  },
  {
   "cell_type": "code",
   "execution_count": 55,
   "metadata": {
    "collapsed": false
   },
   "outputs": [
    {
     "data": {
      "text/html": [
       "<div>\n",
       "<table border=\"1\" class=\"dataframe\">\n",
       "  <thead>\n",
       "    <tr style=\"text-align: right;\">\n",
       "      <th></th>\n",
       "      <th>year</th>\n",
       "      <th>state</th>\n",
       "      <th>pop</th>\n",
       "      <th>debt</th>\n",
       "      <th>eastern</th>\n",
       "    </tr>\n",
       "  </thead>\n",
       "  <tbody>\n",
       "    <tr>\n",
       "      <th>one</th>\n",
       "      <td>2000</td>\n",
       "      <td>Ohio</td>\n",
       "      <td>1.5</td>\n",
       "      <td>NaN</td>\n",
       "      <td>True</td>\n",
       "    </tr>\n",
       "    <tr>\n",
       "      <th>two</th>\n",
       "      <td>2001</td>\n",
       "      <td>Ohio</td>\n",
       "      <td>1.7</td>\n",
       "      <td>-1.2</td>\n",
       "      <td>True</td>\n",
       "    </tr>\n",
       "    <tr>\n",
       "      <th>three</th>\n",
       "      <td>2002</td>\n",
       "      <td>Ohio</td>\n",
       "      <td>3.6</td>\n",
       "      <td>NaN</td>\n",
       "      <td>True</td>\n",
       "    </tr>\n",
       "    <tr>\n",
       "      <th>four</th>\n",
       "      <td>2001</td>\n",
       "      <td>Nevada</td>\n",
       "      <td>2.4</td>\n",
       "      <td>-1.5</td>\n",
       "      <td>False</td>\n",
       "    </tr>\n",
       "    <tr>\n",
       "      <th>five</th>\n",
       "      <td>2002</td>\n",
       "      <td>Nevada</td>\n",
       "      <td>2.9</td>\n",
       "      <td>-1.7</td>\n",
       "      <td>False</td>\n",
       "    </tr>\n",
       "  </tbody>\n",
       "</table>\n",
       "</div>"
      ],
      "text/plain": [
       "       year   state  pop  debt eastern\n",
       "one    2000    Ohio  1.5   NaN    True\n",
       "two    2001    Ohio  1.7  -1.2    True\n",
       "three  2002    Ohio  3.6   NaN    True\n",
       "four   2001  Nevada  2.4  -1.5   False\n",
       "five   2002  Nevada  2.9  -1.7   False"
      ]
     },
     "execution_count": 55,
     "metadata": {},
     "output_type": "execute_result"
    }
   ],
   "source": [
    "frame2['eastern'] = frame2.state == 'Ohio'\n",
    "frame2"
   ]
  },
  {
   "cell_type": "markdown",
   "metadata": {},
   "source": [
    "Deleting a column:"
   ]
  },
  {
   "cell_type": "code",
   "execution_count": 56,
   "metadata": {
    "collapsed": false
   },
   "outputs": [
    {
     "data": {
      "text/plain": [
       "Index([u'year', u'state', u'pop', u'debt'], dtype='object')"
      ]
     },
     "execution_count": 56,
     "metadata": {},
     "output_type": "execute_result"
    }
   ],
   "source": [
    "del frame2['eastern']\n",
    "frame2.columns"
   ]
  },
  {
   "cell_type": "markdown",
   "metadata": {},
   "source": [
    "Nested dicts: inner keys will be interpreted as indices"
   ]
  },
  {
   "cell_type": "code",
   "execution_count": 57,
   "metadata": {
    "collapsed": false
   },
   "outputs": [
    {
     "name": "stdout",
     "output_type": "stream",
     "text": [
      "{'Ohio': {2000: 1.5, 2001: 1.7, 2002: 3.6}, 'Nevada': {2001: 2.4, 2002: 2.9}}\n"
     ]
    },
    {
     "data": {
      "text/html": [
       "<div>\n",
       "<table border=\"1\" class=\"dataframe\">\n",
       "  <thead>\n",
       "    <tr style=\"text-align: right;\">\n",
       "      <th></th>\n",
       "      <th>Nevada</th>\n",
       "      <th>Ohio</th>\n",
       "    </tr>\n",
       "  </thead>\n",
       "  <tbody>\n",
       "    <tr>\n",
       "      <th>2000</th>\n",
       "      <td>NaN</td>\n",
       "      <td>1.5</td>\n",
       "    </tr>\n",
       "    <tr>\n",
       "      <th>2001</th>\n",
       "      <td>2.4</td>\n",
       "      <td>1.7</td>\n",
       "    </tr>\n",
       "    <tr>\n",
       "      <th>2002</th>\n",
       "      <td>2.9</td>\n",
       "      <td>3.6</td>\n",
       "    </tr>\n",
       "  </tbody>\n",
       "</table>\n",
       "</div>"
      ],
      "text/plain": [
       "      Nevada  Ohio\n",
       "2000     NaN   1.5\n",
       "2001     2.4   1.7\n",
       "2002     2.9   3.6"
      ]
     },
     "execution_count": 57,
     "metadata": {},
     "output_type": "execute_result"
    }
   ],
   "source": [
    "pop = {'Nevada':{2001:2.4, 2002:2.9},\n",
    "       'Ohio':{2000:1.5, 2001:1.7, 2002:3.6}}\n",
    "print pop\n",
    "frame3 = DataFrame(pop)\n",
    "frame3"
   ]
  },
  {
   "cell_type": "markdown",
   "metadata": {},
   "source": [
    "Transpose"
   ]
  },
  {
   "cell_type": "code",
   "execution_count": 58,
   "metadata": {
    "collapsed": false
   },
   "outputs": [
    {
     "data": {
      "text/html": [
       "<div>\n",
       "<table border=\"1\" class=\"dataframe\">\n",
       "  <thead>\n",
       "    <tr style=\"text-align: right;\">\n",
       "      <th></th>\n",
       "      <th>2000</th>\n",
       "      <th>2001</th>\n",
       "      <th>2002</th>\n",
       "    </tr>\n",
       "  </thead>\n",
       "  <tbody>\n",
       "    <tr>\n",
       "      <th>Nevada</th>\n",
       "      <td>NaN</td>\n",
       "      <td>2.4</td>\n",
       "      <td>2.9</td>\n",
       "    </tr>\n",
       "    <tr>\n",
       "      <th>Ohio</th>\n",
       "      <td>1.5</td>\n",
       "      <td>1.7</td>\n",
       "      <td>3.6</td>\n",
       "    </tr>\n",
       "  </tbody>\n",
       "</table>\n",
       "</div>"
      ],
      "text/plain": [
       "        2000  2001  2002\n",
       "Nevada   NaN   2.4   2.9\n",
       "Ohio     1.5   1.7   3.6"
      ]
     },
     "execution_count": 58,
     "metadata": {},
     "output_type": "execute_result"
    }
   ],
   "source": [
    "frame3.T"
   ]
  },
  {
   "cell_type": "markdown",
   "metadata": {},
   "source": [
    "You can always explicitly state your index:"
   ]
  },
  {
   "cell_type": "code",
   "execution_count": 61,
   "metadata": {
    "collapsed": false
   },
   "outputs": [
    {
     "data": {
      "text/plain": [
       "{'Nevada': {2001: 2.4, 2002: 2.9}, 'Ohio': {2000: 1.5, 2001: 1.7, 2002: 3.6}}"
      ]
     },
     "metadata": {},
     "output_type": "display_data"
    },
    {
     "data": {
      "text/html": [
       "<div>\n",
       "<table border=\"1\" class=\"dataframe\">\n",
       "  <thead>\n",
       "    <tr style=\"text-align: right;\">\n",
       "      <th></th>\n",
       "      <th>Nevada</th>\n",
       "      <th>Ohio</th>\n",
       "    </tr>\n",
       "  </thead>\n",
       "  <tbody>\n",
       "    <tr>\n",
       "      <th>2001</th>\n",
       "      <td>2.4</td>\n",
       "      <td>1.7</td>\n",
       "    </tr>\n",
       "    <tr>\n",
       "      <th>2002</th>\n",
       "      <td>2.9</td>\n",
       "      <td>3.6</td>\n",
       "    </tr>\n",
       "    <tr>\n",
       "      <th>2003</th>\n",
       "      <td>NaN</td>\n",
       "      <td>NaN</td>\n",
       "    </tr>\n",
       "  </tbody>\n",
       "</table>\n",
       "</div>"
      ],
      "text/plain": [
       "      Nevada  Ohio\n",
       "2001     2.4   1.7\n",
       "2002     2.9   3.6\n",
       "2003     NaN   NaN"
      ]
     },
     "metadata": {},
     "output_type": "display_data"
    }
   ],
   "source": [
    "display(pop)\n",
    "display(DataFrame(pop, index=[2001,2002,2003]))"
   ]
  },
  {
   "cell_type": "markdown",
   "metadata": {},
   "source": [
    "Dict of Series"
   ]
  },
  {
   "cell_type": "code",
   "execution_count": 66,
   "metadata": {
    "collapsed": false
   },
   "outputs": [
    {
     "name": "stdout",
     "output_type": "stream",
     "text": [
      "      Nevada  Ohio\n",
      "2000     NaN   1.5\n",
      "2001     2.4   1.7\n",
      "2002     2.9   3.6\n",
      "\n",
      "\n",
      "{'Ohio': 2000    1.5\n",
      "2001    1.7\n",
      "Name: Ohio, dtype: float64, 'Nevada': 2000    NaN\n",
      "2001    2.4\n",
      "Name: Nevada, dtype: float64}\n"
     ]
    },
    {
     "data": {
      "text/html": [
       "<div>\n",
       "<table border=\"1\" class=\"dataframe\">\n",
       "  <thead>\n",
       "    <tr style=\"text-align: right;\">\n",
       "      <th></th>\n",
       "      <th>Nevada</th>\n",
       "      <th>Ohio</th>\n",
       "    </tr>\n",
       "  </thead>\n",
       "  <tbody>\n",
       "    <tr>\n",
       "      <th>2000</th>\n",
       "      <td>NaN</td>\n",
       "      <td>1.5</td>\n",
       "    </tr>\n",
       "    <tr>\n",
       "      <th>2001</th>\n",
       "      <td>2.4</td>\n",
       "      <td>1.7</td>\n",
       "    </tr>\n",
       "  </tbody>\n",
       "</table>\n",
       "</div>"
      ],
      "text/plain": [
       "      Nevada  Ohio\n",
       "2000     NaN   1.5\n",
       "2001     2.4   1.7"
      ]
     },
     "metadata": {},
     "output_type": "display_data"
    }
   ],
   "source": [
    "print frame3\n",
    "pdata = {'Ohio': frame3['Ohio'][:-1],\n",
    "         'Nevada':frame3['Nevada'][:2]}\n",
    "print '\\n'\n",
    "print pdata\n",
    "display(DataFrame(pdata))"
   ]
  },
  {
   "cell_type": "markdown",
   "metadata": {},
   "source": [
    "You can name the indices AND the columns:"
   ]
  },
  {
   "cell_type": "code",
   "execution_count": 67,
   "metadata": {
    "collapsed": false
   },
   "outputs": [
    {
     "data": {
      "text/html": [
       "<div>\n",
       "<table border=\"1\" class=\"dataframe\">\n",
       "  <thead>\n",
       "    <tr style=\"text-align: right;\">\n",
       "      <th>state</th>\n",
       "      <th>Nevada</th>\n",
       "      <th>Ohio</th>\n",
       "    </tr>\n",
       "    <tr>\n",
       "      <th>year</th>\n",
       "      <th></th>\n",
       "      <th></th>\n",
       "    </tr>\n",
       "  </thead>\n",
       "  <tbody>\n",
       "    <tr>\n",
       "      <th>2000</th>\n",
       "      <td>NaN</td>\n",
       "      <td>1.5</td>\n",
       "    </tr>\n",
       "    <tr>\n",
       "      <th>2001</th>\n",
       "      <td>2.4</td>\n",
       "      <td>1.7</td>\n",
       "    </tr>\n",
       "    <tr>\n",
       "      <th>2002</th>\n",
       "      <td>2.9</td>\n",
       "      <td>3.6</td>\n",
       "    </tr>\n",
       "  </tbody>\n",
       "</table>\n",
       "</div>"
      ],
      "text/plain": [
       "state  Nevada  Ohio\n",
       "year               \n",
       "2000      NaN   1.5\n",
       "2001      2.4   1.7\n",
       "2002      2.9   3.6"
      ]
     },
     "execution_count": 67,
     "metadata": {},
     "output_type": "execute_result"
    }
   ],
   "source": [
    "frame3.index.name = 'year'; frame3.columns.name = 'state'\n",
    "frame3"
   ]
  },
  {
   "cell_type": "markdown",
   "metadata": {},
   "source": [
    "Values are returned as a 2D ndarray"
   ]
  },
  {
   "cell_type": "code",
   "execution_count": 68,
   "metadata": {
    "collapsed": false
   },
   "outputs": [
    {
     "data": {
      "text/plain": [
       "array([[ nan,  1.5],\n",
       "       [ 2.4,  1.7],\n",
       "       [ 2.9,  3.6]])"
      ]
     },
     "execution_count": 68,
     "metadata": {},
     "output_type": "execute_result"
    }
   ],
   "source": [
    "frame3.values"
   ]
  },
  {
   "cell_type": "markdown",
   "metadata": {},
   "source": [
    "When there are multiple dtypes, the value array dtype will fill all of them"
   ]
  },
  {
   "cell_type": "code",
   "execution_count": 69,
   "metadata": {
    "collapsed": false
   },
   "outputs": [
    {
     "data": {
      "text/plain": [
       "array([[2000L, 'Ohio', 1.5, nan],\n",
       "       [2001L, 'Ohio', 1.7, -1.2],\n",
       "       [2002L, 'Ohio', 3.6, nan],\n",
       "       [2001L, 'Nevada', 2.4, -1.5],\n",
       "       [2002L, 'Nevada', 2.9, -1.7]], dtype=object)"
      ]
     },
     "execution_count": 69,
     "metadata": {},
     "output_type": "execute_result"
    }
   ],
   "source": [
    "frame2.values"
   ]
  },
  {
   "cell_type": "markdown",
   "metadata": {},
   "source": [
    "<a id='indexing'></a>\n",
    "### Index Objects"
   ]
  },
  {
   "cell_type": "code",
   "execution_count": 70,
   "metadata": {
    "collapsed": false
   },
   "outputs": [
    {
     "name": "stdout",
     "output_type": "stream",
     "text": [
      "Index([u'a', u'b', u'c'], dtype='object')\n",
      "\n",
      "\n",
      "Index([u'b', u'c'], dtype='object')\n"
     ]
    }
   ],
   "source": [
    "obj = Series(range(3), index=['a', 'b', 'c'])\n",
    "index = obj.index\n",
    "print index\n",
    "print '\\n'\n",
    "print index[1:]"
   ]
  },
  {
   "cell_type": "markdown",
   "metadata": {},
   "source": [
    "Index objects are immutable"
   ]
  },
  {
   "cell_type": "code",
   "execution_count": 71,
   "metadata": {
    "collapsed": false
   },
   "outputs": [
    {
     "ename": "TypeError",
     "evalue": "Index does not support mutable operations",
     "output_type": "error",
     "traceback": [
      "\u001b[0;31m---------------------------------------------------------------------------\u001b[0m",
      "\u001b[0;31mTypeError\u001b[0m                                 Traceback (most recent call last)",
      "\u001b[0;32m<ipython-input-71-676fdeb26a68>\u001b[0m in \u001b[0;36m<module>\u001b[0;34m()\u001b[0m\n\u001b[0;32m----> 1\u001b[0;31m \u001b[0mindex\u001b[0m\u001b[1;33m[\u001b[0m\u001b[1;36m1\u001b[0m\u001b[1;33m]\u001b[0m \u001b[1;33m=\u001b[0m \u001b[1;34m'd'\u001b[0m\u001b[1;33m\u001b[0m\u001b[0m\n\u001b[0m",
      "\u001b[0;32mC:\\Users\\User\\Anaconda2\\lib\\site-packages\\pandas\\indexes\\base.pyc\u001b[0m in \u001b[0;36m__setitem__\u001b[0;34m(self, key, value)\u001b[0m\n\u001b[1;32m   1243\u001b[0m \u001b[1;33m\u001b[0m\u001b[0m\n\u001b[1;32m   1244\u001b[0m     \u001b[1;32mdef\u001b[0m \u001b[0m__setitem__\u001b[0m\u001b[1;33m(\u001b[0m\u001b[0mself\u001b[0m\u001b[1;33m,\u001b[0m \u001b[0mkey\u001b[0m\u001b[1;33m,\u001b[0m \u001b[0mvalue\u001b[0m\u001b[1;33m)\u001b[0m\u001b[1;33m:\u001b[0m\u001b[1;33m\u001b[0m\u001b[0m\n\u001b[0;32m-> 1245\u001b[0;31m         \u001b[1;32mraise\u001b[0m \u001b[0mTypeError\u001b[0m\u001b[1;33m(\u001b[0m\u001b[1;34m\"Index does not support mutable operations\"\u001b[0m\u001b[1;33m)\u001b[0m\u001b[1;33m\u001b[0m\u001b[0m\n\u001b[0m\u001b[1;32m   1246\u001b[0m \u001b[1;33m\u001b[0m\u001b[0m\n\u001b[1;32m   1247\u001b[0m     \u001b[1;32mdef\u001b[0m \u001b[0m__getitem__\u001b[0m\u001b[1;33m(\u001b[0m\u001b[0mself\u001b[0m\u001b[1;33m,\u001b[0m \u001b[0mkey\u001b[0m\u001b[1;33m)\u001b[0m\u001b[1;33m:\u001b[0m\u001b[1;33m\u001b[0m\u001b[0m\n",
      "\u001b[0;31mTypeError\u001b[0m: Index does not support mutable operations"
     ]
    }
   ],
   "source": [
    "index[1] = 'd'"
   ]
  },
  {
   "cell_type": "markdown",
   "metadata": {},
   "source": [
    "This way you can share indices among data structures"
   ]
  },
  {
   "cell_type": "code",
   "execution_count": 72,
   "metadata": {
    "collapsed": false
   },
   "outputs": [
    {
     "name": "stdout",
     "output_type": "stream",
     "text": [
      "Int64Index([0, 1, 2], dtype='int64')\n",
      "True\n"
     ]
    }
   ],
   "source": [
    "index = pd.Index(np.arange(3))\n",
    "print index\n",
    "obj2 = Series([1.5, -2.5, 0], index = index)\n",
    "print obj2.index is index"
   ]
  },
  {
   "cell_type": "markdown",
   "metadata": {},
   "source": [
    "Indices are also fixed-size sets:"
   ]
  },
  {
   "cell_type": "code",
   "execution_count": 73,
   "metadata": {
    "collapsed": false
   },
   "outputs": [
    {
     "name": "stdout",
     "output_type": "stream",
     "text": [
      "state  Nevada  Ohio\n",
      "year               \n",
      "2000      NaN   1.5\n",
      "2001      2.4   1.7\n",
      "2002      2.9   3.6\n",
      "\n",
      "\n",
      "True\n",
      "\n",
      "\n",
      "False\n"
     ]
    }
   ],
   "source": [
    "print frame3\n",
    "print '\\n'\n",
    "print 'Ohio' in frame3.columns\n",
    "print '\\n'\n",
    "print 2003 in frame3.index"
   ]
  },
  {
   "cell_type": "markdown",
   "metadata": {},
   "source": [
    "Reindexing"
   ]
  },
  {
   "cell_type": "code",
   "execution_count": 78,
   "metadata": {
    "collapsed": false
   },
   "outputs": [
    {
     "name": "stdout",
     "output_type": "stream",
     "text": [
      "d    4.5\n",
      "b    7.2\n",
      "a   -5.3\n",
      "c    3.6\n",
      "dtype: float64\n",
      "\n",
      "\n",
      "a   -5.3\n",
      "b    7.2\n",
      "c    3.6\n",
      "d    4.5\n",
      "e    NaN\n",
      "dtype: float64\n",
      "\n",
      "\n",
      "a   -5.3\n",
      "b    7.2\n",
      "c    3.6\n",
      "d    4.5\n",
      "e    0.0\n",
      "dtype: float64\n"
     ]
    }
   ],
   "source": [
    "obj = Series([4.5,7.2,-5.3,3.6],index=['d','b','a','c'])\n",
    "print obj\n",
    "print '\\n'\n",
    "obj2 = obj.reindex(['a','b','c','d','e'])\n",
    "print obj2\n",
    "print '\\n'\n",
    "obj2 = obj.reindex(['a','b','c','d','e'], fill_value=0)\n",
    "print obj2"
   ]
  },
  {
   "cell_type": "markdown",
   "metadata": {},
   "source": [
    "You can also fill in values while reindexing"
   ]
  },
  {
   "cell_type": "code",
   "execution_count": 79,
   "metadata": {
    "collapsed": false
   },
   "outputs": [
    {
     "name": "stdout",
     "output_type": "stream",
     "text": [
      "0      blue\n",
      "2    purple\n",
      "4    yellow\n",
      "dtype: object\n",
      "\n",
      "\n",
      "0      blue\n",
      "1      blue\n",
      "2    purple\n",
      "3    purple\n",
      "4    yellow\n",
      "5    yellow\n",
      "dtype: object\n"
     ]
    }
   ],
   "source": [
    "obj3 = Series(['blue', 'purple', 'yellow'], index=[0,2,4])\n",
    "print obj3\n",
    "print '\\n'\n",
    "print obj3.reindex(range(6), method='ffill')"
   ]
  },
  {
   "cell_type": "markdown",
   "metadata": {},
   "source": [
    "Reindexing works with rows and with columns:"
   ]
  },
  {
   "cell_type": "code",
   "execution_count": 80,
   "metadata": {
    "collapsed": false
   },
   "outputs": [
    {
     "name": "stdout",
     "output_type": "stream",
     "text": [
      "   Ohio  Texas  California\n",
      "a     0      1           2\n",
      "c     3      4           5\n",
      "d     6      7           8\n",
      "\n",
      "\n",
      "   Ohio  Texas  California\n",
      "a   0.0    1.0         2.0\n",
      "b   NaN    NaN         NaN\n",
      "c   3.0    4.0         5.0\n",
      "d   6.0    7.0         8.0\n"
     ]
    }
   ],
   "source": [
    "frame = DataFrame(np.arange(9).reshape((3,3)), index=['a', 'c', 'd'],\n",
    "                  columns=['Ohio', 'Texas', 'California'])\n",
    "print frame\n",
    "print '\\n'\n",
    "frame2 = frame.reindex(['a', 'b', 'c', 'd'])\n",
    "print frame2"
   ]
  },
  {
   "cell_type": "markdown",
   "metadata": {},
   "source": [
    "Reindexing columns"
   ]
  },
  {
   "cell_type": "code",
   "execution_count": 81,
   "metadata": {
    "collapsed": false
   },
   "outputs": [
    {
     "data": {
      "text/html": [
       "<div>\n",
       "<table border=\"1\" class=\"dataframe\">\n",
       "  <thead>\n",
       "    <tr style=\"text-align: right;\">\n",
       "      <th></th>\n",
       "      <th>Texas</th>\n",
       "      <th>Utah</th>\n",
       "      <th>California</th>\n",
       "    </tr>\n",
       "  </thead>\n",
       "  <tbody>\n",
       "    <tr>\n",
       "      <th>a</th>\n",
       "      <td>1</td>\n",
       "      <td>NaN</td>\n",
       "      <td>2</td>\n",
       "    </tr>\n",
       "    <tr>\n",
       "      <th>c</th>\n",
       "      <td>4</td>\n",
       "      <td>NaN</td>\n",
       "      <td>5</td>\n",
       "    </tr>\n",
       "    <tr>\n",
       "      <th>d</th>\n",
       "      <td>7</td>\n",
       "      <td>NaN</td>\n",
       "      <td>8</td>\n",
       "    </tr>\n",
       "  </tbody>\n",
       "</table>\n",
       "</div>"
      ],
      "text/plain": [
       "   Texas  Utah  California\n",
       "a      1   NaN           2\n",
       "c      4   NaN           5\n",
       "d      7   NaN           8"
      ]
     },
     "execution_count": 81,
     "metadata": {},
     "output_type": "execute_result"
    }
   ],
   "source": [
    "states = ['Texas', 'Utah', 'California']\n",
    "frame.reindex(columns=states)"
   ]
  },
  {
   "cell_type": "markdown",
   "metadata": {},
   "source": [
    "Both at the same time"
   ]
  },
  {
   "cell_type": "code",
   "execution_count": 82,
   "metadata": {
    "collapsed": false
   },
   "outputs": [
    {
     "data": {
      "text/html": [
       "<div>\n",
       "<table border=\"1\" class=\"dataframe\">\n",
       "  <thead>\n",
       "    <tr style=\"text-align: right;\">\n",
       "      <th></th>\n",
       "      <th>Texas</th>\n",
       "      <th>Utah</th>\n",
       "      <th>California</th>\n",
       "    </tr>\n",
       "  </thead>\n",
       "  <tbody>\n",
       "    <tr>\n",
       "      <th>a</th>\n",
       "      <td>1</td>\n",
       "      <td>NaN</td>\n",
       "      <td>2</td>\n",
       "    </tr>\n",
       "    <tr>\n",
       "      <th>b</th>\n",
       "      <td>1</td>\n",
       "      <td>NaN</td>\n",
       "      <td>2</td>\n",
       "    </tr>\n",
       "    <tr>\n",
       "      <th>c</th>\n",
       "      <td>4</td>\n",
       "      <td>NaN</td>\n",
       "      <td>5</td>\n",
       "    </tr>\n",
       "    <tr>\n",
       "      <th>d</th>\n",
       "      <td>7</td>\n",
       "      <td>NaN</td>\n",
       "      <td>8</td>\n",
       "    </tr>\n",
       "  </tbody>\n",
       "</table>\n",
       "</div>"
      ],
      "text/plain": [
       "   Texas  Utah  California\n",
       "a      1   NaN           2\n",
       "b      1   NaN           2\n",
       "c      4   NaN           5\n",
       "d      7   NaN           8"
      ]
     },
     "execution_count": 82,
     "metadata": {},
     "output_type": "execute_result"
    }
   ],
   "source": [
    "frame.reindex(index=['a', 'b', 'c', 'd'], method='ffill',columns=states)"
   ]
  },
  {
   "cell_type": "markdown",
   "metadata": {},
   "source": [
    "This can be done much more succinctly"
   ]
  },
  {
   "cell_type": "code",
   "execution_count": 83,
   "metadata": {
    "collapsed": false
   },
   "outputs": [
    {
     "data": {
      "text/html": [
       "<div>\n",
       "<table border=\"1\" class=\"dataframe\">\n",
       "  <thead>\n",
       "    <tr style=\"text-align: right;\">\n",
       "      <th></th>\n",
       "      <th>Texas</th>\n",
       "      <th>Utah</th>\n",
       "      <th>California</th>\n",
       "    </tr>\n",
       "  </thead>\n",
       "  <tbody>\n",
       "    <tr>\n",
       "      <th>a</th>\n",
       "      <td>1.0</td>\n",
       "      <td>NaN</td>\n",
       "      <td>2.0</td>\n",
       "    </tr>\n",
       "    <tr>\n",
       "      <th>b</th>\n",
       "      <td>NaN</td>\n",
       "      <td>NaN</td>\n",
       "      <td>NaN</td>\n",
       "    </tr>\n",
       "    <tr>\n",
       "      <th>c</th>\n",
       "      <td>4.0</td>\n",
       "      <td>NaN</td>\n",
       "      <td>5.0</td>\n",
       "    </tr>\n",
       "    <tr>\n",
       "      <th>d</th>\n",
       "      <td>7.0</td>\n",
       "      <td>NaN</td>\n",
       "      <td>8.0</td>\n",
       "    </tr>\n",
       "  </tbody>\n",
       "</table>\n",
       "</div>"
      ],
      "text/plain": [
       "   Texas  Utah  California\n",
       "a    1.0   NaN         2.0\n",
       "b    NaN   NaN         NaN\n",
       "c    4.0   NaN         5.0\n",
       "d    7.0   NaN         8.0"
      ]
     },
     "execution_count": 83,
     "metadata": {},
     "output_type": "execute_result"
    }
   ],
   "source": [
    "frame.ix[['a','b','c','d'],states]"
   ]
  },
  {
   "cell_type": "markdown",
   "metadata": {},
   "source": [
    "Dropping entries from a DataFrame"
   ]
  },
  {
   "cell_type": "code",
   "execution_count": 84,
   "metadata": {
    "collapsed": false
   },
   "outputs": [
    {
     "name": "stdout",
     "output_type": "stream",
     "text": [
      "a    0.0\n",
      "b    1.0\n",
      "c    2.0\n",
      "d    3.0\n",
      "e    4.0\n",
      "dtype: float64\n",
      "\n",
      "\n",
      "a    0.0\n",
      "b    1.0\n",
      "d    3.0\n",
      "e    4.0\n",
      "dtype: float64\n",
      "\n",
      "\n",
      "a    0.0\n",
      "b    1.0\n",
      "e    4.0\n",
      "dtype: float64\n"
     ]
    }
   ],
   "source": [
    "obj = Series(np.arange(5.), index=['a', 'b', 'c', 'd','e'])\n",
    "print obj\n",
    "new_obj = obj.drop('c')\n",
    "print '\\n'\n",
    "print new_obj\n",
    "print '\\n'\n",
    "print obj.drop(['d','c'])"
   ]
  },
  {
   "cell_type": "markdown",
   "metadata": {},
   "source": [
    "You can drop columns or index values in the same way"
   ]
  },
  {
   "cell_type": "code",
   "execution_count": 88,
   "metadata": {
    "collapsed": false
   },
   "outputs": [
    {
     "name": "stdout",
     "output_type": "stream",
     "text": [
      "          one  two  three  four\n",
      "Ohio        0    1      2     3\n",
      "Colorado    4    5      6     7\n",
      "Utah        8    9     10    11\n",
      "New York   12   13     14    15\n",
      "\n",
      "\n",
      "          one  two  three  four\n",
      "Utah        8    9     10    11\n",
      "New York   12   13     14    15\n",
      "\n",
      "\n",
      "          one  three  four\n",
      "Ohio        0      2     3\n",
      "Colorado    4      6     7\n",
      "Utah        8     10    11\n",
      "New York   12     14    15\n",
      "\n",
      "\n",
      "          one  three\n",
      "Ohio        0      2\n",
      "Colorado    4      6\n",
      "Utah        8     10\n",
      "New York   12     14\n"
     ]
    }
   ],
   "source": [
    "data = DataFrame(np.arange(16).reshape(4,4),\n",
    "                 index=['Ohio','Colorado','Utah','New York'],\n",
    "                    columns=['one','two','three','four'])\n",
    "print data\n",
    "print '\\n'\n",
    "print data.drop(['Colorado','Ohio'])\n",
    "print '\\n'\n",
    "print data.drop('two',axis=1)\n",
    "print '\\n'\n",
    "print data.drop(['two','four'],axis=1)"
   ]
  },
  {
   "cell_type": "markdown",
   "metadata": {},
   "source": [
    "<a id='selection_filtering'></a>\n",
    "### Selection and filtering"
   ]
  },
  {
   "cell_type": "markdown",
   "metadata": {},
   "source": [
    "Series indexing"
   ]
  },
  {
   "cell_type": "code",
   "execution_count": 90,
   "metadata": {
    "collapsed": false
   },
   "outputs": [
    {
     "name": "stdout",
     "output_type": "stream",
     "text": [
      "a    0.0\n",
      "b    1.0\n",
      "c    2.0\n",
      "d    3.0\n",
      "dtype: float64\n",
      "\n",
      "\n",
      "1.0\n",
      "\n",
      "\n",
      "1.0\n",
      "\n",
      "\n",
      "c    2.0\n",
      "d    3.0\n",
      "dtype: float64\n",
      "\n",
      "\n",
      "c    2.0\n",
      "d    3.0\n",
      "dtype: float64\n"
     ]
    }
   ],
   "source": [
    "obj = Series(np.arange(4.), index=['a','b','c','d'])\n",
    "print obj\n",
    "print '\\n'\n",
    "print obj['b']\n",
    "print '\\n'\n",
    "print obj[1]\n",
    "print '\\n'\n",
    "print obj[2:4]\n",
    "print '\\n'\n",
    "print obj[['c','d']]"
   ]
  },
  {
   "cell_type": "markdown",
   "metadata": {},
   "source": [
    "Filtering by values"
   ]
  },
  {
   "cell_type": "code",
   "execution_count": 91,
   "metadata": {
    "collapsed": false
   },
   "outputs": [
    {
     "name": "stdout",
     "output_type": "stream",
     "text": [
      "b    1.0\n",
      "d    3.0\n",
      "dtype: float64\n",
      "\n",
      "\n",
      "a    0.0\n",
      "b    1.0\n",
      "dtype: float64\n"
     ]
    }
   ],
   "source": [
    "print obj[[1,3]]\n",
    "print '\\n'\n",
    "print obj[obj<2]"
   ]
  },
  {
   "cell_type": "markdown",
   "metadata": {},
   "source": [
    "Slicing is endpoint inclusive"
   ]
  },
  {
   "cell_type": "code",
   "execution_count": 92,
   "metadata": {
    "collapsed": false
   },
   "outputs": [
    {
     "data": {
      "text/plain": [
       "b    1.0\n",
       "c    2.0\n",
       "dtype: float64"
      ]
     },
     "execution_count": 92,
     "metadata": {},
     "output_type": "execute_result"
    }
   ],
   "source": [
    "obj['b':'c']"
   ]
  },
  {
   "cell_type": "markdown",
   "metadata": {},
   "source": [
    "Setting"
   ]
  },
  {
   "cell_type": "code",
   "execution_count": 93,
   "metadata": {
    "collapsed": false
   },
   "outputs": [
    {
     "data": {
      "text/plain": [
       "a    0.0\n",
       "b    5.0\n",
       "c    5.0\n",
       "d    3.0\n",
       "dtype: float64"
      ]
     },
     "execution_count": 93,
     "metadata": {},
     "output_type": "execute_result"
    }
   ],
   "source": [
    "obj['b':'c'] = 5\n",
    "obj"
   ]
  },
  {
   "cell_type": "markdown",
   "metadata": {},
   "source": [
    "You can retrieve columns as a single value or a sequence"
   ]
  },
  {
   "cell_type": "code",
   "execution_count": 97,
   "metadata": {
    "collapsed": false
   },
   "outputs": [
    {
     "name": "stdout",
     "output_type": "stream",
     "text": [
      "          one  two  three  four\n",
      "Ohio        0    1      2     3\n",
      "Colorado    4    5      6     7\n",
      "Utah        8    9     10    11\n",
      "New York   12   13     14    15\n",
      "\n",
      "\n",
      "Ohio         1\n",
      "Colorado     5\n",
      "Utah         9\n",
      "New York    13\n",
      "Name: two, dtype: int32\n",
      "\n",
      "\n",
      "          three  one\n",
      "Ohio          2    0\n",
      "Colorado      6    4\n",
      "Utah         10    8\n",
      "New York     14   12\n",
      "\n",
      "\n",
      "one      0\n",
      "two      1\n",
      "three    2\n",
      "four     3\n",
      "Name: Ohio, dtype: int32\n",
      "\n",
      "\n",
      "1\n",
      "\n",
      "\n",
      "two    1\n",
      "Name: Ohio, dtype: int32\n"
     ]
    }
   ],
   "source": [
    "data = DataFrame(np.arange(16).reshape(4,4),\n",
    "                 index=['Ohio','Colorado','Utah','New York'],\n",
    "                    columns=['one','two','three','four'])\n",
    "print data\n",
    "print '\\n'\n",
    "print data['two']\n",
    "print '\\n'\n",
    "print data[['three', 'one']]\n",
    "print '\\n'\n",
    "print data.ix['Ohio']\n",
    "print '\\n'\n",
    "print data.ix['Ohio', 1]\n",
    "print '\\n'\n",
    "print data.ix['Ohio', 1:2]"
   ]
  },
  {
   "cell_type": "markdown",
   "metadata": {},
   "source": [
    "Selecting rows by slicing"
   ]
  },
  {
   "cell_type": "code",
   "execution_count": 100,
   "metadata": {
    "collapsed": false,
    "scrolled": true
   },
   "outputs": [
    {
     "name": "stdout",
     "output_type": "stream",
     "text": [
      "          one  two  three  four\n",
      "Ohio        0    1      2     3\n",
      "Colorado    4    5      6     7\n",
      "Utah        8    9     10    11\n",
      "New York   12   13     14    15\n",
      "\n",
      "\n",
      "          one  two  three  four\n",
      "Ohio        0    1      2     3\n",
      "Colorado    4    5      6     7\n",
      "\n",
      "\n",
      "          one  two  three  four\n",
      "Colorado    4    5      6     7\n",
      "Utah        8    9     10    11\n",
      "New York   12   13     14    15\n",
      "\n",
      "\n",
      "Ohio        False\n",
      "Colorado     True\n",
      "Utah         True\n",
      "New York     True\n",
      "Name: three, dtype: bool\n",
      "\n",
      "\n",
      "            one    two  three   four\n",
      "Ohio       True   True   True   True\n",
      "Colorado   True  False  False  False\n",
      "Utah      False  False  False  False\n",
      "New York  False  False  False  False\n",
      "\n",
      "\n",
      "          one  two  three  four\n",
      "Ohio      0.0  1.0    2.0   3.0\n",
      "Colorado  4.0  NaN    NaN   NaN\n",
      "Utah      NaN  NaN    NaN   NaN\n",
      "New York  NaN  NaN    NaN   NaN\n",
      "\n",
      "\n",
      "            one    two  three   four\n",
      "Ohio       True  False  False  False\n",
      "Colorado  False  False  False  False\n",
      "Utah      False  False  False  False\n",
      "New York  False  False  False  False\n",
      "\n",
      "\n",
      "          one  two  three  four\n",
      "Ohio        0    1      2     3\n",
      "Colorado    4    5      6     7\n",
      "Utah        8    9     10    11\n",
      "New York   12   13     14    15\n"
     ]
    }
   ],
   "source": [
    "print data\n",
    "print '\\n'\n",
    "print data[:2]\n",
    "print '\\n'\n",
    "print data[data['three']>5]\n",
    "print '\\n'\n",
    "print data['three']>5\n",
    "print '\\n'\n",
    "print data < 5\n",
    "print '\\n'\n",
    "print data[data<5]\n",
    "print '\\n'\n",
    "print data[data<5] == 0\n",
    "print '\\n'\n",
    "print data"
   ]
  },
  {
   "cell_type": "markdown",
   "metadata": {},
   "source": [
    "The ix method allows you to select rows and columns using names OR indices:"
   ]
  },
  {
   "cell_type": "code",
   "execution_count": 104,
   "metadata": {
    "collapsed": false
   },
   "outputs": [
    {
     "name": "stdout",
     "output_type": "stream",
     "text": [
      "          one  two  three  four\n",
      "Ohio        0    1      2     3\n",
      "Colorado    4    5      6     7\n",
      "Utah        8    9     10    11\n",
      "New York   12   13     14    15\n",
      "\n",
      "\n",
      "          four  one  two\n",
      "Colorado     7    4    5\n",
      "Utah        11    8    9\n",
      "\n",
      "\n",
      "one       8\n",
      "two       9\n",
      "three    10\n",
      "four     11\n",
      "Name: Utah, dtype: int32\n",
      "\n",
      "\n",
      "Ohio        1\n",
      "Colorado    5\n",
      "Utah        9\n",
      "Name: two, dtype: int32\n",
      "\n",
      "\n",
      "          one  two  three\n",
      "Colorado    4    5      6\n",
      "Utah        8    9     10\n",
      "New York   12   13     14\n"
     ]
    }
   ],
   "source": [
    "print data\n",
    "print '\\n'\n",
    "print data.ix[['Colorado', 'Utah'],[3,0,1]]\n",
    "print '\\n'\n",
    "print data.ix[2]\n",
    "print '\\n'\n",
    "print data.ix[:'Utah','two']\n",
    "print '\\n'\n",
    "print data.ix[data.three>5,:3]"
   ]
  },
  {
   "cell_type": "markdown",
   "metadata": {},
   "source": [
    "_Note:_ row indices are last-inclusive, while columns are last-exclusive"
   ]
  },
  {
   "cell_type": "markdown",
   "metadata": {},
   "source": [
    "<a id='arithmetic'></a>\n",
    "### Arithmetic and Data Alignment"
   ]
  },
  {
   "cell_type": "markdown",
   "metadata": {},
   "source": [
    "Non-matching indices will be unioned when adding two objects (and return NaNs):"
   ]
  },
  {
   "cell_type": "code",
   "execution_count": 105,
   "metadata": {
    "collapsed": false
   },
   "outputs": [
    {
     "name": "stdout",
     "output_type": "stream",
     "text": [
      "a    7.3\n",
      "c   -2.5\n",
      "d    3.4\n",
      "e    1.5\n",
      "dtype: float64\n",
      "\n",
      "\n",
      "a   -2.1\n",
      "c    3.6\n",
      "e   -1.5\n",
      "f    4.0\n",
      "g    3.1\n",
      "dtype: float64\n",
      "\n",
      "\n",
      "a    5.2\n",
      "c    1.1\n",
      "d    NaN\n",
      "e    0.0\n",
      "f    NaN\n",
      "g    NaN\n",
      "dtype: float64\n"
     ]
    }
   ],
   "source": [
    "s1 = Series([7.3, -2.5, 3.4, 1.5], index=['a','c','d','e'])\n",
    "s2 = Series([-2.1, 3.6, -1.5, 4, 3.1], index=['a','c','e','f','g'])\n",
    "print s1\n",
    "print '\\n'\n",
    "print s2\n",
    "print '\\n'\n",
    "print s1+s2"
   ]
  },
  {
   "cell_type": "markdown",
   "metadata": {},
   "source": [
    "Lets see the same with a data frame"
   ]
  },
  {
   "cell_type": "code",
   "execution_count": 106,
   "metadata": {
    "collapsed": false
   },
   "outputs": [
    {
     "name": "stdout",
     "output_type": "stream",
     "text": [
      "            b    c    d\n",
      "Ohio      0.0  1.0  2.0\n",
      "Texas     3.0  4.0  5.0\n",
      "Colorado  6.0  7.0  8.0\n",
      "\n",
      "\n",
      "          b     d     e\n",
      "Utah    0.0   1.0   2.0\n",
      "Ohio    3.0   4.0   5.0\n",
      "Texas   6.0   7.0   8.0\n",
      "Oregon  9.0  10.0  11.0\n",
      "\n",
      "\n",
      "            b   c     d   e\n",
      "Colorado  NaN NaN   NaN NaN\n",
      "Ohio      3.0 NaN   6.0 NaN\n",
      "Oregon    NaN NaN   NaN NaN\n",
      "Texas     9.0 NaN  12.0 NaN\n",
      "Utah      NaN NaN   NaN NaN\n"
     ]
    }
   ],
   "source": [
    "df1 = DataFrame(np.arange(9.).reshape((3,3)), columns=list('bcd'),\n",
    "                index=['Ohio', 'Texas', 'Colorado'])\n",
    "df2 = DataFrame(np.arange(12.).reshape((4,3)), columns=list('bde'),\n",
    "                index=['Utah', 'Ohio', 'Texas', 'Oregon'])\n",
    "print df1\n",
    "print '\\n'\n",
    "print df2\n",
    "print '\\n'\n",
    "print df1+df2"
   ]
  },
  {
   "cell_type": "markdown",
   "metadata": {},
   "source": [
    "To get rid of the NaN values, you can use the fill function"
   ]
  },
  {
   "cell_type": "code",
   "execution_count": 107,
   "metadata": {
    "collapsed": false
   },
   "outputs": [
    {
     "data": {
      "text/html": [
       "<div>\n",
       "<table border=\"1\" class=\"dataframe\">\n",
       "  <thead>\n",
       "    <tr style=\"text-align: right;\">\n",
       "      <th></th>\n",
       "      <th>b</th>\n",
       "      <th>c</th>\n",
       "      <th>d</th>\n",
       "      <th>e</th>\n",
       "    </tr>\n",
       "  </thead>\n",
       "  <tbody>\n",
       "    <tr>\n",
       "      <th>Colorado</th>\n",
       "      <td>6.0</td>\n",
       "      <td>7.0</td>\n",
       "      <td>8.0</td>\n",
       "      <td>NaN</td>\n",
       "    </tr>\n",
       "    <tr>\n",
       "      <th>Ohio</th>\n",
       "      <td>3.0</td>\n",
       "      <td>1.0</td>\n",
       "      <td>6.0</td>\n",
       "      <td>5.0</td>\n",
       "    </tr>\n",
       "    <tr>\n",
       "      <th>Oregon</th>\n",
       "      <td>9.0</td>\n",
       "      <td>NaN</td>\n",
       "      <td>10.0</td>\n",
       "      <td>11.0</td>\n",
       "    </tr>\n",
       "    <tr>\n",
       "      <th>Texas</th>\n",
       "      <td>9.0</td>\n",
       "      <td>4.0</td>\n",
       "      <td>12.0</td>\n",
       "      <td>8.0</td>\n",
       "    </tr>\n",
       "    <tr>\n",
       "      <th>Utah</th>\n",
       "      <td>0.0</td>\n",
       "      <td>NaN</td>\n",
       "      <td>1.0</td>\n",
       "      <td>2.0</td>\n",
       "    </tr>\n",
       "  </tbody>\n",
       "</table>\n",
       "</div>"
      ],
      "text/plain": [
       "            b    c     d     e\n",
       "Colorado  6.0  7.0   8.0   NaN\n",
       "Ohio      3.0  1.0   6.0   5.0\n",
       "Oregon    9.0  NaN  10.0  11.0\n",
       "Texas     9.0  4.0  12.0   8.0\n",
       "Utah      0.0  NaN   1.0   2.0"
      ]
     },
     "execution_count": 107,
     "metadata": {},
     "output_type": "execute_result"
    }
   ],
   "source": [
    "df1.add(df2, fill_value=0)"
   ]
  },
  {
   "cell_type": "markdown",
   "metadata": {},
   "source": [
    "Operations between a dataframe and a series"
   ]
  },
  {
   "cell_type": "code",
   "execution_count": 109,
   "metadata": {
    "collapsed": false
   },
   "outputs": [
    {
     "name": "stdout",
     "output_type": "stream",
     "text": [
      "[[  0.   1.   2.   3.]\n",
      " [  4.   5.   6.   7.]\n",
      " [  8.   9.  10.  11.]]\n",
      "\n",
      "\n",
      "[ 0.  1.  2.  3.]\n",
      "\n",
      "\n",
      "[[ 0.  0.  0.  0.]\n",
      " [ 4.  4.  4.  4.]\n",
      " [ 8.  8.  8.  8.]]\n"
     ]
    }
   ],
   "source": [
    "arr= np.arange(12.).reshape((3,4))\n",
    "print arr\n",
    "print '\\n'\n",
    "print arr[0]\n",
    "print '\\n'\n",
    "print arr - arr[0]"
   ]
  },
  {
   "cell_type": "markdown",
   "metadata": {},
   "source": [
    "Data frames and series will use the index in the series"
   ]
  },
  {
   "cell_type": "code",
   "execution_count": 110,
   "metadata": {
    "collapsed": false
   },
   "outputs": [
    {
     "name": "stdout",
     "output_type": "stream",
     "text": [
      "          b     d     e\n",
      "Utah    0.0   1.0   2.0\n",
      "Ohio    3.0   4.0   5.0\n",
      "Texas   6.0   7.0   8.0\n",
      "Oregon  9.0  10.0  11.0\n",
      "\n",
      "\n",
      "b    0.0\n",
      "d    1.0\n",
      "e    2.0\n",
      "Name: Utah, dtype: float64\n",
      "\n",
      "\n",
      "          b    d    e\n",
      "Utah    0.0  0.0  0.0\n",
      "Ohio    3.0  3.0  3.0\n",
      "Texas   6.0  6.0  6.0\n",
      "Oregon  9.0  9.0  9.0\n"
     ]
    }
   ],
   "source": [
    "frame = DataFrame(np.arange(12.).reshape((4,3)), columns=list('bde'), \n",
    "                  index=['Utah','Ohio','Texas','Oregon'])\n",
    "series = frame.ix[0]\n",
    "print frame\n",
    "print '\\n'\n",
    "print series\n",
    "print '\\n'\n",
    "print frame-series"
   ]
  },
  {
   "cell_type": "markdown",
   "metadata": {},
   "source": [
    "If the index value is not found, the objects will be reindexed"
   ]
  },
  {
   "cell_type": "code",
   "execution_count": 111,
   "metadata": {
    "collapsed": false
   },
   "outputs": [
    {
     "name": "stdout",
     "output_type": "stream",
     "text": [
      "b    0\n",
      "e    1\n",
      "f    2\n",
      "dtype: int64\n",
      "\n",
      "\n",
      "          b   d     e   f\n",
      "Utah    0.0 NaN   3.0 NaN\n",
      "Ohio    3.0 NaN   6.0 NaN\n",
      "Texas   6.0 NaN   9.0 NaN\n",
      "Oregon  9.0 NaN  12.0 NaN\n"
     ]
    }
   ],
   "source": [
    "series2 = Series(range(3), index=['b','e','f'])\n",
    "print series2\n",
    "print '\\n'\n",
    "print frame + series2"
   ]
  },
  {
   "cell_type": "markdown",
   "metadata": {},
   "source": [
    "Broadcasting over columns, matching on the rows:"
   ]
  },
  {
   "cell_type": "code",
   "execution_count": 112,
   "metadata": {
    "collapsed": false
   },
   "outputs": [
    {
     "name": "stdout",
     "output_type": "stream",
     "text": [
      "Utah       1.0\n",
      "Ohio       4.0\n",
      "Texas      7.0\n",
      "Oregon    10.0\n",
      "Name: d, dtype: float64\n",
      "\n",
      "\n",
      "          b     d     e\n",
      "Utah    0.0   1.0   2.0\n",
      "Ohio    3.0   4.0   5.0\n",
      "Texas   6.0   7.0   8.0\n",
      "Oregon  9.0  10.0  11.0\n",
      "\n",
      "\n",
      "          b    d    e\n",
      "Utah   -1.0  0.0  1.0\n",
      "Ohio   -1.0  0.0  1.0\n",
      "Texas  -1.0  0.0  1.0\n",
      "Oregon -1.0  0.0  1.0\n"
     ]
    }
   ],
   "source": [
    "series3 = frame['d']\n",
    "print series3\n",
    "print '\\n'\n",
    "print frame\n",
    "print '\\n'\n",
    "print frame.sub(series3, axis=0)"
   ]
  },
  {
   "cell_type": "markdown",
   "metadata": {},
   "source": [
    "Function application and mapping"
   ]
  },
  {
   "cell_type": "code",
   "execution_count": 113,
   "metadata": {
    "collapsed": false
   },
   "outputs": [
    {
     "name": "stdout",
     "output_type": "stream",
     "text": [
      "               b         d         e\n",
      "Utah   -1.819489 -0.322406  0.004895\n",
      "Ohio    1.958106  1.393432  0.870651\n",
      "Texas  -0.272886 -0.590315  0.242086\n",
      "Oregon -1.917845 -0.585628  1.634763\n",
      "\n",
      "\n",
      "               b         d         e\n",
      "Utah    1.819489  0.322406  0.004895\n",
      "Ohio    1.958106  1.393432  0.870651\n",
      "Texas   0.272886  0.590315  0.242086\n",
      "Oregon  1.917845  0.585628  1.634763\n"
     ]
    }
   ],
   "source": [
    "frame = DataFrame(np.random.randn(4,3), columns=list('bde'),\n",
    "                  index=['Utah', 'Ohio', 'Texas', 'Oregon'])\n",
    "print frame\n",
    "print '\\n'\n",
    "print np.abs(frame)"
   ]
  },
  {
   "cell_type": "markdown",
   "metadata": {},
   "source": [
    "The 'apply' method"
   ]
  },
  {
   "cell_type": "code",
   "execution_count": 114,
   "metadata": {
    "collapsed": false
   },
   "outputs": [
    {
     "name": "stdout",
     "output_type": "stream",
     "text": [
      "b    3.875951\n",
      "d    1.983746\n",
      "e    1.629868\n",
      "dtype: float64\n",
      "\n",
      "\n",
      "Utah      1.824384\n",
      "Ohio      1.087455\n",
      "Texas     0.832401\n",
      "Oregon    3.552608\n",
      "dtype: float64\n"
     ]
    }
   ],
   "source": [
    "f = lambda x: x.max() - x.min()\n",
    "print frame.apply(f)\n",
    "print '\\n'\n",
    "print frame.apply(f,axis=1)"
   ]
  },
  {
   "cell_type": "markdown",
   "metadata": {},
   "source": [
    "Applymap allows you to apply the function to every cell in the data frame"
   ]
  },
  {
   "cell_type": "code",
   "execution_count": 118,
   "metadata": {
    "collapsed": false
   },
   "outputs": [
    {
     "data": {
      "text/html": [
       "<div>\n",
       "<table border=\"1\" class=\"dataframe\">\n",
       "  <thead>\n",
       "    <tr style=\"text-align: right;\">\n",
       "      <th></th>\n",
       "      <th>b</th>\n",
       "      <th>d</th>\n",
       "      <th>e</th>\n",
       "    </tr>\n",
       "  </thead>\n",
       "  <tbody>\n",
       "    <tr>\n",
       "      <th>Utah</th>\n",
       "      <td>-1.82</td>\n",
       "      <td>-0.32</td>\n",
       "      <td>0.00</td>\n",
       "    </tr>\n",
       "    <tr>\n",
       "      <th>Ohio</th>\n",
       "      <td>1.96</td>\n",
       "      <td>1.39</td>\n",
       "      <td>0.87</td>\n",
       "    </tr>\n",
       "    <tr>\n",
       "      <th>Texas</th>\n",
       "      <td>-0.27</td>\n",
       "      <td>-0.59</td>\n",
       "      <td>0.24</td>\n",
       "    </tr>\n",
       "    <tr>\n",
       "      <th>Oregon</th>\n",
       "      <td>-1.92</td>\n",
       "      <td>-0.59</td>\n",
       "      <td>1.63</td>\n",
       "    </tr>\n",
       "  </tbody>\n",
       "</table>\n",
       "</div>"
      ],
      "text/plain": [
       "            b      d     e\n",
       "Utah    -1.82  -0.32  0.00\n",
       "Ohio     1.96   1.39  0.87\n",
       "Texas   -0.27  -0.59  0.24\n",
       "Oregon  -1.92  -0.59  1.63"
      ]
     },
     "execution_count": 118,
     "metadata": {},
     "output_type": "execute_result"
    }
   ],
   "source": [
    "format = lambda x: '%.2f' % x\n",
    "frame.applymap(format) # apply only appears to work for Series"
   ]
  },
  {
   "cell_type": "markdown",
   "metadata": {},
   "source": [
    "<a id='sorting_ranking'></a>\n",
    "### Sorting and ranking"
   ]
  },
  {
   "cell_type": "code",
   "execution_count": 125,
   "metadata": {
    "collapsed": false
   },
   "outputs": [
    {
     "name": "stdout",
     "output_type": "stream",
     "text": [
      "d    0\n",
      "a    1\n",
      "b    2\n",
      "c    3\n",
      "dtype: int64\n",
      "\n",
      "\n",
      "a    1\n",
      "b    2\n",
      "c    3\n",
      "d    0\n",
      "dtype: int64\n"
     ]
    }
   ],
   "source": [
    "obj = Series(range(4), index=['d','a','b','c'])\n",
    "print obj\n",
    "print '\\n'\n",
    "print obj.sort_index()"
   ]
  },
  {
   "cell_type": "markdown",
   "metadata": {},
   "source": [
    "Sort data frame with the index of either axis"
   ]
  },
  {
   "cell_type": "code",
   "execution_count": 126,
   "metadata": {
    "collapsed": false
   },
   "outputs": [
    {
     "name": "stdout",
     "output_type": "stream",
     "text": [
      "       d  a  b  c\n",
      "three  0  1  2  3\n",
      "one    4  5  6  7\n",
      "\n",
      "\n",
      "       d  a  b  c\n",
      "one    4  5  6  7\n",
      "three  0  1  2  3\n",
      "\n",
      "\n",
      "       a  b  c  d\n",
      "three  1  2  3  0\n",
      "one    5  6  7  4\n"
     ]
    }
   ],
   "source": [
    "frame = DataFrame(np.arange(8).reshape((2,4)), index=['three','one'],\n",
    "                  columns=['d','a','b','c'])\n",
    "print frame\n",
    "print '\\n'\n",
    "print frame.sort_index()\n",
    "print '\\n'\n",
    "print frame.sort_index(axis=1)"
   ]
  },
  {
   "cell_type": "markdown",
   "metadata": {},
   "source": [
    "Ascending is default, but we can change that"
   ]
  },
  {
   "cell_type": "code",
   "execution_count": 127,
   "metadata": {
    "collapsed": false
   },
   "outputs": [
    {
     "data": {
      "text/html": [
       "<div>\n",
       "<table border=\"1\" class=\"dataframe\">\n",
       "  <thead>\n",
       "    <tr style=\"text-align: right;\">\n",
       "      <th></th>\n",
       "      <th>d</th>\n",
       "      <th>c</th>\n",
       "      <th>b</th>\n",
       "      <th>a</th>\n",
       "    </tr>\n",
       "  </thead>\n",
       "  <tbody>\n",
       "    <tr>\n",
       "      <th>three</th>\n",
       "      <td>0</td>\n",
       "      <td>3</td>\n",
       "      <td>2</td>\n",
       "      <td>1</td>\n",
       "    </tr>\n",
       "    <tr>\n",
       "      <th>one</th>\n",
       "      <td>4</td>\n",
       "      <td>7</td>\n",
       "      <td>6</td>\n",
       "      <td>5</td>\n",
       "    </tr>\n",
       "  </tbody>\n",
       "</table>\n",
       "</div>"
      ],
      "text/plain": [
       "       d  c  b  a\n",
       "three  0  3  2  1\n",
       "one    4  7  6  5"
      ]
     },
     "execution_count": 127,
     "metadata": {},
     "output_type": "execute_result"
    }
   ],
   "source": [
    "frame.sort_index(axis=1, ascending=False)"
   ]
  },
  {
   "cell_type": "markdown",
   "metadata": {},
   "source": [
    "Sorting a series by its values requires the 'sort_values' method:"
   ]
  },
  {
   "cell_type": "code",
   "execution_count": 129,
   "metadata": {
    "collapsed": false
   },
   "outputs": [
    {
     "name": "stdout",
     "output_type": "stream",
     "text": [
      "0    4\n",
      "1    7\n",
      "2   -3\n",
      "3    2\n",
      "dtype: int64\n",
      "\n",
      "\n",
      "2   -3\n",
      "3    2\n",
      "0    4\n",
      "1    7\n",
      "dtype: int64\n"
     ]
    }
   ],
   "source": [
    "obj = Series([4,7,-3,2])\n",
    "print obj\n",
    "print '\\n'\n",
    "print obj.sort_values()"
   ]
  },
  {
   "cell_type": "markdown",
   "metadata": {},
   "source": [
    "Missing values are added to the end of the series"
   ]
  },
  {
   "cell_type": "code",
   "execution_count": 130,
   "metadata": {
    "collapsed": false
   },
   "outputs": [
    {
     "name": "stdout",
     "output_type": "stream",
     "text": [
      "0    4.0\n",
      "1    NaN\n",
      "2    7.0\n",
      "3    NaN\n",
      "4   -3.0\n",
      "5    2.0\n",
      "dtype: float64\n",
      "\n",
      "\n",
      "4   -3.0\n",
      "5    2.0\n",
      "0    4.0\n",
      "2    7.0\n",
      "1    NaN\n",
      "3    NaN\n",
      "dtype: float64\n"
     ]
    }
   ],
   "source": [
    "obj = Series([4,np.nan, 7, np.nan, -3, 2])\n",
    "print obj\n",
    "print '\\n'\n",
    "print obj.sort_values()"
   ]
  },
  {
   "cell_type": "markdown",
   "metadata": {},
   "source": [
    "Sorting a data frame by one or more columns:"
   ]
  },
  {
   "cell_type": "code",
   "execution_count": 132,
   "metadata": {
    "collapsed": false
   },
   "outputs": [
    {
     "name": "stdout",
     "output_type": "stream",
     "text": [
      "   a  b\n",
      "0  0  4\n",
      "1  1  7\n",
      "2  0 -3\n",
      "3  1  2\n",
      "\n",
      "\n",
      "   a  b\n",
      "2  0 -3\n",
      "3  1  2\n",
      "0  0  4\n",
      "1  1  7\n",
      "\n",
      "\n",
      "   a  b\n",
      "2  0 -3\n",
      "0  0  4\n",
      "3  1  2\n",
      "1  1  7\n"
     ]
    }
   ],
   "source": [
    "frame = DataFrame({'b':[4,7,-3,2], 'a':[0,1,0,1]})\n",
    "print frame\n",
    "print '\\n'\n",
    "print frame.sort_values(by='b')\n",
    "print '\\n'\n",
    "print frame.sort_values(by=['a','b'])"
   ]
  },
  {
   "cell_type": "markdown",
   "metadata": {},
   "source": [
    "Rank tells us where each row ranks; ties are broken using the mean ranks:"
   ]
  },
  {
   "cell_type": "code",
   "execution_count": 133,
   "metadata": {
    "collapsed": false
   },
   "outputs": [
    {
     "name": "stdout",
     "output_type": "stream",
     "text": [
      "0    7\n",
      "1   -5\n",
      "2    7\n",
      "3    4\n",
      "4    2\n",
      "5    0\n",
      "6    4\n",
      "dtype: int64\n",
      "\n",
      "\n",
      "0    6.5\n",
      "1    1.0\n",
      "2    6.5\n",
      "3    4.5\n",
      "4    3.0\n",
      "5    2.0\n",
      "6    4.5\n",
      "dtype: float64\n"
     ]
    }
   ],
   "source": [
    "obj = Series([7, -5, 7, 4, 2, 0, 4])\n",
    "print obj\n",
    "print '\\n'\n",
    "print obj.rank()"
   ]
  },
  {
   "cell_type": "markdown",
   "metadata": {},
   "source": [
    "The 'first' method breaks ties based on the index of each value:"
   ]
  },
  {
   "cell_type": "code",
   "execution_count": 134,
   "metadata": {
    "collapsed": false
   },
   "outputs": [
    {
     "data": {
      "text/plain": [
       "0    6.0\n",
       "1    1.0\n",
       "2    7.0\n",
       "3    4.0\n",
       "4    3.0\n",
       "5    2.0\n",
       "6    5.0\n",
       "dtype: float64"
      ]
     },
     "execution_count": 134,
     "metadata": {},
     "output_type": "execute_result"
    }
   ],
   "source": [
    "obj.rank(method='first')"
   ]
  },
  {
   "cell_type": "markdown",
   "metadata": {},
   "source": [
    "Ranking in descending order"
   ]
  },
  {
   "cell_type": "code",
   "execution_count": 135,
   "metadata": {
    "collapsed": false
   },
   "outputs": [
    {
     "data": {
      "text/plain": [
       "0    1.0\n",
       "1    7.0\n",
       "2    2.0\n",
       "3    3.0\n",
       "4    5.0\n",
       "5    6.0\n",
       "6    4.0\n",
       "dtype: float64"
      ]
     },
     "execution_count": 135,
     "metadata": {},
     "output_type": "execute_result"
    }
   ],
   "source": [
    "obj.rank(ascending=False, method='first')"
   ]
  },
  {
   "cell_type": "markdown",
   "metadata": {},
   "source": [
    "Data frame ranking can be done on rows OR columns"
   ]
  },
  {
   "cell_type": "code",
   "execution_count": 137,
   "metadata": {
    "collapsed": false
   },
   "outputs": [
    {
     "name": "stdout",
     "output_type": "stream",
     "text": [
      "   a  b    c\n",
      "0  0  4 -2.0\n",
      "1  1  7  5.0\n",
      "2  0 -3  8.0\n",
      "3  1  2 -2.5\n",
      "\n",
      "\n",
      "     a    b    c\n",
      "0  1.5  3.0  2.0\n",
      "1  3.5  4.0  3.0\n",
      "2  1.5  1.0  4.0\n",
      "3  3.5  2.0  1.0\n",
      "\n",
      "\n",
      "     a    b    c\n",
      "0  2.0  3.0  1.0\n",
      "1  1.0  3.0  2.0\n",
      "2  2.0  1.0  3.0\n",
      "3  2.0  3.0  1.0\n"
     ]
    }
   ],
   "source": [
    "frame = DataFrame({'b':[4,7,-3,2], 'a':[0,1,0,1], \n",
    "                   'c':[-2,5,8,-2.5]})\n",
    "print frame\n",
    "print '\\n'\n",
    "print frame.rank()\n",
    "print '\\n'\n",
    "print frame.rank(axis=1)"
   ]
  },
  {
   "cell_type": "markdown",
   "metadata": {},
   "source": [
    "Axis indexing with duplicate values:"
   ]
  },
  {
   "cell_type": "code",
   "execution_count": 140,
   "metadata": {
    "collapsed": false
   },
   "outputs": [
    {
     "name": "stdout",
     "output_type": "stream",
     "text": [
      "a    0\n",
      "a    1\n",
      "b    2\n",
      "b    3\n",
      "c    4\n",
      "dtype: int64\n",
      "\n",
      "\n",
      "False\n",
      "\n",
      "\n",
      "a    0\n",
      "a    1\n",
      "dtype: int64\n",
      "\n",
      "\n",
      "4\n"
     ]
    }
   ],
   "source": [
    "obj = Series(range(5), index=['a','a','b','b','c'])\n",
    "print obj\n",
    "print '\\n'\n",
    "print obj.index.is_unique\n",
    "print '\\n'\n",
    "print obj['a']\n",
    "print '\\n'\n",
    "print obj['c']"
   ]
  },
  {
   "cell_type": "markdown",
   "metadata": {},
   "source": [
    "<a id='summ'></a>\n",
    "### Summarizing and Computing Descriptive Statistics"
   ]
  },
  {
   "cell_type": "code",
   "execution_count": 141,
   "metadata": {
    "collapsed": false
   },
   "outputs": [
    {
     "data": {
      "text/html": [
       "<div>\n",
       "<table border=\"1\" class=\"dataframe\">\n",
       "  <thead>\n",
       "    <tr style=\"text-align: right;\">\n",
       "      <th></th>\n",
       "      <th>one</th>\n",
       "      <th>two</th>\n",
       "    </tr>\n",
       "  </thead>\n",
       "  <tbody>\n",
       "    <tr>\n",
       "      <th>a</th>\n",
       "      <td>1.40</td>\n",
       "      <td>NaN</td>\n",
       "    </tr>\n",
       "    <tr>\n",
       "      <th>b</th>\n",
       "      <td>7.10</td>\n",
       "      <td>-4.5</td>\n",
       "    </tr>\n",
       "    <tr>\n",
       "      <th>c</th>\n",
       "      <td>NaN</td>\n",
       "      <td>NaN</td>\n",
       "    </tr>\n",
       "    <tr>\n",
       "      <th>d</th>\n",
       "      <td>0.75</td>\n",
       "      <td>-1.4</td>\n",
       "    </tr>\n",
       "  </tbody>\n",
       "</table>\n",
       "</div>"
      ],
      "text/plain": [
       "    one  two\n",
       "a  1.40  NaN\n",
       "b  7.10 -4.5\n",
       "c   NaN  NaN\n",
       "d  0.75 -1.4"
      ]
     },
     "metadata": {},
     "output_type": "display_data"
    },
    {
     "data": {
      "text/plain": [
       "one    9.25\n",
       "two   -5.90\n",
       "dtype: float64"
      ]
     },
     "metadata": {},
     "output_type": "display_data"
    },
    {
     "data": {
      "text/plain": [
       "a    1.40\n",
       "b    2.60\n",
       "c    0.00\n",
       "d   -0.65\n",
       "dtype: float64"
      ]
     },
     "metadata": {},
     "output_type": "display_data"
    }
   ],
   "source": [
    "df = DataFrame([[1.4,None], [7.1, -4.5],\n",
    "               [np.nan, np.nan], [.75, -1.4]], \n",
    "                index=['a','b','c','d'],\n",
    "                columns=['one','two'])\n",
    "display(df)\n",
    "display(df.sum())\n",
    "display(df.sum(axis=1))"
   ]
  },
  {
   "cell_type": "markdown",
   "metadata": {},
   "source": [
    "NA values are excluded from the calculation, unless otherwise specified"
   ]
  },
  {
   "cell_type": "code",
   "execution_count": 142,
   "metadata": {
    "collapsed": false
   },
   "outputs": [
    {
     "data": {
      "text/plain": [
       "a      NaN\n",
       "b    1.300\n",
       "c      NaN\n",
       "d   -0.325\n",
       "dtype: float64"
      ]
     },
     "execution_count": 142,
     "metadata": {},
     "output_type": "execute_result"
    }
   ],
   "source": [
    "df.mean(axis=1, skipna=False)"
   ]
  },
  {
   "cell_type": "markdown",
   "metadata": {},
   "source": [
    "Cumulative methods"
   ]
  },
  {
   "cell_type": "code",
   "execution_count": 143,
   "metadata": {
    "collapsed": false
   },
   "outputs": [
    {
     "data": {
      "text/html": [
       "<div>\n",
       "<table border=\"1\" class=\"dataframe\">\n",
       "  <thead>\n",
       "    <tr style=\"text-align: right;\">\n",
       "      <th></th>\n",
       "      <th>one</th>\n",
       "      <th>two</th>\n",
       "    </tr>\n",
       "  </thead>\n",
       "  <tbody>\n",
       "    <tr>\n",
       "      <th>a</th>\n",
       "      <td>1.40</td>\n",
       "      <td>NaN</td>\n",
       "    </tr>\n",
       "    <tr>\n",
       "      <th>b</th>\n",
       "      <td>8.50</td>\n",
       "      <td>-4.5</td>\n",
       "    </tr>\n",
       "    <tr>\n",
       "      <th>c</th>\n",
       "      <td>NaN</td>\n",
       "      <td>NaN</td>\n",
       "    </tr>\n",
       "    <tr>\n",
       "      <th>d</th>\n",
       "      <td>9.25</td>\n",
       "      <td>-5.9</td>\n",
       "    </tr>\n",
       "  </tbody>\n",
       "</table>\n",
       "</div>"
      ],
      "text/plain": [
       "    one  two\n",
       "a  1.40  NaN\n",
       "b  8.50 -4.5\n",
       "c   NaN  NaN\n",
       "d  9.25 -5.9"
      ]
     },
     "execution_count": 143,
     "metadata": {},
     "output_type": "execute_result"
    }
   ],
   "source": [
    "df.cumsum()"
   ]
  },
  {
   "cell_type": "markdown",
   "metadata": {},
   "source": [
    "Summary stats"
   ]
  },
  {
   "cell_type": "code",
   "execution_count": 145,
   "metadata": {
    "collapsed": false
   },
   "outputs": [
    {
     "name": "stdout",
     "output_type": "stream",
     "text": [
      "\n",
      "\n",
      "            one       two\n",
      "count  3.000000  2.000000\n",
      "mean   3.083333 -2.950000\n",
      "std    3.493685  2.192031\n",
      "min    0.750000 -4.500000\n",
      "25%         NaN       NaN\n",
      "50%         NaN       NaN\n",
      "75%         NaN       NaN\n",
      "max    7.100000 -1.400000\n",
      "\n",
      "\n",
      "        one    two\n",
      "count  3.00   2.00\n",
      "mean   3.08  -2.95\n",
      "std    3.49   2.19\n",
      "min    0.75  -4.50\n",
      "25%     nan    nan\n",
      "50%     nan    nan\n",
      "75%     nan    nan\n",
      "max    7.10  -1.40\n",
      "\n",
      "\n",
      "0     a\n",
      "1     b\n",
      "2     c\n",
      "3     c\n",
      "4     a\n",
      "5     b\n",
      "6     c\n",
      "7     c\n",
      "8     a\n",
      "9     b\n",
      "10    c\n",
      "11    c\n",
      "12    a\n",
      "13    b\n",
      "14    c\n",
      "15    c\n",
      "dtype: object\n",
      "\n",
      "\n",
      "count     16\n",
      "unique     3\n",
      "top        c\n",
      "freq       8\n",
      "dtype: object\n"
     ]
    },
    {
     "name": "stderr",
     "output_type": "stream",
     "text": [
      "C:\\Users\\User\\Anaconda2\\lib\\site-packages\\numpy\\lib\\function_base.py:3834: RuntimeWarning: Invalid value encountered in percentile\n",
      "  RuntimeWarning)\n"
     ]
    }
   ],
   "source": [
    "print '\\n'\n",
    "print df.describe()\n",
    "print '\\n'\n",
    "print df.describe().applymap(format)\n",
    "obj = Series(['a','b','c','c']*4)\n",
    "print '\\n'\n",
    "print obj\n",
    "print '\\n'\n",
    "print obj.describe()"
   ]
  },
  {
   "cell_type": "markdown",
   "metadata": {},
   "source": [
    "Correlation and covariance"
   ]
  },
  {
   "cell_type": "code",
   "execution_count": 146,
   "metadata": {
    "collapsed": false,
    "scrolled": true
   },
   "outputs": [
    {
     "name": "stderr",
     "output_type": "stream",
     "text": [
      "C:\\Users\\User\\Anaconda2\\lib\\site-packages\\pandas\\io\\data.py:35: FutureWarning: \n",
      "The pandas.io.data module is moved to a separate package (pandas-datareader) and will be removed from pandas in a future version.\n",
      "After installing the pandas-datareader package (https://github.com/pydata/pandas-datareader), you can change the import ``from pandas.io import data, wb`` to ``from pandas_datareader import data, wb``.\n",
      "  FutureWarning)\n"
     ]
    },
    {
     "name": "stdout",
     "output_type": "stream",
     "text": [
      "                AAPL      GOOG       IBM      MSFT\n",
      "Date                                              \n",
      "2009-12-24  0.034339  0.011117  0.004385  0.002587\n",
      "2009-12-28  0.012294  0.007098  0.013326  0.005484\n",
      "2009-12-29 -0.011861 -0.005571 -0.003477  0.007058\n",
      "2009-12-30  0.012147  0.005376  0.005461 -0.013699\n",
      "2009-12-31 -0.004300 -0.004416 -0.012597 -0.015504\n",
      "\n",
      "\n",
      "0.495979626103\n",
      "\n",
      "\n",
      "0.000215957600767\n"
     ]
    }
   ],
   "source": [
    "import pandas.io.data as web\n",
    "all_data={}\n",
    "for ticker in ['AAPL','IBM','MSFT','GOOG']:\n",
    "    all_data[ticker] = web.get_data_yahoo(ticker, '1/1/2000', '1/1/2010')\n",
    "price = DataFrame({tic: data['Adj Close']\n",
    "                    for tic, data in all_data.iteritems()})\n",
    "volume = DataFrame({tic: data['Volume']\n",
    "                    for tic, data in all_data.iteritems()})\n",
    "returns = price.pct_change()\n",
    "print returns.tail()\n",
    "\n",
    "# correlation and covariance:\n",
    "print '\\n'\n",
    "print returns.MSFT.corr(returns.IBM)\n",
    "print '\\n'\n",
    "print returns.MSFT.cov(returns.IBM)"
   ]
  },
  {
   "cell_type": "markdown",
   "metadata": {},
   "source": [
    "If you run this on a data frame, you will get the full corr/cov matrix:"
   ]
  },
  {
   "cell_type": "code",
   "execution_count": 147,
   "metadata": {
    "collapsed": false
   },
   "outputs": [
    {
     "name": "stdout",
     "output_type": "stream",
     "text": [
      "          AAPL      GOOG       IBM      MSFT\n",
      "AAPL  1.000000  0.470676  0.410011  0.424305\n",
      "GOOG  0.470676  1.000000  0.390689  0.443587\n",
      "IBM   0.410011  0.390689  1.000000  0.495980\n",
      "MSFT  0.424305  0.443587  0.495980  1.000000\n",
      "\n",
      "\n",
      "          AAPL      GOOG       IBM      MSFT\n",
      "AAPL  0.001027  0.000303  0.000252  0.000309\n",
      "GOOG  0.000303  0.000580  0.000142  0.000205\n",
      "IBM   0.000252  0.000142  0.000367  0.000216\n",
      "MSFT  0.000309  0.000205  0.000216  0.000516\n",
      "\n",
      "\n",
      "AAPL    0.410011\n",
      "GOOG    0.390689\n",
      "IBM     1.000000\n",
      "MSFT    0.495980\n",
      "dtype: float64\n",
      "\n",
      "\n",
      "AAPL   -0.057549\n",
      "GOOG    0.062647\n",
      "IBM    -0.007892\n",
      "MSFT   -0.014245\n",
      "dtype: float64\n"
     ]
    }
   ],
   "source": [
    "print returns.corr()\n",
    "print '\\n'\n",
    "print returns.cov()\n",
    "print '\\n'\n",
    "print returns.corrwith(returns.IBM)\n",
    "print '\\n'\n",
    "print returns.corrwith(volume)"
   ]
  },
  {
   "cell_type": "markdown",
   "metadata": {},
   "source": [
    "Uniques"
   ]
  },
  {
   "cell_type": "code",
   "execution_count": 149,
   "metadata": {
    "collapsed": false
   },
   "outputs": [
    {
     "data": {
      "text/plain": [
       "array(['c', 'a', 'd', 'b'], dtype=object)"
      ]
     },
     "execution_count": 149,
     "metadata": {},
     "output_type": "execute_result"
    }
   ],
   "source": [
    "obj = Series(['c','a','d','a','a','b','b','c','c'])\n",
    "obj.unique()"
   ]
  },
  {
   "cell_type": "markdown",
   "metadata": {},
   "source": [
    "Unique counts"
   ]
  },
  {
   "cell_type": "code",
   "execution_count": 150,
   "metadata": {
    "collapsed": false
   },
   "outputs": [
    {
     "data": {
      "text/plain": [
       "4"
      ]
     },
     "execution_count": 150,
     "metadata": {},
     "output_type": "execute_result"
    }
   ],
   "source": [
    "obj.nunique()"
   ]
  },
  {
   "cell_type": "markdown",
   "metadata": {},
   "source": [
    "Counts"
   ]
  },
  {
   "cell_type": "code",
   "execution_count": 151,
   "metadata": {
    "collapsed": false
   },
   "outputs": [
    {
     "name": "stdout",
     "output_type": "stream",
     "text": [
      "c    3\n",
      "a    3\n",
      "b    2\n",
      "d    1\n",
      "dtype: int64\n",
      "\n",
      "\n",
      "c    0.333333\n",
      "a    0.333333\n",
      "b    0.222222\n",
      "d    0.111111\n",
      "dtype: float64\n"
     ]
    }
   ],
   "source": [
    "print obj.value_counts()\n",
    "print '\\n'\n",
    "print obj.value_counts(normalize = True)"
   ]
  },
  {
   "cell_type": "markdown",
   "metadata": {},
   "source": [
    "Check for membership using 'isin'"
   ]
  },
  {
   "cell_type": "code",
   "execution_count": 152,
   "metadata": {
    "collapsed": false
   },
   "outputs": [
    {
     "name": "stdout",
     "output_type": "stream",
     "text": [
      "0    c\n",
      "1    a\n",
      "2    d\n",
      "3    a\n",
      "4    a\n",
      "5    b\n",
      "6    b\n",
      "7    c\n",
      "8    c\n",
      "dtype: object\n",
      "\n",
      "\n",
      "0     True\n",
      "1    False\n",
      "2    False\n",
      "3    False\n",
      "4    False\n",
      "5     True\n",
      "6     True\n",
      "7     True\n",
      "8     True\n",
      "dtype: bool\n"
     ]
    }
   ],
   "source": [
    "print obj\n",
    "print '\\n'\n",
    "print obj.isin(['b','c'])"
   ]
  },
  {
   "cell_type": "markdown",
   "metadata": {},
   "source": [
    "<a id='nans'></a>\n",
    "### Handling missing data"
   ]
  },
  {
   "cell_type": "markdown",
   "metadata": {},
   "source": [
    "Pandas treats nulls as Nan"
   ]
  },
  {
   "cell_type": "code",
   "execution_count": 155,
   "metadata": {
    "collapsed": false
   },
   "outputs": [
    {
     "name": "stdout",
     "output_type": "stream",
     "text": [
      "0     aardvark\n",
      "1    artichoke\n",
      "2          NaN\n",
      "3      avocado\n",
      "dtype: object\n",
      "\n",
      "\n",
      "0    False\n",
      "1    False\n",
      "2     True\n",
      "3    False\n",
      "dtype: bool\n"
     ]
    }
   ],
   "source": [
    "string_data = Series(['aardvark', 'artichoke', np.nan, 'avocado'])\n",
    "print string_data\n",
    "print '\\n'\n",
    "print string_data.isnull()"
   ]
  },
  {
   "cell_type": "markdown",
   "metadata": {},
   "source": [
    "'None' is also treated as a NaN"
   ]
  },
  {
   "cell_type": "code",
   "execution_count": 156,
   "metadata": {
    "collapsed": false
   },
   "outputs": [
    {
     "data": {
      "text/plain": [
       "0     True\n",
       "1    False\n",
       "2     True\n",
       "3    False\n",
       "dtype: bool"
      ]
     },
     "execution_count": 156,
     "metadata": {},
     "output_type": "execute_result"
    }
   ],
   "source": [
    "string_data[0] = None\n",
    "string_data.isnull()"
   ]
  },
  {
   "cell_type": "markdown",
   "metadata": {},
   "source": [
    "Fillna"
   ]
  },
  {
   "cell_type": "code",
   "execution_count": 157,
   "metadata": {
    "collapsed": false
   },
   "outputs": [
    {
     "data": {
      "text/plain": [
       "0    used to be NaN\n",
       "1         artichoke\n",
       "2    used to be NaN\n",
       "3           avocado\n",
       "dtype: object"
      ]
     },
     "execution_count": 157,
     "metadata": {},
     "output_type": "execute_result"
    }
   ],
   "source": [
    "string_data.fillna('used to be NaN')"
   ]
  },
  {
   "cell_type": "markdown",
   "metadata": {},
   "source": [
    "Filtering out missing data:"
   ]
  },
  {
   "cell_type": "code",
   "execution_count": 160,
   "metadata": {
    "collapsed": false
   },
   "outputs": [
    {
     "name": "stdout",
     "output_type": "stream",
     "text": [
      "0    1.0\n",
      "2    3.5\n",
      "4    7.0\n",
      "dtype: float64\n",
      "\n",
      "\n",
      "0    1.0\n",
      "2    3.5\n",
      "4    7.0\n",
      "dtype: float64\n"
     ]
    }
   ],
   "source": [
    "data = Series([1, np.nan, 3.5, np.nan, 7])\n",
    "print data.dropna()\n",
    "print '\\n'\n",
    "print data[data.notnull()]"
   ]
  },
  {
   "cell_type": "markdown",
   "metadata": {},
   "source": [
    "Dropna will drop any row containing a missing value"
   ]
  },
  {
   "cell_type": "code",
   "execution_count": 162,
   "metadata": {
    "collapsed": false
   },
   "outputs": [
    {
     "name": "stdout",
     "output_type": "stream",
     "text": [
      "     0    1    2\n",
      "0  1.0  6.5  3.0\n",
      "1  1.0  NaN  NaN\n",
      "2  NaN  NaN  NaN\n",
      "3  NaN  6.5  3.0\n",
      "\n",
      "\n",
      "     0    1    2\n",
      "0  1.0  6.5  3.0\n"
     ]
    }
   ],
   "source": [
    "data = DataFrame([[1, 6.5, 3], [1, np.nan, np.nan], [np.nan, np.nan, np.nan], [np.nan, 6.5, 3]])\n",
    "cleaned = data.dropna()\n",
    "print data\n",
    "print '\\n'\n",
    "print cleaned"
   ]
  },
  {
   "cell_type": "markdown",
   "metadata": {},
   "source": [
    "We can control the criteria of dropping nulls through the 'how' and 'thresh' parameters"
   ]
  },
  {
   "cell_type": "code",
   "execution_count": 165,
   "metadata": {
    "collapsed": false
   },
   "outputs": [
    {
     "name": "stdout",
     "output_type": "stream",
     "text": [
      "     0    1    2\n",
      "0  1.0  6.5  3.0\n",
      "1  1.0  NaN  NaN\n",
      "3  NaN  6.5  3.0\n",
      "\n",
      "\n",
      "     0    1    2\n",
      "0  1.0  6.5  3.0\n",
      "3  NaN  6.5  3.0\n"
     ]
    }
   ],
   "source": [
    "print data.dropna(how='all')\n",
    "print '\\n'\n",
    "print data.dropna(thresh=2)"
   ]
  },
  {
   "cell_type": "markdown",
   "metadata": {},
   "source": [
    "We can get creative with fillna"
   ]
  },
  {
   "cell_type": "code",
   "execution_count": 170,
   "metadata": {
    "collapsed": false
   },
   "outputs": [
    {
     "data": {
      "text/plain": [
       "0    1.000000\n",
       "1    3.833333\n",
       "2    3.500000\n",
       "3    3.833333\n",
       "4    7.000000\n",
       "dtype: float64"
      ]
     },
     "execution_count": 170,
     "metadata": {},
     "output_type": "execute_result"
    }
   ],
   "source": [
    "data = Series([1, np.nan, 3.5, np.nan, 7])\n",
    "data.fillna(data.mean())"
   ]
  },
  {
   "cell_type": "markdown",
   "metadata": {},
   "source": [
    "<a id='merging'></a>\n",
    "### Merging"
   ]
  },
  {
   "cell_type": "markdown",
   "metadata": {},
   "source": [
    "Merge/joins (pd.merge is an automatic inner join)"
   ]
  },
  {
   "cell_type": "code",
   "execution_count": 3,
   "metadata": {
    "collapsed": false
   },
   "outputs": [
    {
     "name": "stdout",
     "output_type": "stream",
     "text": [
      "   data1 key\n",
      "0      0   b\n",
      "1      1   b\n",
      "2      2   a\n",
      "3      3   c\n",
      "4      4   a\n",
      "5      5   a\n",
      "6      6   b\n",
      "\n",
      "\n",
      "   data1 key\n",
      "0      0   a\n",
      "1      1   b\n",
      "2      2   d\n",
      "\n",
      "\n",
      "   data1 key\n",
      "0      1   b\n",
      "\n",
      "\n",
      "   data1_x key  data1_y\n",
      "0        0   b        1\n",
      "1        1   b        1\n",
      "2        6   b        1\n",
      "3        2   a        0\n",
      "4        4   a        0\n",
      "5        5   a        0\n"
     ]
    }
   ],
   "source": [
    "df1 = DataFrame({'key': ['b', 'b', 'a', 'c', 'a', 'a', 'b'], \n",
    "                 'data1': range(7)})\n",
    "df2 = DataFrame({'key': ['a', 'b','d'], \n",
    "                 'data1': range(3)})               \n",
    "print df1\n",
    "print '\\n' \n",
    "print df2\n",
    "print '\\n' \n",
    "print pd.merge(df1, df2)  \n",
    "print '\\n' \n",
    "print pd.merge(df1, df2, on='key')   "
   ]
  },
  {
   "cell_type": "markdown",
   "metadata": {},
   "source": [
    "If the column names are different in each object, you specify col names:"
   ]
  },
  {
   "cell_type": "code",
   "execution_count": 4,
   "metadata": {
    "collapsed": false
   },
   "outputs": [
    {
     "name": "stdout",
     "output_type": "stream",
     "text": [
      "   data1 lkey\n",
      "0      0    b\n",
      "1      1    b\n",
      "2      2    a\n",
      "3      3    c\n",
      "4      4    a\n",
      "5      5    a\n",
      "6      6    b\n",
      "\n",
      "\n",
      "   data1 rkey\n",
      "0      0    a\n",
      "1      1    b\n",
      "2      2    d\n",
      "\n",
      "\n",
      "   data1_x lkey  data1_y rkey\n",
      "0        0    b        1    b\n",
      "1        1    b        1    b\n",
      "2        6    b        1    b\n",
      "3        2    a        0    a\n",
      "4        4    a        0    a\n",
      "5        5    a        0    a\n"
     ]
    }
   ],
   "source": [
    "df3 = DataFrame({'lkey': ['b', 'b', 'a', 'c', 'a', 'a', 'b'], \n",
    "                 'data1': range(7)})\n",
    "df4 = DataFrame({'rkey': ['a', 'b','d'], \n",
    "                 'data1': range(3)}) \n",
    "print df3\n",
    "print '\\n' \n",
    "print df4\n",
    "print '\\n' \n",
    "print pd.merge(df3, df4, left_on='lkey', right_on='rkey') "
   ]
  },
  {
   "cell_type": "markdown",
   "metadata": {},
   "source": [
    "Outer join:"
   ]
  },
  {
   "cell_type": "code",
   "execution_count": 5,
   "metadata": {
    "collapsed": false
   },
   "outputs": [
    {
     "data": {
      "text/html": [
       "<div>\n",
       "<table border=\"1\" class=\"dataframe\">\n",
       "  <thead>\n",
       "    <tr style=\"text-align: right;\">\n",
       "      <th></th>\n",
       "      <th>data1_x</th>\n",
       "      <th>key</th>\n",
       "      <th>data1_y</th>\n",
       "    </tr>\n",
       "  </thead>\n",
       "  <tbody>\n",
       "    <tr>\n",
       "      <th>0</th>\n",
       "      <td>0.0</td>\n",
       "      <td>b</td>\n",
       "      <td>1.0</td>\n",
       "    </tr>\n",
       "    <tr>\n",
       "      <th>1</th>\n",
       "      <td>1.0</td>\n",
       "      <td>b</td>\n",
       "      <td>1.0</td>\n",
       "    </tr>\n",
       "    <tr>\n",
       "      <th>2</th>\n",
       "      <td>6.0</td>\n",
       "      <td>b</td>\n",
       "      <td>1.0</td>\n",
       "    </tr>\n",
       "    <tr>\n",
       "      <th>3</th>\n",
       "      <td>2.0</td>\n",
       "      <td>a</td>\n",
       "      <td>0.0</td>\n",
       "    </tr>\n",
       "    <tr>\n",
       "      <th>4</th>\n",
       "      <td>4.0</td>\n",
       "      <td>a</td>\n",
       "      <td>0.0</td>\n",
       "    </tr>\n",
       "    <tr>\n",
       "      <th>5</th>\n",
       "      <td>5.0</td>\n",
       "      <td>a</td>\n",
       "      <td>0.0</td>\n",
       "    </tr>\n",
       "    <tr>\n",
       "      <th>6</th>\n",
       "      <td>3.0</td>\n",
       "      <td>c</td>\n",
       "      <td>NaN</td>\n",
       "    </tr>\n",
       "    <tr>\n",
       "      <th>7</th>\n",
       "      <td>NaN</td>\n",
       "      <td>d</td>\n",
       "      <td>2.0</td>\n",
       "    </tr>\n",
       "  </tbody>\n",
       "</table>\n",
       "</div>"
      ],
      "text/plain": [
       "   data1_x key  data1_y\n",
       "0      0.0   b      1.0\n",
       "1      1.0   b      1.0\n",
       "2      6.0   b      1.0\n",
       "3      2.0   a      0.0\n",
       "4      4.0   a      0.0\n",
       "5      5.0   a      0.0\n",
       "6      3.0   c      NaN\n",
       "7      NaN   d      2.0"
      ]
     },
     "execution_count": 5,
     "metadata": {},
     "output_type": "execute_result"
    }
   ],
   "source": [
    "pd.merge(df1, df2, how='outer', on='key')"
   ]
  },
  {
   "cell_type": "markdown",
   "metadata": {
    "collapsed": true
   },
   "source": [
    "Many-to-many merges:"
   ]
  },
  {
   "cell_type": "code",
   "execution_count": 6,
   "metadata": {
    "collapsed": false
   },
   "outputs": [
    {
     "name": "stdout",
     "output_type": "stream",
     "text": [
      "   data1 key\n",
      "0      0   b\n",
      "1      1   b\n",
      "2      2   a\n",
      "3      3   c\n",
      "4      4   a\n",
      "5      5   b\n",
      "\n",
      "\n",
      "   data1 key\n",
      "0      0   a\n",
      "1      1   b\n",
      "2      2   a\n",
      "3      3   b\n",
      "4      4   d\n",
      "\n",
      "\n",
      "    data1_x key  data1_y\n",
      "0         0   b      1.0\n",
      "1         0   b      3.0\n",
      "2         1   b      1.0\n",
      "3         1   b      3.0\n",
      "4         2   a      0.0\n",
      "5         2   a      2.0\n",
      "6         3   c      NaN\n",
      "7         4   a      0.0\n",
      "8         4   a      2.0\n",
      "9         5   b      1.0\n",
      "10        5   b      3.0\n",
      "\n",
      "\n",
      "   data1_x key  data1_y\n",
      "0        0   b        1\n",
      "1        0   b        3\n",
      "2        1   b        1\n",
      "3        1   b        3\n",
      "4        5   b        1\n",
      "5        5   b        3\n",
      "6        2   a        0\n",
      "7        2   a        2\n",
      "8        4   a        0\n",
      "9        4   a        2\n"
     ]
    }
   ],
   "source": [
    "df1 = DataFrame({'key': ['b', 'b', 'a', 'c', 'a', 'b'], \n",
    "                 'data1': range(6)})\n",
    "df2 = DataFrame({'key': ['a', 'b', 'a', 'b', 'd'], \n",
    "                 'data1': range(5)}) \n",
    "print df1\n",
    "print '\\n' \n",
    "print df2\n",
    "print '\\n' \n",
    "print pd.merge(df1, df2, on='key', how='left')\n",
    "print '\\n' \n",
    "print pd.merge(df1, df2, on='key', how='inner')"
   ]
  },
  {
   "cell_type": "markdown",
   "metadata": {},
   "source": [
    "To merge with multiple keys, pass a list of column names:"
   ]
  },
  {
   "cell_type": "code",
   "execution_count": 7,
   "metadata": {
    "collapsed": false
   },
   "outputs": [
    {
     "name": "stdout",
     "output_type": "stream",
     "text": [
      "  key1 key2  lval\n",
      "0  foo  one     1\n",
      "1  foo  two     2\n",
      "2  bar  one     3\n",
      "\n",
      "\n",
      "  key1 key2  lval\n",
      "0  foo  one     4\n",
      "1  foo  one     5\n",
      "2  bar  one     6\n",
      "3  bar  two     7\n",
      "\n",
      "\n",
      "  key1 key2  lval_x  lval_y\n",
      "0  foo  one     1.0     4.0\n",
      "1  foo  one     1.0     5.0\n",
      "2  foo  two     2.0     NaN\n",
      "3  bar  one     3.0     6.0\n",
      "4  bar  two     NaN     7.0\n",
      "\n",
      "\n",
      "  key1 key2  lval_x  lval_y\n",
      "0  foo  one       1       4\n",
      "1  foo  one       1       5\n",
      "2  bar  one       3       6\n"
     ]
    }
   ],
   "source": [
    "left = DataFrame({'key1': ['foo', 'foo', 'bar'], \n",
    "                  'key2': ['one', 'two', 'one'], \n",
    "                    'lval': [1, 2, 3]})\n",
    "right = DataFrame({'key1': ['foo', 'foo', 'bar', 'bar'], \n",
    "                  'key2': ['one', 'one', 'one', 'two'], \n",
    "                    'lval': [4, 5, 6, 7]})\n",
    "print left\n",
    "print '\\n' \n",
    "print right\n",
    "print '\\n' \n",
    "print pd.merge(left, right, on=['key1', 'key2'], how='outer')\n",
    "print '\\n' \n",
    "print pd.merge(left, right, left_on=['key1', 'key2'], right_on=['key1', 'key2'])"
   ]
  },
  {
   "cell_type": "markdown",
   "metadata": {
    "collapsed": true
   },
   "source": [
    "When merging columns with same names, you can specify suffixes to be added:"
   ]
  },
  {
   "cell_type": "code",
   "execution_count": 8,
   "metadata": {
    "collapsed": false
   },
   "outputs": [
    {
     "data": {
      "text/html": [
       "<div>\n",
       "<table border=\"1\" class=\"dataframe\">\n",
       "  <thead>\n",
       "    <tr style=\"text-align: right;\">\n",
       "      <th></th>\n",
       "      <th>key1</th>\n",
       "      <th>key2_left</th>\n",
       "      <th>lval_left</th>\n",
       "      <th>key2_right</th>\n",
       "      <th>lval_right</th>\n",
       "    </tr>\n",
       "  </thead>\n",
       "  <tbody>\n",
       "    <tr>\n",
       "      <th>0</th>\n",
       "      <td>foo</td>\n",
       "      <td>one</td>\n",
       "      <td>1</td>\n",
       "      <td>one</td>\n",
       "      <td>4</td>\n",
       "    </tr>\n",
       "    <tr>\n",
       "      <th>1</th>\n",
       "      <td>foo</td>\n",
       "      <td>one</td>\n",
       "      <td>1</td>\n",
       "      <td>one</td>\n",
       "      <td>5</td>\n",
       "    </tr>\n",
       "    <tr>\n",
       "      <th>2</th>\n",
       "      <td>foo</td>\n",
       "      <td>two</td>\n",
       "      <td>2</td>\n",
       "      <td>one</td>\n",
       "      <td>4</td>\n",
       "    </tr>\n",
       "    <tr>\n",
       "      <th>3</th>\n",
       "      <td>foo</td>\n",
       "      <td>two</td>\n",
       "      <td>2</td>\n",
       "      <td>one</td>\n",
       "      <td>5</td>\n",
       "    </tr>\n",
       "    <tr>\n",
       "      <th>4</th>\n",
       "      <td>bar</td>\n",
       "      <td>one</td>\n",
       "      <td>3</td>\n",
       "      <td>one</td>\n",
       "      <td>6</td>\n",
       "    </tr>\n",
       "    <tr>\n",
       "      <th>5</th>\n",
       "      <td>bar</td>\n",
       "      <td>one</td>\n",
       "      <td>3</td>\n",
       "      <td>two</td>\n",
       "      <td>7</td>\n",
       "    </tr>\n",
       "  </tbody>\n",
       "</table>\n",
       "</div>"
      ],
      "text/plain": [
       "  key1 key2_left  lval_left key2_right  lval_right\n",
       "0  foo       one          1        one           4\n",
       "1  foo       one          1        one           5\n",
       "2  foo       two          2        one           4\n",
       "3  foo       two          2        one           5\n",
       "4  bar       one          3        one           6\n",
       "5  bar       one          3        two           7"
      ]
     },
     "execution_count": 8,
     "metadata": {},
     "output_type": "execute_result"
    }
   ],
   "source": [
    "pd.merge(left, right, on='key1', suffixes=('_left', '_right'))"
   ]
  },
  {
   "cell_type": "markdown",
   "metadata": {},
   "source": [
    "Merging on Index"
   ]
  },
  {
   "cell_type": "code",
   "execution_count": 9,
   "metadata": {
    "collapsed": false
   },
   "outputs": [
    {
     "name": "stdout",
     "output_type": "stream",
     "text": [
      "   data1 key\n",
      "0      0   a\n",
      "1      1   b\n",
      "2      2   a\n",
      "3      3   a\n",
      "4      4   b\n",
      "5      5   c\n",
      "\n",
      "\n",
      "   group_val\n",
      "a        3.5\n",
      "b        7.0\n",
      "\n",
      "\n",
      "   data1 key  group_val\n",
      "0      0   a        3.5\n",
      "2      2   a        3.5\n",
      "3      3   a        3.5\n",
      "1      1   b        7.0\n",
      "4      4   b        7.0\n",
      "\n",
      "\n",
      "   data1 key  group_val\n",
      "0      0   a        3.5\n",
      "2      2   a        3.5\n",
      "3      3   a        3.5\n",
      "1      1   b        7.0\n",
      "4      4   b        7.0\n",
      "5      5   c        NaN\n"
     ]
    }
   ],
   "source": [
    "left1 = DataFrame({'key': ['a', 'b', 'a', 'a', 'b', 'c'], \n",
    "                 'data1': range(6)})\n",
    "right1 = DataFrame({'group_val': [3.5, 7]}, \n",
    "                 index=['a', 'b']) \n",
    "print left1\n",
    "print '\\n' \n",
    "print right1\n",
    "print '\\n' \n",
    "print pd.merge(left1, right1, left_on='key', right_index=True)\n",
    "print '\\n' \n",
    "print pd.merge(left1, right1, left_on='key', right_index=True, how='outer')"
   ]
  },
  {
   "cell_type": "markdown",
   "metadata": {},
   "source": [
    "Hierarchically indexed data (merging index on columns):"
   ]
  },
  {
   "cell_type": "code",
   "execution_count": 10,
   "metadata": {
    "collapsed": false
   },
   "outputs": [
    {
     "name": "stdout",
     "output_type": "stream",
     "text": [
      "   data    key1  key2\n",
      "0   0.0    Ohio  2000\n",
      "1   1.0    Ohio  2001\n",
      "2   2.0    Ohio  2002\n",
      "3   3.0  Nevada  2001\n",
      "4   4.0  Nevada  2002\n",
      "\n",
      "\n",
      "             event1  event2\n",
      "Nevada 2001       0       1\n",
      "       2000       2       3\n",
      "Ohio   2000       4       5\n",
      "       2000       6       7\n",
      "       2001       8       9\n",
      "       2002      10      11\n",
      "\n",
      "\n",
      "   data    key1  key2  event1  event2\n",
      "0   0.0    Ohio  2000       4       5\n",
      "0   0.0    Ohio  2000       6       7\n",
      "1   1.0    Ohio  2001       8       9\n",
      "2   2.0    Ohio  2002      10      11\n",
      "3   3.0  Nevada  2001       0       1\n",
      "\n",
      "\n",
      "   data    key1    key2  event1  event2\n",
      "0   0.0    Ohio  2000.0     4.0     5.0\n",
      "0   0.0    Ohio  2000.0     6.0     7.0\n",
      "1   1.0    Ohio  2001.0     8.0     9.0\n",
      "2   2.0    Ohio  2002.0    10.0    11.0\n",
      "3   3.0  Nevada  2001.0     0.0     1.0\n",
      "4   4.0  Nevada  2002.0     NaN     NaN\n",
      "4   NaN  Nevada  2000.0     2.0     3.0\n"
     ]
    }
   ],
   "source": [
    "lefth = DataFrame({'key1': ['Ohio', 'Ohio', 'Ohio', 'Nevada', 'Nevada'], \n",
    "                   'key2': [2000, 2001, 2002, 2001, 2002], \n",
    "                    'data': np.arange(5.)})\n",
    "righth = DataFrame(np.arange(12).reshape((6, 2)), \n",
    "                   index=[['Nevada', 'Nevada', 'Ohio','Ohio', 'Ohio', 'Ohio'], \n",
    "                   [2001, 2000, 2000, 2000, 2001, 2002]], \n",
    "                    columns=['event1', 'event2'])\n",
    "print lefth\n",
    "print '\\n' \n",
    "print righth\n",
    "print '\\n' \n",
    "print pd.merge(lefth, righth, left_on=['key1', 'key2'], right_index=True)\n",
    "print '\\n' \n",
    "print pd.merge(lefth, righth, left_on=['key1', 'key2'], right_index=True, \n",
    "         how='outer')"
   ]
  },
  {
   "cell_type": "markdown",
   "metadata": {
    "collapsed": true
   },
   "source": [
    "Or both indices:"
   ]
  },
  {
   "cell_type": "code",
   "execution_count": 11,
   "metadata": {
    "collapsed": false
   },
   "outputs": [
    {
     "name": "stdout",
     "output_type": "stream",
     "text": [
      "   Ohio  Nevada\n",
      "a     1       2\n",
      "c     3       4\n",
      "e     5       6\n",
      "\n",
      "\n",
      "   Missouri  Alabama\n",
      "b         7        8\n",
      "c         9       10\n",
      "d        11       12\n",
      "e        13       14\n",
      "\n",
      "\n",
      "   Ohio  Nevada  Missouri  Alabama\n",
      "a   1.0     2.0       NaN      NaN\n",
      "b   NaN     NaN       7.0      8.0\n",
      "c   3.0     4.0       9.0     10.0\n",
      "d   NaN     NaN      11.0     12.0\n",
      "e   5.0     6.0      13.0     14.0\n"
     ]
    }
   ],
   "source": [
    "left2 = DataFrame([[1, 2], [3, 4], [5, 6]], index=['a', 'c', 'e'],\n",
    "                  columns=['Ohio', 'Nevada'])\n",
    "right2 = DataFrame([[7, 8], [9, 10], [11, 12], [13, 14]],\n",
    "                   index=['b', 'c', 'd', 'e'], \n",
    "                    columns=['Missouri', 'Alabama'])\n",
    "print left2\n",
    "print '\\n' \n",
    "print right2\n",
    "print '\\n' \n",
    "print pd.merge(left2, right2, how='outer', left_index=True, right_index=True)"
   ]
  },
  {
   "cell_type": "markdown",
   "metadata": {},
   "source": [
    "<a id='joining'></a>\n",
    "### Joining"
   ]
  },
  {
   "cell_type": "markdown",
   "metadata": {},
   "source": [
    "DataFrame has a more convenient join instance for merging by index"
   ]
  },
  {
   "cell_type": "code",
   "execution_count": 12,
   "metadata": {
    "collapsed": false
   },
   "outputs": [
    {
     "name": "stdout",
     "output_type": "stream",
     "text": [
      "   Ohio  Nevada\n",
      "a     1       2\n",
      "c     3       4\n",
      "e     5       6\n",
      "\n",
      "\n",
      "   Missouri  Alabama\n",
      "b         7        8\n",
      "c         9       10\n",
      "d        11       12\n",
      "e        13       14\n",
      "\n",
      "\n",
      "   Ohio  Nevada  Missouri  Alabama\n",
      "a   1.0     2.0       NaN      NaN\n",
      "b   NaN     NaN       7.0      8.0\n",
      "c   3.0     4.0       9.0     10.0\n",
      "d   NaN     NaN      11.0     12.0\n",
      "e   5.0     6.0      13.0     14.0\n"
     ]
    }
   ],
   "source": [
    "print left2\n",
    "print '\\n' \n",
    "print right2\n",
    "print '\\n' \n",
    "print left2.join(right2, how='outer')"
   ]
  },
  {
   "cell_type": "markdown",
   "metadata": {},
   "source": [
    "You can also join the index on a key:"
   ]
  },
  {
   "cell_type": "code",
   "execution_count": 14,
   "metadata": {
    "collapsed": false
   },
   "outputs": [
    {
     "name": "stdout",
     "output_type": "stream",
     "text": [
      "   data1 key\n",
      "0      0   a\n",
      "1      1   b\n",
      "2      2   a\n",
      "3      3   a\n",
      "4      4   b\n",
      "5      5   c\n",
      "\n",
      "   group_val\n",
      "a        3.5\n",
      "b        7.0\n",
      "\n",
      "   data1 key  group_val\n",
      "0      0   a        3.5\n",
      "1      1   b        7.0\n",
      "2      2   a        3.5\n",
      "3      3   a        3.5\n",
      "4      4   b        7.0\n",
      "5      5   c        NaN\n"
     ]
    }
   ],
   "source": [
    "print left1\n",
    "print '\\n', right1\n",
    "print '\\n', left1.join(right1, on='key')"
   ]
  },
  {
   "cell_type": "markdown",
   "metadata": {},
   "source": [
    "_Note:_ The join function doesn't allow you to specify the merge columns on boths sides of the equation!"
   ]
  },
  {
   "cell_type": "markdown",
   "metadata": {},
   "source": [
    "You can even pass multiple DataFrames into the Join function:"
   ]
  },
  {
   "cell_type": "code",
   "execution_count": 15,
   "metadata": {
    "collapsed": false
   },
   "outputs": [
    {
     "name": "stdout",
     "output_type": "stream",
     "text": [
      "\n",
      "   Ohio  Nevada  Missouri  Alabama  New York  Oregon\n",
      "a     1       2       NaN      NaN         7       8\n",
      "c     3       4       9.0     10.0         9      10\n",
      "e     5       6      13.0     14.0        11      12\n",
      "\n",
      "   Ohio  Nevada  Missouri  Alabama  New York  Oregon\n",
      "a     1       2       NaN      NaN       NaN     NaN\n",
      "c     3       4       9.0     10.0       9.0    10.0\n",
      "e     5       6      13.0     14.0      11.0    12.0\n",
      "\n",
      "   Ohio  Nevada  Missouri  Alabama  New York  Oregon\n",
      "a   1.0     2.0       NaN      NaN       7.0     8.0\n",
      "b   NaN     NaN       7.0      8.0       NaN     NaN\n",
      "c   3.0     4.0       9.0     10.0       9.0    10.0\n",
      "d   NaN     NaN      11.0     12.0       NaN     NaN\n",
      "e   5.0     6.0      13.0     14.0      11.0    12.0\n",
      "f   NaN     NaN       NaN      NaN      16.0    17.0\n"
     ]
    }
   ],
   "source": [
    "another = DataFrame([[7, 8], [9, 10], [11, 12], [16, 17]], \n",
    "                    index=['a', 'c', 'e', 'f'], \n",
    "                        columns=['New York', 'Oregon'])\n",
    "print '\\n',left2.join([right2, another])\n",
    "print '\\n',left2.join(right2.join(another))\n",
    "print '\\n',left2.join([right2, another], how='outer')"
   ]
  },
  {
   "cell_type": "markdown",
   "metadata": {},
   "source": [
    "<a id='concat'></a>\n",
    "### Concatenating"
   ]
  },
  {
   "cell_type": "markdown",
   "metadata": {},
   "source": [
    "Concatenating Along an Axis:"
   ]
  },
  {
   "cell_type": "code",
   "execution_count": 16,
   "metadata": {
    "collapsed": false
   },
   "outputs": [
    {
     "name": "stdout",
     "output_type": "stream",
     "text": [
      "\n",
      "[[ 0  1  2  3]\n",
      " [ 4  5  6  7]\n",
      " [ 8  9 10 11]]\n",
      "\n",
      "[[ 0  1  2  3  0  1  2  3]\n",
      " [ 4  5  6  7  4  5  6  7]\n",
      " [ 8  9 10 11  8  9 10 11]]\n",
      "\n",
      "[[ 0  1  2  3]\n",
      " [ 4  5  6  7]\n",
      " [ 8  9 10 11]\n",
      " [ 0  1  2  3]\n",
      " [ 4  5  6  7]\n",
      " [ 8  9 10 11]]\n"
     ]
    }
   ],
   "source": [
    "arr = np.arange(12).reshape((3, 4))\n",
    "print '\\n',arr\n",
    "print '\\n',np.concatenate([arr, arr], axis=1)\n",
    "print '\\n',np.concatenate([arr, arr])"
   ]
  },
  {
   "cell_type": "markdown",
   "metadata": {},
   "source": [
    "Let's try it in pandas:"
   ]
  },
  {
   "cell_type": "code",
   "execution_count": 17,
   "metadata": {
    "collapsed": false
   },
   "outputs": [
    {
     "name": "stdout",
     "output_type": "stream",
     "text": [
      "\n",
      "a    0\n",
      "b    1\n",
      "dtype: int64\n",
      "\n",
      "c    2\n",
      "d    3\n",
      "e    4\n",
      "dtype: int64\n",
      "\n",
      "f    5\n",
      "g    6\n",
      "dtype: int64\n",
      "\n",
      "a    0\n",
      "b    1\n",
      "c    2\n",
      "d    3\n",
      "e    4\n",
      "f    5\n",
      "g    6\n",
      "dtype: int64\n"
     ]
    }
   ],
   "source": [
    "s1 = Series([0, 1], index=['a', 'b'])\n",
    "s2 = Series([2, 3, 4], index=['c', 'd', 'e'])\n",
    "s3 = Series([5, 6], index=['f', 'g'])\n",
    "print '\\n',s1\n",
    "print '\\n',s2\n",
    "print '\\n',s3\n",
    "print '\\n',pd.concat([s1, s2, s3])"
   ]
  },
  {
   "cell_type": "markdown",
   "metadata": {},
   "source": [
    "If you do it along the columns, it's an outer join:"
   ]
  },
  {
   "cell_type": "code",
   "execution_count": 18,
   "metadata": {
    "collapsed": false
   },
   "outputs": [
    {
     "data": {
      "text/html": [
       "<div>\n",
       "<table border=\"1\" class=\"dataframe\">\n",
       "  <thead>\n",
       "    <tr style=\"text-align: right;\">\n",
       "      <th></th>\n",
       "      <th>0</th>\n",
       "      <th>1</th>\n",
       "      <th>2</th>\n",
       "    </tr>\n",
       "  </thead>\n",
       "  <tbody>\n",
       "    <tr>\n",
       "      <th>a</th>\n",
       "      <td>0.0</td>\n",
       "      <td>NaN</td>\n",
       "      <td>NaN</td>\n",
       "    </tr>\n",
       "    <tr>\n",
       "      <th>b</th>\n",
       "      <td>1.0</td>\n",
       "      <td>NaN</td>\n",
       "      <td>NaN</td>\n",
       "    </tr>\n",
       "    <tr>\n",
       "      <th>c</th>\n",
       "      <td>NaN</td>\n",
       "      <td>2.0</td>\n",
       "      <td>NaN</td>\n",
       "    </tr>\n",
       "    <tr>\n",
       "      <th>d</th>\n",
       "      <td>NaN</td>\n",
       "      <td>3.0</td>\n",
       "      <td>NaN</td>\n",
       "    </tr>\n",
       "    <tr>\n",
       "      <th>e</th>\n",
       "      <td>NaN</td>\n",
       "      <td>4.0</td>\n",
       "      <td>NaN</td>\n",
       "    </tr>\n",
       "    <tr>\n",
       "      <th>f</th>\n",
       "      <td>NaN</td>\n",
       "      <td>NaN</td>\n",
       "      <td>5.0</td>\n",
       "    </tr>\n",
       "    <tr>\n",
       "      <th>g</th>\n",
       "      <td>NaN</td>\n",
       "      <td>NaN</td>\n",
       "      <td>6.0</td>\n",
       "    </tr>\n",
       "  </tbody>\n",
       "</table>\n",
       "</div>"
      ],
      "text/plain": [
       "     0    1    2\n",
       "a  0.0  NaN  NaN\n",
       "b  1.0  NaN  NaN\n",
       "c  NaN  2.0  NaN\n",
       "d  NaN  3.0  NaN\n",
       "e  NaN  4.0  NaN\n",
       "f  NaN  NaN  5.0\n",
       "g  NaN  NaN  6.0"
      ]
     },
     "execution_count": 18,
     "metadata": {},
     "output_type": "execute_result"
    }
   ],
   "source": [
    "pd.concat([s1, s2, s3], axis=1)"
   ]
  },
  {
   "cell_type": "markdown",
   "metadata": {},
   "source": [
    "Intersect"
   ]
  },
  {
   "cell_type": "code",
   "execution_count": 19,
   "metadata": {
    "collapsed": false
   },
   "outputs": [
    {
     "name": "stdout",
     "output_type": "stream",
     "text": [
      "\n",
      "a    0\n",
      "b    5\n",
      "f    5\n",
      "g    6\n",
      "dtype: int64\n",
      "\n",
      "f    5\n",
      "g    6\n",
      "dtype: int64\n",
      "\n",
      "a    0\n",
      "b    1\n",
      "dtype: int64\n",
      "\n",
      "     0  1\n",
      "a  0.0  0\n",
      "b  1.0  5\n",
      "f  NaN  5\n",
      "g  NaN  6\n",
      "\n",
      "   0  1\n",
      "a  0  0\n",
      "b  1  5\n"
     ]
    }
   ],
   "source": [
    "s4 = pd.concat([s1*5, s3])\n",
    "print '\\n',s4\n",
    "print '\\n',s3\n",
    "print '\\n',s1\n",
    "print '\\n',pd.concat([s1, s4], axis=1)\n",
    "print '\\n',pd.concat([s1, s4], axis=1, join = 'inner')"
   ]
  },
  {
   "cell_type": "markdown",
   "metadata": {},
   "source": [
    "You can specify which axes to be joined on:"
   ]
  },
  {
   "cell_type": "code",
   "execution_count": 20,
   "metadata": {
    "collapsed": false
   },
   "outputs": [
    {
     "name": "stdout",
     "output_type": "stream",
     "text": [
      "\n",
      "a    0\n",
      "b    1\n",
      "dtype: int64\n",
      "\n",
      "a    0\n",
      "b    5\n",
      "f    5\n",
      "g    6\n",
      "dtype: int64\n",
      "\n",
      "     0    1\n",
      "a  0.0  0.0\n",
      "c  NaN  NaN\n",
      "b  1.0  5.0\n",
      "e  NaN  NaN\n"
     ]
    }
   ],
   "source": [
    "print '\\n',s1\n",
    "print '\\n',s4\n",
    "print '\\n',pd.concat([s1, s4], axis=1, join_axes=[['a', 'c', 'b', 'e']])"
   ]
  },
  {
   "cell_type": "markdown",
   "metadata": {},
   "source": [
    "To identify the concatenated pieces you need specify the keys argument:"
   ]
  },
  {
   "cell_type": "code",
   "execution_count": 22,
   "metadata": {
    "collapsed": false
   },
   "outputs": [
    {
     "name": "stdout",
     "output_type": "stream",
     "text": [
      "\n",
      "a    0\n",
      "b    1\n",
      "dtype: int64\n",
      "\n",
      "c    2\n",
      "d    3\n",
      "e    4\n",
      "dtype: int64\n",
      "\n",
      "f    5\n",
      "g    6\n",
      "dtype: int64\n",
      "\n",
      "one    a    0\n",
      "       b    1\n",
      "two    c    2\n",
      "       d    3\n",
      "       e    4\n",
      "three  f    5\n",
      "       g    6\n",
      "dtype: int64\n",
      "\n",
      "         a    b    c    d    e    f    g\n",
      "one    0.0  1.0  NaN  NaN  NaN  NaN  NaN\n",
      "two    NaN  NaN  2.0  3.0  4.0  NaN  NaN\n",
      "three  NaN  NaN  NaN  NaN  NaN  5.0  6.0\n"
     ]
    }
   ],
   "source": [
    "print '\\n',s1\n",
    "print '\\n',s2\n",
    "print '\\n',s3\n",
    "result = pd.concat([s1, s2, s3], keys=['one', 'two', 'three'])\n",
    "print '\\n',result\n",
    "print '\\n',result.unstack()"
   ]
  },
  {
   "cell_type": "markdown",
   "metadata": {},
   "source": [
    "When you combine Series along Axis=1, then the keys become the col headers:"
   ]
  },
  {
   "cell_type": "code",
   "execution_count": 24,
   "metadata": {
    "collapsed": false
   },
   "outputs": [
    {
     "data": {
      "text/html": [
       "<div>\n",
       "<table border=\"1\" class=\"dataframe\">\n",
       "  <thead>\n",
       "    <tr style=\"text-align: right;\">\n",
       "      <th></th>\n",
       "      <th>one</th>\n",
       "      <th>two</th>\n",
       "      <th>three</th>\n",
       "    </tr>\n",
       "  </thead>\n",
       "  <tbody>\n",
       "    <tr>\n",
       "      <th>a</th>\n",
       "      <td>0.0</td>\n",
       "      <td>NaN</td>\n",
       "      <td>NaN</td>\n",
       "    </tr>\n",
       "    <tr>\n",
       "      <th>b</th>\n",
       "      <td>1.0</td>\n",
       "      <td>NaN</td>\n",
       "      <td>NaN</td>\n",
       "    </tr>\n",
       "    <tr>\n",
       "      <th>c</th>\n",
       "      <td>NaN</td>\n",
       "      <td>2.0</td>\n",
       "      <td>NaN</td>\n",
       "    </tr>\n",
       "    <tr>\n",
       "      <th>d</th>\n",
       "      <td>NaN</td>\n",
       "      <td>3.0</td>\n",
       "      <td>NaN</td>\n",
       "    </tr>\n",
       "    <tr>\n",
       "      <th>e</th>\n",
       "      <td>NaN</td>\n",
       "      <td>4.0</td>\n",
       "      <td>NaN</td>\n",
       "    </tr>\n",
       "    <tr>\n",
       "      <th>f</th>\n",
       "      <td>NaN</td>\n",
       "      <td>NaN</td>\n",
       "      <td>5.0</td>\n",
       "    </tr>\n",
       "    <tr>\n",
       "      <th>g</th>\n",
       "      <td>NaN</td>\n",
       "      <td>NaN</td>\n",
       "      <td>6.0</td>\n",
       "    </tr>\n",
       "  </tbody>\n",
       "</table>\n",
       "</div>"
      ],
      "text/plain": [
       "   one  two  three\n",
       "a  0.0  NaN    NaN\n",
       "b  1.0  NaN    NaN\n",
       "c  NaN  2.0    NaN\n",
       "d  NaN  3.0    NaN\n",
       "e  NaN  4.0    NaN\n",
       "f  NaN  NaN    5.0\n",
       "g  NaN  NaN    6.0"
      ]
     },
     "execution_count": 24,
     "metadata": {},
     "output_type": "execute_result"
    }
   ],
   "source": [
    "pd.concat([s1, s2, s3], axis=1, keys=['one', 'two', 'three'])"
   ]
  },
  {
   "cell_type": "markdown",
   "metadata": {},
   "source": [
    "Same logic applies to DataFrame objects:"
   ]
  },
  {
   "cell_type": "code",
   "execution_count": 25,
   "metadata": {
    "collapsed": false
   },
   "outputs": [
    {
     "name": "stdout",
     "output_type": "stream",
     "text": [
      "\n",
      "   one  two\n",
      "a    0    1\n",
      "b    2    3\n",
      "c    4    5\n",
      "\n",
      "   three  four\n",
      "a      5     6\n",
      "c      7     8\n",
      "\n",
      "  level1     level2     \n",
      "     one two  three four\n",
      "a      0   1    5.0  6.0\n",
      "b      2   3    NaN  NaN\n",
      "c      4   5    7.0  8.0\n",
      "\n",
      "  level1     level2     \n",
      "     one two  three four\n",
      "a      0   1      5    6\n",
      "c      4   5      7    8\n"
     ]
    }
   ],
   "source": [
    "df1 = DataFrame(np.arange(6).reshape(3, 2), index=['a', 'b', 'c'],\n",
    "                columns = ['one', 'two'])\n",
    "df2 = DataFrame(5+np.arange(4).reshape(2, 2), index=['a', 'c'],\n",
    "                columns = ['three', 'four'])\n",
    "print '\\n',df1\n",
    "print '\\n',df2\n",
    "print '\\n',pd.concat([df1, df2], axis=1, keys=['level1', 'level2'])\n",
    "print '\\n',pd.concat([df1, df2], axis=1, keys=['level1', 'level2'], join='inner')"
   ]
  },
  {
   "cell_type": "markdown",
   "metadata": {},
   "source": [
    "If you pass a dict of objects instead of a list, the dict keys will be used:"
   ]
  },
  {
   "cell_type": "code",
   "execution_count": 26,
   "metadata": {
    "collapsed": false
   },
   "outputs": [
    {
     "data": {
      "text/html": [
       "<div>\n",
       "<table border=\"1\" class=\"dataframe\">\n",
       "  <thead>\n",
       "    <tr>\n",
       "      <th></th>\n",
       "      <th colspan=\"2\" halign=\"left\">level1</th>\n",
       "      <th colspan=\"2\" halign=\"left\">level2</th>\n",
       "    </tr>\n",
       "    <tr>\n",
       "      <th></th>\n",
       "      <th>one</th>\n",
       "      <th>two</th>\n",
       "      <th>three</th>\n",
       "      <th>four</th>\n",
       "    </tr>\n",
       "  </thead>\n",
       "  <tbody>\n",
       "    <tr>\n",
       "      <th>a</th>\n",
       "      <td>0</td>\n",
       "      <td>1</td>\n",
       "      <td>5.0</td>\n",
       "      <td>6.0</td>\n",
       "    </tr>\n",
       "    <tr>\n",
       "      <th>b</th>\n",
       "      <td>2</td>\n",
       "      <td>3</td>\n",
       "      <td>NaN</td>\n",
       "      <td>NaN</td>\n",
       "    </tr>\n",
       "    <tr>\n",
       "      <th>c</th>\n",
       "      <td>4</td>\n",
       "      <td>5</td>\n",
       "      <td>7.0</td>\n",
       "      <td>8.0</td>\n",
       "    </tr>\n",
       "  </tbody>\n",
       "</table>\n",
       "</div>"
      ],
      "text/plain": [
       "  level1     level2     \n",
       "     one two  three four\n",
       "a      0   1    5.0  6.0\n",
       "b      2   3    NaN  NaN\n",
       "c      4   5    7.0  8.0"
      ]
     },
     "execution_count": 26,
     "metadata": {},
     "output_type": "execute_result"
    }
   ],
   "source": [
    "pd.concat({'level1': df1, 'level2': df2}, axis=1)"
   ]
  },
  {
   "cell_type": "markdown",
   "metadata": {},
   "source": [
    "When it comes to hierarchical indexing:"
   ]
  },
  {
   "cell_type": "code",
   "execution_count": 27,
   "metadata": {
    "collapsed": false
   },
   "outputs": [
    {
     "data": {
      "text/html": [
       "<div>\n",
       "<table border=\"1\" class=\"dataframe\">\n",
       "  <thead>\n",
       "    <tr>\n",
       "      <th>upper</th>\n",
       "      <th colspan=\"2\" halign=\"left\">level</th>\n",
       "      <th colspan=\"2\" halign=\"left\">level2</th>\n",
       "    </tr>\n",
       "    <tr>\n",
       "      <th>lower</th>\n",
       "      <th>one</th>\n",
       "      <th>two</th>\n",
       "      <th>three</th>\n",
       "      <th>four</th>\n",
       "    </tr>\n",
       "  </thead>\n",
       "  <tbody>\n",
       "    <tr>\n",
       "      <th>a</th>\n",
       "      <td>0</td>\n",
       "      <td>1</td>\n",
       "      <td>5.0</td>\n",
       "      <td>6.0</td>\n",
       "    </tr>\n",
       "    <tr>\n",
       "      <th>b</th>\n",
       "      <td>2</td>\n",
       "      <td>3</td>\n",
       "      <td>NaN</td>\n",
       "      <td>NaN</td>\n",
       "    </tr>\n",
       "    <tr>\n",
       "      <th>c</th>\n",
       "      <td>4</td>\n",
       "      <td>5</td>\n",
       "      <td>7.0</td>\n",
       "      <td>8.0</td>\n",
       "    </tr>\n",
       "  </tbody>\n",
       "</table>\n",
       "</div>"
      ],
      "text/plain": [
       "upper level     level2     \n",
       "lower   one two  three four\n",
       "a         0   1    5.0  6.0\n",
       "b         2   3    NaN  NaN\n",
       "c         4   5    7.0  8.0"
      ]
     },
     "execution_count": 27,
     "metadata": {},
     "output_type": "execute_result"
    }
   ],
   "source": [
    "pd.concat([df1, df2], axis=1, keys=['level', 'level2'],\n",
    "          names=['upper', 'lower'])"
   ]
  },
  {
   "cell_type": "markdown",
   "metadata": {},
   "source": [
    "If the index is meaningless in the context of the analysis, ignore_index=True"
   ]
  },
  {
   "cell_type": "code",
   "execution_count": 28,
   "metadata": {
    "collapsed": false
   },
   "outputs": [
    {
     "name": "stdout",
     "output_type": "stream",
     "text": [
      "\n",
      "          a         b         c         d\n",
      "0  1.037979 -1.558202 -1.007774  0.678721\n",
      "1  0.329565  0.384214 -1.098509 -0.149021\n",
      "2  3.197560  0.503944  0.226623  0.966872\n",
      "\n",
      "          b         d         a\n",
      "0 -0.758085  1.013255 -0.610753\n",
      "1 -0.132236 -0.666557  0.345436\n",
      "\n",
      "          a         b         c         d\n",
      "0  1.037979 -1.558202 -1.007774  0.678721\n",
      "1  0.329565  0.384214 -1.098509 -0.149021\n",
      "2  3.197560  0.503944  0.226623  0.966872\n",
      "0 -0.610753 -0.758085       NaN  1.013255\n",
      "1  0.345436 -0.132236       NaN -0.666557\n",
      "\n",
      "          a         b         c         d\n",
      "0  1.037979 -1.558202 -1.007774  0.678721\n",
      "1  0.329565  0.384214 -1.098509 -0.149021\n",
      "2  3.197560  0.503944  0.226623  0.966872\n",
      "3 -0.610753 -0.758085       NaN  1.013255\n",
      "4  0.345436 -0.132236       NaN -0.666557\n"
     ]
    }
   ],
   "source": [
    "df1 = DataFrame(np.random.randn(3, 4), columns=['a', 'b', 'c', 'd'])\n",
    "df2 = DataFrame(np.random.randn(2, 3), columns=['b', 'd', 'a'])\n",
    "print '\\n',df1\n",
    "print '\\n',df2\n",
    "print '\\n',pd.concat([df1, df2]) # look at the index here\n",
    "print '\\n',pd.concat([df1, df2], ignore_index=True) # now look at it here, dummy"
   ]
  },
  {
   "cell_type": "markdown",
   "metadata": {},
   "source": [
    "<a id='combining'></a>\n",
    "### Combining data with overlap"
   ]
  },
  {
   "cell_type": "code",
   "execution_count": 29,
   "metadata": {
    "collapsed": false
   },
   "outputs": [
    {
     "name": "stdout",
     "output_type": "stream",
     "text": [
      "\n",
      "f    0.0\n",
      "e    1.0\n",
      "d    2.0\n",
      "c    3.0\n",
      "b    4.0\n",
      "a    5.0\n",
      "dtype: float64\n",
      "\n",
      "f    NaN\n",
      "e    2.5\n",
      "d    NaN\n",
      "c    3.5\n",
      "b    4.5\n",
      "a    NaN\n",
      "dtype: float64\n",
      "\n",
      "f    0.0\n",
      "e    1.0\n",
      "d    2.0\n",
      "c    3.0\n",
      "b    4.0\n",
      "a    NaN\n",
      "dtype: float64\n",
      "\n",
      "[ 0.   2.5  2.   3.5  4.5  nan]\n"
     ]
    }
   ],
   "source": [
    "a = Series([np.nan, 2.5, np.nan, 3.5, 4.5, np.nan],\n",
    "           index=['f', 'e', 'd', 'c', 'b', 'a'])\n",
    "b = Series(np.arange(len(a), dtype=np.float64),\n",
    "           index=['f', 'e', 'd', 'c', 'b', 'a'])\n",
    "print '\\n',b\n",
    "b[-1] = np.nan\n",
    "print '\\n',a\n",
    "print '\\n',b\n",
    "print '\\n',np.where(pd.isnull(a), b, a)"
   ]
  },
  {
   "cell_type": "markdown",
   "metadata": {},
   "source": [
    "Or you can use the combine_first Series function:"
   ]
  },
  {
   "cell_type": "code",
   "execution_count": 32,
   "metadata": {
    "collapsed": false
   },
   "outputs": [
    {
     "name": "stdout",
     "output_type": "stream",
     "text": [
      "\n",
      "a    NaN\n",
      "b    4.5\n",
      "c    3.0\n",
      "d    2.0\n",
      "e    1.0\n",
      "f    0.0\n",
      "dtype: float64\n",
      "\n",
      "f    0.0\n",
      "e    1.0\n",
      "d    2.0\n",
      "c    3.0\n",
      "dtype: float64\n",
      "\n",
      "d    NaN\n",
      "c    3.5\n",
      "b    4.5\n",
      "a    NaN\n",
      "dtype: float64\n"
     ]
    }
   ],
   "source": [
    "print '\\n', b[:-2].combine_first(a[2:]) # i think it automatically sorts by index\n",
    "print '\\n', b[:-2]\n",
    "print '\\n', a[2:]"
   ]
  },
  {
   "cell_type": "markdown",
   "metadata": {},
   "source": [
    "In DataFrames, think of combine_first as patching missing data:"
   ]
  },
  {
   "cell_type": "code",
   "execution_count": 34,
   "metadata": {
    "collapsed": false
   },
   "outputs": [
    {
     "name": "stdout",
     "output_type": "stream",
     "text": [
      "\n",
      "     a    b   c\n",
      "0  1.0  NaN   2\n",
      "1  NaN  2.0   6\n",
      "2  5.0  NaN  10\n",
      "3  NaN  6.0  14\n",
      "\n",
      "     a    b\n",
      "0  5.0  NaN\n",
      "1  4.0  3.0\n",
      "2  NaN  4.0\n",
      "3  3.0  6.0\n",
      "4  7.0  8.0\n",
      "\n",
      "     a    b     c\n",
      "0  1.0  NaN   2.0\n",
      "1  4.0  2.0   6.0\n",
      "2  5.0  4.0  10.0\n",
      "3  3.0  6.0  14.0\n",
      "4  7.0  8.0   NaN\n"
     ]
    }
   ],
   "source": [
    "df1 = DataFrame({'a':[1, np.nan, 5, np.nan],\n",
    "                 'b':[np.nan, 2, np.nan, 6],\n",
    "                'c': range(2, 18, 4)})\n",
    "df2 = DataFrame({'a':[5, 4, np.nan, 3, 7],\n",
    "                 'b':[np.nan, 3, 4, 6, 8]})\n",
    "print '\\n', df1\n",
    "print '\\n', df2\n",
    "print '\\n', df1.combine_first(df2)"
   ]
  },
  {
   "cell_type": "markdown",
   "metadata": {},
   "source": [
    "<a id='stacking'></a>\n",
    "### Stacking"
   ]
  },
  {
   "cell_type": "markdown",
   "metadata": {},
   "source": [
    "Stack rotates the columns to the rows (producing a series below)"
   ]
  },
  {
   "cell_type": "code",
   "execution_count": 37,
   "metadata": {
    "collapsed": false
   },
   "outputs": [
    {
     "name": "stdout",
     "output_type": "stream",
     "text": [
      "\n",
      "number    one  two  three\n",
      "state                    \n",
      "Ohio        0    1      2\n",
      "Colorado    3    4      5\n",
      "\n",
      "state     number\n",
      "Ohio      one       0\n",
      "          two       1\n",
      "          three     2\n",
      "Colorado  one       3\n",
      "          two       4\n",
      "          three     5\n",
      "dtype: int32\n",
      "\n",
      "<class 'pandas.core.series.Series'>\n"
     ]
    }
   ],
   "source": [
    "data = DataFrame(np.arange(6).reshape((2, 3)), \n",
    "                 index=pd.Index(['Ohio', 'Colorado'], name='state'), \n",
    "                columns=pd.Index(['one', 'two', 'three'], name='number'))\n",
    "print '\\n', data\n",
    "result = data.stack()\n",
    "print '\\n', result\n",
    "print '\\n', type(result)"
   ]
  },
  {
   "cell_type": "markdown",
   "metadata": {},
   "source": [
    "Using unstack, you rearrange a hierarchical index back to a DataFrame:"
   ]
  },
  {
   "cell_type": "code",
   "execution_count": 38,
   "metadata": {
    "collapsed": false
   },
   "outputs": [
    {
     "name": "stdout",
     "output_type": "stream",
     "text": [
      "\n",
      "number    one  two  three\n",
      "state                    \n",
      "Ohio        0    1      2\n",
      "Colorado    3    4      5\n",
      "\n",
      "<class 'pandas.core.series.Series'>\n",
      "\n",
      "<class 'pandas.core.frame.DataFrame'>\n"
     ]
    }
   ],
   "source": [
    "print '\\n', result.unstack()\n",
    "print '\\n', type(result)\n",
    "print '\\n', type(result.unstack())"
   ]
  },
  {
   "cell_type": "markdown",
   "metadata": {},
   "source": [
    "You can choose which level to unstack:"
   ]
  },
  {
   "cell_type": "code",
   "execution_count": 42,
   "metadata": {
    "collapsed": false
   },
   "outputs": [
    {
     "name": "stdout",
     "output_type": "stream",
     "text": [
      "\n",
      "state     number\n",
      "Ohio      one       0\n",
      "          two       1\n",
      "          three     2\n",
      "Colorado  one       3\n",
      "          two       4\n",
      "          three     5\n",
      "dtype: int32\n",
      "\n",
      "state   Ohio  Colorado\n",
      "number                \n",
      "one        0         3\n",
      "two        1         4\n",
      "three      2         5\n",
      "\n",
      "state   Ohio  Colorado\n",
      "number                \n",
      "one        0         3\n",
      "two        1         4\n",
      "three      2         5\n"
     ]
    }
   ],
   "source": [
    "print '\\n', result\n",
    "print '\\n', result.unstack(0)\n",
    "print '\\n', result.unstack('state')"
   ]
  },
  {
   "cell_type": "markdown",
   "metadata": {},
   "source": [
    "Unstacking might introduce missing data if all the values aren't there:"
   ]
  },
  {
   "cell_type": "code",
   "execution_count": 43,
   "metadata": {
    "collapsed": false
   },
   "outputs": [
    {
     "name": "stdout",
     "output_type": "stream",
     "text": [
      "\n",
      "a    0\n",
      "b    1\n",
      "c    2\n",
      "d    3\n",
      "dtype: int64\n",
      "\n",
      "c    4\n",
      "d    5\n",
      "e    6\n",
      "dtype: int64\n",
      "\n",
      "one  a    0\n",
      "     b    1\n",
      "     c    2\n",
      "     d    3\n",
      "two  c    4\n",
      "     d    5\n",
      "     e    6\n",
      "dtype: int64\n",
      "\n",
      "       a    b    c    d    e\n",
      "one  0.0  1.0  2.0  3.0  NaN\n",
      "two  NaN  NaN  4.0  5.0  6.0\n"
     ]
    }
   ],
   "source": [
    "s1 = Series([0, 1, 2, 3], index=['a', 'b', 'c', 'd'])\n",
    "s2 = Series([4, 5, 6], index=['c', 'd', 'e'])\n",
    "data2 = pd.concat([s1, s2], keys=['one', 'two'])\n",
    "print '\\n', s1\n",
    "print '\\n', s2\n",
    "print '\\n', data2\n",
    "print '\\n', data2.unstack()"
   ]
  },
  {
   "cell_type": "markdown",
   "metadata": {},
   "source": [
    "Stacking filters out missing data by default:"
   ]
  },
  {
   "cell_type": "code",
   "execution_count": 44,
   "metadata": {
    "collapsed": false
   },
   "outputs": [
    {
     "name": "stdout",
     "output_type": "stream",
     "text": [
      "\n",
      "one  a    0.0\n",
      "     b    1.0\n",
      "     c    2.0\n",
      "     d    3.0\n",
      "two  c    4.0\n",
      "     d    5.0\n",
      "     e    6.0\n",
      "dtype: float64\n",
      "\n",
      "one  a    0.0\n",
      "     b    1.0\n",
      "     c    2.0\n",
      "     d    3.0\n",
      "     e    NaN\n",
      "two  a    NaN\n",
      "     b    NaN\n",
      "     c    4.0\n",
      "     d    5.0\n",
      "     e    6.0\n",
      "dtype: float64\n"
     ]
    }
   ],
   "source": [
    "print '\\n', data2.unstack().stack()\n",
    "print '\\n', data2.unstack().stack(dropna=False)"
   ]
  },
  {
   "cell_type": "markdown",
   "metadata": {},
   "source": [
    "In a DF, the unstacked & stacked levels becomes the lowest levels:"
   ]
  },
  {
   "cell_type": "code",
   "execution_count": 45,
   "metadata": {
    "collapsed": false
   },
   "outputs": [
    {
     "name": "stdout",
     "output_type": "stream",
     "text": [
      "\n",
      "side             left  right\n",
      "state    number             \n",
      "Ohio     one        0      5\n",
      "         two        1      6\n",
      "         three      2      7\n",
      "Colorado one        3      8\n",
      "         two        4      9\n",
      "         three      5     10\n",
      "\n",
      "side   left          right         \n",
      "state  Ohio Colorado  Ohio Colorado\n",
      "number                             \n",
      "one       0        3     5        8\n",
      "two       1        4     6        9\n",
      "three     2        5     7       10\n",
      "\n",
      "state         Ohio  Colorado\n",
      "number side                 \n",
      "one    left      0         3\n",
      "       right     5         8\n",
      "two    left      1         4\n",
      "       right     6         9\n",
      "three  left      2         5\n",
      "       right     7        10\n"
     ]
    }
   ],
   "source": [
    "df = DataFrame({'left': result, 'right': result + 5}, \n",
    "               columns=pd.Index(['left', 'right'], name='side'))\n",
    "print '\\n', df\n",
    "print '\\n', df.unstack('state')\n",
    "print '\\n', df.unstack('state').stack('side')"
   ]
  },
  {
   "cell_type": "markdown",
   "metadata": {},
   "source": [
    "<a id='duplicates'></a>\n",
    "### Duplicates"
   ]
  },
  {
   "cell_type": "markdown",
   "metadata": {},
   "source": [
    "Removing duplicates"
   ]
  },
  {
   "cell_type": "code",
   "execution_count": 46,
   "metadata": {
    "collapsed": false
   },
   "outputs": [
    {
     "name": "stdout",
     "output_type": "stream",
     "text": [
      "\n",
      "    k1  k2\n",
      "0  one   1\n",
      "1  one   1\n",
      "2  one   2\n",
      "3  two   3\n",
      "4  two   3\n",
      "5  two   4\n",
      "6  two   4\n",
      "\n",
      "0    False\n",
      "1     True\n",
      "2    False\n",
      "3    False\n",
      "4     True\n",
      "5    False\n",
      "6     True\n",
      "dtype: bool\n",
      "\n",
      "    k1  k2\n",
      "0  one   1\n",
      "2  one   2\n",
      "3  two   3\n",
      "5  two   4\n",
      "\n",
      "    k1  k2\n",
      "0  one   1\n",
      "1  one   1\n",
      "2  one   2\n",
      "3  two   3\n",
      "4  two   3\n",
      "5  two   4\n",
      "6  two   4\n"
     ]
    }
   ],
   "source": [
    "data = DataFrame({'k1': ['one']*3 + ['two']*4,\n",
    "                  'k2': [1,1,2,3,3,4,4]})\n",
    "print '\\n', data\n",
    "print '\\n', data.duplicated()\n",
    "print '\\n', data.drop_duplicates()\n",
    "print '\\n', data"
   ]
  },
  {
   "cell_type": "markdown",
   "metadata": {},
   "source": [
    "Specifying which column to dedupe on:"
   ]
  },
  {
   "cell_type": "code",
   "execution_count": 47,
   "metadata": {
    "collapsed": false
   },
   "outputs": [
    {
     "name": "stdout",
     "output_type": "stream",
     "text": [
      "\n",
      "    k1  k2  v1\n",
      "0  one   1   0\n",
      "1  one   1   1\n",
      "2  one   2   2\n",
      "3  two   3   3\n",
      "4  two   3   4\n",
      "5  two   4   5\n",
      "6  two   4   6\n",
      "\n",
      "    k1  k2  v1\n",
      "0  one   1   0\n",
      "3  two   3   3\n"
     ]
    }
   ],
   "source": [
    "data['v1'] = range(7)\n",
    "print '\\n', data\n",
    "print '\\n', data.drop_duplicates(['k1'])"
   ]
  },
  {
   "cell_type": "markdown",
   "metadata": {},
   "source": [
    "By default, the first observed dupe is kept, but we can change all that:"
   ]
  },
  {
   "cell_type": "code",
   "execution_count": 49,
   "metadata": {
    "collapsed": false
   },
   "outputs": [
    {
     "data": {
      "text/html": [
       "<div>\n",
       "<table border=\"1\" class=\"dataframe\">\n",
       "  <thead>\n",
       "    <tr style=\"text-align: right;\">\n",
       "      <th></th>\n",
       "      <th>k1</th>\n",
       "      <th>k2</th>\n",
       "      <th>v1</th>\n",
       "    </tr>\n",
       "  </thead>\n",
       "  <tbody>\n",
       "    <tr>\n",
       "      <th>1</th>\n",
       "      <td>one</td>\n",
       "      <td>1</td>\n",
       "      <td>1</td>\n",
       "    </tr>\n",
       "    <tr>\n",
       "      <th>2</th>\n",
       "      <td>one</td>\n",
       "      <td>2</td>\n",
       "      <td>2</td>\n",
       "    </tr>\n",
       "    <tr>\n",
       "      <th>4</th>\n",
       "      <td>two</td>\n",
       "      <td>3</td>\n",
       "      <td>4</td>\n",
       "    </tr>\n",
       "    <tr>\n",
       "      <th>6</th>\n",
       "      <td>two</td>\n",
       "      <td>4</td>\n",
       "      <td>6</td>\n",
       "    </tr>\n",
       "  </tbody>\n",
       "</table>\n",
       "</div>"
      ],
      "text/plain": [
       "    k1  k2  v1\n",
       "1  one   1   1\n",
       "2  one   2   2\n",
       "4  two   3   4\n",
       "6  two   4   6"
      ]
     },
     "execution_count": 49,
     "metadata": {},
     "output_type": "execute_result"
    }
   ],
   "source": [
    "data.drop_duplicates(['k1', 'k2'], keep='last')"
   ]
  },
  {
   "cell_type": "markdown",
   "metadata": {},
   "source": [
    "<a id='mapping'></a>\n",
    "### Mapping"
   ]
  },
  {
   "cell_type": "markdown",
   "metadata": {},
   "source": [
    "Transforming data using a function or mapping:"
   ]
  },
  {
   "cell_type": "code",
   "execution_count": 50,
   "metadata": {
    "collapsed": false
   },
   "outputs": [
    {
     "name": "stdout",
     "output_type": "stream",
     "text": [
      "\n",
      "   Ounces         food\n",
      "0     4.0        bacon\n",
      "1     3.0  pulled pork\n",
      "2    12.0        bacon\n",
      "3     6.0     Pastrami\n",
      "4     7.5  corned beef\n",
      "5     8.0        Bacon\n",
      "6     3.0     pastrami\n",
      "7     5.0    honey ham\n",
      "8     6.0     nova lox\n",
      "\n",
      "{'pastrami': 'cow', 'bacon': 'pig', 'pulled pork': 'pig', 'corned beef': 'cow', 'nova lox': 'salmon', 'honey ham': 'pig'}\n"
     ]
    }
   ],
   "source": [
    "data = DataFrame({'food': ['bacon', 'pulled pork', 'bacon', 'Pastrami', \n",
    "                           'corned beef', 'Bacon', 'pastrami', 'honey ham',\n",
    "                           'nova lox'], \n",
    "                           'Ounces': [4, 3, 12, 6, 7.5, 8, 3, 5, 6]})\n",
    "print '\\n', data\n",
    "meat_to_animal = {'bacon': 'pig', 'pulled pork': 'pig', 'pastrami': 'cow',\n",
    "                  'corned beef': 'cow', 'honey ham': 'pig',\n",
    "                  'nova lox': 'salmon'}\n",
    "print '\\n', meat_to_animal"
   ]
  },
  {
   "cell_type": "markdown",
   "metadata": {},
   "source": [
    "First, we need to convert to lower case:"
   ]
  },
  {
   "cell_type": "code",
   "execution_count": 51,
   "metadata": {
    "collapsed": false
   },
   "outputs": [
    {
     "data": {
      "text/plain": [
       "0          bacon\n",
       "1    pulled pork\n",
       "2          bacon\n",
       "3       pastrami\n",
       "4    corned beef\n",
       "5          bacon\n",
       "6       pastrami\n",
       "7      honey ham\n",
       "8       nova lox\n",
       "Name: food, dtype: object"
      ]
     },
     "execution_count": 51,
     "metadata": {},
     "output_type": "execute_result"
    }
   ],
   "source": [
    "data['food'].map(str.lower)"
   ]
  },
  {
   "cell_type": "markdown",
   "metadata": {},
   "source": [
    "Or..."
   ]
  },
  {
   "cell_type": "code",
   "execution_count": 52,
   "metadata": {
    "collapsed": false
   },
   "outputs": [
    {
     "data": {
      "text/plain": [
       "0          bacon\n",
       "1    pulled pork\n",
       "2          bacon\n",
       "3       pastrami\n",
       "4    corned beef\n",
       "5          bacon\n",
       "6       pastrami\n",
       "7      honey ham\n",
       "8       nova lox\n",
       "Name: food, dtype: object"
      ]
     },
     "execution_count": 52,
     "metadata": {},
     "output_type": "execute_result"
    }
   ],
   "source": [
    "data['food'].apply(str.lower)"
   ]
  },
  {
   "cell_type": "markdown",
   "metadata": {},
   "source": [
    "...and then map to the other object:"
   ]
  },
  {
   "cell_type": "code",
   "execution_count": 53,
   "metadata": {
    "collapsed": false
   },
   "outputs": [
    {
     "data": {
      "text/html": [
       "<div>\n",
       "<table border=\"1\" class=\"dataframe\">\n",
       "  <thead>\n",
       "    <tr style=\"text-align: right;\">\n",
       "      <th></th>\n",
       "      <th>Ounces</th>\n",
       "      <th>food</th>\n",
       "      <th>animal</th>\n",
       "    </tr>\n",
       "  </thead>\n",
       "  <tbody>\n",
       "    <tr>\n",
       "      <th>0</th>\n",
       "      <td>4.0</td>\n",
       "      <td>bacon</td>\n",
       "      <td>pig</td>\n",
       "    </tr>\n",
       "    <tr>\n",
       "      <th>1</th>\n",
       "      <td>3.0</td>\n",
       "      <td>pulled pork</td>\n",
       "      <td>pig</td>\n",
       "    </tr>\n",
       "    <tr>\n",
       "      <th>2</th>\n",
       "      <td>12.0</td>\n",
       "      <td>bacon</td>\n",
       "      <td>pig</td>\n",
       "    </tr>\n",
       "    <tr>\n",
       "      <th>3</th>\n",
       "      <td>6.0</td>\n",
       "      <td>Pastrami</td>\n",
       "      <td>cow</td>\n",
       "    </tr>\n",
       "    <tr>\n",
       "      <th>4</th>\n",
       "      <td>7.5</td>\n",
       "      <td>corned beef</td>\n",
       "      <td>cow</td>\n",
       "    </tr>\n",
       "    <tr>\n",
       "      <th>5</th>\n",
       "      <td>8.0</td>\n",
       "      <td>Bacon</td>\n",
       "      <td>pig</td>\n",
       "    </tr>\n",
       "    <tr>\n",
       "      <th>6</th>\n",
       "      <td>3.0</td>\n",
       "      <td>pastrami</td>\n",
       "      <td>cow</td>\n",
       "    </tr>\n",
       "    <tr>\n",
       "      <th>7</th>\n",
       "      <td>5.0</td>\n",
       "      <td>honey ham</td>\n",
       "      <td>pig</td>\n",
       "    </tr>\n",
       "    <tr>\n",
       "      <th>8</th>\n",
       "      <td>6.0</td>\n",
       "      <td>nova lox</td>\n",
       "      <td>salmon</td>\n",
       "    </tr>\n",
       "  </tbody>\n",
       "</table>\n",
       "</div>"
      ],
      "text/plain": [
       "   Ounces         food  animal\n",
       "0     4.0        bacon     pig\n",
       "1     3.0  pulled pork     pig\n",
       "2    12.0        bacon     pig\n",
       "3     6.0     Pastrami     cow\n",
       "4     7.5  corned beef     cow\n",
       "5     8.0        Bacon     pig\n",
       "6     3.0     pastrami     cow\n",
       "7     5.0    honey ham     pig\n",
       "8     6.0     nova lox  salmon"
      ]
     },
     "execution_count": 53,
     "metadata": {},
     "output_type": "execute_result"
    }
   ],
   "source": [
    "data['animal'] = data['food'].map(str.lower).map(meat_to_animal)\n",
    "data"
   ]
  },
  {
   "cell_type": "markdown",
   "metadata": {},
   "source": [
    "Or we could get fancy:"
   ]
  },
  {
   "cell_type": "code",
   "execution_count": 55,
   "metadata": {
    "collapsed": false
   },
   "outputs": [
    {
     "data": {
      "text/plain": [
       "0       pig\n",
       "1       pig\n",
       "2       pig\n",
       "3       cow\n",
       "4       cow\n",
       "5       pig\n",
       "6       cow\n",
       "7       pig\n",
       "8    salmon\n",
       "Name: food, dtype: object"
      ]
     },
     "execution_count": 55,
     "metadata": {},
     "output_type": "execute_result"
    }
   ],
   "source": [
    "data['food'].map(lambda x: meat_to_animal[x.lower()])"
   ]
  },
  {
   "cell_type": "markdown",
   "metadata": {},
   "source": [
    "<a id='replacing'></a>\n",
    "### Replacing values"
   ]
  },
  {
   "cell_type": "code",
   "execution_count": 58,
   "metadata": {
    "collapsed": false
   },
   "outputs": [
    {
     "name": "stdout",
     "output_type": "stream",
     "text": [
      "\n",
      "0       1\n",
      "1    -999\n",
      "2       2\n",
      "3    -999\n",
      "4   -1000\n",
      "5       3\n",
      "dtype: int64\n",
      "\n",
      "0       1.0\n",
      "1       NaN\n",
      "2       2.0\n",
      "3       NaN\n",
      "4   -1000.0\n",
      "5       3.0\n",
      "dtype: float64\n"
     ]
    }
   ],
   "source": [
    "data = Series([1, -999, 2, -999, -1000, 3])\n",
    "print '\\n', data\n",
    "data.replace(-999, np.nan, inplace=True)\n",
    "print '\\n', data"
   ]
  },
  {
   "cell_type": "markdown",
   "metadata": {},
   "source": [
    "replace multiple at once:"
   ]
  },
  {
   "cell_type": "code",
   "execution_count": 59,
   "metadata": {
    "collapsed": false
   },
   "outputs": [
    {
     "name": "stdout",
     "output_type": "stream",
     "text": [
      "\n",
      "0    1.0\n",
      "1    NaN\n",
      "2    2.0\n",
      "3    NaN\n",
      "4    NaN\n",
      "5    3.0\n",
      "dtype: float64\n",
      "\n",
      "0    1.0\n",
      "1    NaN\n",
      "2    2.0\n",
      "3    NaN\n",
      "4    0.0\n",
      "5    3.0\n",
      "dtype: float64\n"
     ]
    }
   ],
   "source": [
    "print '\\n', data.replace([-999, -1000], np.nan)\n",
    "print '\\n', data.replace([-999, -1000], [np.nan, 0])"
   ]
  },
  {
   "cell_type": "markdown",
   "metadata": {},
   "source": [
    "You can also pass a dict instead:"
   ]
  },
  {
   "cell_type": "code",
   "execution_count": 60,
   "metadata": {
    "collapsed": false
   },
   "outputs": [
    {
     "data": {
      "text/plain": [
       "0    1.0\n",
       "1    NaN\n",
       "2    2.0\n",
       "3    NaN\n",
       "4    0.0\n",
       "5    3.0\n",
       "dtype: float64"
      ]
     },
     "execution_count": 60,
     "metadata": {},
     "output_type": "execute_result"
    }
   ],
   "source": [
    "data.replace({-999: np.nan, -1000: 0})"
   ]
  },
  {
   "cell_type": "markdown",
   "metadata": {},
   "source": [
    "<a id='renaming'></a>\n",
    "### Renaming Axis Indexes"
   ]
  },
  {
   "cell_type": "code",
   "execution_count": 61,
   "metadata": {
    "collapsed": false
   },
   "outputs": [
    {
     "name": "stdout",
     "output_type": "stream",
     "text": [
      "\n",
      "['OHIO' 'COLORADO' 'NEW YORK']\n",
      "\n",
      "          one  two  three  four\n",
      "OHIO        0    1      2     3\n",
      "COLORADO    4    5      6     7\n",
      "NEW YORK    8    9     10    11\n"
     ]
    }
   ],
   "source": [
    "data = DataFrame(np.arange(12).reshape((3, 4)), \n",
    "                 index=['Ohio', 'Colorado', 'New York'], \n",
    "                    columns=['one', 'two', 'three', 'four'])\n",
    "print '\\n', data.index.map(str.upper)\n",
    "data.index = data.index.map(str.upper)\n",
    "print '\\n', data"
   ]
  },
  {
   "cell_type": "markdown",
   "metadata": {},
   "source": [
    "or you can use rename:"
   ]
  },
  {
   "cell_type": "code",
   "execution_count": 62,
   "metadata": {
    "collapsed": false
   },
   "outputs": [
    {
     "name": "stdout",
     "output_type": "stream",
     "text": [
      "\n",
      "          one  two  three  four\n",
      "OHIO        0    1      2     3\n",
      "COLORADO    4    5      6     7\n",
      "NEW YORK    8    9     10    11\n",
      "\n",
      "          ONE  TWO  THREE  FOUR\n",
      "Ohio        0    1      2     3\n",
      "Colorado    4    5      6     7\n",
      "New York    8    9     10    11\n",
      "\n",
      "          one  two  three  four\n",
      "ohio        0    1      2     3\n",
      "colorado    4    5      6     7\n",
      "new york    8    9     10    11\n",
      "\n",
      "          one  two  three  four\n",
      "OHIO        0    1      2     3\n",
      "COLORADO    4    5      6     7\n",
      "NEW YORK    8    9     10    11\n"
     ]
    }
   ],
   "source": [
    "print '\\n', data\n",
    "print '\\n', data.rename(index=str.title, columns=str.upper)\n",
    "print '\\n', data.rename(index=str.lower)\n",
    "print '\\n', data"
   ]
  },
  {
   "cell_type": "markdown",
   "metadata": {},
   "source": [
    "Rename can be used with a dict-like object:"
   ]
  },
  {
   "cell_type": "code",
   "execution_count": 65,
   "metadata": {
    "collapsed": false
   },
   "outputs": [
    {
     "name": "stdout",
     "output_type": "stream",
     "text": [
      "\n",
      "          one  two  Z MONEY!!  four\n",
      "INDIANA     0    1          2     3\n",
      "COLORADO    4    5          6     7\n",
      "NEW YORK    8    9         10    11\n",
      "\n",
      "          one  two  three  four\n",
      "OHIO        0    1      2     3\n",
      "COLORADO    4    5      6     7\n",
      "NEW YORK    8    9     10    11\n"
     ]
    }
   ],
   "source": [
    "print '\\n', data.rename(index={'OHIO': 'INDIANA'}, \n",
    "            columns={'three': 'Z MONEY!!'})\n",
    "_ = data.rename(index={'OHIO': 'INDIANA'})\n",
    "print '\\n', data "
   ]
  },
  {
   "cell_type": "markdown",
   "metadata": {},
   "source": [
    "<a id='binning'></a>\n",
    "### Discretization and Binning"
   ]
  },
  {
   "cell_type": "code",
   "execution_count": 66,
   "metadata": {
    "collapsed": false
   },
   "outputs": [
    {
     "name": "stdout",
     "output_type": "stream",
     "text": [
      "\n",
      "[(18, 25], (18, 25], (18, 25], (25, 35], (18, 25], ..., (25, 35], (60, 100], (35, 60], (35, 60], (25, 35]]\n",
      "Length: 12\n",
      "Categories (4, object): [(18, 25] < (25, 35] < (35, 60] < (60, 100]]\n"
     ]
    }
   ],
   "source": [
    "ages = [20, 22, 25, 27, 21, 23, 37, 31, 61, 45, 41, 32]\n",
    "bins = [18, 25, 35, 60, 100]\n",
    "cats = pd.cut(ages, bins)\n",
    "print '\\n', cats"
   ]
  },
  {
   "cell_type": "markdown",
   "metadata": {},
   "source": [
    "Internally, this stores a 'levels' array indicating category names:"
   ]
  },
  {
   "cell_type": "code",
   "execution_count": 68,
   "metadata": {
    "collapsed": false
   },
   "outputs": [
    {
     "name": "stdout",
     "output_type": "stream",
     "text": [
      "\n",
      "[0 0 0 1 0 0 2 1 3 2 2 1]\n",
      "\n",
      "Index([u'(18, 25]', u'(25, 35]', u'(35, 60]', u'(60, 100]'], dtype='object')\n"
     ]
    }
   ],
   "source": [
    "print '\\n', cats.codes\n",
    "print '\\n', cats.categories"
   ]
  },
  {
   "cell_type": "markdown",
   "metadata": {},
   "source": [
    "Open `(` means exclusive, while `]` means inclusive"
   ]
  },
  {
   "cell_type": "code",
   "execution_count": 69,
   "metadata": {
    "collapsed": false
   },
   "outputs": [
    {
     "data": {
      "text/plain": [
       "(18, 25]     5\n",
       "(35, 60]     3\n",
       "(25, 35]     3\n",
       "(60, 100]    1\n",
       "dtype: int64"
      ]
     },
     "execution_count": 69,
     "metadata": {},
     "output_type": "execute_result"
    }
   ],
   "source": [
    "pd.value_counts(cats)"
   ]
  },
  {
   "cell_type": "markdown",
   "metadata": {},
   "source": [
    "We can change this with Right=false"
   ]
  },
  {
   "cell_type": "code",
   "execution_count": 70,
   "metadata": {
    "collapsed": false
   },
   "outputs": [
    {
     "data": {
      "text/plain": [
       "[[18, 26), [18, 26), [18, 26), [26, 36), [18, 26), ..., [26, 36), [61, 100), [36, 61), [36, 61), [26, 36)]\n",
       "Length: 12\n",
       "Categories (4, object): [[18, 26) < [26, 36) < [36, 61) < [61, 100)]"
      ]
     },
     "execution_count": 70,
     "metadata": {},
     "output_type": "execute_result"
    }
   ],
   "source": [
    "pd.cut(ages, [18, 26, 36, 61, 100], right=False)"
   ]
  },
  {
   "cell_type": "markdown",
   "metadata": {},
   "source": [
    "We can pass our own bin names:"
   ]
  },
  {
   "cell_type": "code",
   "execution_count": 71,
   "metadata": {
    "collapsed": false
   },
   "outputs": [
    {
     "name": "stdout",
     "output_type": "stream",
     "text": [
      "\n",
      "Youth         5\n",
      "MiddleAged    3\n",
      "YoungAdult    3\n",
      "Senior        1\n",
      "dtype: int64\n"
     ]
    }
   ],
   "source": [
    "group_names = ['Youth', 'YoungAdult', 'MiddleAged', 'Senior']\n",
    "cats = pd.cut(ages, bins, labels=group_names)\n",
    "print '\\n', pd.value_counts(cats)"
   ]
  },
  {
   "cell_type": "markdown",
   "metadata": {},
   "source": [
    "You can cut the data set into equal distances based on the actual values:"
   ]
  },
  {
   "cell_type": "code",
   "execution_count": 73,
   "metadata": {
    "collapsed": false
   },
   "outputs": [
    {
     "name": "stdout",
     "output_type": "stream",
     "text": [
      "\n",
      "[ 0.03415189  0.05690401  0.96372999  0.43618011  0.10177639  0.05686856\n",
      "  0.6367132   0.16486978  0.12794947  0.11813673  0.71560211  0.58838665\n",
      "  0.73440855  0.35596375  0.86203298  0.09643257  0.68806944  0.95027632\n",
      "  0.44833516  0.82467307]\n",
      "\n",
      "[(0.033, 0.27], (0.033, 0.27], (0.73, 0.96], (0.27, 0.5], (0.033, 0.27], ..., (0.033, 0.27], (0.5, 0.73], (0.73, 0.96], (0.27, 0.5], (0.73, 0.96]]\n",
      "Length: 20\n",
      "Categories (4, object): [(0.033, 0.27] < (0.27, 0.5] < (0.5, 0.73] < (0.73, 0.96]]\n",
      "\n",
      "(0.033, 0.27]    8\n",
      "(0.73, 0.96]     5\n",
      "(0.5, 0.73]      4\n",
      "(0.27, 0.5]      3\n",
      "dtype: int64\n"
     ]
    }
   ],
   "source": [
    "data = np.random.rand(20)\n",
    "print '\\n', data\n",
    "print '\\n', pd.cut(data, 4, precision=2)\n",
    "print '\\n', pd.value_counts(pd.cut(data, 4, precision=2))"
   ]
  },
  {
   "cell_type": "markdown",
   "metadata": {},
   "source": [
    "Or you can cut the data based on quantiles:"
   ]
  },
  {
   "cell_type": "code",
   "execution_count": 74,
   "metadata": {
    "collapsed": false
   },
   "outputs": [
    {
     "name": "stdout",
     "output_type": "stream",
     "text": [
      "\n",
      "[(-0.639, 0.032], (0.032, 0.659], (0.032, 0.659], (-0.639, 0.032], (0.659, 3.717], ..., (-0.639, 0.032], (-0.639, 0.032], (-0.639, 0.032], (0.032, 0.659], (-0.639, 0.032]]\n",
      "Length: 1000\n",
      "Categories (4, object): [[-2.777, -0.639] < (-0.639, 0.032] < (0.032, 0.659] < (0.659, 3.717]]\n",
      "\n",
      "(0.659, 3.717]      250\n",
      "(0.032, 0.659]      250\n",
      "(-0.639, 0.032]     250\n",
      "[-2.777, -0.639]    250\n",
      "dtype: int64\n"
     ]
    }
   ],
   "source": [
    "data = np.random.randn(1000) # normally distributed\n",
    "cats = pd.qcut(data, 4) # cuts into quartiles\n",
    "print '\\n', cats\n",
    "print '\\n', pd.value_counts(cats)"
   ]
  },
  {
   "cell_type": "markdown",
   "metadata": {},
   "source": [
    "You can also pass your own quantiles"
   ]
  },
  {
   "cell_type": "code",
   "execution_count": 75,
   "metadata": {
    "collapsed": false
   },
   "outputs": [
    {
     "name": "stdout",
     "output_type": "stream",
     "text": [
      "\n",
      "[(-0.0918, 1.00817], (-0.0918, 1.00817], (-0.0918, 1.00817], (-1.211, -0.0918], (1.00817, 3.717], ..., (-1.211, -0.0918], (-1.211, -0.0918], (-1.211, -0.0918], (-0.0918, 1.00817], (-1.211, -0.0918]]\n",
      "Length: 1000\n",
      "Categories (4, object): [[-2.777, -1.211] < (-1.211, -0.0918] < (-0.0918, 1.00817] < (1.00817, 3.717]]\n",
      "\n",
      "(-0.0918, 1.00817]    400\n",
      "(-1.211, -0.0918]     350\n",
      "(1.00817, 3.717]      150\n",
      "[-2.777, -1.211]      100\n",
      "dtype: int64\n"
     ]
    }
   ],
   "source": [
    "print '\\n', pd.qcut(data, [0, .1, .45, .85, 1])\n",
    "print '\\n', pd.value_counts(pd.qcut(data, [0, .1, .45, .85, 1]))"
   ]
  },
  {
   "cell_type": "markdown",
   "metadata": {},
   "source": [
    "Detecting and Filtering Outliers"
   ]
  },
  {
   "cell_type": "code",
   "execution_count": 77,
   "metadata": {
    "collapsed": false
   },
   "outputs": [
    {
     "name": "stdout",
     "output_type": "stream",
     "text": [
      "\n",
      "                 0            1            2            3\n",
      "count  1000.000000  1000.000000  1000.000000  1000.000000\n",
      "mean     -0.067684     0.067924     0.025598    -0.002298\n",
      "std       0.998035     0.992106     1.006835     0.996794\n",
      "min      -3.428254    -3.548824    -3.184377    -3.745356\n",
      "25%      -0.774890    -0.591841    -0.641675    -0.644144\n",
      "50%      -0.116401     0.101143     0.002073    -0.013611\n",
      "75%       0.616366     0.780282     0.680391     0.654328\n",
      "max       3.366626     2.653656     3.260383     3.927528\n"
     ]
    }
   ],
   "source": [
    "np.random.seed(12345)\n",
    "data = DataFrame(np.random.randn(1000, 4))\n",
    "print '\\n', data.describe()"
   ]
  },
  {
   "cell_type": "markdown",
   "metadata": {},
   "source": [
    "To find all the values in the last column exceeding 3 (absolute value)"
   ]
  },
  {
   "cell_type": "code",
   "execution_count": 80,
   "metadata": {
    "collapsed": false
   },
   "outputs": [
    {
     "name": "stdout",
     "output_type": "stream",
     "text": [
      "\n",
      "97     3.927528\n",
      "305   -3.399312\n",
      "400   -3.745356\n",
      "Name: 3, dtype: float64\n"
     ]
    }
   ],
   "source": [
    "col = data[3]\n",
    "print '\\n', col[np.abs(col) > 3]"
   ]
  },
  {
   "cell_type": "markdown",
   "metadata": {},
   "source": [
    "To find values exceeding 3 or -3, use the any method:"
   ]
  },
  {
   "cell_type": "code",
   "execution_count": 81,
   "metadata": {
    "collapsed": false
   },
   "outputs": [
    {
     "data": {
      "text/html": [
       "<div>\n",
       "<table border=\"1\" class=\"dataframe\">\n",
       "  <thead>\n",
       "    <tr style=\"text-align: right;\">\n",
       "      <th></th>\n",
       "      <th>0</th>\n",
       "      <th>1</th>\n",
       "      <th>2</th>\n",
       "      <th>3</th>\n",
       "    </tr>\n",
       "  </thead>\n",
       "  <tbody>\n",
       "    <tr>\n",
       "      <th>5</th>\n",
       "      <td>-0.539741</td>\n",
       "      <td>0.476985</td>\n",
       "      <td>3.248944</td>\n",
       "      <td>-1.021228</td>\n",
       "    </tr>\n",
       "    <tr>\n",
       "      <th>97</th>\n",
       "      <td>-0.774363</td>\n",
       "      <td>0.552936</td>\n",
       "      <td>0.106061</td>\n",
       "      <td>3.927528</td>\n",
       "    </tr>\n",
       "    <tr>\n",
       "      <th>102</th>\n",
       "      <td>-0.655054</td>\n",
       "      <td>-0.565230</td>\n",
       "      <td>3.176873</td>\n",
       "      <td>0.959533</td>\n",
       "    </tr>\n",
       "    <tr>\n",
       "      <th>305</th>\n",
       "      <td>-2.315555</td>\n",
       "      <td>0.457246</td>\n",
       "      <td>-0.025907</td>\n",
       "      <td>-3.399312</td>\n",
       "    </tr>\n",
       "    <tr>\n",
       "      <th>324</th>\n",
       "      <td>0.050188</td>\n",
       "      <td>1.951312</td>\n",
       "      <td>3.260383</td>\n",
       "      <td>0.963301</td>\n",
       "    </tr>\n",
       "    <tr>\n",
       "      <th>400</th>\n",
       "      <td>0.146326</td>\n",
       "      <td>0.508391</td>\n",
       "      <td>-0.196713</td>\n",
       "      <td>-3.745356</td>\n",
       "    </tr>\n",
       "    <tr>\n",
       "      <th>499</th>\n",
       "      <td>-0.293333</td>\n",
       "      <td>-0.242459</td>\n",
       "      <td>-3.056990</td>\n",
       "      <td>1.918403</td>\n",
       "    </tr>\n",
       "    <tr>\n",
       "      <th>523</th>\n",
       "      <td>-3.428254</td>\n",
       "      <td>-0.296336</td>\n",
       "      <td>-0.439938</td>\n",
       "      <td>-0.867165</td>\n",
       "    </tr>\n",
       "    <tr>\n",
       "      <th>586</th>\n",
       "      <td>0.275144</td>\n",
       "      <td>1.179227</td>\n",
       "      <td>-3.184377</td>\n",
       "      <td>1.369891</td>\n",
       "    </tr>\n",
       "    <tr>\n",
       "      <th>808</th>\n",
       "      <td>-0.362528</td>\n",
       "      <td>-3.548824</td>\n",
       "      <td>1.553205</td>\n",
       "      <td>-2.186301</td>\n",
       "    </tr>\n",
       "    <tr>\n",
       "      <th>900</th>\n",
       "      <td>3.366626</td>\n",
       "      <td>-2.372214</td>\n",
       "      <td>0.851010</td>\n",
       "      <td>1.332846</td>\n",
       "    </tr>\n",
       "  </tbody>\n",
       "</table>\n",
       "</div>"
      ],
      "text/plain": [
       "            0         1         2         3\n",
       "5   -0.539741  0.476985  3.248944 -1.021228\n",
       "97  -0.774363  0.552936  0.106061  3.927528\n",
       "102 -0.655054 -0.565230  3.176873  0.959533\n",
       "305 -2.315555  0.457246 -0.025907 -3.399312\n",
       "324  0.050188  1.951312  3.260383  0.963301\n",
       "400  0.146326  0.508391 -0.196713 -3.745356\n",
       "499 -0.293333 -0.242459 -3.056990  1.918403\n",
       "523 -3.428254 -0.296336 -0.439938 -0.867165\n",
       "586  0.275144  1.179227 -3.184377  1.369891\n",
       "808 -0.362528 -3.548824  1.553205 -2.186301\n",
       "900  3.366626 -2.372214  0.851010  1.332846"
      ]
     },
     "execution_count": 81,
     "metadata": {},
     "output_type": "execute_result"
    }
   ],
   "source": [
    "data[(np.abs(data)>3).any(1)]"
   ]
  },
  {
   "cell_type": "markdown",
   "metadata": {},
   "source": [
    "Here is how we cap off the data at 3:"
   ]
  },
  {
   "cell_type": "code",
   "execution_count": 83,
   "metadata": {
    "collapsed": false
   },
   "outputs": [
    {
     "name": "stdout",
     "output_type": "stream",
     "text": [
      "\n",
      "    0   1   2   3\n",
      "0 NaN NaN NaN NaN\n",
      "1 NaN NaN NaN NaN\n",
      "2 NaN NaN NaN NaN\n",
      "3 NaN NaN NaN NaN\n",
      "4 NaN NaN NaN NaN\n",
      "\n",
      "                 0            1            2            3\n",
      "count  1000.000000  1000.000000  1000.000000  1000.000000\n",
      "mean     -0.067623     0.068473     0.025153    -0.002081\n",
      "std       0.995485     0.990253     1.003977     0.989736\n",
      "min      -3.000000    -3.000000    -3.000000    -3.000000\n",
      "25%      -0.774890    -0.591841    -0.641675    -0.644144\n",
      "50%      -0.116401     0.101143     0.002073    -0.013611\n",
      "75%       0.616366     0.780282     0.680391     0.654328\n",
      "max       3.000000     2.653656     3.000000     3.000000\n"
     ]
    }
   ],
   "source": [
    "print '\\n', data[np.abs(data)>3].head()\n",
    "data[np.abs(data)>3] = np.sign(data)*3\n",
    "print '\\n', data.describe()"
   ]
  },
  {
   "cell_type": "markdown",
   "metadata": {},
   "source": [
    "<a id='perm_rand'></a>\n",
    "### Permutation and Random Sampling:"
   ]
  },
  {
   "cell_type": "code",
   "execution_count": 86,
   "metadata": {
    "collapsed": false
   },
   "outputs": [
    {
     "name": "stdout",
     "output_type": "stream",
     "text": [
      "\n",
      "[1 0 4 3 2]\n",
      "\n",
      "    0   1   2   3\n",
      "0   0   1   2   3\n",
      "1   4   5   6   7\n",
      "2   8   9  10  11\n",
      "3  12  13  14  15\n",
      "4  16  17  18  19\n",
      "\n",
      "    0   1   2   3\n",
      "1   4   5   6   7\n",
      "0   0   1   2   3\n",
      "4  16  17  18  19\n",
      "3  12  13  14  15\n",
      "2   8   9  10  11\n",
      "\n",
      "    1   0   2   3\n",
      "0   1   0   2   3\n",
      "1   5   4   6   7\n",
      "2   9   8  10  11\n",
      "3  13  12  14  15\n",
      "4  17  16  18  19\n"
     ]
    }
   ],
   "source": [
    "df = DataFrame(np.arange(5*4).reshape(5, 4))\n",
    "# to randomly reorder the rows, use np.random.permutation with 'take':\n",
    "sampler = np.random.permutation(5)\n",
    "print '\\n', sampler\n",
    "print '\\n', df\n",
    "print '\\n', df.take(sampler)\n",
    "sampler = np.random.permutation(4)\n",
    "print '\\n', df.take(sampler, axis=1)"
   ]
  },
  {
   "cell_type": "markdown",
   "metadata": {},
   "source": [
    "To select a random subset without replacement, we can do this janky method:"
   ]
  },
  {
   "cell_type": "code",
   "execution_count": 87,
   "metadata": {
    "collapsed": false
   },
   "outputs": [
    {
     "data": {
      "text/html": [
       "<div>\n",
       "<table border=\"1\" class=\"dataframe\">\n",
       "  <thead>\n",
       "    <tr style=\"text-align: right;\">\n",
       "      <th></th>\n",
       "      <th>0</th>\n",
       "      <th>1</th>\n",
       "      <th>2</th>\n",
       "      <th>3</th>\n",
       "    </tr>\n",
       "  </thead>\n",
       "  <tbody>\n",
       "    <tr>\n",
       "      <th>0</th>\n",
       "      <td>0</td>\n",
       "      <td>1</td>\n",
       "      <td>2</td>\n",
       "      <td>3</td>\n",
       "    </tr>\n",
       "    <tr>\n",
       "      <th>3</th>\n",
       "      <td>12</td>\n",
       "      <td>13</td>\n",
       "      <td>14</td>\n",
       "      <td>15</td>\n",
       "    </tr>\n",
       "    <tr>\n",
       "      <th>1</th>\n",
       "      <td>4</td>\n",
       "      <td>5</td>\n",
       "      <td>6</td>\n",
       "      <td>7</td>\n",
       "    </tr>\n",
       "  </tbody>\n",
       "</table>\n",
       "</div>"
      ],
      "text/plain": [
       "    0   1   2   3\n",
       "0   0   1   2   3\n",
       "3  12  13  14  15\n",
       "1   4   5   6   7"
      ]
     },
     "execution_count": 87,
     "metadata": {},
     "output_type": "execute_result"
    }
   ],
   "source": [
    "df.take(np.random.permutation(len(df))[:3]) # takes first 3 random rows"
   ]
  },
  {
   "cell_type": "markdown",
   "metadata": {},
   "source": [
    "To sample WITH replacement, use np.random.randint:"
   ]
  },
  {
   "cell_type": "code",
   "execution_count": 84,
   "metadata": {
    "collapsed": false
   },
   "outputs": [
    {
     "data": {
      "text/plain": [
       "array([4, 3, 2, 2, 2, 4, 4, 4, 4, 2])"
      ]
     },
     "execution_count": 84,
     "metadata": {},
     "output_type": "execute_result"
    }
   ],
   "source": [
    "bag = np.array([5, 7, -1, 6, 4])\n",
    "sampler = np.random.randint(0, len(bag), size=10)\n",
    "sampler"
   ]
  },
  {
   "cell_type": "code",
   "execution_count": 85,
   "metadata": {
    "collapsed": false
   },
   "outputs": [
    {
     "data": {
      "text/plain": [
       "array([ 4,  6, -1, -1, -1,  4,  4,  4,  4, -1])"
      ]
     },
     "execution_count": 85,
     "metadata": {},
     "output_type": "execute_result"
    }
   ],
   "source": [
    "draws= bag.take(sampler) \n",
    "draws #question: NOT a question...comment: this super janky!"
   ]
  },
  {
   "cell_type": "markdown",
   "metadata": {},
   "source": [
    "Computing Indicator/Dummy Variables:"
   ]
  },
  {
   "cell_type": "code",
   "execution_count": 90,
   "metadata": {
    "collapsed": false
   },
   "outputs": [
    {
     "name": "stdout",
     "output_type": "stream",
     "text": [
      "\n",
      "   data1 key\n",
      "0      0   b\n",
      "1      1   b\n",
      "2      2   a\n",
      "3      3   c\n",
      "4      4   a\n",
      "5      5   b\n",
      "\n",
      "     a    b    c\n",
      "0  0.0  1.0  0.0\n",
      "1  0.0  1.0  0.0\n",
      "2  1.0  0.0  0.0\n",
      "3  0.0  0.0  1.0\n",
      "4  1.0  0.0  0.0\n",
      "5  0.0  1.0  0.0\n"
     ]
    }
   ],
   "source": [
    "df = DataFrame({'key': ['b', 'b', 'a', 'c', 'a', 'b'], \n",
    "                'data1': range(6)})\n",
    "print '\\n', df\n",
    "print '\\n', pd.get_dummies(df['key'])"
   ]
  },
  {
   "cell_type": "markdown",
   "metadata": {},
   "source": [
    "Or add a prefix to the column names:"
   ]
  },
  {
   "cell_type": "code",
   "execution_count": 89,
   "metadata": {
    "collapsed": false
   },
   "outputs": [
    {
     "name": "stdout",
     "output_type": "stream",
     "text": [
      "\n",
      "   key_a  key_b  key_c\n",
      "0    0.0    1.0    0.0\n",
      "1    0.0    1.0    0.0\n",
      "2    1.0    0.0    0.0\n",
      "3    0.0    0.0    1.0\n",
      "4    1.0    0.0    0.0\n",
      "5    0.0    1.0    0.0\n",
      "\n",
      "   data1  key_a  key_b  key_c\n",
      "0      0    0.0    1.0    0.0\n",
      "1      1    0.0    1.0    0.0\n",
      "2      2    1.0    0.0    0.0\n",
      "3      3    0.0    0.0    1.0\n",
      "4      4    1.0    0.0    0.0\n",
      "5      5    0.0    1.0    0.0\n"
     ]
    }
   ],
   "source": [
    "dummies = pd.get_dummies(df['key'], prefix = 'key')\n",
    "print '\\n', dummies\n",
    "df_with_dummy = df[['data1']].join(dummies)\n",
    "print '\\n', df_with_dummy"
   ]
  },
  {
   "cell_type": "markdown",
   "metadata": {},
   "source": [
    "We'll probably want to drop the first category..."
   ]
  },
  {
   "cell_type": "code",
   "execution_count": 198,
   "metadata": {
    "collapsed": false
   },
   "outputs": [
    {
     "name": "stdout",
     "output_type": "stream",
     "text": [
      "\n"
     ]
    },
    {
     "ename": "KeyError",
     "evalue": "'key'",
     "output_type": "error",
     "traceback": [
      "\u001b[0;31m---------------------------------------------------------------------------\u001b[0m",
      "\u001b[0;31mKeyError\u001b[0m                                  Traceback (most recent call last)",
      "\u001b[0;32m<ipython-input-198-9125809be5e1>\u001b[0m in \u001b[0;36m<module>\u001b[0;34m()\u001b[0m\n\u001b[0;32m----> 1\u001b[0;31m \u001b[1;32mprint\u001b[0m \u001b[1;34m'\\n'\u001b[0m\u001b[1;33m,\u001b[0m \u001b[0mpd\u001b[0m\u001b[1;33m.\u001b[0m\u001b[0mget_dummies\u001b[0m\u001b[1;33m(\u001b[0m\u001b[0mdf\u001b[0m\u001b[1;33m[\u001b[0m\u001b[1;34m'key'\u001b[0m\u001b[1;33m]\u001b[0m\u001b[1;33m,\u001b[0m\u001b[0mdrop_first\u001b[0m\u001b[1;33m=\u001b[0m\u001b[0mTrue\u001b[0m\u001b[1;33m)\u001b[0m\u001b[1;33m\u001b[0m\u001b[0m\n\u001b[0m",
      "\u001b[0;32mC:\\Users\\User\\Anaconda2\\lib\\site-packages\\pandas\\core\\frame.pyc\u001b[0m in \u001b[0;36m__getitem__\u001b[0;34m(self, key)\u001b[0m\n\u001b[1;32m   1995\u001b[0m             \u001b[1;32mreturn\u001b[0m \u001b[0mself\u001b[0m\u001b[1;33m.\u001b[0m\u001b[0m_getitem_multilevel\u001b[0m\u001b[1;33m(\u001b[0m\u001b[0mkey\u001b[0m\u001b[1;33m)\u001b[0m\u001b[1;33m\u001b[0m\u001b[0m\n\u001b[1;32m   1996\u001b[0m         \u001b[1;32melse\u001b[0m\u001b[1;33m:\u001b[0m\u001b[1;33m\u001b[0m\u001b[0m\n\u001b[0;32m-> 1997\u001b[0;31m             \u001b[1;32mreturn\u001b[0m \u001b[0mself\u001b[0m\u001b[1;33m.\u001b[0m\u001b[0m_getitem_column\u001b[0m\u001b[1;33m(\u001b[0m\u001b[0mkey\u001b[0m\u001b[1;33m)\u001b[0m\u001b[1;33m\u001b[0m\u001b[0m\n\u001b[0m\u001b[1;32m   1998\u001b[0m \u001b[1;33m\u001b[0m\u001b[0m\n\u001b[1;32m   1999\u001b[0m     \u001b[1;32mdef\u001b[0m \u001b[0m_getitem_column\u001b[0m\u001b[1;33m(\u001b[0m\u001b[0mself\u001b[0m\u001b[1;33m,\u001b[0m \u001b[0mkey\u001b[0m\u001b[1;33m)\u001b[0m\u001b[1;33m:\u001b[0m\u001b[1;33m\u001b[0m\u001b[0m\n",
      "\u001b[0;32mC:\\Users\\User\\Anaconda2\\lib\\site-packages\\pandas\\core\\frame.pyc\u001b[0m in \u001b[0;36m_getitem_column\u001b[0;34m(self, key)\u001b[0m\n\u001b[1;32m   2002\u001b[0m         \u001b[1;31m# get column\u001b[0m\u001b[1;33m\u001b[0m\u001b[1;33m\u001b[0m\u001b[0m\n\u001b[1;32m   2003\u001b[0m         \u001b[1;32mif\u001b[0m \u001b[0mself\u001b[0m\u001b[1;33m.\u001b[0m\u001b[0mcolumns\u001b[0m\u001b[1;33m.\u001b[0m\u001b[0mis_unique\u001b[0m\u001b[1;33m:\u001b[0m\u001b[1;33m\u001b[0m\u001b[0m\n\u001b[0;32m-> 2004\u001b[0;31m             \u001b[1;32mreturn\u001b[0m \u001b[0mself\u001b[0m\u001b[1;33m.\u001b[0m\u001b[0m_get_item_cache\u001b[0m\u001b[1;33m(\u001b[0m\u001b[0mkey\u001b[0m\u001b[1;33m)\u001b[0m\u001b[1;33m\u001b[0m\u001b[0m\n\u001b[0m\u001b[1;32m   2005\u001b[0m \u001b[1;33m\u001b[0m\u001b[0m\n\u001b[1;32m   2006\u001b[0m         \u001b[1;31m# duplicate columns & possible reduce dimensionality\u001b[0m\u001b[1;33m\u001b[0m\u001b[1;33m\u001b[0m\u001b[0m\n",
      "\u001b[0;32mC:\\Users\\User\\Anaconda2\\lib\\site-packages\\pandas\\core\\generic.pyc\u001b[0m in \u001b[0;36m_get_item_cache\u001b[0;34m(self, item)\u001b[0m\n\u001b[1;32m   1348\u001b[0m         \u001b[0mres\u001b[0m \u001b[1;33m=\u001b[0m \u001b[0mcache\u001b[0m\u001b[1;33m.\u001b[0m\u001b[0mget\u001b[0m\u001b[1;33m(\u001b[0m\u001b[0mitem\u001b[0m\u001b[1;33m)\u001b[0m\u001b[1;33m\u001b[0m\u001b[0m\n\u001b[1;32m   1349\u001b[0m         \u001b[1;32mif\u001b[0m \u001b[0mres\u001b[0m \u001b[1;32mis\u001b[0m \u001b[0mNone\u001b[0m\u001b[1;33m:\u001b[0m\u001b[1;33m\u001b[0m\u001b[0m\n\u001b[0;32m-> 1350\u001b[0;31m             \u001b[0mvalues\u001b[0m \u001b[1;33m=\u001b[0m \u001b[0mself\u001b[0m\u001b[1;33m.\u001b[0m\u001b[0m_data\u001b[0m\u001b[1;33m.\u001b[0m\u001b[0mget\u001b[0m\u001b[1;33m(\u001b[0m\u001b[0mitem\u001b[0m\u001b[1;33m)\u001b[0m\u001b[1;33m\u001b[0m\u001b[0m\n\u001b[0m\u001b[1;32m   1351\u001b[0m             \u001b[0mres\u001b[0m \u001b[1;33m=\u001b[0m \u001b[0mself\u001b[0m\u001b[1;33m.\u001b[0m\u001b[0m_box_item_values\u001b[0m\u001b[1;33m(\u001b[0m\u001b[0mitem\u001b[0m\u001b[1;33m,\u001b[0m \u001b[0mvalues\u001b[0m\u001b[1;33m)\u001b[0m\u001b[1;33m\u001b[0m\u001b[0m\n\u001b[1;32m   1352\u001b[0m             \u001b[0mcache\u001b[0m\u001b[1;33m[\u001b[0m\u001b[0mitem\u001b[0m\u001b[1;33m]\u001b[0m \u001b[1;33m=\u001b[0m \u001b[0mres\u001b[0m\u001b[1;33m\u001b[0m\u001b[0m\n",
      "\u001b[0;32mC:\\Users\\User\\Anaconda2\\lib\\site-packages\\pandas\\core\\internals.pyc\u001b[0m in \u001b[0;36mget\u001b[0;34m(self, item, fastpath)\u001b[0m\n\u001b[1;32m   3288\u001b[0m \u001b[1;33m\u001b[0m\u001b[0m\n\u001b[1;32m   3289\u001b[0m             \u001b[1;32mif\u001b[0m \u001b[1;32mnot\u001b[0m \u001b[0misnull\u001b[0m\u001b[1;33m(\u001b[0m\u001b[0mitem\u001b[0m\u001b[1;33m)\u001b[0m\u001b[1;33m:\u001b[0m\u001b[1;33m\u001b[0m\u001b[0m\n\u001b[0;32m-> 3290\u001b[0;31m                 \u001b[0mloc\u001b[0m \u001b[1;33m=\u001b[0m \u001b[0mself\u001b[0m\u001b[1;33m.\u001b[0m\u001b[0mitems\u001b[0m\u001b[1;33m.\u001b[0m\u001b[0mget_loc\u001b[0m\u001b[1;33m(\u001b[0m\u001b[0mitem\u001b[0m\u001b[1;33m)\u001b[0m\u001b[1;33m\u001b[0m\u001b[0m\n\u001b[0m\u001b[1;32m   3291\u001b[0m             \u001b[1;32melse\u001b[0m\u001b[1;33m:\u001b[0m\u001b[1;33m\u001b[0m\u001b[0m\n\u001b[1;32m   3292\u001b[0m                 \u001b[0mindexer\u001b[0m \u001b[1;33m=\u001b[0m \u001b[0mnp\u001b[0m\u001b[1;33m.\u001b[0m\u001b[0marange\u001b[0m\u001b[1;33m(\u001b[0m\u001b[0mlen\u001b[0m\u001b[1;33m(\u001b[0m\u001b[0mself\u001b[0m\u001b[1;33m.\u001b[0m\u001b[0mitems\u001b[0m\u001b[1;33m)\u001b[0m\u001b[1;33m)\u001b[0m\u001b[1;33m[\u001b[0m\u001b[0misnull\u001b[0m\u001b[1;33m(\u001b[0m\u001b[0mself\u001b[0m\u001b[1;33m.\u001b[0m\u001b[0mitems\u001b[0m\u001b[1;33m)\u001b[0m\u001b[1;33m]\u001b[0m\u001b[1;33m\u001b[0m\u001b[0m\n",
      "\u001b[0;32mC:\\Users\\User\\Anaconda2\\lib\\site-packages\\pandas\\indexes\\base.pyc\u001b[0m in \u001b[0;36mget_loc\u001b[0;34m(self, key, method, tolerance)\u001b[0m\n\u001b[1;32m   1945\u001b[0m                 \u001b[1;32mreturn\u001b[0m \u001b[0mself\u001b[0m\u001b[1;33m.\u001b[0m\u001b[0m_engine\u001b[0m\u001b[1;33m.\u001b[0m\u001b[0mget_loc\u001b[0m\u001b[1;33m(\u001b[0m\u001b[0mkey\u001b[0m\u001b[1;33m)\u001b[0m\u001b[1;33m\u001b[0m\u001b[0m\n\u001b[1;32m   1946\u001b[0m             \u001b[1;32mexcept\u001b[0m \u001b[0mKeyError\u001b[0m\u001b[1;33m:\u001b[0m\u001b[1;33m\u001b[0m\u001b[0m\n\u001b[0;32m-> 1947\u001b[0;31m                 \u001b[1;32mreturn\u001b[0m \u001b[0mself\u001b[0m\u001b[1;33m.\u001b[0m\u001b[0m_engine\u001b[0m\u001b[1;33m.\u001b[0m\u001b[0mget_loc\u001b[0m\u001b[1;33m(\u001b[0m\u001b[0mself\u001b[0m\u001b[1;33m.\u001b[0m\u001b[0m_maybe_cast_indexer\u001b[0m\u001b[1;33m(\u001b[0m\u001b[0mkey\u001b[0m\u001b[1;33m)\u001b[0m\u001b[1;33m)\u001b[0m\u001b[1;33m\u001b[0m\u001b[0m\n\u001b[0m\u001b[1;32m   1948\u001b[0m \u001b[1;33m\u001b[0m\u001b[0m\n\u001b[1;32m   1949\u001b[0m         \u001b[0mindexer\u001b[0m \u001b[1;33m=\u001b[0m \u001b[0mself\u001b[0m\u001b[1;33m.\u001b[0m\u001b[0mget_indexer\u001b[0m\u001b[1;33m(\u001b[0m\u001b[1;33m[\u001b[0m\u001b[0mkey\u001b[0m\u001b[1;33m]\u001b[0m\u001b[1;33m,\u001b[0m \u001b[0mmethod\u001b[0m\u001b[1;33m=\u001b[0m\u001b[0mmethod\u001b[0m\u001b[1;33m,\u001b[0m \u001b[0mtolerance\u001b[0m\u001b[1;33m=\u001b[0m\u001b[0mtolerance\u001b[0m\u001b[1;33m)\u001b[0m\u001b[1;33m\u001b[0m\u001b[0m\n",
      "\u001b[0;32mpandas\\index.pyx\u001b[0m in \u001b[0;36mpandas.index.IndexEngine.get_loc (pandas\\index.c:4154)\u001b[0;34m()\u001b[0m\n",
      "\u001b[0;32mpandas\\index.pyx\u001b[0m in \u001b[0;36mpandas.index.IndexEngine.get_loc (pandas\\index.c:4018)\u001b[0;34m()\u001b[0m\n",
      "\u001b[0;32mpandas\\hashtable.pyx\u001b[0m in \u001b[0;36mpandas.hashtable.PyObjectHashTable.get_item (pandas\\hashtable.c:12368)\u001b[0;34m()\u001b[0m\n",
      "\u001b[0;32mpandas\\hashtable.pyx\u001b[0m in \u001b[0;36mpandas.hashtable.PyObjectHashTable.get_item (pandas\\hashtable.c:12322)\u001b[0;34m()\u001b[0m\n",
      "\u001b[0;31mKeyError\u001b[0m: 'key'"
     ]
    }
   ],
   "source": [
    "print '\\n', pd.get_dummies(df['key'],drop_first=True)"
   ]
  },
  {
   "cell_type": "markdown",
   "metadata": {},
   "source": [
    "<a id='strings'></a>\n",
    "### String manipulation"
   ]
  },
  {
   "cell_type": "markdown",
   "metadata": {},
   "source": [
    "Split:"
   ]
  },
  {
   "cell_type": "code",
   "execution_count": 93,
   "metadata": {
    "collapsed": false
   },
   "outputs": [
    {
     "data": {
      "text/plain": [
       "['a', 'b', ' guido']"
      ]
     },
     "execution_count": 93,
     "metadata": {},
     "output_type": "execute_result"
    }
   ],
   "source": [
    "val = 'a,b, guido'\n",
    "val.split(',')"
   ]
  },
  {
   "cell_type": "markdown",
   "metadata": {},
   "source": [
    "Strip (trim):"
   ]
  },
  {
   "cell_type": "code",
   "execution_count": 94,
   "metadata": {
    "collapsed": false
   },
   "outputs": [
    {
     "data": {
      "text/plain": [
       "['a', 'b', 'guido']"
      ]
     },
     "execution_count": 94,
     "metadata": {},
     "output_type": "execute_result"
    }
   ],
   "source": [
    "pieces = [x.strip() for x in val.split(',')]\n",
    "pieces"
   ]
  },
  {
   "cell_type": "markdown",
   "metadata": {},
   "source": [
    "Concatenation:"
   ]
  },
  {
   "cell_type": "code",
   "execution_count": 97,
   "metadata": {
    "collapsed": false
   },
   "outputs": [
    {
     "name": "stdout",
     "output_type": "stream",
     "text": [
      "\n",
      "['a', 'b', 'guido']\n",
      "\n",
      "a::b::guido\n"
     ]
    }
   ],
   "source": [
    "first, second, third = pieces\n",
    "print '\\n', pieces\n",
    "print '\\n', first + '::' + second + '::' + third"
   ]
  },
  {
   "cell_type": "markdown",
   "metadata": {},
   "source": [
    "Faster concatenation is with join:"
   ]
  },
  {
   "cell_type": "code",
   "execution_count": 96,
   "metadata": {
    "collapsed": false
   },
   "outputs": [
    {
     "data": {
      "text/plain": [
       "'a::b::guido'"
      ]
     },
     "execution_count": 96,
     "metadata": {},
     "output_type": "execute_result"
    }
   ],
   "source": [
    "'::'.join(pieces)"
   ]
  },
  {
   "cell_type": "markdown",
   "metadata": {},
   "source": [
    "To find substrings, use 'in' or 'index' or 'find':"
   ]
  },
  {
   "cell_type": "code",
   "execution_count": 99,
   "metadata": {
    "collapsed": false
   },
   "outputs": [
    {
     "name": "stdout",
     "output_type": "stream",
     "text": [
      "\n",
      "True\n",
      "\n",
      "1\n",
      "\n",
      "a,b, guido\n",
      "\n",
      "-1\n",
      "\n",
      "2\n"
     ]
    }
   ],
   "source": [
    "print '\\n', 'guido' in val\n",
    "print '\\n', val.index(',')\n",
    "print '\\n', val\n",
    "print '\\n', val.find('&')\n",
    "print '\\n', val.find('b')"
   ]
  },
  {
   "cell_type": "markdown",
   "metadata": {},
   "source": [
    "Index raises an exception if the string isn't found:"
   ]
  },
  {
   "cell_type": "code",
   "execution_count": 100,
   "metadata": {
    "collapsed": false
   },
   "outputs": [
    {
     "ename": "ValueError",
     "evalue": "substring not found",
     "output_type": "error",
     "traceback": [
      "\u001b[0;31m---------------------------------------------------------------------------\u001b[0m",
      "\u001b[0;31mValueError\u001b[0m                                Traceback (most recent call last)",
      "\u001b[0;32m<ipython-input-100-280f8b2856ce>\u001b[0m in \u001b[0;36m<module>\u001b[0;34m()\u001b[0m\n\u001b[0;32m----> 1\u001b[0;31m \u001b[0mval\u001b[0m\u001b[1;33m.\u001b[0m\u001b[0mindex\u001b[0m\u001b[1;33m(\u001b[0m\u001b[1;34m':'\u001b[0m\u001b[1;33m)\u001b[0m\u001b[1;33m\u001b[0m\u001b[0m\n\u001b[0m",
      "\u001b[0;31mValueError\u001b[0m: substring not found"
     ]
    }
   ],
   "source": [
    "val.index(':')"
   ]
  },
  {
   "cell_type": "markdown",
   "metadata": {},
   "source": [
    "Count string values:"
   ]
  },
  {
   "cell_type": "code",
   "execution_count": 101,
   "metadata": {
    "collapsed": false
   },
   "outputs": [
    {
     "data": {
      "text/plain": [
       "2"
      ]
     },
     "execution_count": 101,
     "metadata": {},
     "output_type": "execute_result"
    }
   ],
   "source": [
    "val.count(',')"
   ]
  },
  {
   "cell_type": "markdown",
   "metadata": {},
   "source": [
    "Replace"
   ]
  },
  {
   "cell_type": "code",
   "execution_count": 102,
   "metadata": {
    "collapsed": false
   },
   "outputs": [
    {
     "name": "stdout",
     "output_type": "stream",
     "text": [
      "\n",
      "a::b:: guido\n",
      "\n",
      "ab guido\n"
     ]
    }
   ],
   "source": [
    "print '\\n', val.replace(',', '::')\n",
    "print '\\n', val.replace(',','')"
   ]
  },
  {
   "cell_type": "markdown",
   "metadata": {},
   "source": [
    "<a id='grouping'></a>\n",
    "### Grouping and aggregation"
   ]
  },
  {
   "cell_type": "code",
   "execution_count": 103,
   "metadata": {
    "collapsed": false
   },
   "outputs": [
    {
     "name": "stdout",
     "output_type": "stream",
     "text": [
      "\n",
      "      data1     data2 key1 key2\n",
      "0  1.986957 -1.140450    a  one\n",
      "1 -0.748540  0.130485    a  two\n",
      "2  0.617442 -0.089647    b  one\n",
      "3  2.310407 -0.723089    b  two\n",
      "4 -0.052347 -0.199605    a  one\n",
      "\n",
      "<pandas.core.groupby.SeriesGroupBy object at 0x00000000085743C8>\n",
      "\n",
      "key1\n",
      "a    0.395357\n",
      "b    1.463925\n",
      "Name: data1, dtype: float64\n"
     ]
    }
   ],
   "source": [
    "df = DataFrame({'key1' : ['a', 'a', 'b', 'b', 'a'],\n",
    "                'key2' : ['one', 'two', 'one', 'two', 'one'],\n",
    "                'data1' : np.random.randn(5),\n",
    "                'data2' : np.random.randn(5)})\n",
    "print '\\n', df\n",
    "# getting the average of data1 using key1\n",
    "grouped = df['data1'].groupby(df['key1'])\n",
    "print '\\n', grouped\n",
    "print '\\n', grouped.mean()"
   ]
  },
  {
   "cell_type": "markdown",
   "metadata": {},
   "source": [
    "If we passed multiple arrays as a list, we get something different:"
   ]
  },
  {
   "cell_type": "code",
   "execution_count": 104,
   "metadata": {
    "collapsed": false
   },
   "outputs": [
    {
     "name": "stdout",
     "output_type": "stream",
     "text": [
      "\n",
      "key1  key2\n",
      "a     one     0.967305\n",
      "      two    -0.748540\n",
      "b     one     0.617442\n",
      "      two     2.310407\n",
      "Name: data1, dtype: float64\n",
      "\n",
      "key2       one       two\n",
      "key1                    \n",
      "a     0.967305 -0.748540\n",
      "b     0.617442  2.310407\n"
     ]
    }
   ],
   "source": [
    "means = df['data1'].groupby([df['key1'],df['key2']]).mean()\n",
    "print '\\n', means\n",
    "print '\\n', means.unstack()"
   ]
  },
  {
   "cell_type": "markdown",
   "metadata": {},
   "source": [
    "We can also change the keys to be arrays:"
   ]
  },
  {
   "cell_type": "code",
   "execution_count": 105,
   "metadata": {
    "collapsed": false
   },
   "outputs": [
    {
     "data": {
      "text/plain": [
       "California  2005   -0.748540\n",
       "            2006    0.617442\n",
       "Ohio        2005    2.148682\n",
       "            2006   -0.052347\n",
       "Name: data1, dtype: float64"
      ]
     },
     "execution_count": 105,
     "metadata": {},
     "output_type": "execute_result"
    }
   ],
   "source": [
    "states = np.array(['Ohio', 'California', 'California', 'Ohio', 'Ohio'])\n",
    "years = np.array([2005, 2005, 2006, 2005, 2006])\n",
    "df['data1'].groupby([states, years]).mean()"
   ]
  },
  {
   "cell_type": "markdown",
   "metadata": {},
   "source": [
    "We can pass column names as group keys:"
   ]
  },
  {
   "cell_type": "code",
   "execution_count": 107,
   "metadata": {
    "collapsed": false
   },
   "outputs": [
    {
     "name": "stdout",
     "output_type": "stream",
     "text": [
      "\n",
      "         data1     data2\n",
      "key1                    \n",
      "a     0.395357 -0.403190\n",
      "b     1.463925 -0.406368\n",
      "\n",
      "              data1     data2\n",
      "key1 key2                    \n",
      "a    one   0.967305 -0.670028\n",
      "     two  -0.748540  0.130485\n",
      "b    one   0.617442 -0.089647\n",
      "     two   2.310407 -0.723089\n"
     ]
    }
   ],
   "source": [
    "print '\\n', df.groupby('key1').mean()\n",
    "print '\\n', df.groupby(['key1', 'key2']).mean()"
   ]
  },
  {
   "cell_type": "markdown",
   "metadata": {},
   "source": [
    "Size:"
   ]
  },
  {
   "cell_type": "code",
   "execution_count": 109,
   "metadata": {
    "collapsed": false
   },
   "outputs": [
    {
     "name": "stdout",
     "output_type": "stream",
     "text": [
      "\n",
      "      data1     data2 key1 key2\n",
      "0  1.986957 -1.140450    a  one\n",
      "1 -0.748540  0.130485    a  two\n",
      "2  0.617442 -0.089647    b  one\n",
      "3  2.310407 -0.723089    b  two\n",
      "4 -0.052347 -0.199605    a  one\n",
      "\n",
      "key1  key2\n",
      "a     one     2\n",
      "      two     1\n",
      "b     one     1\n",
      "      two     1\n",
      "dtype: int64\n"
     ]
    }
   ],
   "source": [
    "print '\\n', df\n",
    "print '\\n', df.groupby(['key1', 'key2']).size()"
   ]
  },
  {
   "cell_type": "markdown",
   "metadata": {},
   "source": [
    "Iterating over groups:"
   ]
  },
  {
   "cell_type": "code",
   "execution_count": 110,
   "metadata": {
    "collapsed": false
   },
   "outputs": [
    {
     "name": "stdout",
     "output_type": "stream",
     "text": [
      "a\n",
      "      data1     data2 key1 key2\n",
      "0  1.986957 -1.140450    a  one\n",
      "1 -0.748540  0.130485    a  two\n",
      "4 -0.052347 -0.199605    a  one\n",
      "b\n",
      "      data1     data2 key1 key2\n",
      "2  0.617442 -0.089647    b  one\n",
      "3  2.310407 -0.723089    b  two\n"
     ]
    }
   ],
   "source": [
    "for name, group in df.groupby('key1'):\n",
    "    print name\n",
    "    print group"
   ]
  },
  {
   "cell_type": "markdown",
   "metadata": {},
   "source": [
    "In case of multiple keys, 1st element in the tuple is a tuple of value keys:"
   ]
  },
  {
   "cell_type": "code",
   "execution_count": 111,
   "metadata": {
    "collapsed": false
   },
   "outputs": [
    {
     "name": "stdout",
     "output_type": "stream",
     "text": [
      "a one\n",
      "      data1     data2 key1 key2\n",
      "0  1.986957 -1.140450    a  one\n",
      "4 -0.052347 -0.199605    a  one\n",
      "a two\n",
      "     data1     data2 key1 key2\n",
      "1 -0.74854  0.130485    a  two\n",
      "b one\n",
      "      data1     data2 key1 key2\n",
      "2  0.617442 -0.089647    b  one\n",
      "b two\n",
      "      data1     data2 key1 key2\n",
      "3  2.310407 -0.723089    b  two\n"
     ]
    }
   ],
   "source": [
    "for (k1, k2), group in df.groupby(['key1', 'key2']):\n",
    "    print k1, k2\n",
    "    print group"
   ]
  },
  {
   "cell_type": "markdown",
   "metadata": {},
   "source": [
    "Computing a dict of the data pieces as a one-liner:"
   ]
  },
  {
   "cell_type": "code",
   "execution_count": 112,
   "metadata": {
    "collapsed": false
   },
   "outputs": [
    {
     "name": "stdout",
     "output_type": "stream",
     "text": [
      "\n",
      "      data1     data2 key1 key2\n",
      "2  0.617442 -0.089647    b  one\n",
      "3  2.310407 -0.723089    b  two\n",
      "\n",
      "      data1     data2 key1 key2\n",
      "0  1.986957 -1.140450    a  one\n",
      "1 -0.748540  0.130485    a  two\n",
      "4 -0.052347 -0.199605    a  one\n"
     ]
    }
   ],
   "source": [
    "pieces = dict(list(df.groupby('key1')))\n",
    "print '\\n', pieces['b']\n",
    "print '\\n', pieces['a']"
   ]
  },
  {
   "cell_type": "markdown",
   "metadata": {},
   "source": [
    "We can group by any of the axes, tho default is axis=0:"
   ]
  },
  {
   "cell_type": "code",
   "execution_count": 122,
   "metadata": {
    "collapsed": false
   },
   "outputs": [
    {
     "name": "stdout",
     "output_type": "stream",
     "text": [
      "data1    float64\n",
      "data2    float64\n",
      "key1      object\n",
      "key2      object\n",
      "dtype: object\n",
      "\n",
      "Empty DataFrame\n",
      "Columns: []\n",
      "Index: []\n"
     ]
    }
   ],
   "source": [
    "print df.dtypes\n",
    "grouped = df.groupby(['key1', 'key2'], axis=1)\n",
    "print '\\n', grouped.mean()"
   ]
  },
  {
   "cell_type": "markdown",
   "metadata": {},
   "source": [
    "Select a Column or Subset of Columns:\n",
    "- indexing a groupby object using a column name has the effect of selecting:"
   ]
  },
  {
   "cell_type": "code",
   "execution_count": 123,
   "metadata": {
    "collapsed": false
   },
   "outputs": [
    {
     "data": {
      "text/plain": [
       "<pandas.core.groupby.SeriesGroupBy object at 0x00000000085635F8>"
      ]
     },
     "execution_count": 123,
     "metadata": {},
     "output_type": "execute_result"
    }
   ],
   "source": [
    "df.groupby('key1')['data1'] # is the same as:\n",
    "df['data1'].groupby(df['key1'])"
   ]
  },
  {
   "cell_type": "markdown",
   "metadata": {},
   "source": [
    "To compute means for just data2 column and get a DF as output:"
   ]
  },
  {
   "cell_type": "code",
   "execution_count": 125,
   "metadata": {
    "collapsed": false
   },
   "outputs": [
    {
     "data": {
      "text/plain": [
       "key1  key2\n",
       "a     one    -0.670028\n",
       "      two     0.130485\n",
       "b     one    -0.089647\n",
       "      two    -0.723089\n",
       "Name: data2, dtype: float64"
      ]
     },
     "execution_count": 125,
     "metadata": {},
     "output_type": "execute_result"
    }
   ],
   "source": [
    "df.groupby(['key1', 'key2'])[['data2']].mean() # note: same as:\n",
    "df['data2'].groupby([df['key1'],df['key2']]).mean()"
   ]
  },
  {
   "cell_type": "markdown",
   "metadata": {},
   "source": [
    "The object returned by this indexing operation is a grouped DF or Series:"
   ]
  },
  {
   "cell_type": "code",
   "execution_count": 126,
   "metadata": {
    "collapsed": false
   },
   "outputs": [
    {
     "name": "stdout",
     "output_type": "stream",
     "text": [
      "\n",
      "<pandas.core.groupby.SeriesGroupBy object at 0x0000000008574FD0>\n",
      "\n",
      "<pandas.core.groupby.DataFrameGroupBy object at 0x00000000086C52E8>\n"
     ]
    }
   ],
   "source": [
    "s_grouped = df.groupby(['key1', 'key2'])['data2']\n",
    "print '\\n', s_grouped\n",
    "df_grouped = df.groupby(['key1', 'key2'])\n",
    "print '\\n', df_grouped"
   ]
  },
  {
   "cell_type": "markdown",
   "metadata": {},
   "source": [
    "Grouping with Dicts and Series:"
   ]
  },
  {
   "cell_type": "code",
   "execution_count": 128,
   "metadata": {
    "collapsed": false
   },
   "outputs": [
    {
     "name": "stdout",
     "output_type": "stream",
     "text": [
      "\n",
      "               a         b         c         d         e\n",
      "Joe    -0.980581  0.457827  1.425805  1.382314 -0.581621\n",
      "Steve   0.585618 -0.609188 -0.083433 -0.129360  0.762553\n",
      "Wes    -0.169808  0.570705 -1.122823 -1.536693  0.091255\n",
      "Jim     0.228190  0.383707  0.486570  1.305298  0.488750\n",
      "Travis -0.080597 -0.120046  0.664978  0.580139  0.598920\n",
      "\n",
      "            blue       red\n",
      "Joe     2.808119 -1.104375\n",
      "Steve  -0.212793  0.738983\n",
      "Wes    -2.659516  0.492151\n",
      "Jim     1.791868  1.100647\n",
      "Travis  1.245117  0.398277\n",
      "\n",
      "Empty DataFrame\n",
      "Columns: [a, b, c, d, e]\n",
      "Index: []\n"
     ]
    }
   ],
   "source": [
    "# create a dataframe\n",
    "people = DataFrame(np.random.randn(5, 5), \n",
    "                   columns=['a', 'b', 'c', 'd', 'e'], \n",
    "                    index=['Joe', 'Steve', 'Wes', 'Jim', 'Travis'])\n",
    "print '\\n', people\n",
    "# create a group correspondence\n",
    "mapping = {'a': 'red', 'b': 'red', 'c': 'blue',\n",
    "           'd': 'blue', 'e': 'red', 'f': 'orange'}\n",
    "\n",
    "# we could construct an array from this dict & pass to groupby, or:\n",
    "by_column = people.groupby(mapping, axis=1)\n",
    "print '\\n', by_column.sum()\n",
    "people.groupby(mapping, axis=1).sum()\n",
    "by_column = people.groupby(mapping)\n",
    "print '\\n', by_column.sum() #this no worky b/c the corresponding group exists on axis 1"
   ]
  },
  {
   "cell_type": "markdown",
   "metadata": {},
   "source": [
    "The same thing holds for Series:"
   ]
  },
  {
   "cell_type": "code",
   "execution_count": 133,
   "metadata": {
    "collapsed": false
   },
   "outputs": [
    {
     "name": "stdout",
     "output_type": "stream",
     "text": [
      "\n",
      "a       red\n",
      "b       red\n",
      "c      blue\n",
      "d      blue\n",
      "e       red\n",
      "f    orange\n",
      "dtype: object\n",
      "\n",
      "        blue  red\n",
      "Joe        2    3\n",
      "Steve      2    3\n",
      "Wes        2    3\n",
      "Jim        2    3\n",
      "Travis     2    3\n"
     ]
    }
   ],
   "source": [
    "map_series = Series(mapping)\n",
    "print '\\n', map_series\n",
    "print '\\n', people.groupby(map_series, axis=1).count()"
   ]
  },
  {
   "cell_type": "markdown",
   "metadata": {},
   "source": [
    "<a id='agg_func'></a>\n",
    "### Data grouping aggregation with functions"
   ]
  },
  {
   "cell_type": "code",
   "execution_count": 134,
   "metadata": {
    "collapsed": false
   },
   "outputs": [
    {
     "data": {
      "text/html": [
       "<div>\n",
       "<table border=\"1\" class=\"dataframe\">\n",
       "  <thead>\n",
       "    <tr style=\"text-align: right;\">\n",
       "      <th></th>\n",
       "      <th>a</th>\n",
       "      <th>b</th>\n",
       "      <th>c</th>\n",
       "      <th>d</th>\n",
       "      <th>e</th>\n",
       "    </tr>\n",
       "  </thead>\n",
       "  <tbody>\n",
       "    <tr>\n",
       "      <th>3</th>\n",
       "      <td>-0.922200</td>\n",
       "      <td>1.412239</td>\n",
       "      <td>0.789553</td>\n",
       "      <td>1.150919</td>\n",
       "      <td>-0.001616</td>\n",
       "    </tr>\n",
       "    <tr>\n",
       "      <th>5</th>\n",
       "      <td>0.585618</td>\n",
       "      <td>-0.609188</td>\n",
       "      <td>-0.083433</td>\n",
       "      <td>-0.129360</td>\n",
       "      <td>0.762553</td>\n",
       "    </tr>\n",
       "    <tr>\n",
       "      <th>6</th>\n",
       "      <td>-0.080597</td>\n",
       "      <td>-0.120046</td>\n",
       "      <td>0.664978</td>\n",
       "      <td>0.580139</td>\n",
       "      <td>0.598920</td>\n",
       "    </tr>\n",
       "  </tbody>\n",
       "</table>\n",
       "</div>"
      ],
      "text/plain": [
       "          a         b         c         d         e\n",
       "3 -0.922200  1.412239  0.789553  1.150919 -0.001616\n",
       "5  0.585618 -0.609188 -0.083433 -0.129360  0.762553\n",
       "6 -0.080597 -0.120046  0.664978  0.580139  0.598920"
      ]
     },
     "execution_count": 134,
     "metadata": {},
     "output_type": "execute_result"
    }
   ],
   "source": [
    "people.groupby(len).sum()"
   ]
  },
  {
   "cell_type": "markdown",
   "metadata": {},
   "source": [
    "You can mix functions with arrays, dicts, or Series:"
   ]
  },
  {
   "cell_type": "code",
   "execution_count": 135,
   "metadata": {
    "collapsed": false
   },
   "outputs": [
    {
     "data": {
      "text/html": [
       "<div>\n",
       "<table border=\"1\" class=\"dataframe\">\n",
       "  <thead>\n",
       "    <tr style=\"text-align: right;\">\n",
       "      <th></th>\n",
       "      <th></th>\n",
       "      <th>a</th>\n",
       "      <th>b</th>\n",
       "      <th>c</th>\n",
       "      <th>d</th>\n",
       "      <th>e</th>\n",
       "    </tr>\n",
       "  </thead>\n",
       "  <tbody>\n",
       "    <tr>\n",
       "      <th rowspan=\"2\" valign=\"top\">3</th>\n",
       "      <th>one</th>\n",
       "      <td>-0.980581</td>\n",
       "      <td>0.457827</td>\n",
       "      <td>-1.122823</td>\n",
       "      <td>-1.536693</td>\n",
       "      <td>-0.581621</td>\n",
       "    </tr>\n",
       "    <tr>\n",
       "      <th>two</th>\n",
       "      <td>0.228190</td>\n",
       "      <td>0.383707</td>\n",
       "      <td>0.486570</td>\n",
       "      <td>1.305298</td>\n",
       "      <td>0.488750</td>\n",
       "    </tr>\n",
       "    <tr>\n",
       "      <th>5</th>\n",
       "      <th>one</th>\n",
       "      <td>0.585618</td>\n",
       "      <td>-0.609188</td>\n",
       "      <td>-0.083433</td>\n",
       "      <td>-0.129360</td>\n",
       "      <td>0.762553</td>\n",
       "    </tr>\n",
       "    <tr>\n",
       "      <th>6</th>\n",
       "      <th>two</th>\n",
       "      <td>-0.080597</td>\n",
       "      <td>-0.120046</td>\n",
       "      <td>0.664978</td>\n",
       "      <td>0.580139</td>\n",
       "      <td>0.598920</td>\n",
       "    </tr>\n",
       "  </tbody>\n",
       "</table>\n",
       "</div>"
      ],
      "text/plain": [
       "              a         b         c         d         e\n",
       "3 one -0.980581  0.457827 -1.122823 -1.536693 -0.581621\n",
       "  two  0.228190  0.383707  0.486570  1.305298  0.488750\n",
       "5 one  0.585618 -0.609188 -0.083433 -0.129360  0.762553\n",
       "6 two -0.080597 -0.120046  0.664978  0.580139  0.598920"
      ]
     },
     "execution_count": 135,
     "metadata": {},
     "output_type": "execute_result"
    }
   ],
   "source": [
    "key_list = ['one', 'one', 'one', 'two', 'two']\n",
    "people.groupby([len, key_list]).min()"
   ]
  },
  {
   "cell_type": "markdown",
   "metadata": {},
   "source": [
    "Grouping by index levels:"
   ]
  },
  {
   "cell_type": "code",
   "execution_count": 136,
   "metadata": {
    "collapsed": false
   },
   "outputs": [
    {
     "data": {
      "text/html": [
       "<div>\n",
       "<table border=\"1\" class=\"dataframe\">\n",
       "  <thead>\n",
       "    <tr style=\"text-align: right;\">\n",
       "      <th>cty</th>\n",
       "      <th>JP</th>\n",
       "      <th>US</th>\n",
       "    </tr>\n",
       "  </thead>\n",
       "  <tbody>\n",
       "    <tr>\n",
       "      <th>0</th>\n",
       "      <td>2</td>\n",
       "      <td>3</td>\n",
       "    </tr>\n",
       "    <tr>\n",
       "      <th>1</th>\n",
       "      <td>2</td>\n",
       "      <td>3</td>\n",
       "    </tr>\n",
       "    <tr>\n",
       "      <th>2</th>\n",
       "      <td>2</td>\n",
       "      <td>3</td>\n",
       "    </tr>\n",
       "    <tr>\n",
       "      <th>3</th>\n",
       "      <td>2</td>\n",
       "      <td>3</td>\n",
       "    </tr>\n",
       "  </tbody>\n",
       "</table>\n",
       "</div>"
      ],
      "text/plain": [
       "cty  JP  US\n",
       "0     2   3\n",
       "1     2   3\n",
       "2     2   3\n",
       "3     2   3"
      ]
     },
     "execution_count": 136,
     "metadata": {},
     "output_type": "execute_result"
    }
   ],
   "source": [
    "columns = pd.MultiIndex.from_arrays([['US', 'US', 'US', 'JP', 'JP'],\n",
    "                                     [1, 3, 5, 1, 3]], names=['cty', 'tenor'])\n",
    "hier_df = DataFrame(np.random.randn(4, 5), columns=columns)\n",
    "hier_df\n",
    "hier_df.groupby(level='cty', axis=1).count()"
   ]
  },
  {
   "cell_type": "markdown",
   "metadata": {},
   "source": [
    "Aggregations"
   ]
  },
  {
   "cell_type": "code",
   "execution_count": 137,
   "metadata": {
    "collapsed": false
   },
   "outputs": [
    {
     "data": {
      "text/plain": [
       "key1\n",
       "a    1.579097\n",
       "b    2.141111\n",
       "Name: data1, dtype: float64"
      ]
     },
     "execution_count": 137,
     "metadata": {},
     "output_type": "execute_result"
    }
   ],
   "source": [
    "df\n",
    "grouped = df.groupby('key1')\n",
    "grouped\n",
    "grouped['data1'].quantile(.9)"
   ]
  },
  {
   "cell_type": "markdown",
   "metadata": {},
   "source": [
    "Use the agg or aggregate method to pass my own aggregation functions:"
   ]
  },
  {
   "cell_type": "code",
   "execution_count": 139,
   "metadata": {
    "collapsed": false
   },
   "outputs": [
    {
     "data": {
      "text/html": [
       "<div>\n",
       "<table border=\"1\" class=\"dataframe\">\n",
       "  <thead>\n",
       "    <tr style=\"text-align: right;\">\n",
       "      <th></th>\n",
       "      <th>data1</th>\n",
       "      <th>data2</th>\n",
       "    </tr>\n",
       "    <tr>\n",
       "      <th>key1</th>\n",
       "      <th></th>\n",
       "      <th></th>\n",
       "    </tr>\n",
       "  </thead>\n",
       "  <tbody>\n",
       "    <tr>\n",
       "      <th>a</th>\n",
       "      <td>2.735497</td>\n",
       "      <td>1.270936</td>\n",
       "    </tr>\n",
       "    <tr>\n",
       "      <th>b</th>\n",
       "      <td>1.692965</td>\n",
       "      <td>0.633442</td>\n",
       "    </tr>\n",
       "  </tbody>\n",
       "</table>\n",
       "</div>"
      ],
      "text/plain": [
       "         data1     data2\n",
       "key1                    \n",
       "a     2.735497  1.270936\n",
       "b     1.692965  0.633442"
      ]
     },
     "execution_count": 139,
     "metadata": {},
     "output_type": "execute_result"
    }
   ],
   "source": [
    "def peak_to_peak(arr):\n",
    "    return arr.max() - arr.min()\n",
    "\n",
    "grouped.agg(peak_to_peak)"
   ]
  },
  {
   "cell_type": "markdown",
   "metadata": {},
   "source": [
    "Some methods likae describe work, but they're not aggregations:"
   ]
  },
  {
   "cell_type": "code",
   "execution_count": 140,
   "metadata": {
    "collapsed": false
   },
   "outputs": [
    {
     "data": {
      "text/html": [
       "<div>\n",
       "<table border=\"1\" class=\"dataframe\">\n",
       "  <thead>\n",
       "    <tr style=\"text-align: right;\">\n",
       "      <th></th>\n",
       "      <th></th>\n",
       "      <th>data1</th>\n",
       "      <th>data2</th>\n",
       "    </tr>\n",
       "    <tr>\n",
       "      <th>key1</th>\n",
       "      <th></th>\n",
       "      <th></th>\n",
       "      <th></th>\n",
       "    </tr>\n",
       "  </thead>\n",
       "  <tbody>\n",
       "    <tr>\n",
       "      <th rowspan=\"8\" valign=\"top\">a</th>\n",
       "      <th>count</th>\n",
       "      <td>3.000000</td>\n",
       "      <td>3.000000</td>\n",
       "    </tr>\n",
       "    <tr>\n",
       "      <th>mean</th>\n",
       "      <td>0.395357</td>\n",
       "      <td>-0.403190</td>\n",
       "    </tr>\n",
       "    <tr>\n",
       "      <th>std</th>\n",
       "      <td>1.421642</td>\n",
       "      <td>0.659473</td>\n",
       "    </tr>\n",
       "    <tr>\n",
       "      <th>min</th>\n",
       "      <td>-0.748540</td>\n",
       "      <td>-1.140450</td>\n",
       "    </tr>\n",
       "    <tr>\n",
       "      <th>25%</th>\n",
       "      <td>-0.400444</td>\n",
       "      <td>-0.670028</td>\n",
       "    </tr>\n",
       "    <tr>\n",
       "      <th>50%</th>\n",
       "      <td>-0.052347</td>\n",
       "      <td>-0.199605</td>\n",
       "    </tr>\n",
       "    <tr>\n",
       "      <th>75%</th>\n",
       "      <td>0.967305</td>\n",
       "      <td>-0.034560</td>\n",
       "    </tr>\n",
       "    <tr>\n",
       "      <th>max</th>\n",
       "      <td>1.986957</td>\n",
       "      <td>0.130485</td>\n",
       "    </tr>\n",
       "    <tr>\n",
       "      <th rowspan=\"8\" valign=\"top\">b</th>\n",
       "      <th>count</th>\n",
       "      <td>2.000000</td>\n",
       "      <td>2.000000</td>\n",
       "    </tr>\n",
       "    <tr>\n",
       "      <th>mean</th>\n",
       "      <td>1.463925</td>\n",
       "      <td>-0.406368</td>\n",
       "    </tr>\n",
       "    <tr>\n",
       "      <th>std</th>\n",
       "      <td>1.197107</td>\n",
       "      <td>0.447911</td>\n",
       "    </tr>\n",
       "    <tr>\n",
       "      <th>min</th>\n",
       "      <td>0.617442</td>\n",
       "      <td>-0.723089</td>\n",
       "    </tr>\n",
       "    <tr>\n",
       "      <th>25%</th>\n",
       "      <td>1.040684</td>\n",
       "      <td>-0.564729</td>\n",
       "    </tr>\n",
       "    <tr>\n",
       "      <th>50%</th>\n",
       "      <td>1.463925</td>\n",
       "      <td>-0.406368</td>\n",
       "    </tr>\n",
       "    <tr>\n",
       "      <th>75%</th>\n",
       "      <td>1.887166</td>\n",
       "      <td>-0.248008</td>\n",
       "    </tr>\n",
       "    <tr>\n",
       "      <th>max</th>\n",
       "      <td>2.310407</td>\n",
       "      <td>-0.089647</td>\n",
       "    </tr>\n",
       "  </tbody>\n",
       "</table>\n",
       "</div>"
      ],
      "text/plain": [
       "               data1     data2\n",
       "key1                          \n",
       "a    count  3.000000  3.000000\n",
       "     mean   0.395357 -0.403190\n",
       "     std    1.421642  0.659473\n",
       "     min   -0.748540 -1.140450\n",
       "     25%   -0.400444 -0.670028\n",
       "     50%   -0.052347 -0.199605\n",
       "     75%    0.967305 -0.034560\n",
       "     max    1.986957  0.130485\n",
       "b    count  2.000000  2.000000\n",
       "     mean   1.463925 -0.406368\n",
       "     std    1.197107  0.447911\n",
       "     min    0.617442 -0.723089\n",
       "     25%    1.040684 -0.564729\n",
       "     50%    1.463925 -0.406368\n",
       "     75%    1.887166 -0.248008\n",
       "     max    2.310407 -0.089647"
      ]
     },
     "execution_count": 140,
     "metadata": {},
     "output_type": "execute_result"
    }
   ],
   "source": [
    "grouped.describe()"
   ]
  },
  {
   "cell_type": "markdown",
   "metadata": {},
   "source": [
    "More comprehensive example:"
   ]
  },
  {
   "cell_type": "code",
   "execution_count": 143,
   "metadata": {
    "collapsed": true
   },
   "outputs": [],
   "source": [
    "import os\n",
    "os.chdir('C:\\\\Users\\\\User\\\\Dropbox\\\\Documents\\\\Analytics\\\\Learning\\\\Data-Science-Curriculum\\\\Data')"
   ]
  },
  {
   "cell_type": "code",
   "execution_count": 145,
   "metadata": {
    "collapsed": false
   },
   "outputs": [
    {
     "name": "stdout",
     "output_type": "stream",
     "text": [
      "\n",
      "   total_bill   tip     sex smoker  day    time  size   tip_pct\n",
      "0       16.99  1.01  Female     No  Sun  Dinner     2  0.059447\n",
      "1       10.34  1.66    Male     No  Sun  Dinner     3  0.160542\n",
      "2       21.01  3.50    Male     No  Sun  Dinner     3  0.166587\n",
      "3       23.68  3.31    Male     No  Sun  Dinner     2  0.139780\n",
      "4       24.59  3.61  Female     No  Sun  Dinner     4  0.146808\n",
      "\n",
      "       total_bill         tip        size     tip_pct\n",
      "count  244.000000  244.000000  244.000000  244.000000\n",
      "mean    19.785943    2.998279    2.569672    0.160803\n",
      "std      8.902412    1.383638    0.951100    0.061072\n",
      "min      3.070000    1.000000    1.000000    0.035638\n",
      "25%     13.347500    2.000000    2.000000    0.129127\n",
      "50%     17.795000    2.900000    2.000000    0.154770\n",
      "75%     24.127500    3.562500    3.000000    0.191475\n",
      "max     50.810000   10.000000    6.000000    0.710345\n"
     ]
    }
   ],
   "source": [
    "tips = pd.read_csv('tips.csv')\n",
    "tips['tip_pct'] = tips['tip']/tips['total_bill']\n",
    "print '\\n', tips.head()\n",
    "print '\\n', tips.describe()"
   ]
  },
  {
   "cell_type": "markdown",
   "metadata": {},
   "source": [
    "Column-wise and Multiple Function Application"
   ]
  },
  {
   "cell_type": "code",
   "execution_count": 146,
   "metadata": {
    "collapsed": false
   },
   "outputs": [
    {
     "name": "stdout",
     "output_type": "stream",
     "text": [
      "\n",
      "sex     smoker\n",
      "Female  No        0.156921\n",
      "        Yes       0.182150\n",
      "Male    No        0.160669\n",
      "        Yes       0.152771\n",
      "Name: tip_pct, dtype: float64\n",
      "\n",
      "                tip_pct\n",
      "sex    smoker          \n",
      "Female No      0.156921\n",
      "       Yes     0.182150\n",
      "Male   No      0.160669\n",
      "       Yes     0.152771\n"
     ]
    }
   ],
   "source": [
    "grouped = tips.groupby(['sex', 'smoker'])\n",
    "grouped_pct = grouped['tip_pct']\n",
    "print '\\n', grouped_pct.agg('mean')\n",
    "print '\\n', tips.groupby(['sex','smoker'])[['tip_pct']].mean() #note that it's the same"
   ]
  },
  {
   "cell_type": "markdown",
   "metadata": {},
   "source": [
    "You can pass multiple functions"
   ]
  },
  {
   "cell_type": "code",
   "execution_count": 147,
   "metadata": {
    "collapsed": false
   },
   "outputs": [
    {
     "data": {
      "text/html": [
       "<div>\n",
       "<table border=\"1\" class=\"dataframe\">\n",
       "  <thead>\n",
       "    <tr style=\"text-align: right;\">\n",
       "      <th></th>\n",
       "      <th></th>\n",
       "      <th>mean</th>\n",
       "      <th>std</th>\n",
       "      <th>peak_to_peak</th>\n",
       "    </tr>\n",
       "    <tr>\n",
       "      <th>sex</th>\n",
       "      <th>smoker</th>\n",
       "      <th></th>\n",
       "      <th></th>\n",
       "      <th></th>\n",
       "    </tr>\n",
       "  </thead>\n",
       "  <tbody>\n",
       "    <tr>\n",
       "      <th rowspan=\"2\" valign=\"top\">Female</th>\n",
       "      <th>No</th>\n",
       "      <td>0.156921</td>\n",
       "      <td>0.036421</td>\n",
       "      <td>0.195876</td>\n",
       "    </tr>\n",
       "    <tr>\n",
       "      <th>Yes</th>\n",
       "      <td>0.182150</td>\n",
       "      <td>0.071595</td>\n",
       "      <td>0.360233</td>\n",
       "    </tr>\n",
       "    <tr>\n",
       "      <th rowspan=\"2\" valign=\"top\">Male</th>\n",
       "      <th>No</th>\n",
       "      <td>0.160669</td>\n",
       "      <td>0.041849</td>\n",
       "      <td>0.220186</td>\n",
       "    </tr>\n",
       "    <tr>\n",
       "      <th>Yes</th>\n",
       "      <td>0.152771</td>\n",
       "      <td>0.090588</td>\n",
       "      <td>0.674707</td>\n",
       "    </tr>\n",
       "  </tbody>\n",
       "</table>\n",
       "</div>"
      ],
      "text/plain": [
       "                   mean       std  peak_to_peak\n",
       "sex    smoker                                  \n",
       "Female No      0.156921  0.036421      0.195876\n",
       "       Yes     0.182150  0.071595      0.360233\n",
       "Male   No      0.160669  0.041849      0.220186\n",
       "       Yes     0.152771  0.090588      0.674707"
      ]
     },
     "execution_count": 147,
     "metadata": {},
     "output_type": "execute_result"
    }
   ],
   "source": [
    "grouped_pct.agg(['mean', 'std', peak_to_peak])"
   ]
  },
  {
   "cell_type": "markdown",
   "metadata": {},
   "source": [
    "Naming the aggregate functions:"
   ]
  },
  {
   "cell_type": "code",
   "execution_count": 148,
   "metadata": {
    "collapsed": false
   },
   "outputs": [
    {
     "data": {
      "text/html": [
       "<div>\n",
       "<table border=\"1\" class=\"dataframe\">\n",
       "  <thead>\n",
       "    <tr style=\"text-align: right;\">\n",
       "      <th></th>\n",
       "      <th></th>\n",
       "      <th>foo</th>\n",
       "      <th>bar</th>\n",
       "    </tr>\n",
       "    <tr>\n",
       "      <th>sex</th>\n",
       "      <th>smoker</th>\n",
       "      <th></th>\n",
       "      <th></th>\n",
       "    </tr>\n",
       "  </thead>\n",
       "  <tbody>\n",
       "    <tr>\n",
       "      <th rowspan=\"2\" valign=\"top\">Female</th>\n",
       "      <th>No</th>\n",
       "      <td>0.156921</td>\n",
       "      <td>0.036421</td>\n",
       "    </tr>\n",
       "    <tr>\n",
       "      <th>Yes</th>\n",
       "      <td>0.182150</td>\n",
       "      <td>0.071595</td>\n",
       "    </tr>\n",
       "    <tr>\n",
       "      <th rowspan=\"2\" valign=\"top\">Male</th>\n",
       "      <th>No</th>\n",
       "      <td>0.160669</td>\n",
       "      <td>0.041849</td>\n",
       "    </tr>\n",
       "    <tr>\n",
       "      <th>Yes</th>\n",
       "      <td>0.152771</td>\n",
       "      <td>0.090588</td>\n",
       "    </tr>\n",
       "  </tbody>\n",
       "</table>\n",
       "</div>"
      ],
      "text/plain": [
       "                    foo       bar\n",
       "sex    smoker                    \n",
       "Female No      0.156921  0.036421\n",
       "       Yes     0.182150  0.071595\n",
       "Male   No      0.160669  0.041849\n",
       "       Yes     0.152771  0.090588"
      ]
     },
     "execution_count": 148,
     "metadata": {},
     "output_type": "execute_result"
    }
   ],
   "source": [
    "grouped_pct.agg([('foo', 'mean'), ('bar', np.std)])"
   ]
  },
  {
   "cell_type": "markdown",
   "metadata": {},
   "source": [
    "With a dataframe, we have more options (you can specify a list):"
   ]
  },
  {
   "cell_type": "code",
   "execution_count": 149,
   "metadata": {
    "collapsed": false
   },
   "outputs": [
    {
     "name": "stdout",
     "output_type": "stream",
     "text": [
      "\n",
      "              tip_pct                     total_bill                  \n",
      "                count      mean       max      count       mean    max\n",
      "sex    smoker                                                         \n",
      "Female No          54  0.156921  0.252672         54  18.105185  35.83\n",
      "       Yes         33  0.182150  0.416667         33  17.977879  44.30\n",
      "Male   No          97  0.160669  0.291990         97  19.791237  48.33\n",
      "       Yes         60  0.152771  0.710345         60  22.284500  50.81\n",
      "\n",
      "               count      mean       max\n",
      "sex    smoker                           \n",
      "Female No         54  0.156921  0.252672\n",
      "       Yes        33  0.182150  0.416667\n",
      "Male   No         97  0.160669  0.291990\n",
      "       Yes        60  0.152771  0.710345\n"
     ]
    }
   ],
   "source": [
    "functions = ['count', 'mean', 'max']\n",
    "result = grouped['tip_pct', 'total_bill'].agg(functions)\n",
    "print '\\n', result\n",
    "print '\\n', result['tip_pct']"
   ]
  },
  {
   "cell_type": "markdown",
   "metadata": {},
   "source": [
    "If you want to pass different functions to different columns, use a dict:"
   ]
  },
  {
   "cell_type": "code",
   "execution_count": 150,
   "metadata": {
    "collapsed": false
   },
   "outputs": [
    {
     "name": "stdout",
     "output_type": "stream",
     "text": [
      "\n",
      "                tip  size\n",
      "sex    smoker            \n",
      "Female No       5.2   140\n",
      "       Yes      6.5    74\n",
      "Male   No       9.0   263\n",
      "       Yes     10.0   150\n",
      "\n",
      "                tip_pct                               size\n",
      "                    min       max      mean       std  sum\n",
      "sex    smoker                                             \n",
      "Female No      0.056797  0.252672  0.156921  0.036421  140\n",
      "       Yes     0.056433  0.416667  0.182150  0.071595   74\n",
      "Male   No      0.071804  0.291990  0.160669  0.041849  263\n",
      "       Yes     0.035638  0.710345  0.152771  0.090588  150\n"
     ]
    }
   ],
   "source": [
    "print '\\n', grouped.agg({'tip':np.max, 'size':'sum'}) #question: how to label 'max'&'sum'\n",
    "print '\\n', grouped.agg({'tip_pct' : ['min', 'max', 'mean', 'std',], 'size' : 'sum'})"
   ]
  },
  {
   "cell_type": "markdown",
   "metadata": {},
   "source": [
    "Returning Aggregated Data in 'unindexed' Form"
   ]
  },
  {
   "cell_type": "code",
   "execution_count": 151,
   "metadata": {
    "collapsed": false
   },
   "outputs": [
    {
     "data": {
      "text/html": [
       "<div>\n",
       "<table border=\"1\" class=\"dataframe\">\n",
       "  <thead>\n",
       "    <tr style=\"text-align: right;\">\n",
       "      <th></th>\n",
       "      <th>sex</th>\n",
       "      <th>smoker</th>\n",
       "      <th>total_bill</th>\n",
       "      <th>tip</th>\n",
       "      <th>size</th>\n",
       "      <th>tip_pct</th>\n",
       "    </tr>\n",
       "  </thead>\n",
       "  <tbody>\n",
       "    <tr>\n",
       "      <th>0</th>\n",
       "      <td>Female</td>\n",
       "      <td>No</td>\n",
       "      <td>18.105185</td>\n",
       "      <td>2.773519</td>\n",
       "      <td>2.592593</td>\n",
       "      <td>0.156921</td>\n",
       "    </tr>\n",
       "    <tr>\n",
       "      <th>1</th>\n",
       "      <td>Female</td>\n",
       "      <td>Yes</td>\n",
       "      <td>17.977879</td>\n",
       "      <td>2.931515</td>\n",
       "      <td>2.242424</td>\n",
       "      <td>0.182150</td>\n",
       "    </tr>\n",
       "    <tr>\n",
       "      <th>2</th>\n",
       "      <td>Male</td>\n",
       "      <td>No</td>\n",
       "      <td>19.791237</td>\n",
       "      <td>3.113402</td>\n",
       "      <td>2.711340</td>\n",
       "      <td>0.160669</td>\n",
       "    </tr>\n",
       "    <tr>\n",
       "      <th>3</th>\n",
       "      <td>Male</td>\n",
       "      <td>Yes</td>\n",
       "      <td>22.284500</td>\n",
       "      <td>3.051167</td>\n",
       "      <td>2.500000</td>\n",
       "      <td>0.152771</td>\n",
       "    </tr>\n",
       "  </tbody>\n",
       "</table>\n",
       "</div>"
      ],
      "text/plain": [
       "      sex smoker  total_bill       tip      size   tip_pct\n",
       "0  Female     No   18.105185  2.773519  2.592593  0.156921\n",
       "1  Female    Yes   17.977879  2.931515  2.242424  0.182150\n",
       "2    Male     No   19.791237  3.113402  2.711340  0.160669\n",
       "3    Male    Yes   22.284500  3.051167  2.500000  0.152771"
      ]
     },
     "execution_count": 151,
     "metadata": {},
     "output_type": "execute_result"
    }
   ],
   "source": [
    "tips.groupby(['sex', 'smoker'], as_index=False).mean()\n",
    "# note, you can always get results in this format using 'reset_index'"
   ]
  },
  {
   "cell_type": "markdown",
   "metadata": {},
   "source": [
    "Group-wise Operations and Transformations\n",
    "- say we want to add a column that contains group means for each index:"
   ]
  },
  {
   "cell_type": "code",
   "execution_count": 157,
   "metadata": {
    "collapsed": false
   },
   "outputs": [
    {
     "name": "stdout",
     "output_type": "stream",
     "text": [
      "\n",
      "      data1     data2 key1 key2\n",
      "0  1.986957 -1.140450    a  one\n",
      "1 -0.748540  0.130485    a  two\n",
      "2  0.617442 -0.089647    b  one\n",
      "3  2.310407 -0.723089    b  two\n",
      "4 -0.052347 -0.199605    a  one\n",
      "\n",
      "      mean_data1  mean_data2\n",
      "key1                        \n",
      "a       0.395357   -0.403190\n",
      "b       1.463925   -0.406368\n",
      "\n",
      "            a         b         c         d         e\n",
      "one -0.180055  0.471920  0.173102 -0.565981  0.661865\n",
      "two  0.506032  0.106457  0.184515 -0.116158 -0.622957\n",
      "\n",
      "               a         b         c         d         e\n",
      "Joe    -0.180055  0.471920  0.173102 -0.565981  0.661865\n",
      "Steve   0.506032  0.106457  0.184515 -0.116158 -0.622957\n",
      "Wes    -0.180055  0.471920  0.173102 -0.565981  0.661865\n",
      "Jim     0.506032  0.106457  0.184515 -0.116158 -0.622957\n",
      "Travis -0.180055  0.471920  0.173102 -0.565981  0.661865\n"
     ]
    }
   ],
   "source": [
    "print '\\n', df\n",
    "k1_means = df.groupby('key1').mean().add_prefix('mean_')\n",
    "print '\\n', k1_means\n",
    "pd.merge(df, k1_means, left_on='key1', right_index=True)\n",
    "\n",
    "# that was the long way. let' look at this example:\n",
    "people = DataFrame(np.random.randn(5, 5), \n",
    "                   columns=['a', 'b', 'c', 'd', 'e'], \n",
    "                   index=['Joe', 'Steve', 'Wes', 'Jim', 'Travis'])\n",
    "people\n",
    "key = ['one', 'two', 'one', 'two', 'one']\n",
    "print '\\n', people.groupby(key).mean()\n",
    "print '\\n', people.groupby(key).transform(np.mean)"
   ]
  },
  {
   "cell_type": "markdown",
   "metadata": {},
   "source": [
    "Suppose you want to subtract the mean from each group:"
   ]
  },
  {
   "cell_type": "code",
   "execution_count": 162,
   "metadata": {
    "collapsed": false
   },
   "outputs": [
    {
     "data": {
      "text/html": [
       "<div>\n",
       "<table border=\"1\" class=\"dataframe\">\n",
       "  <thead>\n",
       "    <tr style=\"text-align: right;\">\n",
       "      <th></th>\n",
       "      <th>a</th>\n",
       "      <th>b</th>\n",
       "      <th>c</th>\n",
       "      <th>d</th>\n",
       "      <th>e</th>\n",
       "    </tr>\n",
       "  </thead>\n",
       "  <tbody>\n",
       "    <tr>\n",
       "      <th>Joe</th>\n",
       "      <td>-0.594847</td>\n",
       "      <td>-1.059269</td>\n",
       "      <td>0.746217</td>\n",
       "      <td>0.763309</td>\n",
       "      <td>0.959912</td>\n",
       "    </tr>\n",
       "    <tr>\n",
       "      <th>Steve</th>\n",
       "      <td>0.379150</td>\n",
       "      <td>-0.655239</td>\n",
       "      <td>-0.937633</td>\n",
       "      <td>0.061014</td>\n",
       "      <td>-0.626335</td>\n",
       "    </tr>\n",
       "    <tr>\n",
       "      <th>Wes</th>\n",
       "      <td>1.230581</td>\n",
       "      <td>0.038952</td>\n",
       "      <td>-0.687520</td>\n",
       "      <td>-0.927568</td>\n",
       "      <td>-0.729784</td>\n",
       "    </tr>\n",
       "    <tr>\n",
       "      <th>Jim</th>\n",
       "      <td>-0.379150</td>\n",
       "      <td>0.655239</td>\n",
       "      <td>0.937633</td>\n",
       "      <td>-0.061014</td>\n",
       "      <td>0.626335</td>\n",
       "    </tr>\n",
       "    <tr>\n",
       "      <th>Travis</th>\n",
       "      <td>-0.635734</td>\n",
       "      <td>1.020317</td>\n",
       "      <td>-0.058696</td>\n",
       "      <td>0.164259</td>\n",
       "      <td>-0.230128</td>\n",
       "    </tr>\n",
       "  </tbody>\n",
       "</table>\n",
       "</div>"
      ],
      "text/plain": [
       "               a         b         c         d         e\n",
       "Joe    -0.594847 -1.059269  0.746217  0.763309  0.959912\n",
       "Steve   0.379150 -0.655239 -0.937633  0.061014 -0.626335\n",
       "Wes     1.230581  0.038952 -0.687520 -0.927568 -0.729784\n",
       "Jim    -0.379150  0.655239  0.937633 -0.061014  0.626335\n",
       "Travis -0.635734  1.020317 -0.058696  0.164259 -0.230128"
      ]
     },
     "execution_count": 162,
     "metadata": {},
     "output_type": "execute_result"
    }
   ],
   "source": [
    "def demean(arr):\n",
    "    return arr - arr.mean()\n",
    "demeaned = people.groupby(key).transform(demean)\n",
    "demeaned"
   ]
  },
  {
   "cell_type": "code",
   "execution_count": 161,
   "metadata": {
    "collapsed": false
   },
   "outputs": [
    {
     "data": {
      "text/plain": [
       "0.37915006696151388"
      ]
     },
     "execution_count": 161,
     "metadata": {},
     "output_type": "execute_result"
    }
   ],
   "source": [
    "people['a'].ix['Steve']-.506032"
   ]
  },
  {
   "cell_type": "markdown",
   "metadata": {},
   "source": [
    "Check that demeaned has zero group means:"
   ]
  },
  {
   "cell_type": "code",
   "execution_count": 154,
   "metadata": {
    "collapsed": false
   },
   "outputs": [
    {
     "data": {
      "text/html": [
       "<div>\n",
       "<table border=\"1\" class=\"dataframe\">\n",
       "  <thead>\n",
       "    <tr style=\"text-align: right;\">\n",
       "      <th></th>\n",
       "      <th>a</th>\n",
       "      <th>b</th>\n",
       "      <th>c</th>\n",
       "      <th>d</th>\n",
       "      <th>e</th>\n",
       "    </tr>\n",
       "  </thead>\n",
       "  <tbody>\n",
       "    <tr>\n",
       "      <th>one</th>\n",
       "      <td>-7.401487e-17</td>\n",
       "      <td>0.000000e+00</td>\n",
       "      <td>7.401487e-17</td>\n",
       "      <td>0.0</td>\n",
       "      <td>-1.850372e-17</td>\n",
       "    </tr>\n",
       "    <tr>\n",
       "      <th>two</th>\n",
       "      <td>0.000000e+00</td>\n",
       "      <td>-5.551115e-17</td>\n",
       "      <td>0.000000e+00</td>\n",
       "      <td>0.0</td>\n",
       "      <td>-1.387779e-17</td>\n",
       "    </tr>\n",
       "  </tbody>\n",
       "</table>\n",
       "</div>"
      ],
      "text/plain": [
       "                a             b             c    d             e\n",
       "one -7.401487e-17  0.000000e+00  7.401487e-17  0.0 -1.850372e-17\n",
       "two  0.000000e+00 -5.551115e-17  0.000000e+00  0.0 -1.387779e-17"
      ]
     },
     "execution_count": 154,
     "metadata": {},
     "output_type": "execute_result"
    }
   ],
   "source": [
    "demeaned.groupby(key).mean()"
   ]
  },
  {
   "cell_type": "markdown",
   "metadata": {},
   "source": [
    "Apply: general split-apply-combine\n",
    "- selecting top 5 tip_pct values by group - "
   ]
  },
  {
   "cell_type": "code",
   "execution_count": 164,
   "metadata": {
    "collapsed": false
   },
   "outputs": [
    {
     "data": {
      "text/html": [
       "<div>\n",
       "<table border=\"1\" class=\"dataframe\">\n",
       "  <thead>\n",
       "    <tr style=\"text-align: right;\">\n",
       "      <th></th>\n",
       "      <th>total_bill</th>\n",
       "      <th>tip</th>\n",
       "      <th>sex</th>\n",
       "      <th>smoker</th>\n",
       "      <th>day</th>\n",
       "      <th>time</th>\n",
       "      <th>size</th>\n",
       "      <th>tip_pct</th>\n",
       "    </tr>\n",
       "  </thead>\n",
       "  <tbody>\n",
       "    <tr>\n",
       "      <th>109</th>\n",
       "      <td>14.31</td>\n",
       "      <td>4.00</td>\n",
       "      <td>Female</td>\n",
       "      <td>Yes</td>\n",
       "      <td>Sat</td>\n",
       "      <td>Dinner</td>\n",
       "      <td>2</td>\n",
       "      <td>0.279525</td>\n",
       "    </tr>\n",
       "    <tr>\n",
       "      <th>183</th>\n",
       "      <td>23.17</td>\n",
       "      <td>6.50</td>\n",
       "      <td>Male</td>\n",
       "      <td>Yes</td>\n",
       "      <td>Sun</td>\n",
       "      <td>Dinner</td>\n",
       "      <td>4</td>\n",
       "      <td>0.280535</td>\n",
       "    </tr>\n",
       "    <tr>\n",
       "      <th>232</th>\n",
       "      <td>11.61</td>\n",
       "      <td>3.39</td>\n",
       "      <td>Male</td>\n",
       "      <td>No</td>\n",
       "      <td>Sat</td>\n",
       "      <td>Dinner</td>\n",
       "      <td>2</td>\n",
       "      <td>0.291990</td>\n",
       "    </tr>\n",
       "    <tr>\n",
       "      <th>67</th>\n",
       "      <td>3.07</td>\n",
       "      <td>1.00</td>\n",
       "      <td>Female</td>\n",
       "      <td>Yes</td>\n",
       "      <td>Sat</td>\n",
       "      <td>Dinner</td>\n",
       "      <td>1</td>\n",
       "      <td>0.325733</td>\n",
       "    </tr>\n",
       "    <tr>\n",
       "      <th>178</th>\n",
       "      <td>9.60</td>\n",
       "      <td>4.00</td>\n",
       "      <td>Female</td>\n",
       "      <td>Yes</td>\n",
       "      <td>Sun</td>\n",
       "      <td>Dinner</td>\n",
       "      <td>2</td>\n",
       "      <td>0.416667</td>\n",
       "    </tr>\n",
       "    <tr>\n",
       "      <th>172</th>\n",
       "      <td>7.25</td>\n",
       "      <td>5.15</td>\n",
       "      <td>Male</td>\n",
       "      <td>Yes</td>\n",
       "      <td>Sun</td>\n",
       "      <td>Dinner</td>\n",
       "      <td>2</td>\n",
       "      <td>0.710345</td>\n",
       "    </tr>\n",
       "  </tbody>\n",
       "</table>\n",
       "</div>"
      ],
      "text/plain": [
       "     total_bill   tip     sex smoker  day    time  size   tip_pct\n",
       "109       14.31  4.00  Female    Yes  Sat  Dinner     2  0.279525\n",
       "183       23.17  6.50    Male    Yes  Sun  Dinner     4  0.280535\n",
       "232       11.61  3.39    Male     No  Sat  Dinner     2  0.291990\n",
       "67         3.07  1.00  Female    Yes  Sat  Dinner     1  0.325733\n",
       "178        9.60  4.00  Female    Yes  Sun  Dinner     2  0.416667\n",
       "172        7.25  5.15    Male    Yes  Sun  Dinner     2  0.710345"
      ]
     },
     "execution_count": 164,
     "metadata": {},
     "output_type": "execute_result"
    }
   ],
   "source": [
    "def top(df, n=5, column='tip_pct'):\n",
    "    return df.sort_values(by=column)[-n:]\n",
    "top(tips, n=6)"
   ]
  },
  {
   "cell_type": "markdown",
   "metadata": {},
   "source": [
    "If we group by smoke and call apply, we get:"
   ]
  },
  {
   "cell_type": "code",
   "execution_count": 165,
   "metadata": {
    "collapsed": false
   },
   "outputs": [
    {
     "data": {
      "text/html": [
       "<div>\n",
       "<table border=\"1\" class=\"dataframe\">\n",
       "  <thead>\n",
       "    <tr style=\"text-align: right;\">\n",
       "      <th></th>\n",
       "      <th></th>\n",
       "      <th>total_bill</th>\n",
       "      <th>tip</th>\n",
       "      <th>sex</th>\n",
       "      <th>smoker</th>\n",
       "      <th>day</th>\n",
       "      <th>time</th>\n",
       "      <th>size</th>\n",
       "      <th>tip_pct</th>\n",
       "    </tr>\n",
       "    <tr>\n",
       "      <th>smoker</th>\n",
       "      <th></th>\n",
       "      <th></th>\n",
       "      <th></th>\n",
       "      <th></th>\n",
       "      <th></th>\n",
       "      <th></th>\n",
       "      <th></th>\n",
       "      <th></th>\n",
       "      <th></th>\n",
       "    </tr>\n",
       "  </thead>\n",
       "  <tbody>\n",
       "    <tr>\n",
       "      <th rowspan=\"5\" valign=\"top\">No</th>\n",
       "      <th>88</th>\n",
       "      <td>24.71</td>\n",
       "      <td>5.85</td>\n",
       "      <td>Male</td>\n",
       "      <td>No</td>\n",
       "      <td>Thur</td>\n",
       "      <td>Lunch</td>\n",
       "      <td>2</td>\n",
       "      <td>0.236746</td>\n",
       "    </tr>\n",
       "    <tr>\n",
       "      <th>185</th>\n",
       "      <td>20.69</td>\n",
       "      <td>5.00</td>\n",
       "      <td>Male</td>\n",
       "      <td>No</td>\n",
       "      <td>Sun</td>\n",
       "      <td>Dinner</td>\n",
       "      <td>5</td>\n",
       "      <td>0.241663</td>\n",
       "    </tr>\n",
       "    <tr>\n",
       "      <th>51</th>\n",
       "      <td>10.29</td>\n",
       "      <td>2.60</td>\n",
       "      <td>Female</td>\n",
       "      <td>No</td>\n",
       "      <td>Sun</td>\n",
       "      <td>Dinner</td>\n",
       "      <td>2</td>\n",
       "      <td>0.252672</td>\n",
       "    </tr>\n",
       "    <tr>\n",
       "      <th>149</th>\n",
       "      <td>7.51</td>\n",
       "      <td>2.00</td>\n",
       "      <td>Male</td>\n",
       "      <td>No</td>\n",
       "      <td>Thur</td>\n",
       "      <td>Lunch</td>\n",
       "      <td>2</td>\n",
       "      <td>0.266312</td>\n",
       "    </tr>\n",
       "    <tr>\n",
       "      <th>232</th>\n",
       "      <td>11.61</td>\n",
       "      <td>3.39</td>\n",
       "      <td>Male</td>\n",
       "      <td>No</td>\n",
       "      <td>Sat</td>\n",
       "      <td>Dinner</td>\n",
       "      <td>2</td>\n",
       "      <td>0.291990</td>\n",
       "    </tr>\n",
       "    <tr>\n",
       "      <th rowspan=\"5\" valign=\"top\">Yes</th>\n",
       "      <th>109</th>\n",
       "      <td>14.31</td>\n",
       "      <td>4.00</td>\n",
       "      <td>Female</td>\n",
       "      <td>Yes</td>\n",
       "      <td>Sat</td>\n",
       "      <td>Dinner</td>\n",
       "      <td>2</td>\n",
       "      <td>0.279525</td>\n",
       "    </tr>\n",
       "    <tr>\n",
       "      <th>183</th>\n",
       "      <td>23.17</td>\n",
       "      <td>6.50</td>\n",
       "      <td>Male</td>\n",
       "      <td>Yes</td>\n",
       "      <td>Sun</td>\n",
       "      <td>Dinner</td>\n",
       "      <td>4</td>\n",
       "      <td>0.280535</td>\n",
       "    </tr>\n",
       "    <tr>\n",
       "      <th>67</th>\n",
       "      <td>3.07</td>\n",
       "      <td>1.00</td>\n",
       "      <td>Female</td>\n",
       "      <td>Yes</td>\n",
       "      <td>Sat</td>\n",
       "      <td>Dinner</td>\n",
       "      <td>1</td>\n",
       "      <td>0.325733</td>\n",
       "    </tr>\n",
       "    <tr>\n",
       "      <th>178</th>\n",
       "      <td>9.60</td>\n",
       "      <td>4.00</td>\n",
       "      <td>Female</td>\n",
       "      <td>Yes</td>\n",
       "      <td>Sun</td>\n",
       "      <td>Dinner</td>\n",
       "      <td>2</td>\n",
       "      <td>0.416667</td>\n",
       "    </tr>\n",
       "    <tr>\n",
       "      <th>172</th>\n",
       "      <td>7.25</td>\n",
       "      <td>5.15</td>\n",
       "      <td>Male</td>\n",
       "      <td>Yes</td>\n",
       "      <td>Sun</td>\n",
       "      <td>Dinner</td>\n",
       "      <td>2</td>\n",
       "      <td>0.710345</td>\n",
       "    </tr>\n",
       "  </tbody>\n",
       "</table>\n",
       "</div>"
      ],
      "text/plain": [
       "            total_bill   tip     sex smoker   day    time  size   tip_pct\n",
       "smoker                                                                   \n",
       "No     88        24.71  5.85    Male     No  Thur   Lunch     2  0.236746\n",
       "       185       20.69  5.00    Male     No   Sun  Dinner     5  0.241663\n",
       "       51        10.29  2.60  Female     No   Sun  Dinner     2  0.252672\n",
       "       149        7.51  2.00    Male     No  Thur   Lunch     2  0.266312\n",
       "       232       11.61  3.39    Male     No   Sat  Dinner     2  0.291990\n",
       "Yes    109       14.31  4.00  Female    Yes   Sat  Dinner     2  0.279525\n",
       "       183       23.17  6.50    Male    Yes   Sun  Dinner     4  0.280535\n",
       "       67         3.07  1.00  Female    Yes   Sat  Dinner     1  0.325733\n",
       "       178        9.60  4.00  Female    Yes   Sun  Dinner     2  0.416667\n",
       "       172        7.25  5.15    Male    Yes   Sun  Dinner     2  0.710345"
      ]
     },
     "execution_count": 165,
     "metadata": {},
     "output_type": "execute_result"
    }
   ],
   "source": [
    "tips.groupby('smoker').apply(top)"
   ]
  },
  {
   "cell_type": "markdown",
   "metadata": {},
   "source": [
    "You can pass other parameters into the function:"
   ]
  },
  {
   "cell_type": "code",
   "execution_count": 171,
   "metadata": {
    "collapsed": false
   },
   "outputs": [
    {
     "name": "stdout",
     "output_type": "stream",
     "text": [
      "\n",
      "smoker       \n",
      "No      count    151.000000\n",
      "        mean       0.159328\n",
      "        std        0.039910\n",
      "        min        0.056797\n",
      "        25%        0.136906\n",
      "        50%        0.155625\n",
      "        75%        0.185014\n",
      "        max        0.291990\n",
      "Yes     count     93.000000\n",
      "        mean       0.163196\n",
      "        std        0.085119\n",
      "        min        0.035638\n",
      "        25%        0.106771\n",
      "        50%        0.153846\n",
      "        75%        0.195059\n",
      "        max        0.710345\n",
      "Name: tip_pct, dtype: float64\n",
      "\n",
      "smoker          No        Yes\n",
      "count   151.000000  93.000000\n",
      "mean      0.159328   0.163196\n",
      "std       0.039910   0.085119\n",
      "min       0.056797   0.035638\n",
      "25%       0.136906   0.106771\n",
      "50%       0.155625   0.153846\n",
      "75%       0.185014   0.195059\n",
      "max       0.291990   0.710345\n"
     ]
    }
   ],
   "source": [
    "tips.groupby(['smoker', 'day']).apply(top, n=1, column='total_bill')\n",
    "\n",
    "result = tips.groupby('smoker')['tip_pct'].describe()\n",
    "print '\\n', result\n",
    "print '\\n', result.unstack('smoker')"
   ]
  },
  {
   "cell_type": "markdown",
   "metadata": {},
   "source": [
    "You can disable the hierarchical index by:"
   ]
  },
  {
   "cell_type": "code",
   "execution_count": 169,
   "metadata": {
    "collapsed": false
   },
   "outputs": [
    {
     "data": {
      "text/html": [
       "<div>\n",
       "<table border=\"1\" class=\"dataframe\">\n",
       "  <thead>\n",
       "    <tr style=\"text-align: right;\">\n",
       "      <th></th>\n",
       "      <th>total_bill</th>\n",
       "      <th>tip</th>\n",
       "      <th>sex</th>\n",
       "      <th>smoker</th>\n",
       "      <th>day</th>\n",
       "      <th>time</th>\n",
       "      <th>size</th>\n",
       "      <th>tip_pct</th>\n",
       "    </tr>\n",
       "  </thead>\n",
       "  <tbody>\n",
       "    <tr>\n",
       "      <th>88</th>\n",
       "      <td>24.71</td>\n",
       "      <td>5.85</td>\n",
       "      <td>Male</td>\n",
       "      <td>No</td>\n",
       "      <td>Thur</td>\n",
       "      <td>Lunch</td>\n",
       "      <td>2</td>\n",
       "      <td>0.236746</td>\n",
       "    </tr>\n",
       "    <tr>\n",
       "      <th>185</th>\n",
       "      <td>20.69</td>\n",
       "      <td>5.00</td>\n",
       "      <td>Male</td>\n",
       "      <td>No</td>\n",
       "      <td>Sun</td>\n",
       "      <td>Dinner</td>\n",
       "      <td>5</td>\n",
       "      <td>0.241663</td>\n",
       "    </tr>\n",
       "    <tr>\n",
       "      <th>51</th>\n",
       "      <td>10.29</td>\n",
       "      <td>2.60</td>\n",
       "      <td>Female</td>\n",
       "      <td>No</td>\n",
       "      <td>Sun</td>\n",
       "      <td>Dinner</td>\n",
       "      <td>2</td>\n",
       "      <td>0.252672</td>\n",
       "    </tr>\n",
       "    <tr>\n",
       "      <th>149</th>\n",
       "      <td>7.51</td>\n",
       "      <td>2.00</td>\n",
       "      <td>Male</td>\n",
       "      <td>No</td>\n",
       "      <td>Thur</td>\n",
       "      <td>Lunch</td>\n",
       "      <td>2</td>\n",
       "      <td>0.266312</td>\n",
       "    </tr>\n",
       "    <tr>\n",
       "      <th>232</th>\n",
       "      <td>11.61</td>\n",
       "      <td>3.39</td>\n",
       "      <td>Male</td>\n",
       "      <td>No</td>\n",
       "      <td>Sat</td>\n",
       "      <td>Dinner</td>\n",
       "      <td>2</td>\n",
       "      <td>0.291990</td>\n",
       "    </tr>\n",
       "    <tr>\n",
       "      <th>109</th>\n",
       "      <td>14.31</td>\n",
       "      <td>4.00</td>\n",
       "      <td>Female</td>\n",
       "      <td>Yes</td>\n",
       "      <td>Sat</td>\n",
       "      <td>Dinner</td>\n",
       "      <td>2</td>\n",
       "      <td>0.279525</td>\n",
       "    </tr>\n",
       "    <tr>\n",
       "      <th>183</th>\n",
       "      <td>23.17</td>\n",
       "      <td>6.50</td>\n",
       "      <td>Male</td>\n",
       "      <td>Yes</td>\n",
       "      <td>Sun</td>\n",
       "      <td>Dinner</td>\n",
       "      <td>4</td>\n",
       "      <td>0.280535</td>\n",
       "    </tr>\n",
       "    <tr>\n",
       "      <th>67</th>\n",
       "      <td>3.07</td>\n",
       "      <td>1.00</td>\n",
       "      <td>Female</td>\n",
       "      <td>Yes</td>\n",
       "      <td>Sat</td>\n",
       "      <td>Dinner</td>\n",
       "      <td>1</td>\n",
       "      <td>0.325733</td>\n",
       "    </tr>\n",
       "    <tr>\n",
       "      <th>178</th>\n",
       "      <td>9.60</td>\n",
       "      <td>4.00</td>\n",
       "      <td>Female</td>\n",
       "      <td>Yes</td>\n",
       "      <td>Sun</td>\n",
       "      <td>Dinner</td>\n",
       "      <td>2</td>\n",
       "      <td>0.416667</td>\n",
       "    </tr>\n",
       "    <tr>\n",
       "      <th>172</th>\n",
       "      <td>7.25</td>\n",
       "      <td>5.15</td>\n",
       "      <td>Male</td>\n",
       "      <td>Yes</td>\n",
       "      <td>Sun</td>\n",
       "      <td>Dinner</td>\n",
       "      <td>2</td>\n",
       "      <td>0.710345</td>\n",
       "    </tr>\n",
       "  </tbody>\n",
       "</table>\n",
       "</div>"
      ],
      "text/plain": [
       "     total_bill   tip     sex smoker   day    time  size   tip_pct\n",
       "88        24.71  5.85    Male     No  Thur   Lunch     2  0.236746\n",
       "185       20.69  5.00    Male     No   Sun  Dinner     5  0.241663\n",
       "51        10.29  2.60  Female     No   Sun  Dinner     2  0.252672\n",
       "149        7.51  2.00    Male     No  Thur   Lunch     2  0.266312\n",
       "232       11.61  3.39    Male     No   Sat  Dinner     2  0.291990\n",
       "109       14.31  4.00  Female    Yes   Sat  Dinner     2  0.279525\n",
       "183       23.17  6.50    Male    Yes   Sun  Dinner     4  0.280535\n",
       "67         3.07  1.00  Female    Yes   Sat  Dinner     1  0.325733\n",
       "178        9.60  4.00  Female    Yes   Sun  Dinner     2  0.416667\n",
       "172        7.25  5.15    Male    Yes   Sun  Dinner     2  0.710345"
      ]
     },
     "execution_count": 169,
     "metadata": {},
     "output_type": "execute_result"
    }
   ],
   "source": [
    "tips.groupby('smoker', group_keys=False).apply(top)"
   ]
  },
  {
   "cell_type": "markdown",
   "metadata": {},
   "source": [
    "<a id='groupby_bucketing'></a>\n",
    "### Groupby with bucketing"
   ]
  },
  {
   "cell_type": "code",
   "execution_count": 172,
   "metadata": {
    "collapsed": false
   },
   "outputs": [
    {
     "data": {
      "text/plain": [
       "0     (-1.15, 0.368]\n",
       "1    (-2.674, -1.15]\n",
       "2    (-2.674, -1.15]\n",
       "3     (-1.15, 0.368]\n",
       "4     (-1.15, 0.368]\n",
       "5     (0.368, 1.886]\n",
       "6     (-1.15, 0.368]\n",
       "7     (-1.15, 0.368]\n",
       "8     (0.368, 1.886]\n",
       "9     (-1.15, 0.368]\n",
       "Name: data1, dtype: category\n",
       "Categories (4, object): [(-2.674, -1.15] < (-1.15, 0.368] < (0.368, 1.886] < (1.886, 3.404]]"
      ]
     },
     "execution_count": 172,
     "metadata": {},
     "output_type": "execute_result"
    }
   ],
   "source": [
    "# Quantile and Bucket Analysis\n",
    "frame = DataFrame({'data1': np.random.randn(1000),\n",
    "                   'data2': np.random.randn(1000)})\n",
    "frame\n",
    "factor = pd.cut(frame.data1, 4)\n",
    "factor[:10]"
   ]
  },
  {
   "cell_type": "markdown",
   "metadata": {},
   "source": [
    "The factor object returned by cut can be passed directly to groupby, so we could compute a set of statistics for the data2 column like so:"
   ]
  },
  {
   "cell_type": "code",
   "execution_count": 173,
   "metadata": {
    "collapsed": false
   },
   "outputs": [
    {
     "data": {
      "text/html": [
       "<div>\n",
       "<table border=\"1\" class=\"dataframe\">\n",
       "  <thead>\n",
       "    <tr style=\"text-align: right;\">\n",
       "      <th></th>\n",
       "      <th>count</th>\n",
       "      <th>max</th>\n",
       "      <th>mean</th>\n",
       "      <th>min</th>\n",
       "    </tr>\n",
       "    <tr>\n",
       "      <th>data1</th>\n",
       "      <th></th>\n",
       "      <th></th>\n",
       "      <th></th>\n",
       "      <th></th>\n",
       "    </tr>\n",
       "  </thead>\n",
       "  <tbody>\n",
       "    <tr>\n",
       "      <th>(-2.674, -1.15]</th>\n",
       "      <td>124.0</td>\n",
       "      <td>2.066999</td>\n",
       "      <td>0.029440</td>\n",
       "      <td>-2.340085</td>\n",
       "    </tr>\n",
       "    <tr>\n",
       "      <th>(-1.15, 0.368]</th>\n",
       "      <td>531.0</td>\n",
       "      <td>2.558880</td>\n",
       "      <td>-0.008859</td>\n",
       "      <td>-3.380646</td>\n",
       "    </tr>\n",
       "    <tr>\n",
       "      <th>(0.368, 1.886]</th>\n",
       "      <td>326.0</td>\n",
       "      <td>2.535171</td>\n",
       "      <td>-0.021036</td>\n",
       "      <td>-2.681868</td>\n",
       "    </tr>\n",
       "    <tr>\n",
       "      <th>(1.886, 3.404]</th>\n",
       "      <td>19.0</td>\n",
       "      <td>1.168986</td>\n",
       "      <td>-0.340257</td>\n",
       "      <td>-2.228179</td>\n",
       "    </tr>\n",
       "  </tbody>\n",
       "</table>\n",
       "</div>"
      ],
      "text/plain": [
       "                 count       max      mean       min\n",
       "data1                                               \n",
       "(-2.674, -1.15]  124.0  2.066999  0.029440 -2.340085\n",
       "(-1.15, 0.368]   531.0  2.558880 -0.008859 -3.380646\n",
       "(0.368, 1.886]   326.0  2.535171 -0.021036 -2.681868\n",
       "(1.886, 3.404]    19.0  1.168986 -0.340257 -2.228179"
      ]
     },
     "execution_count": 173,
     "metadata": {},
     "output_type": "execute_result"
    }
   ],
   "source": [
    "def get_stats(group):\n",
    "    return{'min': group.min(), 'max': group.max(), \n",
    "           'count': group.count(), 'mean': group.mean()}\n",
    "grouped = frame.data2.groupby(factor)\n",
    "grouped = frame['data2'].groupby(factor) # note: same as previous row!\n",
    "grouped.apply(get_stats).unstack()"
   ]
  },
  {
   "cell_type": "markdown",
   "metadata": {},
   "source": [
    "Or we could compute equal-size buckets based on sample quantiles:"
   ]
  },
  {
   "cell_type": "code",
   "execution_count": 174,
   "metadata": {
    "collapsed": false
   },
   "outputs": [
    {
     "data": {
      "text/html": [
       "<div>\n",
       "<table border=\"1\" class=\"dataframe\">\n",
       "  <thead>\n",
       "    <tr style=\"text-align: right;\">\n",
       "      <th></th>\n",
       "      <th>count</th>\n",
       "      <th>max</th>\n",
       "      <th>mean</th>\n",
       "      <th>min</th>\n",
       "    </tr>\n",
       "    <tr>\n",
       "      <th>data1</th>\n",
       "      <th></th>\n",
       "      <th></th>\n",
       "      <th></th>\n",
       "      <th></th>\n",
       "    </tr>\n",
       "  </thead>\n",
       "  <tbody>\n",
       "    <tr>\n",
       "      <th>0</th>\n",
       "      <td>100.0</td>\n",
       "      <td>2.066999</td>\n",
       "      <td>0.058914</td>\n",
       "      <td>-1.973643</td>\n",
       "    </tr>\n",
       "    <tr>\n",
       "      <th>1</th>\n",
       "      <td>100.0</td>\n",
       "      <td>2.351557</td>\n",
       "      <td>-0.111474</td>\n",
       "      <td>-2.340085</td>\n",
       "    </tr>\n",
       "    <tr>\n",
       "      <th>2</th>\n",
       "      <td>100.0</td>\n",
       "      <td>2.211709</td>\n",
       "      <td>0.074116</td>\n",
       "      <td>-1.991595</td>\n",
       "    </tr>\n",
       "    <tr>\n",
       "      <th>3</th>\n",
       "      <td>100.0</td>\n",
       "      <td>1.996386</td>\n",
       "      <td>-0.078983</td>\n",
       "      <td>-2.045666</td>\n",
       "    </tr>\n",
       "    <tr>\n",
       "      <th>4</th>\n",
       "      <td>100.0</td>\n",
       "      <td>2.558880</td>\n",
       "      <td>0.112800</td>\n",
       "      <td>-2.701379</td>\n",
       "    </tr>\n",
       "    <tr>\n",
       "      <th>5</th>\n",
       "      <td>100.0</td>\n",
       "      <td>2.145419</td>\n",
       "      <td>-0.009112</td>\n",
       "      <td>-3.380646</td>\n",
       "    </tr>\n",
       "    <tr>\n",
       "      <th>6</th>\n",
       "      <td>100.0</td>\n",
       "      <td>1.924108</td>\n",
       "      <td>-0.102423</td>\n",
       "      <td>-2.472804</td>\n",
       "    </tr>\n",
       "    <tr>\n",
       "      <th>7</th>\n",
       "      <td>100.0</td>\n",
       "      <td>2.314302</td>\n",
       "      <td>-0.044785</td>\n",
       "      <td>-2.387682</td>\n",
       "    </tr>\n",
       "    <tr>\n",
       "      <th>8</th>\n",
       "      <td>100.0</td>\n",
       "      <td>2.535171</td>\n",
       "      <td>-0.050433</td>\n",
       "      <td>-2.681868</td>\n",
       "    </tr>\n",
       "    <tr>\n",
       "      <th>9</th>\n",
       "      <td>100.0</td>\n",
       "      <td>2.131001</td>\n",
       "      <td>0.007619</td>\n",
       "      <td>-2.228179</td>\n",
       "    </tr>\n",
       "  </tbody>\n",
       "</table>\n",
       "</div>"
      ],
      "text/plain": [
       "       count       max      mean       min\n",
       "data1                                     \n",
       "0      100.0  2.066999  0.058914 -1.973643\n",
       "1      100.0  2.351557 -0.111474 -2.340085\n",
       "2      100.0  2.211709  0.074116 -1.991595\n",
       "3      100.0  1.996386 -0.078983 -2.045666\n",
       "4      100.0  2.558880  0.112800 -2.701379\n",
       "5      100.0  2.145419 -0.009112 -3.380646\n",
       "6      100.0  1.924108 -0.102423 -2.472804\n",
       "7      100.0  2.314302 -0.044785 -2.387682\n",
       "8      100.0  2.535171 -0.050433 -2.681868\n",
       "9      100.0  2.131001  0.007619 -2.228179"
      ]
     },
     "execution_count": 174,
     "metadata": {},
     "output_type": "execute_result"
    }
   ],
   "source": [
    "grouping = pd.qcut(frame.data1, 10, labels=False)\n",
    "grouped = frame.data2.groupby(grouping)\n",
    "grouped.apply(get_stats).unstack()"
   ]
  },
  {
   "cell_type": "markdown",
   "metadata": {},
   "source": [
    "Example: filling missing values with group-specific values"
   ]
  },
  {
   "cell_type": "code",
   "execution_count": 176,
   "metadata": {
    "collapsed": false
   },
   "outputs": [
    {
     "name": "stdout",
     "output_type": "stream",
     "text": [
      "\n",
      "0    0.015510\n",
      "1    0.713556\n",
      "2   -2.014549\n",
      "3    1.890530\n",
      "4    0.530680\n",
      "5   -0.458383\n",
      "dtype: float64\n",
      "\n",
      "0    0.015510\n",
      "1    0.713556\n",
      "dtype: float64\n",
      "\n",
      "0    0.015510\n",
      "2   -2.014549\n",
      "4    0.530680\n",
      "dtype: float64\n",
      "\n",
      "0         NaN\n",
      "1    0.713556\n",
      "2         NaN\n",
      "3    1.890530\n",
      "4         NaN\n",
      "5   -0.458383\n",
      "dtype: float64\n",
      "\n",
      "0    0.715234\n",
      "1    0.713556\n",
      "2    0.715234\n",
      "3    1.890530\n",
      "4    0.715234\n",
      "5   -0.458383\n",
      "dtype: float64\n"
     ]
    }
   ],
   "source": [
    "s = Series(np.random.randn(6))\n",
    "print '\\n', s\n",
    "print '\\n', s[:2]\n",
    "print '\\n', s[::2]\n",
    "s[::2] = np.nan\n",
    "print '\\n', s\n",
    "print '\\n', s.fillna(s.mean())"
   ]
  },
  {
   "cell_type": "markdown",
   "metadata": {},
   "source": [
    "Filling in NAs by group values:"
   ]
  },
  {
   "cell_type": "code",
   "execution_count": 177,
   "metadata": {
    "collapsed": false
   },
   "outputs": [
    {
     "data": {
      "text/plain": [
       "Ohio          0.482648\n",
       "New York     -1.106630\n",
       "Vermont      -0.421722\n",
       "Florida      -0.641186\n",
       "Oregon       -0.517017\n",
       "Nevada        0.459876\n",
       "California    1.436770\n",
       "Idaho         0.459876\n",
       "dtype: float64"
      ]
     },
     "execution_count": 177,
     "metadata": {},
     "output_type": "execute_result"
    }
   ],
   "source": [
    "states = ['Ohio', 'New York', 'Vermont', 'Florida', 'Oregon', 'Nevada',\n",
    "          'California', 'Idaho']\n",
    "group_key = ['East'] * 4 + ['West'] * 4\n",
    "data = Series(np.random.randn(8), index=states)\n",
    "data[['Vermont', 'Nevada', 'Idaho']] = np.nan\n",
    "data\n",
    "group_key\n",
    "data.groupby(group_key).mean()\n",
    "fill_mean = lambda g: g.fillna(g.mean())\n",
    "data.groupby(group_key).apply(fill_mean)"
   ]
  },
  {
   "cell_type": "markdown",
   "metadata": {
    "collapsed": true
   },
   "source": [
    "Or, if you have pre-defined values that vary by group:"
   ]
  },
  {
   "cell_type": "code",
   "execution_count": null,
   "metadata": {
    "collapsed": true
   },
   "outputs": [],
   "source": [
    "# \n",
    "fill_values = {'East': 0.5, 'West': -1}\n",
    "fill_func = lambda g: g.fillna(fill_values[g.name])\n",
    "data.groupby(group_key).apply(fill_func)"
   ]
  },
  {
   "cell_type": "markdown",
   "metadata": {},
   "source": [
    "<a id='cards_example'></a>\n",
    "### Example: Random Sampling and Permutation\n",
    "- Hearts, Spades, Clubs, Diamonds - first let's make the deck:"
   ]
  },
  {
   "cell_type": "code",
   "execution_count": 178,
   "metadata": {
    "collapsed": false
   },
   "outputs": [
    {
     "data": {
      "text/plain": [
       "AH      1\n",
       "2H      2\n",
       "3H      3\n",
       "4H      4\n",
       "5H      5\n",
       "6H      6\n",
       "7H      7\n",
       "8H      8\n",
       "9H      9\n",
       "10H    10\n",
       "JH     10\n",
       "KH     10\n",
       "QH     10\n",
       "dtype: int64"
      ]
     },
     "execution_count": 178,
     "metadata": {},
     "output_type": "execute_result"
    }
   ],
   "source": [
    "suits = ['H', 'S', 'C', 'D']\n",
    "card_val = (range(1, 11) + [10]*3)*4\n",
    "card_val\n",
    "base_names = ['A'] + range(2, 11) + ['J', 'K', 'Q']\n",
    "cards = []\n",
    "for suit in ['H', 'S', 'C', 'D']:\n",
    "    cards.extend(str(num) + suit for num in base_names)\n",
    "deck = Series(card_val, index=cards)\n",
    "deck[:13]"
   ]
  },
  {
   "cell_type": "markdown",
   "metadata": {},
   "source": [
    "To draw a hand of 5 cards from the deck:"
   ]
  },
  {
   "cell_type": "code",
   "execution_count": 179,
   "metadata": {
    "collapsed": false
   },
   "outputs": [
    {
     "data": {
      "text/plain": [
       "AH      1\n",
       "8S      8\n",
       "10H    10\n",
       "KH     10\n",
       "10D    10\n",
       "dtype: int64"
      ]
     },
     "execution_count": 179,
     "metadata": {},
     "output_type": "execute_result"
    }
   ],
   "source": [
    "def draw(deck, n=5):\n",
    "    return deck.take(np.random.permutation(len(deck))[:n])\n",
    "draw(deck)"
   ]
  },
  {
   "cell_type": "markdown",
   "metadata": {},
   "source": [
    "To draw to random cards from each suit:"
   ]
  },
  {
   "cell_type": "code",
   "execution_count": 180,
   "metadata": {
    "collapsed": false
   },
   "outputs": [
    {
     "data": {
      "text/plain": [
       "C  9C      9\n",
       "   6C      6\n",
       "D  10D    10\n",
       "   QD     10\n",
       "H  2H      2\n",
       "   9H      9\n",
       "S  9S      9\n",
       "   7S      7\n",
       "dtype: int64"
      ]
     },
     "execution_count": 180,
     "metadata": {},
     "output_type": "execute_result"
    }
   ],
   "source": [
    "get_suit = lambda card: card[-1] # last leter is suit\n",
    "deck.groupby(get_suit).apply(draw, n=2)"
   ]
  },
  {
   "cell_type": "markdown",
   "metadata": {},
   "source": [
    "Alternatively:"
   ]
  },
  {
   "cell_type": "code",
   "execution_count": 181,
   "metadata": {
    "collapsed": false
   },
   "outputs": [
    {
     "data": {
      "text/plain": [
       "8C     8\n",
       "7C     7\n",
       "AD     1\n",
       "QD    10\n",
       "AH     1\n",
       "2H     2\n",
       "JS    10\n",
       "AS     1\n",
       "dtype: int64"
      ]
     },
     "execution_count": 181,
     "metadata": {},
     "output_type": "execute_result"
    }
   ],
   "source": [
    "deck.groupby(get_suit, group_keys=False).apply(draw, n=2)"
   ]
  },
  {
   "cell_type": "markdown",
   "metadata": {},
   "source": [
    "<a id='pivot_tables'></a>\n",
    "### Pivot Tables  \n",
    "(note: it calculates means by default)"
   ]
  },
  {
   "cell_type": "code",
   "execution_count": 182,
   "metadata": {
    "collapsed": false
   },
   "outputs": [
    {
     "data": {
      "text/html": [
       "<div>\n",
       "<table border=\"1\" class=\"dataframe\">\n",
       "  <thead>\n",
       "    <tr style=\"text-align: right;\">\n",
       "      <th></th>\n",
       "      <th></th>\n",
       "      <th>size</th>\n",
       "      <th>tip</th>\n",
       "      <th>tip_pct</th>\n",
       "      <th>total_bill</th>\n",
       "    </tr>\n",
       "    <tr>\n",
       "      <th>sex</th>\n",
       "      <th>smoker</th>\n",
       "      <th></th>\n",
       "      <th></th>\n",
       "      <th></th>\n",
       "      <th></th>\n",
       "    </tr>\n",
       "  </thead>\n",
       "  <tbody>\n",
       "    <tr>\n",
       "      <th rowspan=\"2\" valign=\"top\">Female</th>\n",
       "      <th>No</th>\n",
       "      <td>2.592593</td>\n",
       "      <td>2.773519</td>\n",
       "      <td>0.156921</td>\n",
       "      <td>18.105185</td>\n",
       "    </tr>\n",
       "    <tr>\n",
       "      <th>Yes</th>\n",
       "      <td>2.242424</td>\n",
       "      <td>2.931515</td>\n",
       "      <td>0.182150</td>\n",
       "      <td>17.977879</td>\n",
       "    </tr>\n",
       "    <tr>\n",
       "      <th rowspan=\"2\" valign=\"top\">Male</th>\n",
       "      <th>No</th>\n",
       "      <td>2.711340</td>\n",
       "      <td>3.113402</td>\n",
       "      <td>0.160669</td>\n",
       "      <td>19.791237</td>\n",
       "    </tr>\n",
       "    <tr>\n",
       "      <th>Yes</th>\n",
       "      <td>2.500000</td>\n",
       "      <td>3.051167</td>\n",
       "      <td>0.152771</td>\n",
       "      <td>22.284500</td>\n",
       "    </tr>\n",
       "  </tbody>\n",
       "</table>\n",
       "</div>"
      ],
      "text/plain": [
       "                   size       tip   tip_pct  total_bill\n",
       "sex    smoker                                          \n",
       "Female No      2.592593  2.773519  0.156921   18.105185\n",
       "       Yes     2.242424  2.931515  0.182150   17.977879\n",
       "Male   No      2.711340  3.113402  0.160669   19.791237\n",
       "       Yes     2.500000  3.051167  0.152771   22.284500"
      ]
     },
     "execution_count": 182,
     "metadata": {},
     "output_type": "execute_result"
    }
   ],
   "source": [
    "tips.pivot_table(index=['sex', 'smoker']) # note, you can do this w/ groupby"
   ]
  },
  {
   "cell_type": "markdown",
   "metadata": {},
   "source": [
    "Let's limit the metrics, and put smoke in the table columns:"
   ]
  },
  {
   "cell_type": "code",
   "execution_count": 183,
   "metadata": {
    "collapsed": false
   },
   "outputs": [
    {
     "data": {
      "text/html": [
       "<div>\n",
       "<table border=\"1\" class=\"dataframe\">\n",
       "  <thead>\n",
       "    <tr>\n",
       "      <th></th>\n",
       "      <th></th>\n",
       "      <th colspan=\"2\" halign=\"left\">tip_pct</th>\n",
       "      <th colspan=\"2\" halign=\"left\">size</th>\n",
       "    </tr>\n",
       "    <tr>\n",
       "      <th></th>\n",
       "      <th>smoker</th>\n",
       "      <th>No</th>\n",
       "      <th>Yes</th>\n",
       "      <th>No</th>\n",
       "      <th>Yes</th>\n",
       "    </tr>\n",
       "    <tr>\n",
       "      <th>sex</th>\n",
       "      <th>day</th>\n",
       "      <th></th>\n",
       "      <th></th>\n",
       "      <th></th>\n",
       "      <th></th>\n",
       "    </tr>\n",
       "  </thead>\n",
       "  <tbody>\n",
       "    <tr>\n",
       "      <th rowspan=\"4\" valign=\"top\">Female</th>\n",
       "      <th>Fri</th>\n",
       "      <td>0.165296</td>\n",
       "      <td>0.209129</td>\n",
       "      <td>2.500000</td>\n",
       "      <td>2.000000</td>\n",
       "    </tr>\n",
       "    <tr>\n",
       "      <th>Sat</th>\n",
       "      <td>0.147993</td>\n",
       "      <td>0.163817</td>\n",
       "      <td>2.307692</td>\n",
       "      <td>2.200000</td>\n",
       "    </tr>\n",
       "    <tr>\n",
       "      <th>Sun</th>\n",
       "      <td>0.165710</td>\n",
       "      <td>0.237075</td>\n",
       "      <td>3.071429</td>\n",
       "      <td>2.500000</td>\n",
       "    </tr>\n",
       "    <tr>\n",
       "      <th>Thur</th>\n",
       "      <td>0.155971</td>\n",
       "      <td>0.163073</td>\n",
       "      <td>2.480000</td>\n",
       "      <td>2.428571</td>\n",
       "    </tr>\n",
       "    <tr>\n",
       "      <th rowspan=\"4\" valign=\"top\">Male</th>\n",
       "      <th>Fri</th>\n",
       "      <td>0.138005</td>\n",
       "      <td>0.144730</td>\n",
       "      <td>2.000000</td>\n",
       "      <td>2.125000</td>\n",
       "    </tr>\n",
       "    <tr>\n",
       "      <th>Sat</th>\n",
       "      <td>0.162132</td>\n",
       "      <td>0.139067</td>\n",
       "      <td>2.656250</td>\n",
       "      <td>2.629630</td>\n",
       "    </tr>\n",
       "    <tr>\n",
       "      <th>Sun</th>\n",
       "      <td>0.158291</td>\n",
       "      <td>0.173964</td>\n",
       "      <td>2.883721</td>\n",
       "      <td>2.600000</td>\n",
       "    </tr>\n",
       "    <tr>\n",
       "      <th>Thur</th>\n",
       "      <td>0.165706</td>\n",
       "      <td>0.164417</td>\n",
       "      <td>2.500000</td>\n",
       "      <td>2.300000</td>\n",
       "    </tr>\n",
       "  </tbody>\n",
       "</table>\n",
       "</div>"
      ],
      "text/plain": [
       "              tip_pct                size          \n",
       "smoker             No       Yes        No       Yes\n",
       "sex    day                                         \n",
       "Female Fri   0.165296  0.209129  2.500000  2.000000\n",
       "       Sat   0.147993  0.163817  2.307692  2.200000\n",
       "       Sun   0.165710  0.237075  3.071429  2.500000\n",
       "       Thur  0.155971  0.163073  2.480000  2.428571\n",
       "Male   Fri   0.138005  0.144730  2.000000  2.125000\n",
       "       Sat   0.162132  0.139067  2.656250  2.629630\n",
       "       Sun   0.158291  0.173964  2.883721  2.600000\n",
       "       Thur  0.165706  0.164417  2.500000  2.300000"
      ]
     },
     "execution_count": 183,
     "metadata": {},
     "output_type": "execute_result"
    }
   ],
   "source": [
    "tips.pivot_table(['tip_pct', 'size'], index=['sex', 'day'],\n",
    "                 columns='smoker')"
   ]
  },
  {
   "cell_type": "markdown",
   "metadata": {},
   "source": [
    "We can get totals by doing margins=True"
   ]
  },
  {
   "cell_type": "code",
   "execution_count": 184,
   "metadata": {
    "collapsed": false
   },
   "outputs": [
    {
     "data": {
      "text/html": [
       "<div>\n",
       "<table border=\"1\" class=\"dataframe\">\n",
       "  <thead>\n",
       "    <tr>\n",
       "      <th></th>\n",
       "      <th></th>\n",
       "      <th colspan=\"3\" halign=\"left\">tip_pct</th>\n",
       "      <th colspan=\"3\" halign=\"left\">size</th>\n",
       "    </tr>\n",
       "    <tr>\n",
       "      <th></th>\n",
       "      <th>smoker</th>\n",
       "      <th>No</th>\n",
       "      <th>Yes</th>\n",
       "      <th>All</th>\n",
       "      <th>No</th>\n",
       "      <th>Yes</th>\n",
       "      <th>All</th>\n",
       "    </tr>\n",
       "    <tr>\n",
       "      <th>sex</th>\n",
       "      <th>day</th>\n",
       "      <th></th>\n",
       "      <th></th>\n",
       "      <th></th>\n",
       "      <th></th>\n",
       "      <th></th>\n",
       "      <th></th>\n",
       "    </tr>\n",
       "  </thead>\n",
       "  <tbody>\n",
       "    <tr>\n",
       "      <th rowspan=\"4\" valign=\"top\">Female</th>\n",
       "      <th>Fri</th>\n",
       "      <td>0.165296</td>\n",
       "      <td>0.209129</td>\n",
       "      <td>0.199388</td>\n",
       "      <td>2.500000</td>\n",
       "      <td>2.000000</td>\n",
       "      <td>2.111111</td>\n",
       "    </tr>\n",
       "    <tr>\n",
       "      <th>Sat</th>\n",
       "      <td>0.147993</td>\n",
       "      <td>0.163817</td>\n",
       "      <td>0.156470</td>\n",
       "      <td>2.307692</td>\n",
       "      <td>2.200000</td>\n",
       "      <td>2.250000</td>\n",
       "    </tr>\n",
       "    <tr>\n",
       "      <th>Sun</th>\n",
       "      <td>0.165710</td>\n",
       "      <td>0.237075</td>\n",
       "      <td>0.181569</td>\n",
       "      <td>3.071429</td>\n",
       "      <td>2.500000</td>\n",
       "      <td>2.944444</td>\n",
       "    </tr>\n",
       "    <tr>\n",
       "      <th>Thur</th>\n",
       "      <td>0.155971</td>\n",
       "      <td>0.163073</td>\n",
       "      <td>0.157525</td>\n",
       "      <td>2.480000</td>\n",
       "      <td>2.428571</td>\n",
       "      <td>2.468750</td>\n",
       "    </tr>\n",
       "    <tr>\n",
       "      <th rowspan=\"4\" valign=\"top\">Male</th>\n",
       "      <th>Fri</th>\n",
       "      <td>0.138005</td>\n",
       "      <td>0.144730</td>\n",
       "      <td>0.143385</td>\n",
       "      <td>2.000000</td>\n",
       "      <td>2.125000</td>\n",
       "      <td>2.100000</td>\n",
       "    </tr>\n",
       "    <tr>\n",
       "      <th>Sat</th>\n",
       "      <td>0.162132</td>\n",
       "      <td>0.139067</td>\n",
       "      <td>0.151577</td>\n",
       "      <td>2.656250</td>\n",
       "      <td>2.629630</td>\n",
       "      <td>2.644068</td>\n",
       "    </tr>\n",
       "    <tr>\n",
       "      <th>Sun</th>\n",
       "      <td>0.158291</td>\n",
       "      <td>0.173964</td>\n",
       "      <td>0.162344</td>\n",
       "      <td>2.883721</td>\n",
       "      <td>2.600000</td>\n",
       "      <td>2.810345</td>\n",
       "    </tr>\n",
       "    <tr>\n",
       "      <th>Thur</th>\n",
       "      <td>0.165706</td>\n",
       "      <td>0.164417</td>\n",
       "      <td>0.165276</td>\n",
       "      <td>2.500000</td>\n",
       "      <td>2.300000</td>\n",
       "      <td>2.433333</td>\n",
       "    </tr>\n",
       "    <tr>\n",
       "      <th>All</th>\n",
       "      <th></th>\n",
       "      <td>0.159328</td>\n",
       "      <td>0.163196</td>\n",
       "      <td>0.160803</td>\n",
       "      <td>2.668874</td>\n",
       "      <td>2.408602</td>\n",
       "      <td>2.569672</td>\n",
       "    </tr>\n",
       "  </tbody>\n",
       "</table>\n",
       "</div>"
      ],
      "text/plain": [
       "              tip_pct                          size                    \n",
       "smoker             No       Yes       All        No       Yes       All\n",
       "sex    day                                                             \n",
       "Female Fri   0.165296  0.209129  0.199388  2.500000  2.000000  2.111111\n",
       "       Sat   0.147993  0.163817  0.156470  2.307692  2.200000  2.250000\n",
       "       Sun   0.165710  0.237075  0.181569  3.071429  2.500000  2.944444\n",
       "       Thur  0.155971  0.163073  0.157525  2.480000  2.428571  2.468750\n",
       "Male   Fri   0.138005  0.144730  0.143385  2.000000  2.125000  2.100000\n",
       "       Sat   0.162132  0.139067  0.151577  2.656250  2.629630  2.644068\n",
       "       Sun   0.158291  0.173964  0.162344  2.883721  2.600000  2.810345\n",
       "       Thur  0.165706  0.164417  0.165276  2.500000  2.300000  2.433333\n",
       "All          0.159328  0.163196  0.160803  2.668874  2.408602  2.569672"
      ]
     },
     "execution_count": 184,
     "metadata": {},
     "output_type": "execute_result"
    }
   ],
   "source": [
    "tips.pivot_table(['tip_pct', 'size'], index=['sex', 'day'],\n",
    "                 columns='smoker', margins=True)"
   ]
  },
  {
   "cell_type": "markdown",
   "metadata": {},
   "source": [
    "We change the measure using aggfunc (note that len is the same as count):"
   ]
  },
  {
   "cell_type": "code",
   "execution_count": 185,
   "metadata": {
    "collapsed": false
   },
   "outputs": [
    {
     "data": {
      "text/html": [
       "<div>\n",
       "<table border=\"1\" class=\"dataframe\">\n",
       "  <thead>\n",
       "    <tr style=\"text-align: right;\">\n",
       "      <th></th>\n",
       "      <th>day</th>\n",
       "      <th>Fri</th>\n",
       "      <th>Sat</th>\n",
       "      <th>Sun</th>\n",
       "      <th>Thur</th>\n",
       "      <th>All</th>\n",
       "    </tr>\n",
       "    <tr>\n",
       "      <th>sex</th>\n",
       "      <th>smoker</th>\n",
       "      <th></th>\n",
       "      <th></th>\n",
       "      <th></th>\n",
       "      <th></th>\n",
       "      <th></th>\n",
       "    </tr>\n",
       "  </thead>\n",
       "  <tbody>\n",
       "    <tr>\n",
       "      <th rowspan=\"2\" valign=\"top\">Female</th>\n",
       "      <th>No</th>\n",
       "      <td>2.0</td>\n",
       "      <td>13.0</td>\n",
       "      <td>14.0</td>\n",
       "      <td>25.0</td>\n",
       "      <td>54.0</td>\n",
       "    </tr>\n",
       "    <tr>\n",
       "      <th>Yes</th>\n",
       "      <td>7.0</td>\n",
       "      <td>15.0</td>\n",
       "      <td>4.0</td>\n",
       "      <td>7.0</td>\n",
       "      <td>33.0</td>\n",
       "    </tr>\n",
       "    <tr>\n",
       "      <th rowspan=\"2\" valign=\"top\">Male</th>\n",
       "      <th>No</th>\n",
       "      <td>2.0</td>\n",
       "      <td>32.0</td>\n",
       "      <td>43.0</td>\n",
       "      <td>20.0</td>\n",
       "      <td>97.0</td>\n",
       "    </tr>\n",
       "    <tr>\n",
       "      <th>Yes</th>\n",
       "      <td>8.0</td>\n",
       "      <td>27.0</td>\n",
       "      <td>15.0</td>\n",
       "      <td>10.0</td>\n",
       "      <td>60.0</td>\n",
       "    </tr>\n",
       "    <tr>\n",
       "      <th>All</th>\n",
       "      <th></th>\n",
       "      <td>19.0</td>\n",
       "      <td>87.0</td>\n",
       "      <td>76.0</td>\n",
       "      <td>62.0</td>\n",
       "      <td>244.0</td>\n",
       "    </tr>\n",
       "  </tbody>\n",
       "</table>\n",
       "</div>"
      ],
      "text/plain": [
       "day             Fri   Sat   Sun  Thur    All\n",
       "sex    smoker                               \n",
       "Female No       2.0  13.0  14.0  25.0   54.0\n",
       "       Yes      7.0  15.0   4.0   7.0   33.0\n",
       "Male   No       2.0  32.0  43.0  20.0   97.0\n",
       "       Yes      8.0  27.0  15.0  10.0   60.0\n",
       "All            19.0  87.0  76.0  62.0  244.0"
      ]
     },
     "execution_count": 185,
     "metadata": {},
     "output_type": "execute_result"
    }
   ],
   "source": [
    "tips.pivot_table('tip_pct', index=['sex', 'smoker'], columns='day',\n",
    "                 aggfunc=len, margins=True)\n",
    "tips.pivot_table('tip_pct', index=['sex', 'smoker'], columns='day',\n",
    "                 aggfunc='count', margins=True)"
   ]
  },
  {
   "cell_type": "markdown",
   "metadata": {},
   "source": [
    "If some combos are empty or NA, you can pass fill_value:"
   ]
  },
  {
   "cell_type": "code",
   "execution_count": 188,
   "metadata": {
    "collapsed": false
   },
   "outputs": [
    {
     "data": {
      "text/html": [
       "<div>\n",
       "<table border=\"1\" class=\"dataframe\">\n",
       "  <thead>\n",
       "    <tr style=\"text-align: right;\">\n",
       "      <th></th>\n",
       "      <th></th>\n",
       "      <th>day</th>\n",
       "      <th>Fri</th>\n",
       "      <th>Sat</th>\n",
       "      <th>Sun</th>\n",
       "      <th>Thur</th>\n",
       "    </tr>\n",
       "    <tr>\n",
       "      <th>time</th>\n",
       "      <th>sex</th>\n",
       "      <th>smoker</th>\n",
       "      <th></th>\n",
       "      <th></th>\n",
       "      <th></th>\n",
       "      <th></th>\n",
       "    </tr>\n",
       "  </thead>\n",
       "  <tbody>\n",
       "    <tr>\n",
       "      <th rowspan=\"4\" valign=\"top\">Dinner</th>\n",
       "      <th rowspan=\"2\" valign=\"top\">Female</th>\n",
       "      <th>No</th>\n",
       "      <td>2</td>\n",
       "      <td>30</td>\n",
       "      <td>43</td>\n",
       "      <td>2</td>\n",
       "    </tr>\n",
       "    <tr>\n",
       "      <th>Yes</th>\n",
       "      <td>8</td>\n",
       "      <td>33</td>\n",
       "      <td>10</td>\n",
       "      <td>0</td>\n",
       "    </tr>\n",
       "    <tr>\n",
       "      <th rowspan=\"2\" valign=\"top\">Male</th>\n",
       "      <th>No</th>\n",
       "      <td>4</td>\n",
       "      <td>85</td>\n",
       "      <td>124</td>\n",
       "      <td>0</td>\n",
       "    </tr>\n",
       "    <tr>\n",
       "      <th>Yes</th>\n",
       "      <td>12</td>\n",
       "      <td>71</td>\n",
       "      <td>39</td>\n",
       "      <td>0</td>\n",
       "    </tr>\n",
       "    <tr>\n",
       "      <th rowspan=\"4\" valign=\"top\">Lunch</th>\n",
       "      <th rowspan=\"2\" valign=\"top\">Female</th>\n",
       "      <th>No</th>\n",
       "      <td>3</td>\n",
       "      <td>0</td>\n",
       "      <td>0</td>\n",
       "      <td>60</td>\n",
       "    </tr>\n",
       "    <tr>\n",
       "      <th>Yes</th>\n",
       "      <td>6</td>\n",
       "      <td>0</td>\n",
       "      <td>0</td>\n",
       "      <td>17</td>\n",
       "    </tr>\n",
       "    <tr>\n",
       "      <th rowspan=\"2\" valign=\"top\">Male</th>\n",
       "      <th>No</th>\n",
       "      <td>0</td>\n",
       "      <td>0</td>\n",
       "      <td>0</td>\n",
       "      <td>50</td>\n",
       "    </tr>\n",
       "    <tr>\n",
       "      <th>Yes</th>\n",
       "      <td>5</td>\n",
       "      <td>0</td>\n",
       "      <td>0</td>\n",
       "      <td>23</td>\n",
       "    </tr>\n",
       "  </tbody>\n",
       "</table>\n",
       "</div>"
      ],
      "text/plain": [
       "day                   Fri  Sat  Sun  Thur\n",
       "time   sex    smoker                     \n",
       "Dinner Female No        2   30   43     2\n",
       "              Yes       8   33   10     0\n",
       "       Male   No        4   85  124     0\n",
       "              Yes      12   71   39     0\n",
       "Lunch  Female No        3    0    0    60\n",
       "              Yes       6    0    0    17\n",
       "       Male   No        0    0    0    50\n",
       "              Yes       5    0    0    23"
      ]
     },
     "metadata": {},
     "output_type": "display_data"
    },
    {
     "data": {
      "text/html": [
       "<div>\n",
       "<table border=\"1\" class=\"dataframe\">\n",
       "  <thead>\n",
       "    <tr style=\"text-align: right;\">\n",
       "      <th></th>\n",
       "      <th></th>\n",
       "      <th>day</th>\n",
       "      <th>Fri</th>\n",
       "      <th>Sat</th>\n",
       "      <th>Sun</th>\n",
       "      <th>Thur</th>\n",
       "    </tr>\n",
       "    <tr>\n",
       "      <th>time</th>\n",
       "      <th>sex</th>\n",
       "      <th>smoker</th>\n",
       "      <th></th>\n",
       "      <th></th>\n",
       "      <th></th>\n",
       "      <th></th>\n",
       "    </tr>\n",
       "  </thead>\n",
       "  <tbody>\n",
       "    <tr>\n",
       "      <th rowspan=\"4\" valign=\"top\">Dinner</th>\n",
       "      <th rowspan=\"2\" valign=\"top\">Female</th>\n",
       "      <th>No</th>\n",
       "      <td>2.0</td>\n",
       "      <td>30.0</td>\n",
       "      <td>43.0</td>\n",
       "      <td>2.0</td>\n",
       "    </tr>\n",
       "    <tr>\n",
       "      <th>Yes</th>\n",
       "      <td>8.0</td>\n",
       "      <td>33.0</td>\n",
       "      <td>10.0</td>\n",
       "      <td>NaN</td>\n",
       "    </tr>\n",
       "    <tr>\n",
       "      <th rowspan=\"2\" valign=\"top\">Male</th>\n",
       "      <th>No</th>\n",
       "      <td>4.0</td>\n",
       "      <td>85.0</td>\n",
       "      <td>124.0</td>\n",
       "      <td>NaN</td>\n",
       "    </tr>\n",
       "    <tr>\n",
       "      <th>Yes</th>\n",
       "      <td>12.0</td>\n",
       "      <td>71.0</td>\n",
       "      <td>39.0</td>\n",
       "      <td>NaN</td>\n",
       "    </tr>\n",
       "    <tr>\n",
       "      <th rowspan=\"4\" valign=\"top\">Lunch</th>\n",
       "      <th rowspan=\"2\" valign=\"top\">Female</th>\n",
       "      <th>No</th>\n",
       "      <td>3.0</td>\n",
       "      <td>NaN</td>\n",
       "      <td>NaN</td>\n",
       "      <td>60.0</td>\n",
       "    </tr>\n",
       "    <tr>\n",
       "      <th>Yes</th>\n",
       "      <td>6.0</td>\n",
       "      <td>NaN</td>\n",
       "      <td>NaN</td>\n",
       "      <td>17.0</td>\n",
       "    </tr>\n",
       "    <tr>\n",
       "      <th rowspan=\"2\" valign=\"top\">Male</th>\n",
       "      <th>No</th>\n",
       "      <td>NaN</td>\n",
       "      <td>NaN</td>\n",
       "      <td>NaN</td>\n",
       "      <td>50.0</td>\n",
       "    </tr>\n",
       "    <tr>\n",
       "      <th>Yes</th>\n",
       "      <td>5.0</td>\n",
       "      <td>NaN</td>\n",
       "      <td>NaN</td>\n",
       "      <td>23.0</td>\n",
       "    </tr>\n",
       "  </tbody>\n",
       "</table>\n",
       "</div>"
      ],
      "text/plain": [
       "day                    Fri   Sat    Sun  Thur\n",
       "time   sex    smoker                         \n",
       "Dinner Female No       2.0  30.0   43.0   2.0\n",
       "              Yes      8.0  33.0   10.0   NaN\n",
       "       Male   No       4.0  85.0  124.0   NaN\n",
       "              Yes     12.0  71.0   39.0   NaN\n",
       "Lunch  Female No       3.0   NaN    NaN  60.0\n",
       "              Yes      6.0   NaN    NaN  17.0\n",
       "       Male   No       NaN   NaN    NaN  50.0\n",
       "              Yes      5.0   NaN    NaN  23.0"
      ]
     },
     "metadata": {},
     "output_type": "display_data"
    }
   ],
   "source": [
    "display(tips.pivot_table('size', index=['time', 'sex', 'smoker'],\n",
    "                 columns='day', aggfunc='sum', fill_value=0))\n",
    "display(tips.pivot_table('size', index=['time', 'sex', 'smoker'],\n",
    "                 columns='day', aggfunc='sum'))"
   ]
  },
  {
   "cell_type": "markdown",
   "metadata": {},
   "source": [
    "<a id='cross_tabs'></a>\n",
    "### Cross-Tabulations: Crosstab\n",
    "- cross tabs are special cases of pivot tables that compute group frequencies"
   ]
  },
  {
   "cell_type": "code",
   "execution_count": 197,
   "metadata": {
    "collapsed": false
   },
   "outputs": [
    {
     "data": {
      "text/html": [
       "<div>\n",
       "<table border=\"1\" class=\"dataframe\">\n",
       "  <thead>\n",
       "    <tr style=\"text-align: right;\">\n",
       "      <th></th>\n",
       "      <th>smoker</th>\n",
       "      <th>No</th>\n",
       "      <th>Yes</th>\n",
       "      <th>All</th>\n",
       "    </tr>\n",
       "    <tr>\n",
       "      <th>time</th>\n",
       "      <th>day</th>\n",
       "      <th></th>\n",
       "      <th></th>\n",
       "      <th></th>\n",
       "    </tr>\n",
       "  </thead>\n",
       "  <tbody>\n",
       "    <tr>\n",
       "      <th rowspan=\"4\" valign=\"top\">Dinner</th>\n",
       "      <th>Fri</th>\n",
       "      <td>3</td>\n",
       "      <td>9</td>\n",
       "      <td>12</td>\n",
       "    </tr>\n",
       "    <tr>\n",
       "      <th>Sat</th>\n",
       "      <td>45</td>\n",
       "      <td>42</td>\n",
       "      <td>87</td>\n",
       "    </tr>\n",
       "    <tr>\n",
       "      <th>Sun</th>\n",
       "      <td>57</td>\n",
       "      <td>19</td>\n",
       "      <td>76</td>\n",
       "    </tr>\n",
       "    <tr>\n",
       "      <th>Thur</th>\n",
       "      <td>1</td>\n",
       "      <td>0</td>\n",
       "      <td>1</td>\n",
       "    </tr>\n",
       "    <tr>\n",
       "      <th rowspan=\"2\" valign=\"top\">Lunch</th>\n",
       "      <th>Fri</th>\n",
       "      <td>1</td>\n",
       "      <td>6</td>\n",
       "      <td>7</td>\n",
       "    </tr>\n",
       "    <tr>\n",
       "      <th>Thur</th>\n",
       "      <td>44</td>\n",
       "      <td>17</td>\n",
       "      <td>61</td>\n",
       "    </tr>\n",
       "    <tr>\n",
       "      <th>All</th>\n",
       "      <th></th>\n",
       "      <td>151</td>\n",
       "      <td>93</td>\n",
       "      <td>244</td>\n",
       "    </tr>\n",
       "  </tbody>\n",
       "</table>\n",
       "</div>"
      ],
      "text/plain": [
       "smoker        No  Yes  All\n",
       "time   day                \n",
       "Dinner Fri     3    9   12\n",
       "       Sat    45   42   87\n",
       "       Sun    57   19   76\n",
       "       Thur    1    0    1\n",
       "Lunch  Fri     1    6    7\n",
       "       Thur   44   17   61\n",
       "All          151   93  244"
      ]
     },
     "metadata": {},
     "output_type": "display_data"
    },
    {
     "data": {
      "text/html": [
       "<div>\n",
       "<table border=\"1\" class=\"dataframe\">\n",
       "  <thead>\n",
       "    <tr style=\"text-align: right;\">\n",
       "      <th></th>\n",
       "      <th>smoker</th>\n",
       "      <th>No</th>\n",
       "      <th>Yes</th>\n",
       "      <th>All</th>\n",
       "    </tr>\n",
       "    <tr>\n",
       "      <th>time</th>\n",
       "      <th>day</th>\n",
       "      <th></th>\n",
       "      <th></th>\n",
       "      <th></th>\n",
       "    </tr>\n",
       "  </thead>\n",
       "  <tbody>\n",
       "    <tr>\n",
       "      <th rowspan=\"4\" valign=\"top\">Dinner</th>\n",
       "      <th>Fri</th>\n",
       "      <td>3.0</td>\n",
       "      <td>9.0</td>\n",
       "      <td>12.0</td>\n",
       "    </tr>\n",
       "    <tr>\n",
       "      <th>Sat</th>\n",
       "      <td>45.0</td>\n",
       "      <td>42.0</td>\n",
       "      <td>87.0</td>\n",
       "    </tr>\n",
       "    <tr>\n",
       "      <th>Sun</th>\n",
       "      <td>57.0</td>\n",
       "      <td>19.0</td>\n",
       "      <td>76.0</td>\n",
       "    </tr>\n",
       "    <tr>\n",
       "      <th>Thur</th>\n",
       "      <td>1.0</td>\n",
       "      <td>NaN</td>\n",
       "      <td>1.0</td>\n",
       "    </tr>\n",
       "    <tr>\n",
       "      <th rowspan=\"2\" valign=\"top\">Lunch</th>\n",
       "      <th>Fri</th>\n",
       "      <td>1.0</td>\n",
       "      <td>6.0</td>\n",
       "      <td>7.0</td>\n",
       "    </tr>\n",
       "    <tr>\n",
       "      <th>Thur</th>\n",
       "      <td>44.0</td>\n",
       "      <td>17.0</td>\n",
       "      <td>61.0</td>\n",
       "    </tr>\n",
       "    <tr>\n",
       "      <th>All</th>\n",
       "      <th></th>\n",
       "      <td>151.0</td>\n",
       "      <td>93.0</td>\n",
       "      <td>244.0</td>\n",
       "    </tr>\n",
       "  </tbody>\n",
       "</table>\n",
       "</div>"
      ],
      "text/plain": [
       "smoker          No   Yes    All\n",
       "time   day                     \n",
       "Dinner Fri     3.0   9.0   12.0\n",
       "       Sat    45.0  42.0   87.0\n",
       "       Sun    57.0  19.0   76.0\n",
       "       Thur    1.0   NaN    1.0\n",
       "Lunch  Fri     1.0   6.0    7.0\n",
       "       Thur   44.0  17.0   61.0\n",
       "All          151.0  93.0  244.0"
      ]
     },
     "metadata": {},
     "output_type": "display_data"
    }
   ],
   "source": [
    "display(pd.crosstab([tips.time, tips.day], tips.smoker, margins=True))\n",
    "display(tips.pivot_table('size', index=['time', 'day'], columns='smoker', aggfunc='count',\n",
    "                 margins=True)) # use count or len"
   ]
  }
 ],
 "metadata": {
  "anaconda-cloud": {},
  "kernelspec": {
   "display_name": "Python [default]",
   "language": "python",
   "name": "python2"
  },
  "language_info": {
   "codemirror_mode": {
    "name": "ipython",
    "version": 2
   },
   "file_extension": ".py",
   "mimetype": "text/x-python",
   "name": "python",
   "nbconvert_exporter": "python",
   "pygments_lexer": "ipython2",
   "version": "2.7.12"
  }
 },
 "nbformat": 4,
 "nbformat_minor": 1
}
