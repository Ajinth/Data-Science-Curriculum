{
 "cells": [
  {
   "cell_type": "markdown",
   "metadata": {},
   "source": [
    "# Principal Component Analysis (PCA)\n",
    "\n",
    "Similar to feature selection, we can use feature extraction to reduce the number of features in a dataset. However, while feature selection algorithms maintain the original features used,  feature extraction transforms or projects the data onto a new feature space. In the context of dimensionality reduction, feature extraction can be understood as an approach to data compression with the goal of maintaining most of the relevant  information. Feature extraction is typically used to improve computational efficiency but can also help to reduce the curse of dimensionality—especially if we are working with nonregularized models. \n",
    "\n",
    "Principal component analysis (PCA) is an unsupervised linear transformation technique that is primarily used for dimensionality reduction. PCA helps us to identify patterns in data based on the correlation between features. In a nutshell, PCA aims to find the directions of maximum variance in high-dimensional data and projects it onto a new subspace with equal or fewer dimensions than the original one. The orthogonal axes (principal components) of the new subspace can be interpreted as the directions of maximum variance given the constraint that the new feature axes are orthogonal to each other as illustrated in the following figure. Here, 1 x and 2 x are the original feature axes, and PC1 and PC2 are the principal components:\n",
    "![alt](extras/05_01.png)\n",
    "\n",
    "PCA takes data and identifies the linear line (eigenvector) through the data that best captures your variance (a high eigenvalue) (note: this linear line can be in any n-dimensional space). This can be thought of much like linear regression where the eigenvector is a linear equation incorporating n dimensions. Each eigenvector has an eigenvalue - the \"spread\" / \"importance\" value. This tells you: how important is this axis (eigenvector)?; which axis aligns best with the data? The eigenvector with the highest eigenvalue is your first principal component (pc1; this would be the linear-regression-like line). \n",
    "\n",
    "The number of eigenvectors is always equal to the number of dimensions in your data. So, if your data is 2D, your will have an eigenvector (pc2) that's orthogonal to pc1. If it's 3D, you will have two additional eigenvectors (pc2 and pc3) that are orthogonal to pc1. Each eigenvector is ranked based on how much of the variance in the data it captures (as measured by the eigenvalue).\n",
    "\n",
    "PCA is an unsupervised method, which means that information about the class labels is ignored.\n",
    "\n",
    "PCA is used on numerical features, not categorical ones. There are so-called Nonlinear PCAs (or Categorical PCAs), however it's unclear if these are tested enough. One should not use PCA when the variance cannot be explained by the top handful of PCs. If your first eigenvector explains very little of the variance, you're not gaining anything through PCA."
   ]
  },
  {
   "cell_type": "markdown",
   "metadata": {},
   "source": [
    "### Principal Component Analysis, mathematically  "
   ]
  },
  {
   "cell_type": "markdown",
   "metadata": {},
   "source": [
    "First, we compute the covariance of X:"
   ]
  },
  {
   "cell_type": "markdown",
   "metadata": {},
   "source": [
    "\\begin{align}\n",
    "\\Sigma_x(i,j) = E\\left[(x_i-\\mu_i)(x_j-\\mu_j)\\right]\n",
    "\\end{align}"
   ]
  },
  {
   "cell_type": "markdown",
   "metadata": {},
   "source": [
    "\\begin{align}\n",
    "\\Sigma_{ij} = \\frac{1}{N}\\displaystyle\\sum_{i=n}^N(x_i-\\mu_i)(x_j-\\mu_j)\n",
    "\\end{align}"
   ]
  },
  {
   "cell_type": "markdown",
   "metadata": {},
   "source": [
    "\\begin{align}\n",
    "\\Sigma_X = \\frac{1}{N}(X-\\mu_X)^T(X-\\mu_X)\n",
    "\\end{align}"
   ]
  },
  {
   "cell_type": "markdown",
   "metadata": {},
   "source": [
    "Note that when the data is standardized, $\\mu_i$ = $\\mu_j$ = 0.  "
   ]
  },
  {
   "cell_type": "markdown",
   "metadata": {},
   "source": [
    "\\begin{equation}\n",
    "\\Sigma_X = \n",
    "\\begin{pmatrix}\n",
    "  \\sigma_{1,1}^2 & \\sigma_{1,2} & \\cdots & \\sigma_{1,n} \\\\\n",
    "  \\sigma_{2,1} & \\sigma_{2,2}^2 & \\cdots & \\sigma_{2,n} \\\\\n",
    "  \\vdots  & \\vdots  & \\ddots & \\vdots  \\\\\n",
    "  \\sigma_{n,1} & \\sigma_{n,2} & \\cdots & \\sigma_{n,n}^2 \n",
    " \\end{pmatrix}\n",
    "\\end{equation}"
   ]
  },
  {
   "cell_type": "markdown",
   "metadata": {},
   "source": [
    "Remember that an eigenvector is one that after a transformation has not changed at all, except by a scalar value known as the eigenvalue:"
   ]
  },
  {
   "cell_type": "markdown",
   "metadata": {},
   "source": [
    "\\begin{align}\n",
    "\\renewcommand{\\vec}[1]{\\mathbf{#1}}\n",
    "\\ A\\vec{v} = \\lambda\\vec{v}\n",
    "\\end{align}"
   ]
  },
  {
   "cell_type": "markdown",
   "metadata": {},
   "source": [
    "Our goal is to find all the eigenvectors and corresponding eigenvalues of our covariance matrix:  "
   ]
  },
  {
   "cell_type": "markdown",
   "metadata": {},
   "source": [
    "\\begin{align}\n",
    "\\large \\Sigma_X\\vec{v} = \\lambda\\vec{v}\n",
    "\\end{align}"
   ]
  },
  {
   "cell_type": "markdown",
   "metadata": {},
   "source": [
    "We then order the eigen vectors and eigenvalues by descending order, such that:"
   ]
  },
  {
   "cell_type": "markdown",
   "metadata": {},
   "source": [
    "\\begin{align}\n",
    "\\lambda_1 > \\lambda_2 > \\lambda_3 > \\cdots > \\lambda_D\n",
    "\\end{align}"
   ]
  },
  {
   "cell_type": "markdown",
   "metadata": {},
   "source": [
    "\\begin{equation}\n",
    "\\vec{V} = \n",
    "\\begin{pmatrix}\n",
    "  \\mid & \\mid & \\cdots & \\mid \\\\\n",
    "  \\vec{v}_1 & \\vec{v}_2 & \\cdots & \\vec{v}_D \\\\\n",
    "  \\mid & \\mid & \\cdots & \\mid \n",
    " \\end{pmatrix}\n",
    "\\end{equation}"
   ]
  },
  {
   "cell_type": "markdown",
   "metadata": {},
   "source": [
    "\\begin{equation}\n",
    "\\vec{\\Lambda} = \n",
    "\\begin{pmatrix}\n",
    "  \\lambda_1 & 0 & \\cdots & 0 \\\\\n",
    "  0 & \\lambda_2 & \\cdots & 0 \\\\\n",
    "  \\vdots  & \\vdots  & \\ddots & \\vdots  \\\\\n",
    "  0 & 0 & \\cdots & \\lambda_D \n",
    " \\end{pmatrix}\n",
    "\\end{equation}"
   ]
  },
  {
   "cell_type": "markdown",
   "metadata": {},
   "source": [
    "It can be easily shown that:  "
   ]
  },
  {
   "cell_type": "markdown",
   "metadata": {},
   "source": [
    "\\begin{align}\n",
    "\\large \\Sigma_X\\vec{V} = \\vec{V}\\vec{\\Lambda}\n",
    "\\end{align}"
   ]
  },
  {
   "cell_type": "markdown",
   "metadata": {},
   "source": [
    "It is important to not that $\\vec{V}$ is orthonormal, meaning that $\\vec{V}^T\\vec{V} = I$"
   ]
  },
  {
   "cell_type": "markdown",
   "metadata": {},
   "source": [
    "After choosing the _k_ top vectors by eigenvalues, we then obtain our transformed data:"
   ]
  },
  {
   "cell_type": "markdown",
   "metadata": {},
   "source": [
    "\\begin{align}\n",
    "\\vec{Z} = \\vec{X}\\vec{Q}_k\n",
    "\\end{align}"
   ]
  },
  {
   "cell_type": "markdown",
   "metadata": {},
   "source": [
    "The _covariance_ of $\\vec{Z}$ is:"
   ]
  },
  {
   "cell_type": "markdown",
   "metadata": {},
   "source": [
    "\\begin{align}\n",
    "\\Sigma_Z = \\frac{1}{N}(Z-\\mu_Z)^T(Z-\\mu_Z)\n",
    "\\end{align}"
   ]
  },
  {
   "cell_type": "markdown",
   "metadata": {},
   "source": [
    "\\begin{align}\n",
    "\\ = \\frac{1}{N}(XQ-\\mu_XQ)^T(XQ-\\mu_XQ)\n",
    "\\end{align}"
   ]
  },
  {
   "cell_type": "markdown",
   "metadata": {},
   "source": [
    "\\begin{align}\n",
    "\\ = \\frac{1}{N}Q^T(X-\\mu_X)^T(X-\\mu_X)Q\n",
    "\\end{align}"
   ]
  },
  {
   "cell_type": "markdown",
   "metadata": {},
   "source": [
    "\\begin{align}\n",
    "\\ = \\vec{Q}^T\\Sigma_X\\vec{Q}\n",
    "\\end{align}"
   ]
  },
  {
   "cell_type": "markdown",
   "metadata": {},
   "source": [
    "Because we choose a Q such that Q = V:"
   ]
  },
  {
   "cell_type": "markdown",
   "metadata": {},
   "source": [
    "\\begin{align}\n",
    "\\Sigma_Z = \\vec{V}^T\\Sigma_X\\vec{V}\n",
    "\\end{align}"
   ]
  },
  {
   "cell_type": "markdown",
   "metadata": {},
   "source": [
    "\\begin{align}\n",
    "\\ = \\vec{V}^T\\vec{V}\\vec{\\Lambda}\n",
    "\\end{align}"
   ]
  },
  {
   "cell_type": "markdown",
   "metadata": {},
   "source": [
    "\\begin{align}\n",
    "\\ = \\vec{\\Lambda}\n",
    "\\end{align}"
   ]
  },
  {
   "cell_type": "markdown",
   "metadata": {},
   "source": [
    "This proves that any dimension _i_ is not correlated with any other dimension _j_, since the off-diagonal elements of $\\vec{\\Lambda}$ are zero. This also proves that the columns of $\\vec{Z}$ are sorted by decreasing variance."
   ]
  },
  {
   "cell_type": "markdown",
   "metadata": {},
   "source": [
    "Lastly, it is imporant to keep in mind the fact that PCA does actually have an objective function, which is:"
   ]
  },
  {
   "cell_type": "markdown",
   "metadata": {},
   "source": [
    "\\begin{align}\n",
    "\\ J = \\sum_n \\mid x(n) - \\vec{Q}_K\\vec{Q}_K^Tx(n) \\mid^2 \\text{ = } \\mid \\vec{X} - \\vec{X}\\vec{Q}_K\\vec{Q}_K^T \\mid^2_F\n",
    "\\end{align}"
   ]
  },
  {
   "cell_type": "markdown",
   "metadata": {},
   "source": [
    ", where the latter equation is known as the Frobeneus norm."
   ]
  },
  {
   "cell_type": "markdown",
   "metadata": {},
   "source": [
    "## Calculating the Principal Components Manually\n",
    "\n",
    "The approach can be summarized in these six steps.  \n",
    "\n",
    "1. Standardize the d-dimensional dataset.\n",
    "2. Construct the covariance matrix.\n",
    "3. Decompose the covariance matrix into its eigenvectors and eigenvalues.\n",
    "4. Select k eigenvectors that correspond to the k largest eigenvalues, where k is the dimensionality of the new feature subspace ( k $\\cdot$ d ).\n",
    "5. Construct a projection matrix W from the \"top\" k eigenvectors.\n",
    "6. Transform the d -dimensional input dataset X using the projection matrix W to obtain the new k -dimensional feature subspace.\n",
    "\n",
    "Let us now run through these steps using the Boston housing dataset. "
   ]
  },
  {
   "cell_type": "code",
   "execution_count": 1,
   "metadata": {
    "collapsed": true
   },
   "outputs": [],
   "source": [
    "from sklearn import datasets\n",
    "import statsmodels.api as sm\n",
    "import pandas as pd\n",
    "import numpy as np\n",
    "import matplotlib.pyplot as plt\n",
    "import seaborn as sns\n",
    "\n",
    "%matplotlib inline"
   ]
  },
  {
   "cell_type": "markdown",
   "metadata": {},
   "source": [
    "Retrieve the data."
   ]
  },
  {
   "cell_type": "code",
   "execution_count": 2,
   "metadata": {
    "collapsed": false
   },
   "outputs": [],
   "source": [
    "boston = datasets.load_boston()\n",
    "X = pd.DataFrame(boston['data'], columns=boston['feature_names'])\n",
    "del X['CHAS']\n",
    "y = pd.Series(boston['target'], name='MED')\n",
    "bos = pd.concat([y, X], axis=1)"
   ]
  },
  {
   "cell_type": "markdown",
   "metadata": {},
   "source": [
    "Split into train and test data."
   ]
  },
  {
   "cell_type": "code",
   "execution_count": 3,
   "metadata": {
    "collapsed": true
   },
   "outputs": [],
   "source": [
    "from sklearn.model_selection import train_test_split\n",
    "X_train, X_test, y_train, y_test = train_test_split(X, y, test_size=0.3, random_state=0)"
   ]
  },
  {
   "cell_type": "markdown",
   "metadata": {},
   "source": [
    "1 - Standardize the d -dimensional dataset."
   ]
  },
  {
   "cell_type": "code",
   "execution_count": 4,
   "metadata": {
    "collapsed": false
   },
   "outputs": [],
   "source": [
    "from sklearn.preprocessing import StandardScaler\n",
    "\n",
    "sc = StandardScaler()\n",
    "X_train_std = sc.fit_transform(X_train)\n",
    "X_test_std = sc.transform(X_test)"
   ]
  },
  {
   "cell_type": "markdown",
   "metadata": {},
   "source": [
    "2 - Construct the covariance matrix.  \n",
    "\n",
    "The symmetric d × d -dimensional covariance matrix, where d is the number of dimensions in the dataset, stores the pairwise covariances between the different features."
   ]
  },
  {
   "cell_type": "code",
   "execution_count": 5,
   "metadata": {
    "collapsed": true
   },
   "outputs": [],
   "source": [
    "import numpy as np\n",
    "cov_mat = np.cov(X_train_std.T)"
   ]
  },
  {
   "cell_type": "code",
   "execution_count": 6,
   "metadata": {
    "collapsed": false
   },
   "outputs": [
    {
     "data": {
      "text/plain": [
       "(12L, 12L)"
      ]
     },
     "execution_count": 6,
     "metadata": {},
     "output_type": "execute_result"
    }
   ],
   "source": [
    "cov_mat.shape"
   ]
  },
  {
   "cell_type": "markdown",
   "metadata": {},
   "source": [
    "The eigenvectors of the covariance matrix represent the principal components (the directions of maximum variance), whereas the corresponding eigenvalues will define their magnitude."
   ]
  },
  {
   "cell_type": "markdown",
   "metadata": {},
   "source": [
    "3 - Decompose the covariance matrix into its eigenvectors and eigenvalues."
   ]
  },
  {
   "cell_type": "code",
   "execution_count": 7,
   "metadata": {
    "collapsed": false
   },
   "outputs": [
    {
     "name": "stdout",
     "output_type": "stream",
     "text": [
      "\n",
      "Eigenvalues \n",
      "[ 6.03057201  1.34336365  1.25872911  0.86153506  0.69415833  0.55743786\n",
      "  0.38513974  0.06421224  0.28844304  0.20646215  0.180502    0.16343914]\n"
     ]
    },
    {
     "data": {
      "text/plain": [
       "array([-0.23967058,  0.26451752, -0.34796603, -0.34890578,  0.18959303,\n",
       "       -0.31798919,  0.32036802, -0.31615825, -0.3398736 , -0.20138902,\n",
       "        0.19157075, -0.31200576])"
      ]
     },
     "execution_count": 7,
     "metadata": {},
     "output_type": "execute_result"
    }
   ],
   "source": [
    "eigen_vals, eigen_vecs = np.linalg.eig(cov_mat)\n",
    "\n",
    "print('\\nEigenvalues \\n%s' % eigen_vals)\n",
    "eigen_vecs[:,0]"
   ]
  },
  {
   "cell_type": "code",
   "execution_count": 51,
   "metadata": {
    "collapsed": false
   },
   "outputs": [
    {
     "data": {
      "text/plain": [
       "(12L, 2L)"
      ]
     },
     "execution_count": 51,
     "metadata": {},
     "output_type": "execute_result"
    }
   ],
   "source": [
    "eigen_vecs[:,:2].shape"
   ]
  },
  {
   "cell_type": "markdown",
   "metadata": {},
   "source": [
    "Here we can see the proof that V is orthonormal:"
   ]
  },
  {
   "cell_type": "code",
   "execution_count": 56,
   "metadata": {
    "collapsed": false
   },
   "outputs": [
    {
     "data": {
      "text/plain": [
       "array([[  1.00000000e+00,  -2.63677968e-16],\n",
       "       [ -2.63677968e-16,   1.00000000e+00]])"
      ]
     },
     "execution_count": 56,
     "metadata": {},
     "output_type": "execute_result"
    }
   ],
   "source": [
    "eigen_vecs[:,:2].T.dot(eigen_vecs[:, :2])"
   ]
  },
  {
   "cell_type": "markdown",
   "metadata": {},
   "source": [
    "4 - Select k eigenvectors that correspond to the k largest eigenvalues, where k is the dimensionality of the new feature subspace ( k $\\cdot$ d )."
   ]
  },
  {
   "cell_type": "code",
   "execution_count": 8,
   "metadata": {
    "collapsed": true
   },
   "outputs": [],
   "source": [
    "tot = sum(eigen_vals)\n",
    "var_exp = [(i / tot) for i in sorted(eigen_vals, reverse=True)]\n",
    "cum_var_exp = np.cumsum(var_exp)"
   ]
  },
  {
   "cell_type": "markdown",
   "metadata": {},
   "source": [
    "In the chart below, we can see that that first principal component explains up to 50% of the variance in the data. The variance explained ratio is simply the fraction of an eigenvalue and the total sum of all the eigenvalues (see calculation above)."
   ]
  },
  {
   "cell_type": "code",
   "execution_count": 9,
   "metadata": {
    "collapsed": false
   },
   "outputs": [
    {
     "data": {
      "image/png": "[encoded data removed]",
      "text/plain": [
       "<matplotlib.figure.Figure at 0xbed1f60>"
      ]
     },
     "metadata": {},
     "output_type": "display_data"
    }
   ],
   "source": [
    "import matplotlib.pyplot as plt\n",
    "\n",
    "fig = plt.figure(figsize = (8,6))\n",
    "plt.bar(range(1, 13), var_exp, alpha=0.5, align='center',\n",
    "        label='individual explained variance')\n",
    "plt.step(range(1, 13), cum_var_exp, where='mid',\n",
    "         label='cumulative explained variance')\n",
    "plt.ylabel('Explained variance ratio')\n",
    "plt.xlabel('Principal components')\n",
    "plt.legend(loc='best')\n",
    "plt.tight_layout()\n",
    "# plt.savefig('./figures/pca1.png', dpi=300)\n",
    "plt.show()"
   ]
  },
  {
   "cell_type": "code",
   "execution_count": 10,
   "metadata": {
    "collapsed": true
   },
   "outputs": [],
   "source": [
    "# Make a list of (eigenvalue, eigenvector) tuples\n",
    "eigen_pairs = [(np.abs(eigen_vals[i]), eigen_vecs[:, i])\n",
    "               for i in range(len(eigen_vals))]\n",
    "\n",
    "# Sort the (eigenvalue, eigenvector) tuples from high to low\n",
    "eigen_pairs.sort(key=lambda k: k[0], reverse=True)\n",
    "\n",
    "# Note: I added the `key=lambda k: k[0]` in the sort call above\n",
    "# just like I used it further below in the LDA section.\n",
    "# This is to avoid problems if there are ties in the eigenvalue\n",
    "# arrays (i.e., the sorting algorithm will only regard the\n",
    "# first element of the tuples, now).\n"
   ]
  },
  {
   "cell_type": "markdown",
   "metadata": {},
   "source": [
    "5 - Construct a projection matrix W from the \"top\" k eigenvectors."
   ]
  },
  {
   "cell_type": "code",
   "execution_count": 11,
   "metadata": {
    "collapsed": false
   },
   "outputs": [
    {
     "name": "stdout",
     "output_type": "stream",
     "text": [
      "('Matrix W:\\n', array([[-0.23967058, -0.38570112],\n",
      "       [ 0.26451752, -0.4133604 ],\n",
      "       [-0.34796603,  0.08460214],\n",
      "       [-0.34890578,  0.1515204 ],\n",
      "       [ 0.18959303, -0.03146719],\n",
      "       [-0.31798919,  0.33873475],\n",
      "       [ 0.32036802, -0.35839171],\n",
      "       [-0.31615825, -0.40035267],\n",
      "       [-0.3398736 , -0.33098002],\n",
      "       [-0.20138902, -0.2176333 ],\n",
      "       [ 0.19157075,  0.29570451],\n",
      "       [-0.31200576,  0.03795251]]))\n"
     ]
    }
   ],
   "source": [
    "w = np.hstack((eigen_pairs[0][1][:, np.newaxis],\n",
    "               eigen_pairs[1][1][:, np.newaxis]))\n",
    "print('Matrix W:\\n', w)"
   ]
  },
  {
   "cell_type": "code",
   "execution_count": 12,
   "metadata": {
    "collapsed": false
   },
   "outputs": [
    {
     "data": {
      "text/plain": [
       "(12L, 2L)"
      ]
     },
     "execution_count": 12,
     "metadata": {},
     "output_type": "execute_result"
    }
   ],
   "source": [
    "w.shape"
   ]
  },
  {
   "cell_type": "code",
   "execution_count": 13,
   "metadata": {
    "collapsed": false
   },
   "outputs": [
    {
     "data": {
      "text/plain": [
       "(354L, 12L)"
      ]
     },
     "execution_count": 13,
     "metadata": {},
     "output_type": "execute_result"
    }
   ],
   "source": [
    "X_train_std.shape"
   ]
  },
  {
   "cell_type": "markdown",
   "metadata": {},
   "source": [
    "6 - Transform the d -dimensional input dataset X using the projection matrix W to obtain the new k -dimensional feature subspace."
   ]
  },
  {
   "cell_type": "code",
   "execution_count": 28,
   "metadata": {
    "collapsed": false
   },
   "outputs": [
    {
     "data": {
      "text/plain": [
       "(354L, 2L)"
      ]
     },
     "execution_count": 28,
     "metadata": {},
     "output_type": "execute_result"
    }
   ],
   "source": [
    "X_train_pca.shape"
   ]
  },
  {
   "cell_type": "code",
   "execution_count": 38,
   "metadata": {
    "collapsed": false
   },
   "outputs": [
    {
     "data": {
      "text/plain": [
       "array([[-0.32147799,  0.88571872,  0.41262336, ...,  0.96928643,\n",
       "         0.53716333,  2.14676998],\n",
       "       [ 0.18189863,  0.05172842, -0.02018118, ...,  0.49195345,\n",
       "        -0.04697287, -0.14074665],\n",
       "       [-0.24014373,  0.4450272 ,  0.87791148, ...,  1.17213668,\n",
       "         0.34022176,  0.08582032],\n",
       "       ..., \n",
       "       [-0.02826807, -0.09214222, -0.25301378, ..., -0.10754457,\n",
       "         0.1262353 , -0.35645789],\n",
       "       [ 0.18427447, -0.39358266, -0.34261698, ...,  0.1179662 ,\n",
       "        -0.05800298,  1.16023508],\n",
       "       [ 0.24870316, -0.01558292, -0.99707389, ..., -0.46245409,\n",
       "        -0.06257388,  0.37997762]])"
      ]
     },
     "execution_count": 38,
     "metadata": {},
     "output_type": "execute_result"
    }
   ],
   "source": [
    "X_train_std-X_train_std.dot(w.dot(w.T))"
   ]
  },
  {
   "cell_type": "code",
   "execution_count": 26,
   "metadata": {
    "collapsed": false
   },
   "outputs": [
    {
     "data": {
      "image/png": "[encoded data removed]",
      "text/plain": [
       "<matplotlib.figure.Figure at 0xe856ac8>"
      ]
     },
     "metadata": {},
     "output_type": "display_data"
    }
   ],
   "source": [
    "X_train_pca = X_train_std.dot(w)\n",
    "\n",
    "plt.scatter(X_train_pca[:, 0], \n",
    "                X_train_pca[:, 1])\n",
    "\n",
    "plt.xlabel('PC 1')\n",
    "plt.ylabel('PC 2')\n",
    "plt.legend(loc='lower left')\n",
    "plt.tight_layout()\n",
    "# plt.savefig('./figures/pca2.png', dpi=300)\n",
    "plt.show()"
   ]
  },
  {
   "cell_type": "markdown",
   "metadata": {},
   "source": [
    "## PCA in Scikit-Learn"
   ]
  },
  {
   "cell_type": "code",
   "execution_count": 35,
   "metadata": {
    "collapsed": false
   },
   "outputs": [
    {
     "data": {
      "text/plain": [
       "array([ 0.50112804,  0.11163074,  0.10459778,  0.07159178,  0.05768312,\n",
       "        0.04632193,  0.03200431,  0.02396902,  0.01715658,  0.01499934,\n",
       "        0.01358145,  0.0053359 ])"
      ]
     },
     "execution_count": 35,
     "metadata": {},
     "output_type": "execute_result"
    }
   ],
   "source": [
    "from sklearn.decomposition import PCA\n",
    "\n",
    "pca = PCA()\n",
    "X_train_pca = pca.fit_transform(X_train_std)\n",
    "pca.explained_variance_ratio_"
   ]
  },
  {
   "cell_type": "code",
   "execution_count": 36,
   "metadata": {
    "collapsed": false
   },
   "outputs": [
    {
     "data": {
      "image/png": "[encoded data removed]",
      "text/plain": [
       "<matplotlib.figure.Figure at 0xf274828>"
      ]
     },
     "metadata": {},
     "output_type": "display_data"
    }
   ],
   "source": [
    "plt.bar(range(1, 13), pca.explained_variance_ratio_, alpha=0.5, align='center')\n",
    "plt.step(range(1, 13), np.cumsum(pca.explained_variance_ratio_), where='mid')\n",
    "plt.ylabel('Explained variance ratio')\n",
    "plt.xlabel('Principal components')\n",
    "plt.show()"
   ]
  },
  {
   "cell_type": "markdown",
   "metadata": {},
   "source": [
    "In scikit-learn, we must use the fit-transform process to obtain the obtain our principal components from out dataset.  \n",
    "\n",
    "_Note_: we must be careful to only fit against the training data. "
   ]
  },
  {
   "cell_type": "code",
   "execution_count": 37,
   "metadata": {
    "collapsed": true
   },
   "outputs": [],
   "source": [
    "pca = PCA(n_components=2)\n",
    "X_train_pca = pca.fit_transform(X_train_std)\n",
    "X_test_pca = pca.transform(X_test_std)"
   ]
  },
  {
   "cell_type": "markdown",
   "metadata": {},
   "source": [
    "Below, if we compare the PCA projection via scikit-learn with our own PCA implementation, we notice that the plot above is a mirror image of the previous PCA via our step-by-step approach. Note that this is not due to an error in any of those two implementations, but the reason for this difference is that, depending on the eigensolver, eigenvectors can have either negative or positive signs. Not that it matters, but we could simply revert the mirror image by multiplying the data with -1 if we wanted to; note that eigenvectors are typically scaled to unit length 1."
   ]
  },
  {
   "cell_type": "code",
   "execution_count": 24,
   "metadata": {
    "collapsed": false,
    "scrolled": true
   },
   "outputs": [
    {
     "data": {
      "image/png": "[encoded data removed]",
      "text/plain": [
       "<matplotlib.figure.Figure at 0xe640ac8>"
      ]
     },
     "metadata": {},
     "output_type": "display_data"
    }
   ],
   "source": [
    "plt.scatter(X_train_pca[:, 0], X_train_pca[:, 1])\n",
    "plt.xlabel('PC 1')\n",
    "plt.ylabel('PC 2')\n",
    "plt.show()"
   ]
  },
  {
   "cell_type": "code",
   "execution_count": null,
   "metadata": {
    "collapsed": true
   },
   "outputs": [],
   "source": [
    "pca = PCA(n_components=None)\n",
    "X_train_pca = pca.fit_transform(X_train_std)\n",
    "pca.explained_variance_ratio_"
   ]
  },
  {
   "cell_type": "markdown",
   "metadata": {},
   "source": [
    "## References\n",
    "- https://en.wikipedia.org/wiki/Principal_component_analysis\n",
    "- Raschka, Sebastian. _Python Machine Learning_. Packt Publishing, 2015, Birmingham, UK.\n",
    "- https://www.youtube.com/watch?v=ue3yoeZvt8E"
   ]
  }
 ],
 "metadata": {
  "anaconda-cloud": {},
  "kernelspec": {
   "display_name": "Python [default]",
   "language": "python",
   "name": "python2"
  },
  "language_info": {
   "codemirror_mode": {
    "name": "ipython",
    "version": 2
   },
   "file_extension": ".py",
   "mimetype": "text/x-python",
   "name": "python",
   "nbconvert_exporter": "python",
   "pygments_lexer": "ipython2",
   "version": "2.7.12"
  }
 },
 "nbformat": 4,
 "nbformat_minor": 1
}
