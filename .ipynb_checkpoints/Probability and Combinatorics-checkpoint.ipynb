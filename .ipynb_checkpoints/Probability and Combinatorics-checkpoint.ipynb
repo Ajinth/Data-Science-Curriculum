{
 "cells": [
  {
   "cell_type": "markdown",
   "metadata": {},
   "source": [
    "# Probability and Combinatorics"
   ]
  },
  {
   "cell_type": "markdown",
   "metadata": {},
   "source": [
    "Random Experiment: a process leading to two or more possible outcomes, with uncertainty as to which outcome will occur.  \n",
    "Sample Space: the possible outocmes of a random experiment are called the _basic outcomes_, and the set of all basic outcomes is called the _sample space (S)_.  \n",
    "Event: an _event (E)_, is any subset of basic outcomes form the sample space. An event occurs if the random experiment results in one of its constituent basic outcomes. The null event represents the absence of a basic outcome."
   ]
  },
  {
   "cell_type": "markdown",
   "metadata": {},
   "source": [
    "Intersection of Events: Let A and B be two events in the sample space S. Their intersection, denoted A ∩ B, is the set of all basic outcomes in S that belong to both A and B. We will use the term _joint probability_ of A and B to denote the probability of the intersection of A and B.  \n",
    "![alt text](extras/Intersection.png) \n",
    "Mutually Exclusive: If the events A and B have no common basic outomces, they are called _mutually exclusive_, and their intersection, A ∩ B, is said to be empty, indicating that it cannot occur.  \n",
    "![alt text](extras/Mutually_Exclusive.png)\n",
    "Union: Let A and B be two events in the sample space, S. Their _union_, denoted A ∪ B, is the set of all basic outcomes in S that belong to at least one of these two events. Hence, the union A ∪ B occurs if and only if either A or B or both occur.  \n",
    "![alt text](extras/Union.png) \n",
    "Complement: Let A be an event in the sample space, S. The set of basic outcomes of a random experiment belonging to S but not to A is called the _complement_ of A.  \n",
    "![alt text](extras/Complement.png)\n",
    "Classical Probability: Classical probability is the proportion of times that an event will occur, assuming that all outcomes in a sample space are equally likely to occur. Dividing the number of outcomes in the sample space that satisfy the event by the total number of outcomes in the sample space determines the probability of an event. The probability of an event A is P(A) = f/N, where f is the number of outcomes that satisfy the condition of event A and N is the total number of outcomes in the sample space. The important idea here is that one can develop a probability from fundamental reasoning about the process.  "
   ]
  },
  {
   "cell_type": "markdown",
   "metadata": {},
   "source": [
    "Number of Possible Orderings: The total number of possible ways of arranging x objects in order is given by x(x-1)(x-2)...(2)(1)=x!, where x! is read \"x factorial.\"  \n",
    "Permutations: The total number of permutations of x objects chose from n is the number of possible arrangements when x objects are to be selected from a total of n and arranged in order: \n",
    "![alt text](https://wikimedia.org/api/rest_v1/media/math/render/svg/739752f4180752db6442c9d8211de651513e594a)  \n",
    "Combinations: The counting porcess can be generalized by using the following equation to compute the _number of combinations_ of n items taken k at a time:\n",
    "![alt text](https://wikimedia.org/api/rest_v1/media/math/render/svg/5ab2a3c255ba72d0904e56626a13e882dda50112)\n",
    "for  0 ≤ k ≤ n.  "
   ]
  },
  {
   "cell_type": "markdown",
   "metadata": {},
   "source": [
    "Subjective Probability: _Subjective probability_ expresses an individual's degree of belief about the chance that an event will occur. These subjective probabilities are used in certain management decision procedures.  "
   ]
  },
  {
   "cell_type": "markdown",
   "metadata": {},
   "source": [
    "Complement Rule: Let A be an event and AC its complement. Then the _complement rule_ is P(AC) = 1 – P(A).  \n",
    "The Addition Rule of Probabilities: Let A and B be two events. Using the _addition rule of probabilities_, the probability of their union is P(A ∪ B) = P(A) + P(B) - P(A ∩ B). By deduction, if two events are mutual exclusive, then P(A ∪ B) = P(A) + P(B).  \n",
    "Conditional Probability: Let A and B be two events. The _conditional probability_ of event A, given that event B has occured, is denoted by the symbol P(A|B) and is found to be \n",
    "![alt text](https://wikimedia.org/api/rest_v1/media/math/render/svg/8af3862b7983765b0ffaeecff57bf8bc9fdc1c82)\n",
    "Assuming P(B) > 0; othwerwise the P(A|B) is undefined.  \n",
    "The Multiplication Rule of Probabilities: Let A and B be two events. Using the _multiplication rule of probabilities_, the probability of their intersection can be derived from conditional probability as P(A ∩ B) = P(A|B)P(B) = P(B|A)(A).  \n",
    "Statistical Independence: Let A and B be two events. These events are said to be _statistically independent_ if and only if P(A ∩ B) = P(A)P(B). From the multiplication rule it also follows that P(A|B) = P(A) (if P(B)>0) and P(B|A) = P(B) (if P(A)>0). "
   ]
  },
  {
   "cell_type": "markdown",
   "metadata": {},
   "source": [
    "Odds:  The _odds_ in favor of a particular event are given by the ratio of the probability of the event divided by the probability of its complement, PC. The odds in favor of A are P(A)/(1 - P(A)) = P(A)/P(C)"
   ]
  }
 ],
 "metadata": {
  "anaconda-cloud": {},
  "kernelspec": {
   "display_name": "Python [default]",
   "language": "python",
   "name": "python2"
  },
  "language_info": {
   "codemirror_mode": {
    "name": "ipython",
    "version": 2
   },
   "file_extension": ".py",
   "mimetype": "text/x-python",
   "name": "python",
   "nbconvert_exporter": "python",
   "pygments_lexer": "ipython2",
   "version": "2.7.12"
  }
 },
 "nbformat": 4,
 "nbformat_minor": 1
}
