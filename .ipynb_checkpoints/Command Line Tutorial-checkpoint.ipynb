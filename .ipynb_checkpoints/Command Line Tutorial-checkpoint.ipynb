{
 "cells": [
  {
   "cell_type": "markdown",
   "metadata": {},
   "source": [
    "# Command Line Tutorial\n",
    "\n",
    "> let's see now"
   ]
  },
  {
   "cell_type": "markdown",
   "metadata": {},
   "source": [
    "> dkdjfd\n",
    "\n",
    "~~~~\n",
    "dlf;kdj \n",
    "dkjd \n",
    "kdf \n",
    "~~~~"
   ]
  }
 ],
 "metadata": {
  "kernelspec": {
   "display_name": "Python [default]",
   "language": "python",
   "name": "python2"
  },
  "language_info": {
   "codemirror_mode": {
    "name": "ipython",
    "version": 2
   },
   "file_extension": ".py",
   "mimetype": "text/x-python",
   "name": "python",
   "nbconvert_exporter": "python",
   "pygments_lexer": "ipython2",
   "version": "2.7.12"
  }
 },
 "nbformat": 4,
 "nbformat_minor": 1
}
