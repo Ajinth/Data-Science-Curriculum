{
 "cells": [
  {
   "cell_type": "markdown",
   "metadata": {},
   "source": [
    "# Regular Expressions\n",
    "\n",
    "\n",
    "## Overview\n",
    "\n",
    "A Regular Expression is a sequence of characters that define a search criteria. The use of regular expressions in Python allows us to quickly identify our sought-after characters while minimizing our code. \n",
    "\n",
    "Regular expressions are in a standard Python library, 're.' The two main methods are search() and findall(). Search() will merely find the text you are looking for (returning a 'match' object), while findall() will actually return the sought-after text in a list format. One thing to note is that if there are multiple lines in the object you are scanning, you need to apply your search to each line. \n",
    "\n",
    "**Python Regular Expression Quick Guide**\n",
    "\n",
    "\n",
    "<pre>^        Matches the beginning of a line  \n",
    "$        Matches the end of the line  \n",
    ".        Matches any character  \n",
    "\\s       Matches whitespace  \n",
    "\\S       Matches any non-whitespace character  \n",
    "*        Repeats a character zero or more times (greedy)  \n",
    "*?       Repeats a character zero or more times (lazy)  \n",
    "+        Repeats a character one or more times (greedy)  \n",
    "+?       Repeats a character one or more times (lazy)  \n",
    "[aeiou]  Matches a single character in the listed set  \n",
    "[^XYZ]   Matches a single character not in the listed set  \n",
    "[a-z0-9] The set of characters can include a range  \n",
    "(        Indicates where string extraction is to start  \n",
    ")        Indicates where string extraction is to end  </pre>\n",
    "\n",
    "\n",
    "## Example\n"
   ]
  },
  {
   "cell_type": "markdown",
   "metadata": {},
   "source": [
    "To load the python regular expression library, we merely invoke \"re\" with the import statement. Our data set contains a large number of email addresses."
   ]
  },
  {
   "cell_type": "code",
   "execution_count": 10,
   "metadata": {
    "collapsed": false
   },
   "outputs": [],
   "source": [
    "import os\n",
    "import re\n",
    "os.chdir('C:\\\\Users\\\\zlatan.kremonic\\\\documents\\\\analytics\\\\Cheat_Sheets\\\\data')"
   ]
  },
  {
   "cell_type": "markdown",
   "metadata": {},
   "source": [
    "First, let's look for email addresses by searching any line that begins with \"From.\" We do this using the ^ symbol. This will return any line that starts with the given search criteria. "
   ]
  },
  {
   "cell_type": "code",
   "execution_count": 74,
   "metadata": {
    "collapsed": false,
    "scrolled": true
   },
   "outputs": [
    {
     "name": "stdout",
     "output_type": "stream",
     "text": [
      "From: stephen.marquard@uct.ac.za\n",
      "From: louis@media.berkeley.edu\n"
     ]
    }
   ],
   "source": [
    "regex = open('RegEx.txt')\n",
    "for line in regex:\n",
    "    line = line.rstrip()\n",
    "    if re.search('^From:', line):\n",
    "        print line"
   ]
  },
  {
   "cell_type": "markdown",
   "metadata": {},
   "source": [
    "Findall() will return a list with the searched characters. \"\\S\" looks for any non-whitespace character. \"+\" repeats that character one or more times. "
   ]
  },
  {
   "cell_type": "code",
   "execution_count": 73,
   "metadata": {
    "collapsed": false
   },
   "outputs": [
    {
     "name": "stdout",
     "output_type": "stream",
     "text": [
      "['stephen.marquard@uct.ac.za']\n",
      "['<postmaster@collab.sakaiproject.org>']\n",
      "['<200801051412.m05ECIaH010327@nakamura.uits.iupui.edu>']\n",
      "['<source@collab.sakaiproject.org>;']\n",
      "['<source@collab.sakaiproject.org>;']\n",
      "['<source@collab.sakaiproject.org>;']\n",
      "['apache@localhost)']\n",
      "['source@collab.sakaiproject.org;']\n",
      "['stephen.marquard@uct.ac.za']\n",
      "['source@collab.sakaiproject.org']\n",
      "['stephen.marquard@uct.ac.za']\n",
      "['stephen.marquard@uct.ac.za']\n",
      "['louis@media.berkeley.edu']\n",
      "['<postmaster@collab.sakaiproject.org>']\n",
      "['<200801042308.m04N8v6O008125@nakamura.uits.iupui.edu>']\n",
      "['<source@collab.sakaiproject.org>;']\n",
      "['<source@collab.sakaiproject.org>;']\n",
      "['<source@collab.sakaiproject.org>;']\n",
      "['apache@localhost)']\n",
      "['source@collab.sakaiproject.org;']\n",
      "['louis@media.berkeley.edu']\n",
      "['source@collab.sakaiproject.org']\n",
      "['louis@media.berkeley.edu']\n",
      "['louis@media.berkeley.edu']\n"
     ]
    }
   ],
   "source": [
    "\n",
    "regex = open('RegEx.txt')\n",
    "for line in regex:\n",
    "    line = line.rstrip()\n",
    "    x = re.findall('\\S+@\\S+', line)\n",
    "    if len(x) > 0:\n",
    "        print x"
   ]
  },
  {
   "cell_type": "markdown",
   "metadata": {},
   "source": [
    "Let's say we only want to look for letters or numbers when searching for our list of emails. We can specify this by specifying our range in brackets. We also use the \"+\" sign to tell python that we need to match the given criteria \"one or more times.\""
   ]
  },
  {
   "cell_type": "code",
   "execution_count": 72,
   "metadata": {
    "collapsed": false,
    "scrolled": true
   },
   "outputs": [
    {
     "name": "stdout",
     "output_type": "stream",
     "text": [
      "['stephen.marquard@uct.ac.za']\n",
      "['postmaster@collab.sakaiproject.org']\n",
      "['200801051412.m05ECIaH010327@nakamura.uits.iupui.edu']\n",
      "['source@collab.sakaiproject.org']\n",
      "['source@collab.sakaiproject.org']\n",
      "['source@collab.sakaiproject.org']\n",
      "['apache@localhost']\n",
      "['source@collab.sakaiproject.org']\n",
      "['stephen.marquard@uct.ac.za']\n",
      "['source@collab.sakaiproject.org']\n",
      "['stephen.marquard@uct.ac.za']\n",
      "['stephen.marquard@uct.ac.za']\n",
      "['louis@media.berkeley.edu']\n",
      "['postmaster@collab.sakaiproject.org']\n",
      "['200801042308.m04N8v6O008125@nakamura.uits.iupui.edu']\n",
      "['source@collab.sakaiproject.org']\n",
      "['source@collab.sakaiproject.org']\n",
      "['source@collab.sakaiproject.org']\n",
      "['apache@localhost']\n",
      "['source@collab.sakaiproject.org']\n",
      "['louis@media.berkeley.edu']\n",
      "['source@collab.sakaiproject.org']\n",
      "['louis@media.berkeley.edu']\n",
      "['louis@media.berkeley.edu']\n"
     ]
    }
   ],
   "source": [
    "regex = open('RegEx.txt')\n",
    "for line in regex:\n",
    "    line = line.rstrip()\n",
    "    x = re.findall('[a-zA-Z0-9.]+@[a-zA-Z0-9.]+', line)\n",
    "    if len(x) > 0:\n",
    "        print x"
   ]
  },
  {
   "cell_type": "markdown",
   "metadata": {},
   "source": [
    "Greedy versus lazy:\n",
    "\n",
    "'Greedy' regular expressions will try to keep satifying your condition until it fails, whereupon and backtracks until the condition is met. 'Lazy' regular expressions will stop as soon as the first instance of the condition is met. "
   ]
  },
  {
   "cell_type": "code",
   "execution_count": 46,
   "metadata": {
    "collapsed": false
   },
   "outputs": [
    {
     "name": "stdout",
     "output_type": "stream",
     "text": [
      "Greedy: ['<EM>first</EM>']\n",
      "Lazy: ['<EM>', '</EM>']\n"
     ]
    }
   ],
   "source": [
    "# Greedy:\n",
    "\n",
    "html = 'This is a <EM>first</EM> test.'\n",
    "print 'Greedy:',re.findall('<.+>', html)\n",
    "\n",
    "# Lazy:\n",
    "\n",
    "html = 'This is a <EM>first</EM> test.'\n",
    "print 'Lazy:',re.findall('<.+?>', html)"
   ]
  },
  {
   "cell_type": "markdown",
   "metadata": {},
   "source": [
    "Use parentheses for string extraction."
   ]
  },
  {
   "cell_type": "code",
   "execution_count": 49,
   "metadata": {
    "collapsed": false
   },
   "outputs": [
    {
     "name": "stdout",
     "output_type": "stream",
     "text": [
      "Greedy: ['EM', '/EM']\n"
     ]
    }
   ],
   "source": [
    "html = 'This is a <EM>first</EM> test.'\n",
    "print 'Greedy:',re.findall('<(.+?)>', html)"
   ]
  },
  {
   "cell_type": "markdown",
   "metadata": {},
   "source": [
    "We can use curly brackets to more specifically denote the length of our search criteria, with the first number being the mininum and the second number being the max. If we only place one number in there, then the match will be *exact*."
   ]
  },
  {
   "cell_type": "code",
   "execution_count": 58,
   "metadata": {
    "collapsed": false
   },
   "outputs": [
    {
     "name": "stdout",
     "output_type": "stream",
     "text": [
      "['39', '3432', '239', '3939', '3934', '34']\n"
     ]
    }
   ],
   "source": [
    "text = '39, 34329, 2390, 3939, 1000, 393434'\n",
    "print re.findall('[1-9][1-9]{1,3}', text)"
   ]
  },
  {
   "cell_type": "code",
   "execution_count": null,
   "metadata": {
    "collapsed": true
   },
   "outputs": [],
   "source": [
    "regex = open('RegEx.txt')\n",
    "for line in regex:\n",
    "    line = line.rstrip()\n",
    "    x = re.findall('[a-zA-Z0-9.]+@[a-zA-Z0-9.]+', line)\n",
    "    if len(x) > 0:\n",
    "        print x"
   ]
  },
  {
   "cell_type": "markdown",
   "metadata": {},
   "source": [
    "## Additional Resources\n",
    "- http://www.regular-expressions.info/refquick.html\n",
    "- https://docs.python.org/2/library/re.html\n",
    "- http://en.wikipedia.org/wiki/Regular_expression\n"
   ]
  }
 ],
 "metadata": {
  "anaconda-cloud": {},
  "kernelspec": {
   "display_name": "Python [default]",
   "language": "python",
   "name": "python2"
  },
  "language_info": {
   "codemirror_mode": {
    "name": "ipython",
    "version": 2
   },
   "file_extension": ".py",
   "mimetype": "text/x-python",
   "name": "python",
   "nbconvert_exporter": "python",
   "pygments_lexer": "ipython2",
   "version": "2.7.12"
  }
 },
 "nbformat": 4,
 "nbformat_minor": 0
}
