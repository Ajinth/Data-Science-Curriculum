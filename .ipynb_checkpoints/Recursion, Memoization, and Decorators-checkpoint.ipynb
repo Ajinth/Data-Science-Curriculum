{
 "cells": [
  {
   "cell_type": "markdown",
   "metadata": {},
   "source": [
    "# Recursion, Memoization, and Decorators\n",
    "\n",
    "In this section we discuss three concepts that go well together, and even though each has wide-ranging applications, we will only discuss them in the context of each other, starting with and basing our examples around recursion.\n",
    "\n",
    "## Recursion\n",
    "\n",
    "Recursion is a function is recursive if it calls itself and has a termination condition. If there is no termination condition, then the function would never stop running. We will illustrate with the classic definition of a factorial:"
   ]
  },
  {
   "cell_type": "code",
   "execution_count": 2,
   "metadata": {
    "collapsed": true
   },
   "outputs": [],
   "source": [
    "def fact(n):\n",
    "    '''\n",
    "    Returns factorial of n (n!).\n",
    "    Note use of recursion\n",
    "    '''\n",
    "    # BASE CASE!\n",
    "    if n == 0:\n",
    "        return 1\n",
    "    \n",
    "    # Recursion!\n",
    "    else:\n",
    "        return n * fact(n-1)"
   ]
  },
  {
   "cell_type": "code",
   "execution_count": 6,
   "metadata": {
    "collapsed": false
   },
   "outputs": [
    {
     "data": {
      "text/plain": [
       "3628800"
      ]
     },
     "execution_count": 6,
     "metadata": {},
     "output_type": "execute_result"
    }
   ],
   "source": [
    "fact(10)"
   ]
  },
  {
   "cell_type": "markdown",
   "metadata": {},
   "source": [
    "If we run the function for any integer greater than 0, the integer is passed to the `else` portion of the function. There, `fact(n-1)` is evaluated _recursively_ until we get to `fact(0)`, whereupon the result gets passed back up the chain. Essentially what is happening is the `else` portion of the function expands `n-1` times. "
   ]
  },
  {
   "cell_type": "markdown",
   "metadata": {},
   "source": [
    "It's important to note that every time a function calls itself it stores some memory. Thus, a recursive function could hold much more memory than a traditional function. Python stops the function calls after a depth of 1000 calls. Note there error:"
   ]
  },
  {
   "cell_type": "code",
   "execution_count": 3,
   "metadata": {
    "collapsed": false
   },
   "outputs": [
    {
     "ename": "RuntimeError",
     "evalue": "maximum recursion depth exceeded",
     "output_type": "error",
     "traceback": [
      "\u001b[0;31m---------------------------------------------------------------------------\u001b[0m",
      "\u001b[0;31mRuntimeError\u001b[0m                              Traceback (most recent call last)",
      "\u001b[0;32m<ipython-input-3-efb858648494>\u001b[0m in \u001b[0;36m<module>\u001b[0;34m()\u001b[0m\n\u001b[0;32m----> 1\u001b[0;31m \u001b[0mfact\u001b[0m\u001b[1;33m(\u001b[0m\u001b[1;36m1000\u001b[0m\u001b[1;33m)\u001b[0m\u001b[1;33m\u001b[0m\u001b[0m\n\u001b[0m",
      "\u001b[0;32m<ipython-input-2-46c8c6fe283a>\u001b[0m in \u001b[0;36mfact\u001b[0;34m(n)\u001b[0m\n\u001b[1;32m     10\u001b[0m     \u001b[1;31m# Recursion!\u001b[0m\u001b[1;33m\u001b[0m\u001b[1;33m\u001b[0m\u001b[0m\n\u001b[1;32m     11\u001b[0m     \u001b[1;32melse\u001b[0m\u001b[1;33m:\u001b[0m\u001b[1;33m\u001b[0m\u001b[0m\n\u001b[0;32m---> 12\u001b[0;31m         \u001b[1;32mreturn\u001b[0m \u001b[0mn\u001b[0m \u001b[1;33m*\u001b[0m \u001b[0mfact\u001b[0m\u001b[1;33m(\u001b[0m\u001b[0mn\u001b[0m\u001b[1;33m-\u001b[0m\u001b[1;36m1\u001b[0m\u001b[1;33m)\u001b[0m\u001b[1;33m\u001b[0m\u001b[0m\n\u001b[0m",
      "... last 1 frames repeated, from the frame below ...\n",
      "\u001b[0;32m<ipython-input-2-46c8c6fe283a>\u001b[0m in \u001b[0;36mfact\u001b[0;34m(n)\u001b[0m\n\u001b[1;32m     10\u001b[0m     \u001b[1;31m# Recursion!\u001b[0m\u001b[1;33m\u001b[0m\u001b[1;33m\u001b[0m\u001b[0m\n\u001b[1;32m     11\u001b[0m     \u001b[1;32melse\u001b[0m\u001b[1;33m:\u001b[0m\u001b[1;33m\u001b[0m\u001b[0m\n\u001b[0;32m---> 12\u001b[0;31m         \u001b[1;32mreturn\u001b[0m \u001b[0mn\u001b[0m \u001b[1;33m*\u001b[0m \u001b[0mfact\u001b[0m\u001b[1;33m(\u001b[0m\u001b[0mn\u001b[0m\u001b[1;33m-\u001b[0m\u001b[1;36m1\u001b[0m\u001b[1;33m)\u001b[0m\u001b[1;33m\u001b[0m\u001b[0m\n\u001b[0m",
      "\u001b[0;31mRuntimeError\u001b[0m: maximum recursion depth exceeded"
     ]
    }
   ],
   "source": [
    "fact(1000)"
   ]
  },
  {
   "cell_type": "markdown",
   "metadata": {},
   "source": [
    "We can change the recursion limit using the command below. But note that running too many recursions might still result in the overutilization of memory and a consequent crash of the program."
   ]
  },
  {
   "cell_type": "code",
   "execution_count": 54,
   "metadata": {
    "collapsed": true
   },
   "outputs": [],
   "source": [
    "import sys\n",
    " \n",
    "sys.setrecursionlimit(2000)"
   ]
  },
  {
   "cell_type": "markdown",
   "metadata": {},
   "source": [
    "Recursion is very useful but it may not perform as well as control flow using `for` loops or `while` clauses. It is best to use recursion whenever they feel natural. Let's finish this discussion by demonstrating another example of recursion, this time using it to define a Fibonnaci sequence."
   ]
  },
  {
   "cell_type": "code",
   "execution_count": 4,
   "metadata": {
    "collapsed": true
   },
   "outputs": [],
   "source": [
    "def fib(n):\n",
    "    if n <= 2:\n",
    "        return 1\n",
    "    else:\n",
    "        return fib(n - 2) + fib(n - 1)"
   ]
  },
  {
   "cell_type": "code",
   "execution_count": 7,
   "metadata": {
    "collapsed": false
   },
   "outputs": [
    {
     "name": "stdout",
     "output_type": "stream",
     "text": [
      "102334155\n",
      "23.6623705144 seconds\n"
     ]
    }
   ],
   "source": [
    "import timeit\n",
    "a = timeit.default_timer()\n",
    "print fib(40)\n",
    "print timeit.default_timer()-a, 'seconds'"
   ]
  },
  {
   "cell_type": "markdown",
   "metadata": {},
   "source": [
    "## Memoization\n",
    "\n",
    "Memoization effectively refers to remembering (\"memoization\" -> \"memorandum\" -> to be remembered) results of method calls based on the method inputs and then returning the remembered result rather than computing the result again. It can be thought of as a cache for method results. When the function is called again, it checks this cache to see if the result already exists before actually running the fuction.\n",
    "\n",
    "Memoization is a way to lower a function's time cost in exchange for space cost; that is, memoized functions become optimized for speed in exchange for a higher use of computer memory space. Memoization is a more machine-independent, cross-platform strategy, meaning it will consistently deliver improvements. \n",
    "\n",
    "_Important Note_: memoization will deliver improvements only after a given result was obtained. For example, if we use memoization on a factorial and only run it once, we will not see a better performance than the simple recursion case (see StackOverflow link below for an example).\n",
    "\n",
    "#### Option 1: simple dictionary\n",
    "\n",
    "In this approach we store previous results in a simple dictionary. Note that when we first ran our `fib(40)` function above, it took ~23 seconds to run. "
   ]
  },
  {
   "cell_type": "code",
   "execution_count": 9,
   "metadata": {
    "collapsed": true
   },
   "outputs": [],
   "source": [
    "cache = {}\n",
    "\n",
    "def fib_cached(n):\n",
    "    if n in cache:\n",
    "        ans = cache[n]\n",
    "    elif n <= 2:\n",
    "        ans = 1\n",
    "        cache[n] = ans\n",
    "    else:\n",
    "        ans = fib_cached(n - 2) + fib_cached(n - 1)\n",
    "        cache[n] = ans\n",
    "\n",
    "    return ans"
   ]
  },
  {
   "cell_type": "code",
   "execution_count": 10,
   "metadata": {
    "collapsed": false
   },
   "outputs": [
    {
     "name": "stdout",
     "output_type": "stream",
     "text": [
      "102334155\n",
      "0.000433049620696 seconds\n"
     ]
    }
   ],
   "source": [
    "import timeit\n",
    "a = timeit.default_timer()\n",
    "print fib_cached(40)\n",
    "print timeit.default_timer()-a, 'seconds'"
   ]
  },
  {
   "cell_type": "markdown",
   "metadata": {},
   "source": [
    "Note the immediate and drastic improvements in performance. \n",
    "\n",
    "#### Option 2: default function parameter\n",
    "\n",
    "In this option, we create a cache using a keyword parameter of the function. Python evaluates keyword parameters once and only once, when the function is imported. This means that if the keyword parameter is mutable (which a dictionary is), then it only gets initialized once. This is often the cause of subtle bugs, but in this case we take advantage of it by mutating the keyword parameter. The changes we make (i.e. populating the cache) don’t get wiped out by cache={} in the function definition, because that expression doesn’t get evaluated again."
   ]
  },
  {
   "cell_type": "code",
   "execution_count": 11,
   "metadata": {
    "collapsed": true
   },
   "outputs": [],
   "source": [
    "def fib_default_memoized(n, cache={}):\n",
    "    if n in cache:\n",
    "        ans = cache[n]\n",
    "    elif n <= 2:\n",
    "        ans = 1\n",
    "        cache[n] = ans\n",
    "    else:\n",
    "        ans = fib_default_memoized(n - 2) + fib_default_memoized(n - 1)\n",
    "        cache[n] = ans\n",
    "\n",
    "    return ans"
   ]
  },
  {
   "cell_type": "code",
   "execution_count": 12,
   "metadata": {
    "collapsed": false
   },
   "outputs": [
    {
     "name": "stdout",
     "output_type": "stream",
     "text": [
      "102334155\n",
      "0.000499368979206 seconds\n"
     ]
    }
   ],
   "source": [
    "import timeit\n",
    "a = timeit.default_timer()\n",
    "print fib_default_memoized(40)\n",
    "print timeit.default_timer()-a, 'seconds'"
   ]
  },
  {
   "cell_type": "markdown",
   "metadata": {},
   "source": [
    "As we can see, the performance improvement is the same as before. \n",
    "\n",
    "#### Option 3: global cache\n",
    "\n",
    "This is identical to the (hacky) default parameter method, but in this case we ensure the cache is retained across function calls by making it global."
   ]
  },
  {
   "cell_type": "code",
   "execution_count": 15,
   "metadata": {
    "collapsed": true
   },
   "outputs": [],
   "source": [
    "global_cache = {}\n",
    "\n",
    "def fib_global_memoized(n):\n",
    "    global global_cache\n",
    "    if n in global_cache:\n",
    "        ans = global_cache[n]\n",
    "    elif n <= 2:\n",
    "        ans = 1\n",
    "        global_cache[n] = ans\n",
    "    else:\n",
    "        ans = fib_global_memoized(n - 2) + fib_global_memoized(n - 1)\n",
    "        global_cache[n] = ans\n",
    "\n",
    "    return ans"
   ]
  },
  {
   "cell_type": "code",
   "execution_count": 19,
   "metadata": {
    "collapsed": false
   },
   "outputs": [
    {
     "name": "stdout",
     "output_type": "stream",
     "text": [
      "102334155\n",
      "0.000414101232536 seconds\n"
     ]
    }
   ],
   "source": [
    "import timeit\n",
    "a = timeit.default_timer()\n",
    "print fib_global_memoized(40)\n",
    "print timeit.default_timer()-a, 'seconds'"
   ]
  },
  {
   "cell_type": "markdown",
   "metadata": {},
   "source": [
    "Again, same type of improvement. \n",
    "\n",
    "#### Option 4: classes\n",
    "\n",
    "A function is a callable object, but what lots of Python programmers don't know. We can define classes as callable objects as well. The \\_\\_call\\_\\_ method is called, if the instance is called \"like a function\", i.e. using brackets."
   ]
  },
  {
   "cell_type": "code",
   "execution_count": 24,
   "metadata": {
    "collapsed": true
   },
   "outputs": [],
   "source": [
    "class Fib_class:\n",
    "    def __init__(self):\n",
    "        self.cache = {}\n",
    "    def __call__(self, n):\n",
    "        if n not in self.cache:\n",
    "            if n == 0:\n",
    "                self.cache[0] = 0\n",
    "            elif n == 1:\n",
    "                self.cache[1] = 1\n",
    "            else:\n",
    "                self.cache[n] = self.__call__(n-1) + self.__call__(n-2)\n",
    "        return self.cache[n]"
   ]
  },
  {
   "cell_type": "code",
   "execution_count": 25,
   "metadata": {
    "collapsed": false
   },
   "outputs": [
    {
     "name": "stdout",
     "output_type": "stream",
     "text": [
      "102334155\n",
      "0.000516343576919 seconds\n"
     ]
    }
   ],
   "source": [
    "import timeit\n",
    "a = timeit.default_timer()\n",
    "f = Fib_class()\n",
    "print f(40)\n",
    "print timeit.default_timer()-a, 'seconds'"
   ]
  },
  {
   "cell_type": "markdown",
   "metadata": {},
   "source": [
    "Once again, comparable improvement, meaning all of our memoization techinques are equally good. "
   ]
  },
  {
   "cell_type": "markdown",
   "metadata": {},
   "source": [
    "## Decorators\n",
    "\n",
    "A decorator is a higher-order function, i.e. one that takes as its argument a function, and returns another function. In the case of a decorator, that returned function is usually just the original function augmented with some extra functionality. In the simplest case, the extra functionality is a pure side-effect such a logging. Decorating a function is a good way to break the features the interpreter and other code depends on to learn about the function. \n",
    "\n",
    "Summarizing we can say that a decorator in Python is a callable Python object that is used to modify a function, method or class definition. The original object, the one which is going to be modified, is passed to a decorator as an argument. The decorator returns a modified object, e.g. a modified function, which is bound to the name used in the definition.\n",
    "\n",
    "By adding the decorator indicator below, we are essentially placing the decorated function inside of the decorator function."
   ]
  },
  {
   "cell_type": "code",
   "execution_count": 45,
   "metadata": {
    "collapsed": true
   },
   "outputs": [],
   "source": [
    "def memoize(f):\n",
    "   cache = {}\n",
    "   def memf(*x):\n",
    "       if x not in cache:\n",
    "           cache[x] = f(*x)\n",
    "       return cache[x]\n",
    "   return memf\n",
    "\n",
    "def fibo_memoized(n):\n",
    "    if n < 3:\n",
    "        return 1\n",
    "    return fibo_memoized(n-1)+fibo_memoized(n-2)\n",
    "\n",
    "fibo_memoized = memoize(fibo_memoized)"
   ]
  },
  {
   "cell_type": "code",
   "execution_count": 48,
   "metadata": {
    "collapsed": false
   },
   "outputs": [
    {
     "name": "stdout",
     "output_type": "stream",
     "text": [
      "102334155\n",
      "0.000426733491622\n"
     ]
    }
   ],
   "source": [
    "a = timeit.default_timer()\n",
    "print fibo_memoized(40)\n",
    "print timeit.default_timer() - a"
   ]
  },
  {
   "cell_type": "markdown",
   "metadata": {},
   "source": [
    "You can also see a design problem in our previous approach. `fibo_memoized` exists in the same program in two versions, before decoration and after decoration. \n",
    "\n",
    "Python have a nice trick for decorating that solves this problem, using the method below. "
   ]
  },
  {
   "cell_type": "code",
   "execution_count": 55,
   "metadata": {
    "collapsed": true
   },
   "outputs": [],
   "source": [
    "def memoize(f):\n",
    "   cache = {}\n",
    "   def memf(x):\n",
    "       if x not in cache:\n",
    "           cache[x] = f(x)\n",
    "       return cache[x]\n",
    "   return memf\n",
    "\n",
    "@memoize\n",
    "def fibo_memoized(n):\n",
    "    if n < 3:\n",
    "        return 1\n",
    "    return fibo_memoized(n-1)+fibo_memoized(n-2)"
   ]
  },
  {
   "cell_type": "code",
   "execution_count": 56,
   "metadata": {
    "collapsed": false
   },
   "outputs": [
    {
     "name": "stdout",
     "output_type": "stream",
     "text": [
      "102334155\n",
      "0.00049068430144\n"
     ]
    }
   ],
   "source": [
    "a = timeit.default_timer()\n",
    "print fibo_memoized(40)\n",
    "print timeit.default_timer() - a"
   ]
  },
  {
   "cell_type": "markdown",
   "metadata": {},
   "source": [
    "## References\n",
    "\n",
    "- https://pythonspot.com/en/recursion/\n",
    "- https://en.wikipedia.org/wiki/Memoization\n",
    "- http://www.python-course.eu/python3_memoization.php\n",
    "- http://mike.place/2016/memoization/\n",
    "- http://stackoverflow.com/questions/18939731/why-memoization-can-speed-up-factorial-in-python-even-if-there-is-no-repeated-co\n",
    "- http://www.python-course.eu/python3_decorators.php"
   ]
  }
 ],
 "metadata": {
  "kernelspec": {
   "display_name": "Python [default]",
   "language": "python",
   "name": "python2"
  },
  "language_info": {
   "codemirror_mode": {
    "name": "ipython",
    "version": 2
   },
   "file_extension": ".py",
   "mimetype": "text/x-python",
   "name": "python",
   "nbconvert_exporter": "python",
   "pygments_lexer": "ipython2",
   "version": "2.7.12"
  }
 },
 "nbformat": 4,
 "nbformat_minor": 1
}
