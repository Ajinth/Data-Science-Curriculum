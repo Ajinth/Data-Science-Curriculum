{
 "cells": [
  {
   "cell_type": "markdown",
   "metadata": {
    "deletable": true,
    "editable": true
   },
   "source": [
    "First, we import all the necessary libraries."
   ]
  },
  {
   "cell_type": "code",
   "execution_count": 156,
   "metadata": {
    "collapsed": false,
    "deletable": true,
    "editable": true
   },
   "outputs": [],
   "source": [
    "import numpy as np\n",
    "import theano\n",
    "import theano.tensor as T\n",
    "import matplotlib.pyplot as plt\n",
    "import os\n",
    "import pandas as pd\n",
    "\n",
    "from theano.tensor.nnet import conv2d\n",
    "from theano.tensor.signal import pool\n",
    "\n",
    "from scipy.io import loadmat\n",
    "from sklearn.utils import shuffle\n",
    "\n",
    "# to keep track of how long it takes\n",
    "from datetime import datetime"
   ]
  },
  {
   "cell_type": "markdown",
   "metadata": {
    "deletable": true,
    "editable": true
   },
   "source": [
    "Our basic helper functions will give us the error rate, the rectifier linear unit function, and an indicator matrix for our predictions."
   ]
  },
  {
   "cell_type": "code",
   "execution_count": 157,
   "metadata": {
    "collapsed": true,
    "deletable": true,
    "editable": true
   },
   "outputs": [],
   "source": [
    "def error_rate(p, t):\n",
    "    return np.mean(p != t)\n",
    "\n",
    "def relu(a):\n",
    "    return a * (a > 0)\n",
    "\n",
    "def y2indicator(y):\n",
    "    N = len(y)\n",
    "    y = y.astype(np.int32)\n",
    "    ind = np.zeros((N, 10))\n",
    "    for i in range(N):\n",
    "        ind[i, y[i]] = 1\n",
    "    return ind"
   ]
  },
  {
   "cell_type": "markdown",
   "metadata": {
    "deletable": true,
    "editable": true
   },
   "source": [
    "Our convpool function first performs the convolution on our input matrix given our filters. We downsample each feature map individually using maxpooling, and we set the poolsize to (2, 2). To add the bias term, we need to reshape our bias variable to a tensor of shape (1, n_filters, 1, 1), where each bias wil be broadcasted across mini-batches and feature map width and height. Our activation function will be the ReLu."
   ]
  },
  {
   "cell_type": "code",
   "execution_count": 158,
   "metadata": {
    "collapsed": true,
    "deletable": true,
    "editable": true
   },
   "outputs": [],
   "source": [
    "def convpool(X, W, b, poolsize=(2, 2)):\n",
    "    conv_out = conv2d(input=X, filters=W)\n",
    "\n",
    "    pooled_out = pool.pool_2d(\n",
    "        input=conv_out,\n",
    "        ds=poolsize,\n",
    "        ignore_border=True\n",
    "    )\n",
    "\n",
    "    return relu(pooled_out + b.dimshuffle('x', 0, 'x', 'x'))"
   ]
  },
  {
   "cell_type": "markdown",
   "metadata": {
    "deletable": true,
    "editable": true
   },
   "source": [
    "The way we always initialize weights is random normal / sqrt(fan in + fan out). The key point is it's random with a variance restricted by the size."
   ]
  },
  {
   "cell_type": "code",
   "execution_count": 159,
   "metadata": {
    "collapsed": true,
    "deletable": true,
    "editable": true
   },
   "outputs": [],
   "source": [
    "# this is our weight initialization function, which takes in the dimensions\n",
    "def init_filter(shape, poolsz):\n",
    "    # this is the fan in plus fan out\n",
    "    w = np.random.randn(*shape) / np.sqrt(np.prod(shape[1:]) + shape[0]*np.prod(shape[2:] / np.prod(poolsz)))\n",
    "    return w.astype(np.float32)"
   ]
  },
  {
   "cell_type": "markdown",
   "metadata": {
    "deletable": true,
    "editable": true
   },
   "source": [
    "Next, we import our MNIST data, normalize it, and partition it into train and test samples. "
   ]
  },
  {
   "cell_type": "code",
   "execution_count": 160,
   "metadata": {
    "collapsed": false
   },
   "outputs": [],
   "source": [
    "data = pd.read_csv(os.path.join('Data', 'train.csv'))"
   ]
  },
  {
   "cell_type": "code",
   "execution_count": 161,
   "metadata": {
    "collapsed": true
   },
   "outputs": [],
   "source": [
    "def get_normalized_data(data):\n",
    "    data = data.as_matrix().astype(np.float32)\n",
    "    np.random.shuffle(data)\n",
    "    X = data[:, 1:]\n",
    "    mu = X.mean(axis=0)\n",
    "    std = X.std(axis=0)\n",
    "    np.place(std, std == 0, 1)\n",
    "    X = (X - mu) / std\n",
    "    Y = data[:, 0]\n",
    "    return X, Y"
   ]
  },
  {
   "cell_type": "code",
   "execution_count": 162,
   "metadata": {
    "collapsed": false
   },
   "outputs": [],
   "source": [
    "X, Y = get_normalized_data(data)"
   ]
  },
  {
   "cell_type": "code",
   "execution_count": 163,
   "metadata": {
    "collapsed": false,
    "scrolled": true
   },
   "outputs": [],
   "source": [
    "X = X.reshape(len(X), 1, 28, 28)"
   ]
  },
  {
   "cell_type": "code",
   "execution_count": 164,
   "metadata": {
    "collapsed": false
   },
   "outputs": [],
   "source": [
    "X = X.astype(np.float32)"
   ]
  },
  {
   "cell_type": "code",
   "execution_count": 165,
   "metadata": {
    "collapsed": false,
    "deletable": true,
    "editable": true
   },
   "outputs": [],
   "source": [
    "Xtrain = X[:-1000,]\n",
    "Ytrain = Y[:-1000]\n",
    "Xtest  = X[-1000:,]\n",
    "Ytest  = Y[-1000:]\n",
    "Ytrain_ind = y2indicator(Ytrain)\n",
    "Ytest_ind = y2indicator(Ytest)"
   ]
  },
  {
   "cell_type": "markdown",
   "metadata": {},
   "source": [
    "We set our hyperparameters, and we will add L2 regularization along with momentum."
   ]
  },
  {
   "cell_type": "code",
   "execution_count": 166,
   "metadata": {
    "collapsed": true
   },
   "outputs": [],
   "source": [
    "max_iter = 30\n",
    "print_period = 10\n",
    "\n",
    "lr = np.float32(0.00004)\n",
    "reg = np.float32(0.01)\n",
    "mu = np.float32(0.9)\n",
    "\n",
    "N = Xtrain.shape[0]\n",
    "batch_sz = 500\n",
    "n_batches = N / batch_sz\n",
    "\n",
    "M = 500\n",
    "K = 10\n",
    "poolsz = (2, 2)"
   ]
  },
  {
   "cell_type": "markdown",
   "metadata": {},
   "source": [
    "Our first convolution will have 20 feature maps, while our second convolution will have 50 feature maps. "
   ]
  },
  {
   "cell_type": "code",
   "execution_count": null,
   "metadata": {
    "collapsed": true
   },
   "outputs": [],
   "source": [
    "# after conv will be of dimension 32 - 5 + 1 = 28\n",
    "# after downsample 28 / 2 = 14\n",
    "W1_shape = (20, 1, 5, 5) # (num_feature_maps, num_color_channels, filter_width, filter_height)\n",
    "W1_init = init_filter(W1_shape, poolsz)\n",
    "b1_init = np.zeros(W1_shape[0], dtype=np.float32) # one bias per output feature map\n",
    "\n",
    "# after conv will be of dimension 14 - 5 + 1 = 10\n",
    "# after downsample 10 / 2 = 5\n",
    "W2_shape = (50, 20, 5, 5) # (num_feature_maps, old_num_feature_maps, filter_width, filter_height)\n",
    "W2_init = init_filter(W2_shape, poolsz)\n",
    "b2_init = np.zeros(W2_shape[0], dtype=np.float32)\n",
    "\n",
    "# vanilla ANN weights\n",
    "W3_init = np.random.randn(W2_shape[0]*4*4, M) / np.sqrt(W2_shape[0]*4*4 + M)\n",
    "b3_init = np.zeros(M, dtype=np.float32)\n",
    "W4_init = np.random.randn(M, K) / np.sqrt(M + K)\n",
    "b4_init = np.zeros(K, dtype=np.float32)"
   ]
  },
  {
   "cell_type": "markdown",
   "metadata": {},
   "source": [
    "We define our shared variables, which include the weights and bias terms as well as the momentum changes for each one."
   ]
  },
  {
   "cell_type": "code",
   "execution_count": null,
   "metadata": {
    "collapsed": true
   },
   "outputs": [],
   "source": [
    "# step 2: define theano variables and expressions\n",
    "X = T.tensor4('X', dtype='float32')\n",
    "Y = T.matrix('T')\n",
    "W1 = theano.shared(W1_init, 'W1')\n",
    "b1 = theano.shared(b1_init, 'b1')\n",
    "W2 = theano.shared(W2_init, 'W2')\n",
    "b2 = theano.shared(b2_init, 'b2')\n",
    "W3 = theano.shared(W3_init.astype(np.float32), 'W3')\n",
    "b3 = theano.shared(b3_init, 'b3')\n",
    "W4 = theano.shared(W4_init.astype(np.float32), 'W4')\n",
    "b4 = theano.shared(b4_init, 'b4')\n",
    "\n",
    "# momentum changes\n",
    "dW1 = theano.shared(np.zeros(W1_init.shape, dtype=np.float32), 'dW1')\n",
    "db1 = theano.shared(np.zeros(b1_init.shape, dtype=np.float32), 'db1')\n",
    "dW2 = theano.shared(np.zeros(W2_init.shape, dtype=np.float32), 'dW2')\n",
    "db2 = theano.shared(np.zeros(b2_init.shape, dtype=np.float32), 'db2')\n",
    "dW3 = theano.shared(np.zeros(W3_init.shape, dtype=np.float32), 'dW3')\n",
    "db3 = theano.shared(np.zeros(b3_init.shape, dtype=np.float32), 'db3')\n",
    "dW4 = theano.shared(np.zeros(W4_init.shape, dtype=np.float32), 'dW4')\n",
    "db4 = theano.shared(np.zeros(b4_init.shape, dtype=np.float32), 'db4')"
   ]
  },
  {
   "cell_type": "markdown",
   "metadata": {},
   "source": [
    "The forward pass will include our two convpool layer, followed by our fully connected neural network layer, and finishing with the softmax."
   ]
  },
  {
   "cell_type": "code",
   "execution_count": null,
   "metadata": {
    "collapsed": true
   },
   "outputs": [],
   "source": [
    "# forward pass\n",
    "Z1 = convpool(X, W1, b1)\n",
    "Z2 = convpool(Z1, W2, b2)\n",
    "Z3 = relu(Z2.flatten(ndim=2).dot(W3) + b3)\n",
    "pY = T.nnet.softmax(Z3.dot(W4) + b4)\n",
    "\n",
    "# define the cost function and prediction\n",
    "params = (W1, b1, W2, b2, W3, b3, W4, b4)\n",
    "reg_cost = reg*np.sum((param*param).sum() for param in params)\n",
    "cost = -(Y * T.log(pY)).sum() + reg_cost\n",
    "prediction = T.argmax(pY, axis=1)"
   ]
  },
  {
   "cell_type": "markdown",
   "metadata": {},
   "source": [
    "Then, we define our update parameters, as well as the train and prediction functions."
   ]
  },
  {
   "cell_type": "code",
   "execution_count": 167,
   "metadata": {
    "collapsed": false,
    "deletable": true,
    "editable": true,
    "scrolled": false
   },
   "outputs": [],
   "source": [
    "# step 3: training expressions and functions\n",
    "update_W1 = W1 + mu*dW1 - lr*T.grad(cost, W1)\n",
    "update_b1 = b1 + mu*db1 - lr*T.grad(cost, b1)\n",
    "update_W2 = W2 + mu*dW2 - lr*T.grad(cost, W2)\n",
    "update_b2 = b2 + mu*db2 - lr*T.grad(cost, b2)\n",
    "update_W3 = W3 + mu*dW3 - lr*T.grad(cost, W3)\n",
    "update_b3 = b3 + mu*db3 - lr*T.grad(cost, b3)\n",
    "update_W4 = W4 + mu*dW4 - lr*T.grad(cost, W4)\n",
    "update_b4 = b4 + mu*db4 - lr*T.grad(cost, b4)\n",
    "\n",
    "# update weight changes\n",
    "update_dW1 = mu*dW1 - lr*T.grad(cost, W1)\n",
    "update_db1 = mu*db1 - lr*T.grad(cost, b1)\n",
    "update_dW2 = mu*dW2 - lr*T.grad(cost, W2)\n",
    "update_db2 = mu*db2 - lr*T.grad(cost, b2)\n",
    "update_dW3 = mu*dW3 - lr*T.grad(cost, W3)\n",
    "update_db3 = mu*db3 - lr*T.grad(cost, b3)\n",
    "update_dW4 = mu*dW4 - lr*T.grad(cost, W4)\n",
    "update_db4 = mu*db4 - lr*T.grad(cost, b4)\n",
    "\n",
    "train = theano.function(\n",
    "    inputs=[X, Y],\n",
    "    updates=\n",
    "        [(W1, update_W1),\n",
    "        (b1, update_b1),\n",
    "        (W2, update_W2),\n",
    "        (b2, update_b2),\n",
    "        (W3, update_W3),\n",
    "        (b3, update_b3),\n",
    "        (W4, update_W4),\n",
    "        (b4, update_b4)]+\n",
    "        [(dW1, update_dW1),\n",
    "        (db1, update_db1),\n",
    "        (dW2, update_dW2),\n",
    "        (db2, update_db2),\n",
    "        (dW3, update_dW3),\n",
    "        (db3, update_db3),\n",
    "        (dW4, update_dW4),\n",
    "        (db4, update_db4)]\n",
    "    ,\n",
    ")\n",
    "\n",
    "# create another function for this because we want it over the whole dataset\n",
    "get_prediction = theano.function(\n",
    "    inputs=[X, Y],\n",
    "    outputs=[cost, prediction],\n",
    ")"
   ]
  },
  {
   "cell_type": "markdown",
   "metadata": {},
   "source": [
    "Lastly, we do our batch gradient decent and iterate through our dataset for the predetermined number of epochs. "
   ]
  },
  {
   "cell_type": "code",
   "execution_count": 168,
   "metadata": {
    "collapsed": false,
    "scrolled": false
   },
   "outputs": [
    {
     "name": "stdout",
     "output_type": "stream",
     "text": [
      "Cost / err at iteration i=0, j=0: 2353.433 / 0.883\n",
      "Cost / err at iteration i=2, j=0: 69.560 / 0.028\n",
      "Cost / err at iteration i=4, j=0: 56.687 / 0.017\n",
      "Cost / err at iteration i=6, j=0: 43.612 / 0.011\n",
      "Cost / err at iteration i=8, j=0: 39.772 / 0.013\n",
      "Cost / err at iteration i=10, j=0: 37.467 / 0.011\n",
      "Cost / err at iteration i=12, j=0: 42.521 / 0.014\n",
      "Cost / err at iteration i=14, j=0: 36.269 / 0.011\n",
      "Cost / err at iteration i=16, j=0: 41.879 / 0.012\n",
      "Cost / err at iteration i=18, j=0: 45.308 / 0.018\n",
      "Cost / err at iteration i=20, j=0: 38.035 / 0.012\n",
      "Cost / err at iteration i=22, j=0: 39.195 / 0.013\n",
      "Cost / err at iteration i=24, j=0: 40.340 / 0.011\n",
      "Cost / err at iteration i=26, j=0: 40.878 / 0.011\n",
      "Cost / err at iteration i=28, j=0: 42.515 / 0.013\n",
      "Cost / err at iteration i=29, j=0: 40.796 / 0.011\n",
      "Elapsed time: 0:17:31.629370\n"
     ]
    },
    {
     "data": {
      "image/png": "[encoded data removed]",
      "text/plain": [
       "<matplotlib.figure.Figure at 0x7f10774caef0>"
      ]
     },
     "metadata": {},
     "output_type": "display_data"
    }
   ],
   "source": [
    "t0 = datetime.now()\n",
    "LL = []\n",
    "for i in range(max_iter):\n",
    "    Xtrain, Ytrain_ind = shuffle(Xtrain, Ytrain_ind)\n",
    "    for j in range(int(n_batches)):\n",
    "        Xbatch = Xtrain[j*batch_sz:(j*batch_sz + batch_sz),]\n",
    "        Ybatch = Ytrain_ind[j*batch_sz:(j*batch_sz + batch_sz),]\n",
    "\n",
    "        train(Xbatch, Ybatch)\n",
    "        if j % print_period == 0:\n",
    "            cost_val, prediction_val = get_prediction(Xtest, Ytest_ind)\n",
    "            err = error_rate(prediction_val, Ytest)\n",
    "            LL.append(cost_val)\n",
    "            if (i % 2 == 0 or i % 29 == 0) and j % 100 == 0:\n",
    "                print(\"Cost / err at iteration i=%d, j=%d: %.3f / %.3f\" % (i, j, cost_val, err))\n",
    "                \n",
    "print(\"Elapsed time:\", (datetime.now() - t0))\n",
    "plt.plot(LL)\n",
    "plt.show()"
   ]
  }
 ],
 "metadata": {
  "kernelspec": {
   "display_name": "Python 3",
   "language": "python",
   "name": "python3"
  },
  "language_info": {
   "codemirror_mode": {
    "name": "ipython",
    "version": 3
   },
   "file_extension": ".py",
   "mimetype": "text/x-python",
   "name": "python",
   "nbconvert_exporter": "python",
   "pygments_lexer": "ipython3",
   "version": "3.6.0"
  }
 },
 "nbformat": 4,
 "nbformat_minor": 2
}
