{
 "cells": [
  {
   "cell_type": "markdown",
   "metadata": {},
   "source": [
    "# Logistic Regression\n",
    "\n",
    "Logistic regression, or logit regression, or logit model is a regression model where the dependent variable is categorical. Thus, the logit model is a classification algorithm, and it generally assumes a binary dependent variable or, in the case of multinomial logistic regression, it predicts a multi-class dependent variable. The model can be summarized by the following equation:\n",
    "![](extras/logistic_reg.PNG)\n",
    "\n",
    "Here, the dependent variable is the logit function, which is defined as the log of the odds ratio:\n",
    "![alt](extras/logit.PNG)\n",
    "\n",
    "What this means is that for a given variable x (let's assume it's a dummy variable), w is the log of [the odds of the outcome given presence of variable x over the odds of the outcome given the absence of variable x].\n",
    "\n",
    "The probability that a particular sample belongs to class 1 given the set of features x is determined by the _logistic function_, also known as the Sigmoid function. The Sigmoid function transforms the output so that it is constrained between 0 and 1. It can be represented as:\n",
    "![alt](https://wikimedia.org/api/rest_v1/media/math/render/svg/5e648e1dd38ef843d57777cd34c67465bbca694f)"
   ]
  },
  {
   "cell_type": "markdown",
   "metadata": {},
   "source": [
    "Let's briefly illustrate the Sigmoid function by looking at the range of -7 to 7. "
   ]
  },
  {
   "cell_type": "code",
   "execution_count": 1,
   "metadata": {
    "collapsed": false
   },
   "outputs": [
    {
     "data": {
      "image/png": "[encoded data removed]",
      "text/plain": [
       "<matplotlib.figure.Figure at 0x251e4e0>"
      ]
     },
     "metadata": {},
     "output_type": "display_data"
    }
   ],
   "source": [
    "import matplotlib.pyplot as plt\n",
    "import numpy as np\n",
    "\n",
    "\n",
    "def sigmoid(z):\n",
    "    return 1.0 / (1.0 + np.exp(-z))\n",
    "\n",
    "z = np.arange(-7, 7, 0.1)\n",
    "phi_z = sigmoid(z)\n",
    "\n",
    "plt.plot(z, phi_z)\n",
    "plt.axvline(0.0, color='k')\n",
    "plt.ylim(-0.1, 1.1)\n",
    "plt.xlabel('z')\n",
    "plt.ylabel('$\\phi (z)$')\n",
    "\n",
    "# y axis ticks and gridline\n",
    "plt.yticks([0.0, 0.5, 1.0])\n",
    "ax = plt.gca()\n",
    "ax.yaxis.grid(True)\n",
    "\n",
    "plt.tight_layout()\n",
    "# plt.savefig('./figures/sigmoid.png', dpi=300)\n",
    "plt.show()"
   ]
  },
  {
   "cell_type": "markdown",
   "metadata": {},
   "source": [
    "Generally, the algorithm will predict a class of 1 for all probabilities greater than .5 and a class of 0 for probabilities less than .5. \n",
    "\n",
    "Because the model can be expressed as a generalized linear model, for 0 < p < 1, ordinary least squares can suffice, with R-squared as the measure of goodness of fit in the fitting space. When p = 0 or 1, more complex methods are required. The regression coefficients are usually estimated using maximum likelihood estimation. Unlike linear regression with normally distributed residuals, it is not possible to find a closed-form expression for the coefficient values that maximize the likelihood function, so that an iterative process must be used instead."
   ]
  },
  {
   "cell_type": "markdown",
   "metadata": {},
   "source": [
    "## Coding Example\n",
    "\n",
    "In this example, we will use the Titanic dataset in order to predict the survival of the passengers. "
   ]
  },
  {
   "cell_type": "code",
   "execution_count": 9,
   "metadata": {
    "collapsed": true
   },
   "outputs": [],
   "source": [
    "import pandas as pd\n",
    "import numpy as np\n",
    "from sklearn.metrics import confusion_matrix, classification_report\n",
    "from sklearn.model_selection import train_test_split\n",
    "import sys\n",
    "import seaborn as sns\n",
    "import matplotlib.pyplot as plt\n",
    "%matplotlib inline"
   ]
  },
  {
   "cell_type": "code",
   "execution_count": 2,
   "metadata": {
    "collapsed": false
   },
   "outputs": [],
   "source": [
    "data = pd.read_csv('Data/titanic_train.csv')\n",
    "\n",
    "X = pd.concat([pd.get_dummies(data['Sex'], drop_first=True),data['Fare']], axis=1)\n",
    "y = data['Survived']"
   ]
  },
  {
   "cell_type": "code",
   "execution_count": 3,
   "metadata": {
    "collapsed": false
   },
   "outputs": [
    {
     "data": {
      "text/plain": [
       "LogisticRegression(C=1000, class_weight=None, dual=False, fit_intercept=True,\n",
       "          intercept_scaling=1, max_iter=100, multi_class='ovr', n_jobs=1,\n",
       "          penalty='l2', random_state=0, solver='liblinear', tol=0.0001,\n",
       "          verbose=0, warm_start=False)"
      ]
     },
     "execution_count": 3,
     "metadata": {},
     "output_type": "execute_result"
    }
   ],
   "source": [
    "from sklearn.linear_model import LogisticRegression\n",
    "\n",
    "lr = LogisticRegression(C=1000, random_state=0)\n",
    "lr.fit(X, y)"
   ]
  },
  {
   "cell_type": "code",
   "execution_count": 4,
   "metadata": {
    "collapsed": false
   },
   "outputs": [
    {
     "data": {
      "text/plain": [
       "<matplotlib.axes._subplots.AxesSubplot at 0xb7a4828>"
      ]
     },
     "execution_count": 4,
     "metadata": {},
     "output_type": "execute_result"
    },
    {
     "data": {
      "image/png": "[encoded data removed]",
      "text/plain": [
       "<matplotlib.figure.Figure at 0x67e21d0>"
      ]
     },
     "metadata": {},
     "output_type": "display_data"
    }
   ],
   "source": [
    "sns.barplot(x='Survived', y='Fare', data=data)"
   ]
  },
  {
   "cell_type": "code",
   "execution_count": 5,
   "metadata": {
    "collapsed": false
   },
   "outputs": [
    {
     "name": "stdout",
     "output_type": "stream",
     "text": [
      "[[462  87]\n",
      " [107 235]]\n",
      "\n",
      "             precision    recall  f1-score   support\n",
      "\n",
      "          0       0.81      0.84      0.83       549\n",
      "          1       0.73      0.69      0.71       342\n",
      "\n",
      "avg / total       0.78      0.78      0.78       891\n",
      "\n"
     ]
    }
   ],
   "source": [
    "print confusion_matrix(y, lr.predict(X))\n",
    "print '\\n', classification_report(y, lr.predict(X))"
   ]
  },
  {
   "cell_type": "markdown",
   "metadata": {},
   "source": [
    "Let's see how our model approximated the logistic function by ordering and plotting the predicted probabilies for all of our samples:"
   ]
  },
  {
   "cell_type": "code",
   "execution_count": 10,
   "metadata": {
    "collapsed": false,
    "scrolled": false
   },
   "outputs": [
    {
     "data": {
      "text/plain": [
       "<matplotlib.collections.PathCollection at 0xbd8b748>"
      ]
     },
     "execution_count": 10,
     "metadata": {},
     "output_type": "execute_result"
    },
    {
     "data": {
      "image/png": "[encoded data removed]",
      "text/plain": [
       "<matplotlib.figure.Figure at 0xb91f3c8>"
      ]
     },
     "metadata": {},
     "output_type": "display_data"
    }
   ],
   "source": [
    "plt.scatter(np.arange(0, len(X)), np.sort(lr.predict_proba(X)[:,1]))"
   ]
  },
  {
   "cell_type": "markdown",
   "metadata": {},
   "source": [
    "## Interpreting the coefficients\n",
    "\n",
    "Let's take a look at the coefficients of the model:"
   ]
  },
  {
   "cell_type": "code",
   "execution_count": 11,
   "metadata": {
    "collapsed": false
   },
   "outputs": [
    {
     "name": "stdout",
     "output_type": "stream",
     "text": [
      "Intercept is 0.646993127807\n",
      "\n",
      "Coefficient for male is -2.42261991302\n",
      "\n",
      "Coefficient for fare is 0.0112144292596\n"
     ]
    }
   ],
   "source": [
    "print 'Intercept is', lr.intercept_[0]\n",
    "print '\\nCoefficient for male is', lr.coef_[0][0]\n",
    "print '\\nCoefficient for fare is', lr.coef_[0][1]"
   ]
  },
  {
   "cell_type": "markdown",
   "metadata": {},
   "source": [
    "The coeffient represent the log of the odds ratio. The intercept can be be interpreted as the log of the odds ratio for a female with a fare of zero. To arrive at the actual odds ratio, we must exponentiate the intercept:"
   ]
  },
  {
   "cell_type": "code",
   "execution_count": 12,
   "metadata": {
    "collapsed": false
   },
   "outputs": [
    {
     "data": {
      "text/plain": [
       "1.90978969335834"
      ]
     },
     "execution_count": 12,
     "metadata": {},
     "output_type": "execute_result"
    }
   ],
   "source": [
    "np.exp(lr.intercept_[0])"
   ]
  },
  {
   "cell_type": "markdown",
   "metadata": {},
   "source": [
    "What this means is that odds ratio of survival for a female with a fare of zero is 1.9 to 1. We can easily caculate the probability of survival using algebra to get: "
   ]
  },
  {
   "cell_type": "code",
   "execution_count": 13,
   "metadata": {
    "collapsed": false
   },
   "outputs": [
    {
     "name": "stdout",
     "output_type": "stream",
     "text": [
      "Probability of survival is 0.656332551358\n"
     ]
    }
   ],
   "source": [
    "x = np.exp(lr.intercept_[0])\n",
    "p = x/(1+x)\n",
    "print 'Probability of survival is', p"
   ]
  },
  {
   "cell_type": "markdown",
   "metadata": {},
   "source": [
    "Similarly, we can arrive at this number by using our logistic function:"
   ]
  },
  {
   "cell_type": "code",
   "execution_count": 14,
   "metadata": {
    "collapsed": false
   },
   "outputs": [
    {
     "name": "stdout",
     "output_type": "stream",
     "text": [
      "Probability of survival is 0.656332551358\n"
     ]
    }
   ],
   "source": [
    "print 'Probability of survival is', np.exp(lr.intercept_[0])/(np.exp(lr.intercept_[0])+1)"
   ]
  },
  {
   "cell_type": "markdown",
   "metadata": {},
   "source": [
    "Similarly, we can interpret the coefficient for male as the log of the odds ratio for males with respect to female while holding fare constant. Doing the math, we get:"
   ]
  },
  {
   "cell_type": "code",
   "execution_count": 15,
   "metadata": {
    "collapsed": false
   },
   "outputs": [
    {
     "name": "stdout",
     "output_type": "stream",
     "text": [
      "The odds ratio for survival of males over survival of females is 0.0886889554663\n"
     ]
    }
   ],
   "source": [
    "print 'The odds ratio for survival of males over survival of females is', np.exp(lr.coef_[0][0])"
   ]
  },
  {
   "cell_type": "markdown",
   "metadata": {},
   "source": [
    "Thus, we can say that holding fare constant, the odds of a male surviving over the odds of a female surviving is .089. In terms of percent change, we can say that the odds for males surviving are, (.089-1)\\*(100) = -91.1%, meaning 91.1% lower than the odds for females."
   ]
  },
  {
   "cell_type": "code",
   "execution_count": 16,
   "metadata": {
    "collapsed": false
   },
   "outputs": [
    {
     "data": {
      "text/plain": [
       "0.2545800760184765"
      ]
     },
     "execution_count": 16,
     "metadata": {},
     "output_type": "execute_result"
    }
   ],
   "source": [
    "y[X['male']==1].mean()/y[X['male']==0].mean()"
   ]
  },
  {
   "cell_type": "markdown",
   "metadata": {},
   "source": [
    "Lastly, looking at the coefficient for fare, let's take the exponent of that:"
   ]
  },
  {
   "cell_type": "code",
   "execution_count": 129,
   "metadata": {
    "collapsed": false
   },
   "outputs": [
    {
     "name": "stdout",
     "output_type": "stream",
     "text": [
      "1.01127754669\n"
     ]
    }
   ],
   "source": [
    "print np.exp(lr.coef_[0][1])"
   ]
  },
  {
   "cell_type": "markdown",
   "metadata": {},
   "source": [
    "What this means is that holding gender constant, a one unit increase in the fare will result a 1.13% increase in the odds off survival. "
   ]
  },
  {
   "cell_type": "markdown",
   "metadata": {},
   "source": [
    "## References\n",
    "- https://en.wikipedia.org/wiki/Logistic_regression\n",
    "- http://www.ats.ucla.edu/stat/mult_pkg/faq/general/odds_ratio.htm\n",
    "- Raschka, Sebastian. Python Machine Learning. Packt Publishing, 2015, Birmingham, UK."
   ]
  }
 ],
 "metadata": {
  "anaconda-cloud": {},
  "kernelspec": {
   "display_name": "Python [default]",
   "language": "python",
   "name": "python2"
  },
  "language_info": {
   "codemirror_mode": {
    "name": "ipython",
    "version": 2
   },
   "file_extension": ".py",
   "mimetype": "text/x-python",
   "name": "python",
   "nbconvert_exporter": "python",
   "pygments_lexer": "ipython2",
   "version": "2.7.12"
  }
 },
 "nbformat": 4,
 "nbformat_minor": 1
}
