{
 "cells": [
  {
   "cell_type": "markdown",
   "metadata": {},
   "source": [
    "# Logistic Regression\n",
    "\n",
    "Logistic regression, or logit regression, or logit model is a regression model where the dependent variable is categorical. Thus, the logit model is a classification algorithm, and it generally assumes a binary dependent variable or, in the case of multinomial logistic regression, it predicts a multi-class dependent variable. The model can be summarized by the following equation:\n",
    "![](extras/logistic_reg.PNG)\n",
    "\n",
    "Here, the dependent variable is the logit function, which is defined as the log of the odds ratio:\n",
    "![alt](extras/logit.PNG)\n",
    "\n",
    "What this means is that for a given variable x (let's assume it's a dummy variable), w is the log of [the odds of the outcome given presence of variable x over the odds of the outcome given the absence of variable x].\n",
    "\n",
    "The probability that a particular sample belongs to class 1 given the set of features x is determined by the _logistic function_, also known as the Sigmoid function. The Sigmoid function transforms the output so that it is constrained between 0 and 1. It can be represented as:\n",
    "![alt](https://wikimedia.org/api/rest_v1/media/math/render/svg/5e648e1dd38ef843d57777cd34c67465bbca694f)"
   ]
  },
  {
   "cell_type": "markdown",
   "metadata": {},
   "source": [
    "Let's briefly illustrate the Sigmoid function by looking at the range of -7 to 7. "
   ]
  },
  {
   "cell_type": "code",
   "execution_count": 11,
   "metadata": {
    "collapsed": false
   },
   "outputs": [
    {
     "data": {
      "image/png": "[encoded data removed]",
      "text/plain": [
       "<matplotlib.figure.Figure at 0x8eeb940>"
      ]
     },
     "metadata": {},
     "output_type": "display_data"
    }
   ],
   "source": [
    "import matplotlib.pyplot as plt\n",
    "import numpy as np\n",
    "%matplotlib inline\n",
    "\n",
    "def sigmoid(z):\n",
    "    return 1.0 / (1.0 + np.exp(-z))\n",
    "\n",
    "z = np.arange(-7, 7, 0.1)\n",
    "phi_z = sigmoid(z)\n",
    "\n",
    "plt.figure(figsize=(8, 6))\n",
    "plt.plot(z, phi_z)\n",
    "plt.axvline(0.0, color='k')\n",
    "plt.ylim(-0.1, 1.1)\n",
    "plt.xlabel('z')\n",
    "plt.ylabel('$\\phi (z)$')\n",
    "\n",
    "# y axis ticks and gridline\n",
    "plt.yticks([0.0, 0.5, 1.0])\n",
    "ax = plt.gca()\n",
    "ax.yaxis.grid(True)"
   ]
  },
  {
   "cell_type": "markdown",
   "metadata": {},
   "source": [
    "Generally, the algorithm will predict a class of 1 for all probabilities greater than .5 and a class of 0 for probabilities less than .5. \n",
    "\n",
    "Because the model can be expressed as a generalized linear model, for 0 < p < 1, ordinary least squares can suffice, with R-squared as the measure of goodness of fit in the fitting space. When p = 0 or 1, more complex methods are required. The regression coefficients are usually estimated using maximum likelihood estimation. Unlike linear regression with normally distributed residuals, it is not possible to find a closed-form expression for the coefficient values that maximize the likelihood function, so that an iterative process must be used instead."
   ]
  },
  {
   "cell_type": "markdown",
   "metadata": {},
   "source": [
    "## Coding Example\n",
    "\n",
    "In this example, we will use the Titanic dataset in order to predict the survival of the passengers. "
   ]
  },
  {
   "cell_type": "code",
   "execution_count": 1,
   "metadata": {
    "collapsed": true
   },
   "outputs": [],
   "source": [
    "import pandas as pd\n",
    "import numpy as np\n",
    "from sklearn.metrics import confusion_matrix, classification_report\n",
    "from sklearn.model_selection import train_test_split\n",
    "import sys\n",
    "import seaborn as sns\n",
    "import matplotlib.pyplot as plt\n",
    "%matplotlib inline"
   ]
  },
  {
   "cell_type": "code",
   "execution_count": 2,
   "metadata": {
    "collapsed": false
   },
   "outputs": [],
   "source": [
    "data = pd.read_csv('Data/titanic_train.csv')\n",
    "\n",
    "X = pd.concat([pd.get_dummies(data['Sex'], drop_first=True),data['Fare']], axis=1)\n",
    "y = data['Survived']"
   ]
  },
  {
   "cell_type": "code",
   "execution_count": 21,
   "metadata": {
    "collapsed": false
   },
   "outputs": [
    {
     "data": {
      "text/plain": [
       "LogisticRegression(C=100000, class_weight=None, dual=False,\n",
       "          fit_intercept=True, intercept_scaling=1, max_iter=100,\n",
       "          multi_class='ovr', n_jobs=1, penalty='l2', random_state=0,\n",
       "          solver='liblinear', tol=0.0001, verbose=0, warm_start=False)"
      ]
     },
     "execution_count": 21,
     "metadata": {},
     "output_type": "execute_result"
    }
   ],
   "source": [
    "from sklearn.linear_model import LogisticRegression\n",
    "\n",
    "lr = LogisticRegression(C=100000, random_state=0)\n",
    "lr.fit(X, y)"
   ]
  },
  {
   "cell_type": "code",
   "execution_count": 22,
   "metadata": {
    "collapsed": false
   },
   "outputs": [
    {
     "data": {
      "text/plain": [
       "<matplotlib.axes._subplots.AxesSubplot at 0xbcd87f0>"
      ]
     },
     "execution_count": 22,
     "metadata": {},
     "output_type": "execute_result"
    },
    {
     "data": {
      "image/png": "[encoded data removed]",
      "text/plain": [
       "<matplotlib.figure.Figure at 0xbad2048>"
      ]
     },
     "metadata": {},
     "output_type": "display_data"
    }
   ],
   "source": [
    "sns.barplot(x='Survived', y='Fare', data=data)"
   ]
  },
  {
   "cell_type": "code",
   "execution_count": 23,
   "metadata": {
    "collapsed": false
   },
   "outputs": [
    {
     "name": "stdout",
     "output_type": "stream",
     "text": [
      "[[462  87]\n",
      " [107 235]]\n",
      "\n",
      "             precision    recall  f1-score   support\n",
      "\n",
      "          0       0.81      0.84      0.83       549\n",
      "          1       0.73      0.69      0.71       342\n",
      "\n",
      "avg / total       0.78      0.78      0.78       891\n",
      "\n"
     ]
    }
   ],
   "source": [
    "print confusion_matrix(y, lr.predict(X))\n",
    "print '\\n', classification_report(y, lr.predict(X))"
   ]
  },
  {
   "cell_type": "markdown",
   "metadata": {},
   "source": [
    "Let's see how our model approximated the logistic function by ordering and plotting the predicted probabilies for all of our samples:"
   ]
  },
  {
   "cell_type": "code",
   "execution_count": 6,
   "metadata": {
    "collapsed": false,
    "scrolled": false
   },
   "outputs": [
    {
     "data": {
      "text/plain": [
       "<matplotlib.collections.PathCollection at 0xb92b4a8>"
      ]
     },
     "execution_count": 6,
     "metadata": {},
     "output_type": "execute_result"
    },
    {
     "data": {
      "image/png": "[encoded data removed]",
      "text/plain": [
       "<matplotlib.figure.Figure at 0xb67f320>"
      ]
     },
     "metadata": {},
     "output_type": "display_data"
    }
   ],
   "source": [
    "plt.scatter(np.arange(0, len(X)), np.sort(lr.predict_proba(X)[:,1]))"
   ]
  },
  {
   "cell_type": "markdown",
   "metadata": {},
   "source": [
    "## Interpreting the coefficients\n",
    "\n",
    "Let's take a look at the coefficients of the model:"
   ]
  },
  {
   "cell_type": "code",
   "execution_count": 26,
   "metadata": {
    "collapsed": false
   },
   "outputs": [
    {
     "name": "stdout",
     "output_type": "stream",
     "text": [
      "Intercept is 0.647049131192\n",
      "\n",
      "Coefficient for male is -2.42270080344\n",
      "\n",
      "Coefficient for fare is 0.0112143042524\n"
     ]
    }
   ],
   "source": [
    "print 'Intercept is', lr.intercept_[0]\n",
    "print '\\nCoefficient for male is', lr.coef_[0][0]\n",
    "print '\\nCoefficient for fare is', lr.coef_[0][1]"
   ]
  },
  {
   "cell_type": "markdown",
   "metadata": {},
   "source": [
    "The coefficients represent the log of the odds ratio. The intercept can be be interpreted as the log of the odds ratio for a female with a fare of zero. To arrive at the actual odds ratio, we must exponentiate the intercept:"
   ]
  },
  {
   "cell_type": "code",
   "execution_count": 27,
   "metadata": {
    "collapsed": false
   },
   "outputs": [
    {
     "data": {
      "text/plain": [
       "1.9098966510413498"
      ]
     },
     "execution_count": 27,
     "metadata": {},
     "output_type": "execute_result"
    }
   ],
   "source": [
    "np.exp(lr.intercept_[0])"
   ]
  },
  {
   "cell_type": "markdown",
   "metadata": {},
   "source": [
    "What this means is that odds ratio of survival for a female with a fare of zero with respect to not surviving is 1.9 to 1. We can easily caculate the probability of survival using algebra to get: "
   ]
  },
  {
   "cell_type": "code",
   "execution_count": 28,
   "metadata": {
    "collapsed": false
   },
   "outputs": [
    {
     "name": "stdout",
     "output_type": "stream",
     "text": [
      "Probability of survival is 0.656345183379\n"
     ]
    }
   ],
   "source": [
    "x = np.exp(lr.intercept_[0])\n",
    "p = x/(1+x)\n",
    "print 'Probability of survival is', p"
   ]
  },
  {
   "cell_type": "markdown",
   "metadata": {},
   "source": [
    "Similarly, we can arrive at this number by using our logistic function:"
   ]
  },
  {
   "cell_type": "code",
   "execution_count": 29,
   "metadata": {
    "collapsed": false
   },
   "outputs": [
    {
     "name": "stdout",
     "output_type": "stream",
     "text": [
      "Probability of survival is 0.656345183379\n"
     ]
    }
   ],
   "source": [
    "print 'Probability of survival is', np.exp(lr.intercept_[0])/(np.exp(lr.intercept_[0])+1)"
   ]
  },
  {
   "cell_type": "markdown",
   "metadata": {},
   "source": [
    "Similarly, we can interpret the coefficient for male as the log of the odds ratio for males surviving over the odds of females surviving while holding fare constant. Doing the math, we get:"
   ]
  },
  {
   "cell_type": "code",
   "execution_count": 30,
   "metadata": {
    "collapsed": false
   },
   "outputs": [
    {
     "name": "stdout",
     "output_type": "stream",
     "text": [
      "The odds ratio for survival of males over survival of females is 0.0886817816695\n"
     ]
    }
   ],
   "source": [
    "print 'The odds ratio for survival of males over survival of females is', np.exp(lr.coef_[0][0])"
   ]
  },
  {
   "cell_type": "markdown",
   "metadata": {},
   "source": [
    "Thus, we can say that holding fare constant, the odds of a male surviving over a female surviving is .089. In terms of percent change, we can say that the odds for males surviving are, (.089-1)\\*(100) = -91.1%, meaning 91.1% lower than those of a female."
   ]
  },
  {
   "cell_type": "markdown",
   "metadata": {},
   "source": [
    "Meanwhile, if we want to know the overall odds of a male surviving (not compared to a female), we would have to take into account the intercept:"
   ]
  },
  {
   "cell_type": "code",
   "execution_count": 31,
   "metadata": {
    "collapsed": false
   },
   "outputs": [
    {
     "data": {
      "text/plain": [
       "array([ 0.16937304])"
      ]
     },
     "execution_count": 31,
     "metadata": {},
     "output_type": "execute_result"
    }
   ],
   "source": [
    "np.exp(lr.coef_[0][0]+lr.intercept_)"
   ]
  },
  {
   "cell_type": "markdown",
   "metadata": {},
   "source": [
    "Meaning that the probability of a male surviving is:"
   ]
  },
  {
   "cell_type": "code",
   "execution_count": 32,
   "metadata": {
    "collapsed": false
   },
   "outputs": [
    {
     "name": "stdout",
     "output_type": "stream",
     "text": [
      "Probability of survival is [ 0.1448409]\n"
     ]
    }
   ],
   "source": [
    "x = np.exp(lr.coef_[0][0]+lr.intercept_)\n",
    "p = x/(1+x)\n",
    "print 'Probability of survival is', p"
   ]
  },
  {
   "cell_type": "code",
   "execution_count": 36,
   "metadata": {
    "collapsed": false
   },
   "outputs": [
    {
     "data": {
      "text/plain": [
       "0.18890814558058924"
      ]
     },
     "execution_count": 36,
     "metadata": {},
     "output_type": "execute_result"
    }
   ],
   "source": [
    "y[X['male']==1].mean()"
   ]
  },
  {
   "cell_type": "code",
   "execution_count": 34,
   "metadata": {
    "collapsed": false
   },
   "outputs": [
    {
     "data": {
      "text/plain": [
       "array([ 0.26176225])"
      ]
     },
     "execution_count": 34,
     "metadata": {},
     "output_type": "execute_result"
    }
   ],
   "source": [
    "np.exp(lr.coef_[0][0]+lr.intercept_)/lr.intercept_"
   ]
  },
  {
   "cell_type": "code",
   "execution_count": 33,
   "metadata": {
    "collapsed": false
   },
   "outputs": [
    {
     "data": {
      "text/plain": [
       "0.2545800760184765"
      ]
     },
     "execution_count": 33,
     "metadata": {},
     "output_type": "execute_result"
    }
   ],
   "source": [
    "y[X['male']==1].mean()/y[X['male']==0].mean()"
   ]
  },
  {
   "cell_type": "markdown",
   "metadata": {},
   "source": [
    "Lastly, looking at the coefficient for fare, let's take the exponent of that:"
   ]
  },
  {
   "cell_type": "code",
   "execution_count": 35,
   "metadata": {
    "collapsed": false
   },
   "outputs": [
    {
     "name": "stdout",
     "output_type": "stream",
     "text": [
      "1.01127742028\n"
     ]
    }
   ],
   "source": [
    "print np.exp(lr.coef_[0][1])"
   ]
  },
  {
   "cell_type": "markdown",
   "metadata": {},
   "source": [
    "What this means is that holding gender constant, a one unit increase in the fare will result a 1.13% increase in the odds off survival. "
   ]
  },
  {
   "cell_type": "markdown",
   "metadata": {},
   "source": [
    "## References\n",
    "- https://en.wikipedia.org/wiki/Logistic_regression\n",
    "- http://www.ats.ucla.edu/stat/mult_pkg/faq/general/odds_ratio.htm\n",
    "- Raschka, Sebastian. Python Machine Learning. Packt Publishing, 2015, Birmingham, UK."
   ]
  },
  {
   "cell_type": "code",
   "execution_count": 91,
   "metadata": {
    "collapsed": false
   },
   "outputs": [],
   "source": [
    "data = pd.read_csv('Data/titanic_train.csv')\n",
    "\n",
    "X = pd.get_dummies(data['Sex'], drop_first=True)\n",
    "y = data['Survived']"
   ]
  },
  {
   "cell_type": "code",
   "execution_count": 92,
   "metadata": {
    "collapsed": false
   },
   "outputs": [
    {
     "data": {
      "text/plain": [
       "LogisticRegression(C=100000, class_weight=None, dual=False,\n",
       "          fit_intercept=True, intercept_scaling=1, max_iter=100,\n",
       "          multi_class='ovr', n_jobs=1, penalty='l2', random_state=0,\n",
       "          solver='liblinear', tol=0.0001, verbose=0, warm_start=False)"
      ]
     },
     "execution_count": 92,
     "metadata": {},
     "output_type": "execute_result"
    }
   ],
   "source": [
    "from sklearn.linear_model import LogisticRegression\n",
    "\n",
    "lr = LogisticRegression(C=100000, random_state=0)\n",
    "lr.fit(X, y)"
   ]
  },
  {
   "cell_type": "code",
   "execution_count": 93,
   "metadata": {
    "collapsed": false
   },
   "outputs": [
    {
     "data": {
      "text/plain": [
       "<matplotlib.axes._subplots.AxesSubplot at 0x10bd0ba8>"
      ]
     },
     "execution_count": 93,
     "metadata": {},
     "output_type": "execute_result"
    },
    {
     "data": {
      "image/png": "[encoded data removed]",
      "text/plain": [
       "<matplotlib.figure.Figure at 0x232a860>"
      ]
     },
     "metadata": {},
     "output_type": "display_data"
    }
   ],
   "source": [
    "sns.barplot(x='Survived', y='Fare', data=data)"
   ]
  },
  {
   "cell_type": "code",
   "execution_count": 94,
   "metadata": {
    "collapsed": false
   },
   "outputs": [
    {
     "name": "stdout",
     "output_type": "stream",
     "text": [
      "[[468  81]\n",
      " [109 233]]\n",
      "\n",
      "             precision    recall  f1-score   support\n",
      "\n",
      "          0       0.81      0.85      0.83       549\n",
      "          1       0.74      0.68      0.71       342\n",
      "\n",
      "avg / total       0.78      0.79      0.78       891\n",
      "\n"
     ]
    }
   ],
   "source": [
    "print confusion_matrix(y, lr.predict(X))\n",
    "print '\\n', classification_report(y, lr.predict(X))"
   ]
  },
  {
   "cell_type": "markdown",
   "metadata": {},
   "source": [
    "Let's see how our model approximated the logistic function by ordering and plotting the predicted probabilies for all of our samples:"
   ]
  },
  {
   "cell_type": "code",
   "execution_count": 95,
   "metadata": {
    "collapsed": false,
    "scrolled": false
   },
   "outputs": [
    {
     "data": {
      "text/plain": [
       "<matplotlib.collections.PathCollection at 0x11139cc0>"
      ]
     },
     "execution_count": 95,
     "metadata": {},
     "output_type": "execute_result"
    },
    {
     "data": {
      "image/png": "[encoded data removed]",
      "text/plain": [
       "<matplotlib.figure.Figure at 0xf0a6ef0>"
      ]
     },
     "metadata": {},
     "output_type": "display_data"
    }
   ],
   "source": [
    "plt.scatter(np.arange(0, len(X)), np.sort(lr.predict_proba(X)[:,1]))"
   ]
  },
  {
   "cell_type": "markdown",
   "metadata": {},
   "source": [
    "## Interpreting the coefficients\n",
    "\n",
    "Let's take a look at the coefficients of the model:"
   ]
  },
  {
   "cell_type": "code",
   "execution_count": 96,
   "metadata": {
    "collapsed": false
   },
   "outputs": [
    {
     "name": "stdout",
     "output_type": "stream",
     "text": [
      "Intercept is 1.05658793992\n",
      "\n",
      "Coefficient for male is -2.51365958763\n"
     ]
    }
   ],
   "source": [
    "print 'Intercept is', lr.intercept_[0]\n",
    "print '\\nCoefficient for male is', lr.coef_[0][0]"
   ]
  },
  {
   "cell_type": "markdown",
   "metadata": {},
   "source": [
    "The coefficients represent the log of the odds ratio. The intercept can be be interpreted as the log of the odds ratio for a female with a fare of zero. To arrive at the actual odds ratio, we must exponentiate the intercept:"
   ]
  },
  {
   "cell_type": "code",
   "execution_count": 97,
   "metadata": {
    "collapsed": false
   },
   "outputs": [
    {
     "data": {
      "text/plain": [
       "2.876539300732023"
      ]
     },
     "execution_count": 97,
     "metadata": {},
     "output_type": "execute_result"
    }
   ],
   "source": [
    "np.exp(lr.intercept_[0])"
   ]
  },
  {
   "cell_type": "markdown",
   "metadata": {},
   "source": [
    "What this means is that odds ratio of survival for a female with a fare of zero with respect to not surviving is 1.9 to 1. We can easily caculate the probability of survival using algebra to get: "
   ]
  },
  {
   "cell_type": "code",
   "execution_count": 98,
   "metadata": {
    "collapsed": false
   },
   "outputs": [
    {
     "name": "stdout",
     "output_type": "stream",
     "text": [
      "Probability of survival is 0.742037956429\n"
     ]
    }
   ],
   "source": [
    "x = np.exp(lr.intercept_[0])\n",
    "p = x/(1+x)\n",
    "print 'Probability of survival is', p"
   ]
  },
  {
   "cell_type": "markdown",
   "metadata": {},
   "source": [
    "Similarly, we can arrive at this number by using our logistic function:"
   ]
  },
  {
   "cell_type": "code",
   "execution_count": 99,
   "metadata": {
    "collapsed": false
   },
   "outputs": [
    {
     "name": "stdout",
     "output_type": "stream",
     "text": [
      "Probability of survival is 0.742037956429\n"
     ]
    }
   ],
   "source": [
    "print 'Probability of survival is', np.exp(lr.intercept_[0])/(np.exp(lr.intercept_[0])+1)"
   ]
  },
  {
   "cell_type": "code",
   "execution_count": 100,
   "metadata": {
    "collapsed": false
   },
   "outputs": [
    {
     "data": {
      "text/plain": [
       "0.7420382165605095"
      ]
     },
     "execution_count": 100,
     "metadata": {},
     "output_type": "execute_result"
    }
   ],
   "source": [
    "y[X['male']==0].mean()"
   ]
  },
  {
   "cell_type": "code",
   "execution_count": 101,
   "metadata": {
    "collapsed": false
   },
   "outputs": [
    {
     "data": {
      "text/plain": [
       "-1.3681398519364032"
      ]
     },
     "execution_count": 101,
     "metadata": {},
     "output_type": "execute_result"
    }
   ],
   "source": [
    "np.log(y[X['male']==1].mean()/y[X['male']==0].mean())"
   ]
  },
  {
   "cell_type": "markdown",
   "metadata": {},
   "source": [
    "Similarly, we can interpret the coefficient for male as the log of the odds ratio for males surviving over the odds of females surviving while holding fare constant. Doing the math, we get:"
   ]
  },
  {
   "cell_type": "code",
   "execution_count": 102,
   "metadata": {
    "collapsed": false
   },
   "outputs": [
    {
     "name": "stdout",
     "output_type": "stream",
     "text": [
      "The odds ratio for survival of males over survival of females is 0.0809713745301\n"
     ]
    }
   ],
   "source": [
    "print 'The odds ratio for survival of males over survival of females is', np.exp(lr.coef_[0][0])"
   ]
  },
  {
   "cell_type": "markdown",
   "metadata": {},
   "source": [
    "Thus, we can say that holding fare constant, the odds of a male surviving over a female surviving is .089. In terms of percent change, we can say that the odds for males surviving are, (.089-1)\\*(100) = -91.1%, meaning 91.1% lower than those of a female."
   ]
  },
  {
   "cell_type": "markdown",
   "metadata": {},
   "source": [
    "Meanwhile, if we want to know the overall odds of a male surviving (not compared to a female), we would have to take into account the intercept:"
   ]
  },
  {
   "cell_type": "code",
   "execution_count": 103,
   "metadata": {
    "collapsed": false
   },
   "outputs": [
    {
     "data": {
      "text/plain": [
       "array([ 0.23291734])"
      ]
     },
     "execution_count": 103,
     "metadata": {},
     "output_type": "execute_result"
    }
   ],
   "source": [
    "np.exp(lr.coef_[0][0]+lr.intercept_)"
   ]
  },
  {
   "cell_type": "code",
   "execution_count": 104,
   "metadata": {
    "collapsed": false
   },
   "outputs": [
    {
     "data": {
      "text/plain": [
       "0.23290598290598288"
      ]
     },
     "execution_count": 104,
     "metadata": {},
     "output_type": "execute_result"
    }
   ],
   "source": [
    "(y[X['male']==1].mean()/(1-y[X['male']==1].mean()))"
   ]
  },
  {
   "cell_type": "markdown",
   "metadata": {},
   "source": [
    "Meaning that the probability of a male surviving is:"
   ]
  },
  {
   "cell_type": "code",
   "execution_count": 105,
   "metadata": {
    "collapsed": false
   },
   "outputs": [
    {
     "name": "stdout",
     "output_type": "stream",
     "text": [
      "Probability of survival is [ 0.18891562]\n"
     ]
    }
   ],
   "source": [
    "x = np.exp(lr.coef_[0][0]+lr.intercept_)\n",
    "p = x/(1+x)\n",
    "print 'Probability of survival is', p"
   ]
  },
  {
   "cell_type": "markdown",
   "metadata": {},
   "source": [
    "This matches what we see in the dataset:"
   ]
  },
  {
   "cell_type": "code",
   "execution_count": 106,
   "metadata": {
    "collapsed": false
   },
   "outputs": [
    {
     "data": {
      "text/plain": [
       "0.18890814558058924"
      ]
     },
     "execution_count": 106,
     "metadata": {},
     "output_type": "execute_result"
    }
   ],
   "source": [
    "y[X['male']==1].mean()"
   ]
  },
  {
   "cell_type": "markdown",
   "metadata": {},
   "source": [
    "The male coefficient can be interpreted as the log odds ratio of male survival compared to females. The odds ratio is:"
   ]
  },
  {
   "cell_type": "code",
   "execution_count": 107,
   "metadata": {
    "collapsed": false
   },
   "outputs": [
    {
     "data": {
      "text/plain": [
       "0.08097137453014186"
      ]
     },
     "execution_count": 107,
     "metadata": {},
     "output_type": "execute_result"
    }
   ],
   "source": [
    "np.exp(lr.coef_[0][0])"
   ]
  },
  {
   "cell_type": "markdown",
   "metadata": {},
   "source": [
    "We can confirm this if we compare the odds of male survival over the odds of female survival using the coefficients):"
   ]
  },
  {
   "cell_type": "code",
   "execution_count": 63,
   "metadata": {
    "collapsed": false
   },
   "outputs": [
    {
     "data": {
      "text/plain": [
       "array([ 0.08097137])"
      ]
     },
     "execution_count": 63,
     "metadata": {},
     "output_type": "execute_result"
    }
   ],
   "source": [
    "np.exp(lr.coef_[0][0]+lr.intercept_)/np.exp(lr.intercept_)"
   ]
  },
  {
   "cell_type": "markdown",
   "metadata": {},
   "source": [
    "We can confirm this by looking at the dataset:"
   ]
  },
  {
   "cell_type": "code",
   "execution_count": 68,
   "metadata": {
    "collapsed": false,
    "scrolled": true
   },
   "outputs": [
    {
     "data": {
      "text/plain": [
       "0.08096731594585674"
      ]
     },
     "execution_count": 68,
     "metadata": {},
     "output_type": "execute_result"
    }
   ],
   "source": [
    "(y[X['male']==1].mean()/(1-y[X['male']==1].mean()))/(y[X['male']==0].mean()/(1-y[X['male']==0].mean()))"
   ]
  },
  {
   "cell_type": "code",
   "execution_count": 108,
   "metadata": {
    "collapsed": false
   },
   "outputs": [
    {
     "data": {
      "text/plain": [
       "2.876543209876542"
      ]
     },
     "execution_count": 108,
     "metadata": {},
     "output_type": "execute_result"
    }
   ],
   "source": [
    "(y[X['male']==0].mean()/(1-y[X['male']==0].mean()))"
   ]
  },
  {
   "cell_type": "markdown",
   "metadata": {},
   "source": [
    "### Logistic Regression from scratch"
   ]
  },
  {
   "cell_type": "code",
   "execution_count": 89,
   "metadata": {
    "collapsed": false,
    "scrolled": true
   },
   "outputs": [
    {
     "name": "stdout",
     "output_type": "stream",
     "text": [
      "-938.96787634\n",
      "-459.32927145\n",
      "-458.904469183\n",
      "-458.901977996\n",
      "-458.901962585\n",
      "-458.901962489\n",
      "-458.901962489\n",
      "-458.901962489\n",
      "-458.901962489\n",
      "-458.901962489\n",
      "[<matplotlib.lines.Line2D object at 0x0000000010D606D8>]\n",
      "[-2.51370971  1.0565893 ]\n"
     ]
    },
    {
     "data": {
      "image/png": "[encoded data removed]",
      "text/plain": [
       "<matplotlib.figure.Figure at 0xce77d30>"
      ]
     },
     "metadata": {},
     "output_type": "display_data"
    }
   ],
   "source": [
    "# define our X and Y:\n",
    "data = pd.read_csv('Data/titanic_train.csv')\n",
    "\n",
    "X = pd.get_dummies(data['Sex'], drop_first=True)\n",
    "y = data['Survived']\n",
    "\n",
    "# add a column of ones to X for the constant:\n",
    "X['constant'] = 1\n",
    "\n",
    "# define learning rate, # of iterations, N, D\n",
    "lr = .001\n",
    "num_iter = 1000\n",
    "N = len(y)\n",
    "D = X.shape[1]\n",
    "\n",
    "# initialize weights\n",
    "w = np.random.random(D)\n",
    "\n",
    "# define sigmoid\n",
    "def sigmoid(x):\n",
    "    return 1/(1+np.exp(-x))\n",
    "\n",
    "# define the cost function\n",
    "def cost(y, yhat):\n",
    "    E = 0\n",
    "    for i in range(N):\n",
    "        if y[i] == 1:\n",
    "            E += np.log(yhat[i])\n",
    "        else:\n",
    "            E += np.log(1-yhat[i])\n",
    "    return E\n",
    "            \n",
    "# keep track of objective maximization\n",
    "objective = []\n",
    "\n",
    "# training the weights\n",
    "for i in range(num_iter):\n",
    "    yhat = sigmoid(X.dot(w))\n",
    "    \n",
    "    objective.append(cost(y, yhat))\n",
    "    \n",
    "    w += lr*X.T.dot(y-yhat)\n",
    "    \n",
    "    if i % 100 == 0:\n",
    "        print cost(y, yhat)\n",
    "        \n",
    "print plt.plot(objective)\n",
    "print w"
   ]
  },
  {
   "cell_type": "markdown",
   "metadata": {},
   "source": [
    "We can see that we obtain the same results as the sklearn model. :) "
   ]
  }
 ],
 "metadata": {
  "anaconda-cloud": {},
  "kernelspec": {
   "display_name": "Python [default]",
   "language": "python",
   "name": "python2"
  },
  "language_info": {
   "codemirror_mode": {
    "name": "ipython",
    "version": 2
   },
   "file_extension": ".py",
   "mimetype": "text/x-python",
   "name": "python",
   "nbconvert_exporter": "python",
   "pygments_lexer": "ipython2",
   "version": "2.7.12"
  }
 },
 "nbformat": 4,
 "nbformat_minor": 1
}
