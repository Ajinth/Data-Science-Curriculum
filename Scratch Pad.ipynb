{
 "cells": [
  {
   "cell_type": "code",
   "execution_count": 10,
   "metadata": {
    "collapsed": true
   },
   "outputs": [],
   "source": [
    "from scipy.stats import beta\n",
    "import numpy as np\n",
    "import matplotlib.pyplot as plt\n",
    "%matplotlib inline"
   ]
  },
  {
   "cell_type": "code",
   "execution_count": 2,
   "metadata": {
    "collapsed": true
   },
   "outputs": [],
   "source": [
    "a = 2.5\n",
    "b = .6"
   ]
  },
  {
   "cell_type": "code",
   "execution_count": 8,
   "metadata": {
    "collapsed": false
   },
   "outputs": [],
   "source": [
    "x = np.linspace(beta.ppf(.01, a, b), beta.ppf(.99, a, b), 100)"
   ]
  },
  {
   "cell_type": "code",
   "execution_count": 15,
   "metadata": {
    "collapsed": false
   },
   "outputs": [
    {
     "data": {
      "text/plain": [
       "[<matplotlib.lines.Line2D at 0x93cb080>]"
      ]
     },
     "execution_count": 15,
     "metadata": {},
     "output_type": "execute_result"
    },
    {
     "data": {
      "image/png": "[encoded data removed]",
      "text/plain": [
       "<matplotlib.figure.Figure at 0x93cb0b8>"
      ]
     },
     "metadata": {},
     "output_type": "display_data"
    }
   ],
   "source": [
    "fig, ax = plt.subplots(1, 1)\n",
    "ax.plot(x, beta.pdf(x, a, b))"
   ]
  },
  {
   "cell_type": "code",
   "execution_count": 16,
   "metadata": {
    "collapsed": true
   },
   "outputs": [],
   "source": [
    "r = beta.rvs(a, b, size = 1000)"
   ]
  },
  {
   "cell_type": "code",
   "execution_count": 18,
   "metadata": {
    "collapsed": false
   },
   "outputs": [
    {
     "data": {
      "text/plain": [
       "(array([   1.,    1.,    0.,    0.,    1.,    1.,    2.,    2.,    2.,\n",
       "           3.,    1.,    4.,    5.,    4.,    2.,    3.,    5.,    8.,\n",
       "          10.,    5.,   10.,    4.,    8.,   10.,   12.,    7.,   14.,\n",
       "          16.,   11.,   21.,   18.,   14.,    8.,   21.,   17.,   21.,\n",
       "          18.,   25.,   22.,   29.,   28.,   25.,   43.,   50.,   49.,\n",
       "          53.,   62.,   63.,   93.,  168.]),\n",
       " array([ 0.04038625,  0.05957852,  0.07877079,  0.09796307,  0.11715534,\n",
       "         0.13634761,  0.15553989,  0.17473216,  0.19392443,  0.21311671,\n",
       "         0.23230898,  0.25150125,  0.27069353,  0.2898858 ,  0.30907807,\n",
       "         0.32827035,  0.34746262,  0.3666549 ,  0.38584717,  0.40503944,\n",
       "         0.42423172,  0.44342399,  0.46261626,  0.48180854,  0.50100081,\n",
       "         0.52019308,  0.53938536,  0.55857763,  0.5777699 ,  0.59696218,\n",
       "         0.61615445,  0.63534672,  0.654539  ,  0.67373127,  0.69292354,\n",
       "         0.71211582,  0.73130809,  0.75050036,  0.76969264,  0.78888491,\n",
       "         0.80807718,  0.82726946,  0.84646173,  0.865654  ,  0.88484628,\n",
       "         0.90403855,  0.92323083,  0.9424231 ,  0.96161537,  0.98080765,\n",
       "         0.99999992]),\n",
       " <a list of 50 Patch objects>)"
      ]
     },
     "execution_count": 18,
     "metadata": {},
     "output_type": "execute_result"
    },
    {
     "data": {
      "image/png": "[encoded data removed]",
      "text/plain": [
       "<matplotlib.figure.Figure at 0x986b2b0>"
      ]
     },
     "metadata": {},
     "output_type": "display_data"
    }
   ],
   "source": [
    "plt.hist(r, bins=50)"
   ]
  },
  {
   "cell_type": "code",
   "execution_count": 22,
   "metadata": {
    "collapsed": false
   },
   "outputs": [
    {
     "data": {
      "text/plain": [
       "(array([  1.,   1.,   0.,   0.,   2.,   3.,   2.,   5.,   6.,   5.,   3.,\n",
       "          5.,  14.,  22.,  18.,  19.,  21.,  22.,  38.,  40.,  43.,  38.,\n",
       "         34.,  47.,  56.,  48.,  47.,  47.,  40.,  57.,  44.,  44.,  48.,\n",
       "         31.,  23.,  19.,  26.,  25.,  14.,   9.,  13.,   8.,   4.,   4.,\n",
       "          2.,   0.,   1.,   0.,   0.,   1.]),\n",
       " array([ 0.71848022,  0.72187863,  0.72527705,  0.72867546,  0.73207388,\n",
       "         0.73547229,  0.73887071,  0.74226912,  0.74566754,  0.74906595,\n",
       "         0.75246437,  0.75586278,  0.7592612 ,  0.76265961,  0.76605803,\n",
       "         0.76945644,  0.77285486,  0.77625327,  0.77965169,  0.7830501 ,\n",
       "         0.78644852,  0.78984693,  0.79324535,  0.79664376,  0.80004218,\n",
       "         0.80344059,  0.80683901,  0.81023742,  0.81363584,  0.81703425,\n",
       "         0.82043267,  0.82383108,  0.8272295 ,  0.83062791,  0.83402633,\n",
       "         0.83742474,  0.84082316,  0.84422157,  0.84761999,  0.8510184 ,\n",
       "         0.85441682,  0.85781523,  0.86121365,  0.86461206,  0.86801048,\n",
       "         0.87140889,  0.87480731,  0.87820572,  0.88160414,  0.88500255,\n",
       "         0.88840097]),\n",
       " <a list of 50 Patch objects>)"
      ]
     },
     "execution_count": 22,
     "metadata": {},
     "output_type": "execute_result"
    },
    {
     "data": {
      "image/png": "[encoded data removed]",
      "text/plain": [
       "<matplotlib.figure.Figure at 0x9e97748>"
      ]
     },
     "metadata": {},
     "output_type": "display_data"
    }
   ],
   "source": [
    "means = []\n",
    "for i in range(1000):\n",
    "    means.append((beta.rvs(a, b, size = 50)).mean())\n",
    "\n",
    "plt.hist(means, bins = 50)"
   ]
  },
  {
   "cell_type": "code",
   "execution_count": 27,
   "metadata": {
    "collapsed": false
   },
   "outputs": [
    {
     "data": {
      "text/plain": [
       "array([   0,    2,    4,    6,    8,   10,   12,   14,   16,   18,   20,\n",
       "         22,   24,   26,   28,   30,   32,   34,   36,   38,   40,   42,\n",
       "         44,   46,   48,   50,   52,   54,   56,   58,   60,   62,   64,\n",
       "         66,   68,   70,   72,   74,   76,   78,   80,   82,   84,   86,\n",
       "         88,   90,   92,   94,   96,   98,  100,  102,  104,  106,  108,\n",
       "        110,  112,  114,  116,  118,  120,  122,  124,  126,  128,  130,\n",
       "        132,  134,  136,  138,  140,  142,  144,  146,  148,  150,  152,\n",
       "        154,  156,  158,  160,  162,  164,  166,  168,  170,  172,  174,\n",
       "        176,  178,  180,  182,  184,  186,  188,  190,  192,  194,  196,\n",
       "        198,  200,  202,  204,  206,  208,  210,  212,  214,  216,  218,\n",
       "        220,  222,  224,  226,  228,  230,  232,  234,  236,  238,  240,\n",
       "        242,  244,  246,  248,  250,  252,  254,  256,  258,  260,  262,\n",
       "        264,  266,  268,  270,  272,  274,  276,  278,  280,  282,  284,\n",
       "        286,  288,  290,  292,  294,  296,  298,  300,  302,  304,  306,\n",
       "        308,  310,  312,  314,  316,  318,  320,  322,  324,  326,  328,\n",
       "        330,  332,  334,  336,  338,  340,  342,  344,  346,  348,  350,\n",
       "        352,  354,  356,  358,  360,  362,  364,  366,  368,  370,  372,\n",
       "        374,  376,  378,  380,  382,  384,  386,  388,  390,  392,  394,\n",
       "        396,  398,  400,  402,  404,  406,  408,  410,  412,  414,  416,\n",
       "        418,  420,  422,  424,  426,  428,  430,  432,  434,  436,  438,\n",
       "        440,  442,  444,  446,  448,  450,  452,  454,  456,  458,  460,\n",
       "        462,  464,  466,  468,  470,  472,  474,  476,  478,  480,  482,\n",
       "        484,  486,  488,  490,  492,  494,  496,  498,  500,  502,  504,\n",
       "        506,  508,  510,  512,  514,  516,  518,  520,  522,  524,  526,\n",
       "        528,  530,  532,  534,  536,  538,  540,  542,  544,  546,  548,\n",
       "        550,  552,  554,  556,  558,  560,  562,  564,  566,  568,  570,\n",
       "        572,  574,  576,  578,  580,  582,  584,  586,  588,  590,  592,\n",
       "        594,  596,  598,  600,  602,  604,  606,  608,  610,  612,  614,\n",
       "        616,  618,  620,  622,  624,  626,  628,  630,  632,  634,  636,\n",
       "        638,  640,  642,  644,  646,  648,  650,  652,  654,  656,  658,\n",
       "        660,  662,  664,  666,  668,  670,  672,  674,  676,  678,  680,\n",
       "        682,  684,  686,  688,  690,  692,  694,  696,  698,  700,  702,\n",
       "        704,  706,  708,  710,  712,  714,  716,  718,  720,  722,  724,\n",
       "        726,  728,  730,  732,  734,  736,  738,  740,  742,  744,  746,\n",
       "        748,  750,  752,  754,  756,  758,  760,  762,  764,  766,  768,\n",
       "        770,  772,  774,  776,  778,  780,  782,  784,  786,  788,  790,\n",
       "        792,  794,  796,  798,  800,  802,  804,  806,  808,  810,  812,\n",
       "        814,  816,  818,  820,  822,  824,  826,  828,  830,  832,  834,\n",
       "        836,  838,  840,  842,  844,  846,  848,  850,  852,  854,  856,\n",
       "        858,  860,  862,  864,  866,  868,  870,  872,  874,  876,  878,\n",
       "        880,  882,  884,  886,  888,  890,  892,  894,  896,  898,  900,\n",
       "        902,  904,  906,  908,  910,  912,  914,  916,  918,  920,  922,\n",
       "        924,  926,  928,  930,  932,  934,  936,  938,  940,  942,  944,\n",
       "        946,  948,  950,  952,  954,  956,  958,  960,  962,  964,  966,\n",
       "        968,  970,  972,  974,  976,  978,  980,  982,  984,  986,  988,\n",
       "        990,  992,  994,  996,  998, 1000, 1002, 1004, 1006, 1008, 1010,\n",
       "       1012, 1014, 1016, 1018, 1020, 1022, 1024, 1026, 1028, 1030, 1032,\n",
       "       1034, 1036, 1038, 1040, 1042, 1044, 1046, 1048, 1050, 1052, 1054,\n",
       "       1056, 1058, 1060, 1062, 1064, 1066, 1068, 1070, 1072, 1074, 1076,\n",
       "       1078, 1080, 1082, 1084, 1086, 1088, 1090, 1092, 1094, 1096, 1098,\n",
       "       1100, 1102, 1104, 1106, 1108, 1110, 1112, 1114, 1116, 1118, 1120,\n",
       "       1122, 1124, 1126, 1128, 1130, 1132, 1134, 1136, 1138, 1140, 1142,\n",
       "       1144, 1146, 1148, 1150, 1152, 1154, 1156, 1158, 1160, 1162, 1164,\n",
       "       1166, 1168, 1170, 1172, 1174, 1176, 1178, 1180, 1182, 1184, 1186,\n",
       "       1188, 1190, 1192, 1194, 1196, 1198, 1200, 1202, 1204, 1206, 1208,\n",
       "       1210, 1212, 1214, 1216, 1218, 1220, 1222, 1224, 1226, 1228, 1230,\n",
       "       1232, 1234, 1236, 1238, 1240, 1242, 1244, 1246, 1248, 1250, 1252,\n",
       "       1254, 1256, 1258, 1260, 1262, 1264, 1266, 1268, 1270, 1272, 1274,\n",
       "       1276, 1278, 1280, 1282, 1284, 1286, 1288, 1290, 1292, 1294, 1296,\n",
       "       1298, 1300, 1302, 1304, 1306, 1308, 1310, 1312, 1314, 1316, 1318,\n",
       "       1320, 1322, 1324, 1326, 1328, 1330, 1332, 1334, 1336, 1338, 1340,\n",
       "       1342, 1344, 1346, 1348, 1350, 1352, 1354, 1356, 1358, 1360, 1362,\n",
       "       1364, 1366, 1368, 1370, 1372, 1374, 1376, 1378, 1380, 1382, 1384,\n",
       "       1386, 1388, 1390, 1392, 1394, 1396, 1398, 1400, 1402, 1404, 1406,\n",
       "       1408, 1410, 1412, 1414, 1416, 1418, 1420, 1422, 1424, 1426, 1428,\n",
       "       1430, 1432, 1434, 1436, 1438, 1440, 1442, 1444, 1446, 1448, 1450,\n",
       "       1452, 1454, 1456, 1458, 1460, 1462, 1464, 1466, 1468, 1470, 1472,\n",
       "       1474, 1476, 1478, 1480, 1482, 1484, 1486, 1488, 1490, 1492, 1494,\n",
       "       1496, 1498, 1500, 1502, 1504, 1506, 1508, 1510, 1512, 1514, 1516,\n",
       "       1518, 1520, 1522, 1524, 1526, 1528, 1530, 1532, 1534, 1536, 1538,\n",
       "       1540, 1542, 1544, 1546, 1548, 1550, 1552, 1554, 1556, 1558, 1560,\n",
       "       1562, 1564, 1566, 1568, 1570, 1572, 1574, 1576, 1578, 1580, 1582,\n",
       "       1584, 1586, 1588, 1590, 1592, 1594, 1596, 1598, 1600, 1602, 1604,\n",
       "       1606, 1608, 1610, 1612, 1614, 1616, 1618, 1620, 1622, 1624, 1626,\n",
       "       1628, 1630, 1632, 1634, 1636, 1638, 1640, 1642, 1644, 1646, 1648,\n",
       "       1650, 1652, 1654, 1656, 1658, 1660, 1662, 1664, 1666, 1668, 1670,\n",
       "       1672, 1674, 1676, 1678, 1680, 1682, 1684, 1686, 1688, 1690, 1692,\n",
       "       1694, 1696, 1698, 1700, 1702, 1704, 1706, 1708, 1710, 1712, 1714,\n",
       "       1716, 1718, 1720, 1722, 1724, 1726, 1728, 1730, 1732, 1734, 1736,\n",
       "       1738, 1740, 1742, 1744, 1746, 1748, 1750, 1752, 1754, 1756, 1758,\n",
       "       1760, 1762, 1764, 1766, 1768, 1770, 1772, 1774, 1776, 1778, 1780,\n",
       "       1782, 1784, 1786, 1788, 1790, 1792, 1794, 1796, 1798, 1800, 1802,\n",
       "       1804, 1806, 1808, 1810, 1812, 1814, 1816, 1818, 1820, 1822, 1824,\n",
       "       1826, 1828, 1830, 1832, 1834, 1836, 1838, 1840, 1842, 1844, 1846,\n",
       "       1848, 1850, 1852, 1854, 1856, 1858, 1860, 1862, 1864, 1866, 1868,\n",
       "       1870, 1872, 1874, 1876, 1878, 1880, 1882, 1884, 1886, 1888, 1890,\n",
       "       1892, 1894, 1896, 1898, 1900, 1902, 1904, 1906, 1908, 1910, 1912,\n",
       "       1914, 1916, 1918, 1920, 1922, 1924, 1926, 1928, 1930, 1932, 1934,\n",
       "       1936, 1938, 1940, 1942, 1944, 1946, 1948, 1950, 1952, 1954, 1956,\n",
       "       1958, 1960, 1962, 1964, 1966, 1968, 1970, 1972, 1974, 1976, 1978,\n",
       "       1980, 1982, 1984, 1986, 1988, 1990, 1992, 1994, 1996, 1998])"
      ]
     },
     "execution_count": 27,
     "metadata": {},
     "output_type": "execute_result"
    }
   ],
   "source": [
    "np.multiply(range(1000), 2)"
   ]
  },
  {
   "cell_type": "code",
   "execution_count": 64,
   "metadata": {
    "collapsed": false
   },
   "outputs": [],
   "source": [
    "x = np.arange(1000)"
   ]
  },
  {
   "cell_type": "code",
   "execution_count": 68,
   "metadata": {
    "collapsed": false
   },
   "outputs": [],
   "source": [
    "delta = np.random.uniform(-100,100, size=(1000,))\n",
    "y = .4*x + 3 + delta"
   ]
  },
  {
   "cell_type": "code",
   "execution_count": 69,
   "metadata": {
    "collapsed": false
   },
   "outputs": [
    {
     "data": {
      "text/plain": [
       "<matplotlib.collections.PathCollection at 0xb8a47b8>"
      ]
     },
     "execution_count": 69,
     "metadata": {},
     "output_type": "execute_result"
    },
    {
     "data": {
      "image/png": "[encoded data removed]",
      "text/plain": [
       "<matplotlib.figure.Figure at 0xb7837f0>"
      ]
     },
     "metadata": {},
     "output_type": "display_data"
    }
   ],
   "source": [
    "plt.scatter(x, y)"
   ]
  },
  {
   "cell_type": "code",
   "execution_count": 89,
   "metadata": {
    "collapsed": false
   },
   "outputs": [
    {
     "data": {
      "text/plain": [
       "array([[ 1.        ,  0.78926924],\n",
       "       [ 0.78926924,  1.        ]])"
      ]
     },
     "execution_count": 89,
     "metadata": {},
     "output_type": "execute_result"
    }
   ],
   "source": [
    "np.corrcoef(x, y)*np.corrcoef(x, y)"
   ]
  },
  {
   "cell_type": "code",
   "execution_count": 71,
   "metadata": {
    "collapsed": true
   },
   "outputs": [],
   "source": [
    "from sklearn.linear_model import LinearRegression\n",
    "lm = LinearRegression()"
   ]
  },
  {
   "cell_type": "code",
   "execution_count": 79,
   "metadata": {
    "collapsed": false
   },
   "outputs": [
    {
     "name": "stdout",
     "output_type": "stream",
     "text": [
      "(1000L,)\n",
      "(1000L,)\n"
     ]
    }
   ],
   "source": [
    "print x.shape\n",
    "print y.shape"
   ]
  },
  {
   "cell_type": "code",
   "execution_count": 82,
   "metadata": {
    "collapsed": false
   },
   "outputs": [],
   "source": [
    "lm = lm.fit(x.reshape(1000,1), y.reshape(1000,1))"
   ]
  },
  {
   "cell_type": "code",
   "execution_count": 83,
   "metadata": {
    "collapsed": false
   },
   "outputs": [
    {
     "data": {
      "text/plain": [
       "array([[ 0.39685931]])"
      ]
     },
     "execution_count": 83,
     "metadata": {},
     "output_type": "execute_result"
    }
   ],
   "source": [
    "lm.coef_"
   ]
  },
  {
   "cell_type": "code",
   "execution_count": 88,
   "metadata": {
    "collapsed": false
   },
   "outputs": [
    {
     "data": {
      "text/plain": [
       "0.78926923503358914"
      ]
     },
     "execution_count": 88,
     "metadata": {},
     "output_type": "execute_result"
    }
   ],
   "source": [
    "lm.score(x.reshape(1000,1), y.reshape(1000,1))"
   ]
  },
  {
   "cell_type": "code",
   "execution_count": 36,
   "metadata": {
    "collapsed": false
   },
   "outputs": [],
   "source": [
    "random = np.random.randn(2,1000)"
   ]
  },
  {
   "cell_type": "code",
   "execution_count": 37,
   "metadata": {
    "collapsed": false
   },
   "outputs": [
    {
     "data": {
      "text/plain": [
       "<matplotlib.collections.PathCollection at 0xa4695c0>"
      ]
     },
     "execution_count": 37,
     "metadata": {},
     "output_type": "execute_result"
    },
    {
     "data": {
      "image/png": "[encoded data removed]",
      "text/plain": [
       "<matplotlib.figure.Figure at 0xa4cf6d8>"
      ]
     },
     "metadata": {},
     "output_type": "display_data"
    }
   ],
   "source": [
    "plt.scatter(random[0], random[1])"
   ]
  },
  {
   "cell_type": "code",
   "execution_count": 40,
   "metadata": {
    "collapsed": false
   },
   "outputs": [],
   "source": [
    "new = (data*random)"
   ]
  },
  {
   "cell_type": "code",
   "execution_count": 41,
   "metadata": {
    "collapsed": false
   },
   "outputs": [
    {
     "data": {
      "text/plain": [
       "<matplotlib.collections.PathCollection at 0xa83dc88>"
      ]
     },
     "execution_count": 41,
     "metadata": {},
     "output_type": "execute_result"
    },
    {
     "data": {
      "image/png": "[encoded data removed]",
      "text/plain": [
       "<matplotlib.figure.Figure at 0xa6c22e8>"
      ]
     },
     "metadata": {},
     "output_type": "display_data"
    }
   ],
   "source": [
    "plt.scatter(new[0], new[1])"
   ]
  }
 ],
 "metadata": {
  "kernelspec": {
   "display_name": "Python [default]",
   "language": "python",
   "name": "python2"
  },
  "language_info": {
   "codemirror_mode": {
    "name": "ipython",
    "version": 2
   },
   "file_extension": ".py",
   "mimetype": "text/x-python",
   "name": "python",
   "nbconvert_exporter": "python",
   "pygments_lexer": "ipython2",
   "version": "2.7.12"
  }
 },
 "nbformat": 4,
 "nbformat_minor": 2
}
