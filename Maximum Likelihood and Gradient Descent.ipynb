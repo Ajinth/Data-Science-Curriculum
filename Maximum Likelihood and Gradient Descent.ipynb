{
 "cells": [
  {
   "cell_type": "markdown",
   "metadata": {},
   "source": [
    "# Maximum Likelihood Estimation and Gradient Descent"
   ]
  },
  {
   "cell_type": "markdown",
   "metadata": {},
   "source": [
    "In this discussion, we will lay down the foundational principles that enable the optimal estimation of a given algorithm's parameters using maximum likelihood estimation and gradient descent. Using logistic regression, we will first walk through the mathematical solution, and subsequently we shall implement our solution in code. "
   ]
  },
  {
   "cell_type": "markdown",
   "metadata": {},
   "source": [
    "### Maximum Likelihood"
   ]
  },
  {
   "cell_type": "markdown",
   "metadata": {},
   "source": [
    "The logistic model uses the sigmoid function (denoted by sigma) to estimate the probability that a given sample _y_ belongs to class 1 given inputs _X_ and weights _W_,"
   ]
  },
  {
   "cell_type": "markdown",
   "metadata": {},
   "source": [
    "\\begin{align}\n",
    "\\ P(y=1 \\mid x) = \\sigma(W^TX)\n",
    "\\end{align}"
   ]
  },
  {
   "cell_type": "markdown",
   "metadata": {},
   "source": [
    "where the sigmoid of our activation function for a given _n_ is:"
   ]
  },
  {
   "cell_type": "markdown",
   "metadata": {},
   "source": [
    "\\begin{align}\n",
    "\\large y_n = \\sigma(a_n) = \\frac{1}{1+e^{-a_n}}\n",
    "\\end{align}"
   ]
  },
  {
   "cell_type": "markdown",
   "metadata": {},
   "source": [
    "The accuracy of our model predictions can be captured by the objective function _L_, which we are trying to maximize."
   ]
  },
  {
   "cell_type": "markdown",
   "metadata": {},
   "source": [
    "\\begin{align}\n",
    "\\large L = \\displaystyle\\prod_{n=1}^N y_n^{t_n}(1-y_n)^{1-t_n}\n",
    "\\end{align}"
   ]
  },
  {
   "cell_type": "markdown",
   "metadata": {},
   "source": [
    "If we take the log of the above function, we obtain the maximum log likelihood function, whose form will enable easier calculations of partial derivatives. Specifically, taking the log and maximizing it is acceptable because the log likelihood is monotomically increasing, and therefore it will yield the same answer as our objective function."
   ]
  },
  {
   "cell_type": "markdown",
   "metadata": {},
   "source": [
    "\\begin{align}\n",
    "\\ L = \\displaystyle \\sum_{n=1}^N t_nlogy_n+(1-t_n)log(1-y_n)\n",
    "\\end{align}"
   ]
  },
  {
   "cell_type": "markdown",
   "metadata": {},
   "source": [
    "In our example, we will actually convert the objective function (which we would try to maximize) into a cost function (which we are trying to minimize) by converting it into the negative log likelihood function:"
   ]
  },
  {
   "cell_type": "markdown",
   "metadata": {},
   "source": [
    "\\begin{align}\n",
    "\\ J = -\\displaystyle \\sum_{n=1}^N t_nlogy_n+(1-t_n)log(1-y_n)\n",
    "\\end{align}"
   ]
  },
  {
   "cell_type": "markdown",
   "metadata": {},
   "source": [
    "Note that the above cost function is also known as the [cross entropy](https://en.wikipedia.org/wiki/Cross_entropy) error function."
   ]
  },
  {
   "cell_type": "markdown",
   "metadata": {},
   "source": [
    "### Gradient Descent"
   ]
  },
  {
   "cell_type": "markdown",
   "metadata": {},
   "source": [
    "Once we have an objective function, we can generally take its derivative with respect to the parameters (weights), set it equal to zero, and solve for the parameters to obtain the ideal solution. However, in the case of logistic regression (and many other complex or otherwise non-linear systems), this analytical method doesn't work. Instead, we resort to a method known as gradient descent, whereby we randomly initialize and then incrementally update our weights by calculating the slope of our objective function. When applying the cost function, we want to continue updating our weights until the slope of the _gradient_ gets as close to zero as possible. We can show this mathematically:"
   ]
  },
  {
   "cell_type": "markdown",
   "metadata": {},
   "source": [
    "\\begin{align}\n",
    "\\ w:=w+\\triangle w\n",
    "\\end{align}"
   ]
  },
  {
   "cell_type": "markdown",
   "metadata": {},
   "source": [
    "where the second term on the right is defined as the learning rate times the derivative of the cost function with respect to the the weights (which is our gradient):"
   ]
  },
  {
   "cell_type": "markdown",
   "metadata": {},
   "source": [
    "\\begin{align}\n",
    "\\ \\triangle w = \\eta\\triangle J(w)\n",
    "\\end{align}"
   ]
  },
  {
   "cell_type": "markdown",
   "metadata": {},
   "source": [
    "Thus, we want to take the derivative of the cost function with respect to the weights, which, using the chain rule, gives us:"
   ]
  },
  {
   "cell_type": "markdown",
   "metadata": {},
   "source": [
    "\\begin{align}\n",
    "\\frac{J}{\\partial w_i} = \\displaystyle \\sum_{n=1}^N \\frac{\\partial J}{\\partial y_n}\\frac{\\partial y_n}{\\partial a_n}\\frac{\\partial a_n}{\\partial w_i}\n",
    "\\end{align}"
   ]
  },
  {
   "cell_type": "markdown",
   "metadata": {},
   "source": [
    "Thus, we are looking to obtain three different derivatives. Let us start by solving for the derivative of the cost function with respect to _y_:"
   ]
  },
  {
   "cell_type": "markdown",
   "metadata": {},
   "source": [
    "\\begin{align}\n",
    "\\frac{\\partial J}{\\partial y_n} = t_n \\frac{1}{y_n} + (1-t_n) \\frac{1}{1-y_n}(-1) = \\frac{t_n}{y_n} - \\frac{1-t_n}{1-y_n}\n",
    "\\end{align}"
   ]
  },
  {
   "cell_type": "markdown",
   "metadata": {},
   "source": [
    "Next, let us solve for the derivative of _y_ with respect to our activation function:"
   ]
  },
  {
   "cell_type": "markdown",
   "metadata": {},
   "source": [
    "\\begin{align}\n",
    "\\large y_n = \\sigma(a_n) = \\frac{1}{1+e^{-a_n}}\n",
    "\\end{align}"
   ]
  },
  {
   "cell_type": "markdown",
   "metadata": {},
   "source": [
    "\\begin{align}\n",
    "\\frac{\\partial y_n}{\\partial a_n} = \\frac{-1}{(1+e^{-a_n})^2}(e^{-a_n})(-1) = \\frac{e^{-a_n}}{(1+e^-a_n)^2} = \\frac{1}{1+e^{-a_n}} \\frac{e^{-a_n}}{1+e^{-a_n}}\n",
    "\\end{align}"
   ]
  },
  {
   "cell_type": "markdown",
   "metadata": {},
   "source": [
    "\\begin{align}\n",
    "\\frac{\\partial y_n}{\\partial a_n} = y_n(1-y_n)\n",
    "\\end{align}"
   ]
  },
  {
   "cell_type": "markdown",
   "metadata": {},
   "source": [
    "And lastly, we solve for the derivative of the activation function with respect to the weights:"
   ]
  },
  {
   "cell_type": "markdown",
   "metadata": {},
   "source": [
    "\\begin{align}\n",
    "\\ a_n = W^TX_n\n",
    "\\end{align}"
   ]
  },
  {
   "cell_type": "markdown",
   "metadata": {},
   "source": [
    "\\begin{align}\n",
    "\\ a_n = w_0x_{n0} + w_1x_{n1} + w_2x_{n2} + \\cdots + w_Nx_{NN}\n",
    "\\end{align}"
   ]
  },
  {
   "cell_type": "markdown",
   "metadata": {},
   "source": [
    "\\begin{align}\n",
    "\\frac{\\partial a_n}{\\partial w_i} = x_{ni}\n",
    "\\end{align}"
   ]
  },
  {
   "cell_type": "markdown",
   "metadata": {},
   "source": [
    "Now we can put it all together and simply."
   ]
  },
  {
   "cell_type": "markdown",
   "metadata": {},
   "source": [
    "\\begin{align}\n",
    "\\frac{\\partial J}{\\partial w_i} = - \\displaystyle\\sum_{n=1}^N\\frac{t_n}{y_n}y_n(1-y_n)x_{ni}-\\frac{1-t_n}{1-y_n}y_n(1-y_n)x_{ni}\n",
    "\\end{align}"
   ]
  },
  {
   "cell_type": "markdown",
   "metadata": {},
   "source": [
    "\\begin{align}\n",
    "= - \\displaystyle\\sum_{n=1}^Nt_n(1-y_n)x_{ni}-(1-t_n)y_nx_{ni}\n",
    "\\end{align}"
   ]
  },
  {
   "cell_type": "markdown",
   "metadata": {},
   "source": [
    "\\begin{align}\n",
    "= - \\displaystyle\\sum_{n=1}^N[t_n-t_ny_n-y_n+t_ny_n]x_{ni}\n",
    "\\end{align}"
   ]
  },
  {
   "cell_type": "markdown",
   "metadata": {},
   "source": [
    "\\begin{align}\n",
    "\\frac{\\partial J}{\\partial w_i} = \\displaystyle\\sum_{n=1}^N(y_n-t_n)x_{ni} = \\frac{\\partial J}{\\partial w} = \\displaystyle\\sum_{n=1}^{N}(y_n-t_n)x_n\n",
    "\\end{align}"
   ]
  },
  {
   "cell_type": "markdown",
   "metadata": {},
   "source": [
    "We can get rid of the summation above by applying the principle that a dot product between two vectors is a sum over the sum index. That is: "
   ]
  },
  {
   "cell_type": "markdown",
   "metadata": {},
   "source": [
    "\\begin{align}\n",
    "\\ a^Tb = \\displaystyle\\sum_{n=1}^Na_nb_n\n",
    "\\end{align}"
   ]
  },
  {
   "cell_type": "markdown",
   "metadata": {},
   "source": [
    "Therefore, the gradient with respect to _w_ is:"
   ]
  },
  {
   "cell_type": "markdown",
   "metadata": {},
   "source": [
    "\\begin{align}\n",
    "\\frac{\\partial J}{\\partial w} = X^T(Y-T)\n",
    "\\end{align}"
   ]
  },
  {
   "cell_type": "markdown",
   "metadata": {},
   "source": [
    "If you are asking yourself where the bias term of our equation (_w0_) went, we calculate it the same way, except our _x_ becomes 1. We will demonstrate how this is dealt with practically in the subsequent section."
   ]
  },
  {
   "cell_type": "markdown",
   "metadata": {},
   "source": [
    "\\begin{align}\n",
    "\\frac{\\partial J}{\\partial w_0} = \\displaystyle\\sum_{n=1}^{N}(y_n-t_n)x_{n0} = \\displaystyle\\sum_{n=1}^N(y_n-t_n)\n",
    "\\end{align}"
   ]
  },
  {
   "cell_type": "markdown",
   "metadata": {},
   "source": [
    "### Coded Example"
   ]
  },
  {
   "cell_type": "markdown",
   "metadata": {},
   "source": [
    "We shall now use a practical example to demonstrate the application of our mathematical findings. We will create a basic linear regression model with 100 samples and two inputs. Our inputs will be random normal variables, and we will center the first 50 inputs around (-2, -2) and the second 50 inputs around (2, 2). These two clusters will represent our targets (0 for the first 50 and 1 for the second 50), and because of their different centers, it means that they will be linearly separable."
   ]
  },
  {
   "cell_type": "code",
   "execution_count": 15,
   "metadata": {
    "collapsed": true
   },
   "outputs": [],
   "source": [
    "import numpy as np\n",
    "import matplotlib.pyplot as plt\n",
    "\n",
    "N = 100\n",
    "D = 2\n",
    "\n",
    "X = np.random.randn(N,D)\n",
    "\n",
    "# center the first 50 points at (-2,-2)\n",
    "X[:50,:] = X[:50,:] - 2*np.ones((50,D))\n",
    "\n",
    "# center the last 50 points at (2, 2)\n",
    "X[50:,:] = X[50:,:] + 2*np.ones((50,D))\n",
    "\n",
    "# labels: first 50 are 0, last 50 are 1\n",
    "T = np.array([0]*50 + [1]*50)"
   ]
  },
  {
   "cell_type": "markdown",
   "metadata": {},
   "source": [
    "In order to easily deal with the bias term, we will simply add another N-by-1 vector of ones to our input matrix."
   ]
  },
  {
   "cell_type": "code",
   "execution_count": 16,
   "metadata": {
    "collapsed": true
   },
   "outputs": [],
   "source": [
    "# add a column of ones\n",
    "ones = np.ones((N, 1))\n",
    "Xb = np.concatenate((ones, X), axis=1)"
   ]
  },
  {
   "cell_type": "markdown",
   "metadata": {},
   "source": [
    "Here is a cross-section of our inputs:"
   ]
  },
  {
   "cell_type": "code",
   "execution_count": 17,
   "metadata": {
    "collapsed": false
   },
   "outputs": [
    {
     "data": {
      "text/plain": [
       "array([[ 1.        , -2.85795755, -0.94935832],\n",
       "       [ 1.        , -2.75318804, -2.62413389],\n",
       "       [ 1.        , -3.26958405, -1.85843562],\n",
       "       [ 1.        , -0.81125105, -2.41046595],\n",
       "       [ 1.        , -1.89984186, -1.62983328]])"
      ]
     },
     "execution_count": 17,
     "metadata": {},
     "output_type": "execute_result"
    }
   ],
   "source": [
    "Xb[:5]"
   ]
  },
  {
   "cell_type": "markdown",
   "metadata": {},
   "source": [
    "Our weights must first be randomly initialized, which we again do using the random normal variable. We also define our model output prior to the sigmoid as the input matrix times the weights vector. "
   ]
  },
  {
   "cell_type": "code",
   "execution_count": 18,
   "metadata": {
    "collapsed": false
   },
   "outputs": [
    {
     "name": "stdout",
     "output_type": "stream",
     "text": [
      "[-1.32848391  1.39740108 -0.66661405]\n"
     ]
    }
   ],
   "source": [
    "# randomly initialize the weights, accounting for bias term\n",
    "w = np.random.randn(D + 1)\n",
    "\n",
    "# calculate the model output\n",
    "z = Xb.dot(w)\n",
    "\n",
    "# print initial weights\n",
    "print w"
   ]
  },
  {
   "cell_type": "markdown",
   "metadata": {},
   "source": [
    "Now we define our sigmoid function, which then allows us to calculate the predicted probabilities of our samples, Y."
   ]
  },
  {
   "cell_type": "code",
   "execution_count": 19,
   "metadata": {
    "collapsed": true
   },
   "outputs": [],
   "source": [
    "def sigmoid(z):\n",
    "    return 1/(1 + np.exp(-z))\n",
    "\n",
    "Y = sigmoid(z)"
   ]
  },
  {
   "cell_type": "markdown",
   "metadata": {},
   "source": [
    "Although we will not be using it explicitly, we can define our cost function so that we may keep track of how our model performs through each iteration."
   ]
  },
  {
   "cell_type": "code",
   "execution_count": 20,
   "metadata": {
    "collapsed": true
   },
   "outputs": [],
   "source": [
    "# calculate the cross-entropy error\n",
    "def cross_entropy(T, Y):\n",
    "    E = 0\n",
    "    for i in xrange(N):\n",
    "        if T[i] == 1:\n",
    "            E -= np.log(Y[i])\n",
    "        else:\n",
    "            E -= np.log(1 - Y[i])\n",
    "    return E"
   ]
  },
  {
   "cell_type": "markdown",
   "metadata": {},
   "source": [
    "We are now ready to implement gradient descent. We will set our learning rate to 0.1 and we will perform 100 iterations. In each iteration, we will adjust the weights according to our calculation of the gradient descent above and the chosen learning rate. Every tenth iteration, we will print the total cost. "
   ]
  },
  {
   "cell_type": "code",
   "execution_count": 21,
   "metadata": {
    "collapsed": false
   },
   "outputs": [
    {
     "name": "stdout",
     "output_type": "stream",
     "text": [
      "45.9408548821\n",
      "0.0101557596319\n",
      "0.0100075391474\n",
      "0.00986400741398\n",
      "0.00972494080938\n",
      "0.00959012980732\n",
      "0.00945937788009\n",
      "0.00933250050254\n",
      "0.00920932424638\n",
      "0.00908968595549\n",
      "Final w: [ 0.30842462  5.47911202  5.43243198]\n"
     ]
    }
   ],
   "source": [
    "# let's do gradient descent 100 times\n",
    "learning_rate = 0.1\n",
    "for i in xrange(100):\n",
    "    if i % 10 == 0:\n",
    "        print cross_entropy(T, Y)\n",
    "\n",
    "    # gradient descent weight udpate\n",
    "    w += learning_rate * Xb.T.dot(T - Y)\n",
    "\n",
    "    # recalculate Y\n",
    "    Y = sigmoid(Xb.dot(w))\n",
    "\n",
    "print \"Final w:\", w"
   ]
  },
  {
   "cell_type": "markdown",
   "metadata": {},
   "source": [
    "As we can see, the total cost quickly shrinks to very close to zero. Looking below at a plot that shows our final line of separation with respect to the inputs, we can see that it's a solid model. Our only concern is that the weight might be too large, and thus might benefit from regularization. "
   ]
  },
  {
   "cell_type": "code",
   "execution_count": 22,
   "metadata": {
    "collapsed": false,
    "scrolled": false
   },
   "outputs": [
    {
     "data": {
      "image/png": "[encoded data removed]",
      "text/plain": [
       "<matplotlib.figure.Figure at 0x6ee7940>"
      ]
     },
     "metadata": {},
     "output_type": "display_data"
    }
   ],
   "source": [
    "# plot the data and separating line\n",
    "plt.scatter(X[:,0], X[:,1], c=T, s=100, alpha=0.5)\n",
    "x_axis = np.linspace(-6, 6, 100)\n",
    "y_axis = -(w[0] + x_axis*w[1]) / w[2]\n",
    "plt.plot(x_axis, y_axis)\n",
    "plt.show()"
   ]
  },
  {
   "cell_type": "markdown",
   "metadata": {},
   "source": [
    "### Conclusion"
   ]
  },
  {
   "cell_type": "markdown",
   "metadata": {},
   "source": [
    "The goal of this post was to demonstrate the link between the theoretical derivation of critical machine learning concepts and their practical application. Without a solid grasp of these concepts, it is virtually impossible to fully comprehend advanced topics in machine learning. To give credit where credit's due, I obtained much of the material for this post from [this](https://www.udemy.com/data-science-logistic-regression-in-python) Logistic Regression class on Udemy. I highly recommend this instructor's courses due to their mathematical rigor."
   ]
  }
 ],
 "metadata": {
  "kernelspec": {
   "display_name": "Python [default]",
   "language": "python",
   "name": "python2"
  },
  "language_info": {
   "codemirror_mode": {
    "name": "ipython",
    "version": 2
   },
   "file_extension": ".py",
   "mimetype": "text/x-python",
   "name": "python",
   "nbconvert_exporter": "python",
   "pygments_lexer": "ipython2",
   "version": "2.7.12"
  }
 },
 "nbformat": 4,
 "nbformat_minor": 1
}
